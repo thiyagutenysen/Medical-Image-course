{
  "nbformat": 4,
  "nbformat_minor": 0,
  "metadata": {
    "colab": {
      "name": "UNet_Model1_Cup.ipynb",
      "provenance": [],
      "collapsed_sections": [],
      "machine_shape": "hm"
    },
    "kernelspec": {
      "name": "python3",
      "display_name": "Python 3"
    },
    "widgets": {
      "application/vnd.jupyter.widget-state+json": {
        "1b7b99ad25c64e51bc7ab3247cb04eaf": {
          "model_module": "@jupyter-widgets/controls",
          "model_name": "HBoxModel",
          "state": {
            "_view_name": "HBoxView",
            "_dom_classes": [],
            "_model_name": "HBoxModel",
            "_view_module": "@jupyter-widgets/controls",
            "_model_module_version": "1.5.0",
            "_view_count": null,
            "_view_module_version": "1.5.0",
            "box_style": "",
            "layout": "IPY_MODEL_1b9fd39052594207bcb75f4bd77f5d8c",
            "_model_module": "@jupyter-widgets/controls",
            "children": [
              "IPY_MODEL_af04baa7f12046c6a93a38c07ef9ade2",
              "IPY_MODEL_82813a77e8374f08869687fc1088ad3c"
            ]
          }
        },
        "1b9fd39052594207bcb75f4bd77f5d8c": {
          "model_module": "@jupyter-widgets/base",
          "model_name": "LayoutModel",
          "state": {
            "_view_name": "LayoutView",
            "grid_template_rows": null,
            "right": null,
            "justify_content": null,
            "_view_module": "@jupyter-widgets/base",
            "overflow": null,
            "_model_module_version": "1.2.0",
            "_view_count": null,
            "flex_flow": null,
            "width": null,
            "min_width": null,
            "border": null,
            "align_items": null,
            "bottom": null,
            "_model_module": "@jupyter-widgets/base",
            "top": null,
            "grid_column": null,
            "overflow_y": null,
            "overflow_x": null,
            "grid_auto_flow": null,
            "grid_area": null,
            "grid_template_columns": null,
            "flex": null,
            "_model_name": "LayoutModel",
            "justify_items": null,
            "grid_row": null,
            "max_height": null,
            "align_content": null,
            "visibility": null,
            "align_self": null,
            "height": null,
            "min_height": null,
            "padding": null,
            "grid_auto_rows": null,
            "grid_gap": null,
            "max_width": null,
            "order": null,
            "_view_module_version": "1.2.0",
            "grid_template_areas": null,
            "object_position": null,
            "object_fit": null,
            "grid_auto_columns": null,
            "margin": null,
            "display": null,
            "left": null
          }
        },
        "af04baa7f12046c6a93a38c07ef9ade2": {
          "model_module": "@jupyter-widgets/controls",
          "model_name": "FloatProgressModel",
          "state": {
            "_view_name": "ProgressView",
            "style": "IPY_MODEL_88871d25901b40e0b8034e670ffc96a9",
            "_dom_classes": [],
            "description": "100%",
            "_model_name": "FloatProgressModel",
            "bar_style": "success",
            "max": 349,
            "_view_module": "@jupyter-widgets/controls",
            "_model_module_version": "1.5.0",
            "value": 349,
            "_view_count": null,
            "_view_module_version": "1.5.0",
            "orientation": "horizontal",
            "min": 0,
            "description_tooltip": null,
            "_model_module": "@jupyter-widgets/controls",
            "layout": "IPY_MODEL_8ba00e77e2804c96b7c9d4b23ec5de15"
          }
        },
        "82813a77e8374f08869687fc1088ad3c": {
          "model_module": "@jupyter-widgets/controls",
          "model_name": "HTMLModel",
          "state": {
            "_view_name": "HTMLView",
            "style": "IPY_MODEL_47b74da43bb44eb3bd77245ad741337d",
            "_dom_classes": [],
            "description": "",
            "_model_name": "HTMLModel",
            "placeholder": "​",
            "_view_module": "@jupyter-widgets/controls",
            "_model_module_version": "1.5.0",
            "value": " 349/349 [00:14&lt;00:00, 24.88it/s]",
            "_view_count": null,
            "_view_module_version": "1.5.0",
            "description_tooltip": null,
            "_model_module": "@jupyter-widgets/controls",
            "layout": "IPY_MODEL_ccb7dc1399624d909429b811773c511d"
          }
        },
        "88871d25901b40e0b8034e670ffc96a9": {
          "model_module": "@jupyter-widgets/controls",
          "model_name": "ProgressStyleModel",
          "state": {
            "_view_name": "StyleView",
            "_model_name": "ProgressStyleModel",
            "description_width": "initial",
            "_view_module": "@jupyter-widgets/base",
            "_model_module_version": "1.5.0",
            "_view_count": null,
            "_view_module_version": "1.2.0",
            "bar_color": null,
            "_model_module": "@jupyter-widgets/controls"
          }
        },
        "8ba00e77e2804c96b7c9d4b23ec5de15": {
          "model_module": "@jupyter-widgets/base",
          "model_name": "LayoutModel",
          "state": {
            "_view_name": "LayoutView",
            "grid_template_rows": null,
            "right": null,
            "justify_content": null,
            "_view_module": "@jupyter-widgets/base",
            "overflow": null,
            "_model_module_version": "1.2.0",
            "_view_count": null,
            "flex_flow": null,
            "width": null,
            "min_width": null,
            "border": null,
            "align_items": null,
            "bottom": null,
            "_model_module": "@jupyter-widgets/base",
            "top": null,
            "grid_column": null,
            "overflow_y": null,
            "overflow_x": null,
            "grid_auto_flow": null,
            "grid_area": null,
            "grid_template_columns": null,
            "flex": null,
            "_model_name": "LayoutModel",
            "justify_items": null,
            "grid_row": null,
            "max_height": null,
            "align_content": null,
            "visibility": null,
            "align_self": null,
            "height": null,
            "min_height": null,
            "padding": null,
            "grid_auto_rows": null,
            "grid_gap": null,
            "max_width": null,
            "order": null,
            "_view_module_version": "1.2.0",
            "grid_template_areas": null,
            "object_position": null,
            "object_fit": null,
            "grid_auto_columns": null,
            "margin": null,
            "display": null,
            "left": null
          }
        },
        "47b74da43bb44eb3bd77245ad741337d": {
          "model_module": "@jupyter-widgets/controls",
          "model_name": "DescriptionStyleModel",
          "state": {
            "_view_name": "StyleView",
            "_model_name": "DescriptionStyleModel",
            "description_width": "",
            "_view_module": "@jupyter-widgets/base",
            "_model_module_version": "1.5.0",
            "_view_count": null,
            "_view_module_version": "1.2.0",
            "_model_module": "@jupyter-widgets/controls"
          }
        },
        "ccb7dc1399624d909429b811773c511d": {
          "model_module": "@jupyter-widgets/base",
          "model_name": "LayoutModel",
          "state": {
            "_view_name": "LayoutView",
            "grid_template_rows": null,
            "right": null,
            "justify_content": null,
            "_view_module": "@jupyter-widgets/base",
            "overflow": null,
            "_model_module_version": "1.2.0",
            "_view_count": null,
            "flex_flow": null,
            "width": null,
            "min_width": null,
            "border": null,
            "align_items": null,
            "bottom": null,
            "_model_module": "@jupyter-widgets/base",
            "top": null,
            "grid_column": null,
            "overflow_y": null,
            "overflow_x": null,
            "grid_auto_flow": null,
            "grid_area": null,
            "grid_template_columns": null,
            "flex": null,
            "_model_name": "LayoutModel",
            "justify_items": null,
            "grid_row": null,
            "max_height": null,
            "align_content": null,
            "visibility": null,
            "align_self": null,
            "height": null,
            "min_height": null,
            "padding": null,
            "grid_auto_rows": null,
            "grid_gap": null,
            "max_width": null,
            "order": null,
            "_view_module_version": "1.2.0",
            "grid_template_areas": null,
            "object_position": null,
            "object_fit": null,
            "grid_auto_columns": null,
            "margin": null,
            "display": null,
            "left": null
          }
        },
        "076b0c21adcf488b94fc2bd413e5fcde": {
          "model_module": "@jupyter-widgets/controls",
          "model_name": "HBoxModel",
          "state": {
            "_view_name": "HBoxView",
            "_dom_classes": [],
            "_model_name": "HBoxModel",
            "_view_module": "@jupyter-widgets/controls",
            "_model_module_version": "1.5.0",
            "_view_count": null,
            "_view_module_version": "1.5.0",
            "box_style": "",
            "layout": "IPY_MODEL_08f32d690f9c4a20a0ea3806382829fb",
            "_model_module": "@jupyter-widgets/controls",
            "children": [
              "IPY_MODEL_2353921ebe204dc0891b983103415d29",
              "IPY_MODEL_f5a3d6297ee9488796e1be3160667aa9"
            ]
          }
        },
        "08f32d690f9c4a20a0ea3806382829fb": {
          "model_module": "@jupyter-widgets/base",
          "model_name": "LayoutModel",
          "state": {
            "_view_name": "LayoutView",
            "grid_template_rows": null,
            "right": null,
            "justify_content": null,
            "_view_module": "@jupyter-widgets/base",
            "overflow": null,
            "_model_module_version": "1.2.0",
            "_view_count": null,
            "flex_flow": null,
            "width": null,
            "min_width": null,
            "border": null,
            "align_items": null,
            "bottom": null,
            "_model_module": "@jupyter-widgets/base",
            "top": null,
            "grid_column": null,
            "overflow_y": null,
            "overflow_x": null,
            "grid_auto_flow": null,
            "grid_area": null,
            "grid_template_columns": null,
            "flex": null,
            "_model_name": "LayoutModel",
            "justify_items": null,
            "grid_row": null,
            "max_height": null,
            "align_content": null,
            "visibility": null,
            "align_self": null,
            "height": null,
            "min_height": null,
            "padding": null,
            "grid_auto_rows": null,
            "grid_gap": null,
            "max_width": null,
            "order": null,
            "_view_module_version": "1.2.0",
            "grid_template_areas": null,
            "object_position": null,
            "object_fit": null,
            "grid_auto_columns": null,
            "margin": null,
            "display": null,
            "left": null
          }
        },
        "2353921ebe204dc0891b983103415d29": {
          "model_module": "@jupyter-widgets/controls",
          "model_name": "FloatProgressModel",
          "state": {
            "_view_name": "ProgressView",
            "style": "IPY_MODEL_fe777358072844cb9e31f149e54b7889",
            "_dom_classes": [],
            "description": "100%",
            "_model_name": "FloatProgressModel",
            "bar_style": "success",
            "max": 119,
            "_view_module": "@jupyter-widgets/controls",
            "_model_module_version": "1.5.0",
            "value": 119,
            "_view_count": null,
            "_view_module_version": "1.5.0",
            "orientation": "horizontal",
            "min": 0,
            "description_tooltip": null,
            "_model_module": "@jupyter-widgets/controls",
            "layout": "IPY_MODEL_c41cf5ec669d41f192b45e65b0340510"
          }
        },
        "f5a3d6297ee9488796e1be3160667aa9": {
          "model_module": "@jupyter-widgets/controls",
          "model_name": "HTMLModel",
          "state": {
            "_view_name": "HTMLView",
            "style": "IPY_MODEL_462623180d154ccba577df2935d0c1b1",
            "_dom_classes": [],
            "description": "",
            "_model_name": "HTMLModel",
            "placeholder": "​",
            "_view_module": "@jupyter-widgets/controls",
            "_model_module_version": "1.5.0",
            "value": " 119/119 [00:06&lt;00:00, 18.28it/s]",
            "_view_count": null,
            "_view_module_version": "1.5.0",
            "description_tooltip": null,
            "_model_module": "@jupyter-widgets/controls",
            "layout": "IPY_MODEL_e48c0bbe00f947d49fd13e5310cfe5f6"
          }
        },
        "fe777358072844cb9e31f149e54b7889": {
          "model_module": "@jupyter-widgets/controls",
          "model_name": "ProgressStyleModel",
          "state": {
            "_view_name": "StyleView",
            "_model_name": "ProgressStyleModel",
            "description_width": "initial",
            "_view_module": "@jupyter-widgets/base",
            "_model_module_version": "1.5.0",
            "_view_count": null,
            "_view_module_version": "1.2.0",
            "bar_color": null,
            "_model_module": "@jupyter-widgets/controls"
          }
        },
        "c41cf5ec669d41f192b45e65b0340510": {
          "model_module": "@jupyter-widgets/base",
          "model_name": "LayoutModel",
          "state": {
            "_view_name": "LayoutView",
            "grid_template_rows": null,
            "right": null,
            "justify_content": null,
            "_view_module": "@jupyter-widgets/base",
            "overflow": null,
            "_model_module_version": "1.2.0",
            "_view_count": null,
            "flex_flow": null,
            "width": null,
            "min_width": null,
            "border": null,
            "align_items": null,
            "bottom": null,
            "_model_module": "@jupyter-widgets/base",
            "top": null,
            "grid_column": null,
            "overflow_y": null,
            "overflow_x": null,
            "grid_auto_flow": null,
            "grid_area": null,
            "grid_template_columns": null,
            "flex": null,
            "_model_name": "LayoutModel",
            "justify_items": null,
            "grid_row": null,
            "max_height": null,
            "align_content": null,
            "visibility": null,
            "align_self": null,
            "height": null,
            "min_height": null,
            "padding": null,
            "grid_auto_rows": null,
            "grid_gap": null,
            "max_width": null,
            "order": null,
            "_view_module_version": "1.2.0",
            "grid_template_areas": null,
            "object_position": null,
            "object_fit": null,
            "grid_auto_columns": null,
            "margin": null,
            "display": null,
            "left": null
          }
        },
        "462623180d154ccba577df2935d0c1b1": {
          "model_module": "@jupyter-widgets/controls",
          "model_name": "DescriptionStyleModel",
          "state": {
            "_view_name": "StyleView",
            "_model_name": "DescriptionStyleModel",
            "description_width": "",
            "_view_module": "@jupyter-widgets/base",
            "_model_module_version": "1.5.0",
            "_view_count": null,
            "_view_module_version": "1.2.0",
            "_model_module": "@jupyter-widgets/controls"
          }
        },
        "e48c0bbe00f947d49fd13e5310cfe5f6": {
          "model_module": "@jupyter-widgets/base",
          "model_name": "LayoutModel",
          "state": {
            "_view_name": "LayoutView",
            "grid_template_rows": null,
            "right": null,
            "justify_content": null,
            "_view_module": "@jupyter-widgets/base",
            "overflow": null,
            "_model_module_version": "1.2.0",
            "_view_count": null,
            "flex_flow": null,
            "width": null,
            "min_width": null,
            "border": null,
            "align_items": null,
            "bottom": null,
            "_model_module": "@jupyter-widgets/base",
            "top": null,
            "grid_column": null,
            "overflow_y": null,
            "overflow_x": null,
            "grid_auto_flow": null,
            "grid_area": null,
            "grid_template_columns": null,
            "flex": null,
            "_model_name": "LayoutModel",
            "justify_items": null,
            "grid_row": null,
            "max_height": null,
            "align_content": null,
            "visibility": null,
            "align_self": null,
            "height": null,
            "min_height": null,
            "padding": null,
            "grid_auto_rows": null,
            "grid_gap": null,
            "max_width": null,
            "order": null,
            "_view_module_version": "1.2.0",
            "grid_template_areas": null,
            "object_position": null,
            "object_fit": null,
            "grid_auto_columns": null,
            "margin": null,
            "display": null,
            "left": null
          }
        },
        "8b8bd1556f214f8a91ff82cbe494afce": {
          "model_module": "@jupyter-widgets/controls",
          "model_name": "HBoxModel",
          "state": {
            "_view_name": "HBoxView",
            "_dom_classes": [],
            "_model_name": "HBoxModel",
            "_view_module": "@jupyter-widgets/controls",
            "_model_module_version": "1.5.0",
            "_view_count": null,
            "_view_module_version": "1.5.0",
            "box_style": "",
            "layout": "IPY_MODEL_35f18b2299af4abc9945219e8acef5e7",
            "_model_module": "@jupyter-widgets/controls",
            "children": [
              "IPY_MODEL_476b3436b1c24e82903005898cd9e2ee",
              "IPY_MODEL_040d9b2a35e2484fb5d8c0eba7ab95db"
            ]
          }
        },
        "35f18b2299af4abc9945219e8acef5e7": {
          "model_module": "@jupyter-widgets/base",
          "model_name": "LayoutModel",
          "state": {
            "_view_name": "LayoutView",
            "grid_template_rows": null,
            "right": null,
            "justify_content": null,
            "_view_module": "@jupyter-widgets/base",
            "overflow": null,
            "_model_module_version": "1.2.0",
            "_view_count": null,
            "flex_flow": null,
            "width": null,
            "min_width": null,
            "border": null,
            "align_items": null,
            "bottom": null,
            "_model_module": "@jupyter-widgets/base",
            "top": null,
            "grid_column": null,
            "overflow_y": null,
            "overflow_x": null,
            "grid_auto_flow": null,
            "grid_area": null,
            "grid_template_columns": null,
            "flex": null,
            "_model_name": "LayoutModel",
            "justify_items": null,
            "grid_row": null,
            "max_height": null,
            "align_content": null,
            "visibility": null,
            "align_self": null,
            "height": null,
            "min_height": null,
            "padding": null,
            "grid_auto_rows": null,
            "grid_gap": null,
            "max_width": null,
            "order": null,
            "_view_module_version": "1.2.0",
            "grid_template_areas": null,
            "object_position": null,
            "object_fit": null,
            "grid_auto_columns": null,
            "margin": null,
            "display": null,
            "left": null
          }
        },
        "476b3436b1c24e82903005898cd9e2ee": {
          "model_module": "@jupyter-widgets/controls",
          "model_name": "FloatProgressModel",
          "state": {
            "_view_name": "ProgressView",
            "style": "IPY_MODEL_820354a946fc42909af1396c3f7d12b6",
            "_dom_classes": [],
            "description": "100%",
            "_model_name": "FloatProgressModel",
            "bar_style": "success",
            "max": 112,
            "_view_module": "@jupyter-widgets/controls",
            "_model_module_version": "1.5.0",
            "value": 112,
            "_view_count": null,
            "_view_module_version": "1.5.0",
            "orientation": "horizontal",
            "min": 0,
            "description_tooltip": null,
            "_model_module": "@jupyter-widgets/controls",
            "layout": "IPY_MODEL_c81766a827fa459bb4e1daa85d5f2076"
          }
        },
        "040d9b2a35e2484fb5d8c0eba7ab95db": {
          "model_module": "@jupyter-widgets/controls",
          "model_name": "HTMLModel",
          "state": {
            "_view_name": "HTMLView",
            "style": "IPY_MODEL_382cdb65f5ab4613921b1b760724e734",
            "_dom_classes": [],
            "description": "",
            "_model_name": "HTMLModel",
            "placeholder": "​",
            "_view_module": "@jupyter-widgets/controls",
            "_model_module_version": "1.5.0",
            "value": " 112/112 [00:00&lt;00:00, 1326.81it/s]",
            "_view_count": null,
            "_view_module_version": "1.5.0",
            "description_tooltip": null,
            "_model_module": "@jupyter-widgets/controls",
            "layout": "IPY_MODEL_fec1bb894a8f4480aba3cd6358980d82"
          }
        },
        "820354a946fc42909af1396c3f7d12b6": {
          "model_module": "@jupyter-widgets/controls",
          "model_name": "ProgressStyleModel",
          "state": {
            "_view_name": "StyleView",
            "_model_name": "ProgressStyleModel",
            "description_width": "initial",
            "_view_module": "@jupyter-widgets/base",
            "_model_module_version": "1.5.0",
            "_view_count": null,
            "_view_module_version": "1.2.0",
            "bar_color": null,
            "_model_module": "@jupyter-widgets/controls"
          }
        },
        "c81766a827fa459bb4e1daa85d5f2076": {
          "model_module": "@jupyter-widgets/base",
          "model_name": "LayoutModel",
          "state": {
            "_view_name": "LayoutView",
            "grid_template_rows": null,
            "right": null,
            "justify_content": null,
            "_view_module": "@jupyter-widgets/base",
            "overflow": null,
            "_model_module_version": "1.2.0",
            "_view_count": null,
            "flex_flow": null,
            "width": null,
            "min_width": null,
            "border": null,
            "align_items": null,
            "bottom": null,
            "_model_module": "@jupyter-widgets/base",
            "top": null,
            "grid_column": null,
            "overflow_y": null,
            "overflow_x": null,
            "grid_auto_flow": null,
            "grid_area": null,
            "grid_template_columns": null,
            "flex": null,
            "_model_name": "LayoutModel",
            "justify_items": null,
            "grid_row": null,
            "max_height": null,
            "align_content": null,
            "visibility": null,
            "align_self": null,
            "height": null,
            "min_height": null,
            "padding": null,
            "grid_auto_rows": null,
            "grid_gap": null,
            "max_width": null,
            "order": null,
            "_view_module_version": "1.2.0",
            "grid_template_areas": null,
            "object_position": null,
            "object_fit": null,
            "grid_auto_columns": null,
            "margin": null,
            "display": null,
            "left": null
          }
        },
        "382cdb65f5ab4613921b1b760724e734": {
          "model_module": "@jupyter-widgets/controls",
          "model_name": "DescriptionStyleModel",
          "state": {
            "_view_name": "StyleView",
            "_model_name": "DescriptionStyleModel",
            "description_width": "",
            "_view_module": "@jupyter-widgets/base",
            "_model_module_version": "1.5.0",
            "_view_count": null,
            "_view_module_version": "1.2.0",
            "_model_module": "@jupyter-widgets/controls"
          }
        },
        "fec1bb894a8f4480aba3cd6358980d82": {
          "model_module": "@jupyter-widgets/base",
          "model_name": "LayoutModel",
          "state": {
            "_view_name": "LayoutView",
            "grid_template_rows": null,
            "right": null,
            "justify_content": null,
            "_view_module": "@jupyter-widgets/base",
            "overflow": null,
            "_model_module_version": "1.2.0",
            "_view_count": null,
            "flex_flow": null,
            "width": null,
            "min_width": null,
            "border": null,
            "align_items": null,
            "bottom": null,
            "_model_module": "@jupyter-widgets/base",
            "top": null,
            "grid_column": null,
            "overflow_y": null,
            "overflow_x": null,
            "grid_auto_flow": null,
            "grid_area": null,
            "grid_template_columns": null,
            "flex": null,
            "_model_name": "LayoutModel",
            "justify_items": null,
            "grid_row": null,
            "max_height": null,
            "align_content": null,
            "visibility": null,
            "align_self": null,
            "height": null,
            "min_height": null,
            "padding": null,
            "grid_auto_rows": null,
            "grid_gap": null,
            "max_width": null,
            "order": null,
            "_view_module_version": "1.2.0",
            "grid_template_areas": null,
            "object_position": null,
            "object_fit": null,
            "grid_auto_columns": null,
            "margin": null,
            "display": null,
            "left": null
          }
        },
        "3f24c3ae52af42b9bfc73d398c3fab9e": {
          "model_module": "@jupyter-widgets/controls",
          "model_name": "HBoxModel",
          "state": {
            "_view_name": "HBoxView",
            "_dom_classes": [],
            "_model_name": "HBoxModel",
            "_view_module": "@jupyter-widgets/controls",
            "_model_module_version": "1.5.0",
            "_view_count": null,
            "_view_module_version": "1.5.0",
            "box_style": "",
            "layout": "IPY_MODEL_33c8d2206f4b43dda6aa7ac2df6bb1ef",
            "_model_module": "@jupyter-widgets/controls",
            "children": [
              "IPY_MODEL_b64ba000c9134289b18465010fb07be6",
              "IPY_MODEL_34337b52f8e644839c5d5fbe05604fd9"
            ]
          }
        },
        "33c8d2206f4b43dda6aa7ac2df6bb1ef": {
          "model_module": "@jupyter-widgets/base",
          "model_name": "LayoutModel",
          "state": {
            "_view_name": "LayoutView",
            "grid_template_rows": null,
            "right": null,
            "justify_content": null,
            "_view_module": "@jupyter-widgets/base",
            "overflow": null,
            "_model_module_version": "1.2.0",
            "_view_count": null,
            "flex_flow": null,
            "width": null,
            "min_width": null,
            "border": null,
            "align_items": null,
            "bottom": null,
            "_model_module": "@jupyter-widgets/base",
            "top": null,
            "grid_column": null,
            "overflow_y": null,
            "overflow_x": null,
            "grid_auto_flow": null,
            "grid_area": null,
            "grid_template_columns": null,
            "flex": null,
            "_model_name": "LayoutModel",
            "justify_items": null,
            "grid_row": null,
            "max_height": null,
            "align_content": null,
            "visibility": null,
            "align_self": null,
            "height": null,
            "min_height": null,
            "padding": null,
            "grid_auto_rows": null,
            "grid_gap": null,
            "max_width": null,
            "order": null,
            "_view_module_version": "1.2.0",
            "grid_template_areas": null,
            "object_position": null,
            "object_fit": null,
            "grid_auto_columns": null,
            "margin": null,
            "display": null,
            "left": null
          }
        },
        "b64ba000c9134289b18465010fb07be6": {
          "model_module": "@jupyter-widgets/controls",
          "model_name": "FloatProgressModel",
          "state": {
            "_view_name": "ProgressView",
            "style": "IPY_MODEL_bc9343e820cf431280952573407ed656",
            "_dom_classes": [],
            "description": "100%",
            "_model_name": "FloatProgressModel",
            "bar_style": "success",
            "max": 40,
            "_view_module": "@jupyter-widgets/controls",
            "_model_module_version": "1.5.0",
            "value": 40,
            "_view_count": null,
            "_view_module_version": "1.5.0",
            "orientation": "horizontal",
            "min": 0,
            "description_tooltip": null,
            "_model_module": "@jupyter-widgets/controls",
            "layout": "IPY_MODEL_b462108f716b445f8256baa9dd7fbb9a"
          }
        },
        "34337b52f8e644839c5d5fbe05604fd9": {
          "model_module": "@jupyter-widgets/controls",
          "model_name": "HTMLModel",
          "state": {
            "_view_name": "HTMLView",
            "style": "IPY_MODEL_4d0de85bc171494abfaa8f57508a3d3c",
            "_dom_classes": [],
            "description": "",
            "_model_name": "HTMLModel",
            "placeholder": "​",
            "_view_module": "@jupyter-widgets/controls",
            "_model_module_version": "1.5.0",
            "value": " 40/40 [00:00&lt;00:00, 832.80it/s]",
            "_view_count": null,
            "_view_module_version": "1.5.0",
            "description_tooltip": null,
            "_model_module": "@jupyter-widgets/controls",
            "layout": "IPY_MODEL_02882af38af740e38b91cfd72864eb96"
          }
        },
        "bc9343e820cf431280952573407ed656": {
          "model_module": "@jupyter-widgets/controls",
          "model_name": "ProgressStyleModel",
          "state": {
            "_view_name": "StyleView",
            "_model_name": "ProgressStyleModel",
            "description_width": "initial",
            "_view_module": "@jupyter-widgets/base",
            "_model_module_version": "1.5.0",
            "_view_count": null,
            "_view_module_version": "1.2.0",
            "bar_color": null,
            "_model_module": "@jupyter-widgets/controls"
          }
        },
        "b462108f716b445f8256baa9dd7fbb9a": {
          "model_module": "@jupyter-widgets/base",
          "model_name": "LayoutModel",
          "state": {
            "_view_name": "LayoutView",
            "grid_template_rows": null,
            "right": null,
            "justify_content": null,
            "_view_module": "@jupyter-widgets/base",
            "overflow": null,
            "_model_module_version": "1.2.0",
            "_view_count": null,
            "flex_flow": null,
            "width": null,
            "min_width": null,
            "border": null,
            "align_items": null,
            "bottom": null,
            "_model_module": "@jupyter-widgets/base",
            "top": null,
            "grid_column": null,
            "overflow_y": null,
            "overflow_x": null,
            "grid_auto_flow": null,
            "grid_area": null,
            "grid_template_columns": null,
            "flex": null,
            "_model_name": "LayoutModel",
            "justify_items": null,
            "grid_row": null,
            "max_height": null,
            "align_content": null,
            "visibility": null,
            "align_self": null,
            "height": null,
            "min_height": null,
            "padding": null,
            "grid_auto_rows": null,
            "grid_gap": null,
            "max_width": null,
            "order": null,
            "_view_module_version": "1.2.0",
            "grid_template_areas": null,
            "object_position": null,
            "object_fit": null,
            "grid_auto_columns": null,
            "margin": null,
            "display": null,
            "left": null
          }
        },
        "4d0de85bc171494abfaa8f57508a3d3c": {
          "model_module": "@jupyter-widgets/controls",
          "model_name": "DescriptionStyleModel",
          "state": {
            "_view_name": "StyleView",
            "_model_name": "DescriptionStyleModel",
            "description_width": "",
            "_view_module": "@jupyter-widgets/base",
            "_model_module_version": "1.5.0",
            "_view_count": null,
            "_view_module_version": "1.2.0",
            "_model_module": "@jupyter-widgets/controls"
          }
        },
        "02882af38af740e38b91cfd72864eb96": {
          "model_module": "@jupyter-widgets/base",
          "model_name": "LayoutModel",
          "state": {
            "_view_name": "LayoutView",
            "grid_template_rows": null,
            "right": null,
            "justify_content": null,
            "_view_module": "@jupyter-widgets/base",
            "overflow": null,
            "_model_module_version": "1.2.0",
            "_view_count": null,
            "flex_flow": null,
            "width": null,
            "min_width": null,
            "border": null,
            "align_items": null,
            "bottom": null,
            "_model_module": "@jupyter-widgets/base",
            "top": null,
            "grid_column": null,
            "overflow_y": null,
            "overflow_x": null,
            "grid_auto_flow": null,
            "grid_area": null,
            "grid_template_columns": null,
            "flex": null,
            "_model_name": "LayoutModel",
            "justify_items": null,
            "grid_row": null,
            "max_height": null,
            "align_content": null,
            "visibility": null,
            "align_self": null,
            "height": null,
            "min_height": null,
            "padding": null,
            "grid_auto_rows": null,
            "grid_gap": null,
            "max_width": null,
            "order": null,
            "_view_module_version": "1.2.0",
            "grid_template_areas": null,
            "object_position": null,
            "object_fit": null,
            "grid_auto_columns": null,
            "margin": null,
            "display": null,
            "left": null
          }
        },
        "11db5a89c9904f0eb4a1d65d204a1a93": {
          "model_module": "@jupyter-widgets/controls",
          "model_name": "HBoxModel",
          "state": {
            "_view_name": "HBoxView",
            "_dom_classes": [],
            "_model_name": "HBoxModel",
            "_view_module": "@jupyter-widgets/controls",
            "_model_module_version": "1.5.0",
            "_view_count": null,
            "_view_module_version": "1.5.0",
            "box_style": "",
            "layout": "IPY_MODEL_09446d9fe6864c778ae84f0b306f896f",
            "_model_module": "@jupyter-widgets/controls",
            "children": [
              "IPY_MODEL_0deee4e46bf441f9868d5dd3deb80469",
              "IPY_MODEL_6f15c82de98a417f878e876b1512683f"
            ]
          }
        },
        "09446d9fe6864c778ae84f0b306f896f": {
          "model_module": "@jupyter-widgets/base",
          "model_name": "LayoutModel",
          "state": {
            "_view_name": "LayoutView",
            "grid_template_rows": null,
            "right": null,
            "justify_content": null,
            "_view_module": "@jupyter-widgets/base",
            "overflow": null,
            "_model_module_version": "1.2.0",
            "_view_count": null,
            "flex_flow": null,
            "width": null,
            "min_width": null,
            "border": null,
            "align_items": null,
            "bottom": null,
            "_model_module": "@jupyter-widgets/base",
            "top": null,
            "grid_column": null,
            "overflow_y": null,
            "overflow_x": null,
            "grid_auto_flow": null,
            "grid_area": null,
            "grid_template_columns": null,
            "flex": null,
            "_model_name": "LayoutModel",
            "justify_items": null,
            "grid_row": null,
            "max_height": null,
            "align_content": null,
            "visibility": null,
            "align_self": null,
            "height": null,
            "min_height": null,
            "padding": null,
            "grid_auto_rows": null,
            "grid_gap": null,
            "max_width": null,
            "order": null,
            "_view_module_version": "1.2.0",
            "grid_template_areas": null,
            "object_position": null,
            "object_fit": null,
            "grid_auto_columns": null,
            "margin": null,
            "display": null,
            "left": null
          }
        },
        "0deee4e46bf441f9868d5dd3deb80469": {
          "model_module": "@jupyter-widgets/controls",
          "model_name": "FloatProgressModel",
          "state": {
            "_view_name": "ProgressView",
            "style": "IPY_MODEL_1d5dba232bfb4174a90b4902f069e9be",
            "_dom_classes": [],
            "description": "100%",
            "_model_name": "FloatProgressModel",
            "bar_style": "success",
            "max": 13,
            "_view_module": "@jupyter-widgets/controls",
            "_model_module_version": "1.5.0",
            "value": 13,
            "_view_count": null,
            "_view_module_version": "1.5.0",
            "orientation": "horizontal",
            "min": 0,
            "description_tooltip": null,
            "_model_module": "@jupyter-widgets/controls",
            "layout": "IPY_MODEL_fb1f6821d40b4bbda903aef165665f6e"
          }
        },
        "6f15c82de98a417f878e876b1512683f": {
          "model_module": "@jupyter-widgets/controls",
          "model_name": "HTMLModel",
          "state": {
            "_view_name": "HTMLView",
            "style": "IPY_MODEL_36f137f8a13a4da3a577a8b594d43bfe",
            "_dom_classes": [],
            "description": "",
            "_model_name": "HTMLModel",
            "placeholder": "​",
            "_view_module": "@jupyter-widgets/controls",
            "_model_module_version": "1.5.0",
            "value": " 13/13 [00:00&lt;00:00, 298.02it/s]",
            "_view_count": null,
            "_view_module_version": "1.5.0",
            "description_tooltip": null,
            "_model_module": "@jupyter-widgets/controls",
            "layout": "IPY_MODEL_5b4896f3e9ad4bc08f70fe80a0c1c844"
          }
        },
        "1d5dba232bfb4174a90b4902f069e9be": {
          "model_module": "@jupyter-widgets/controls",
          "model_name": "ProgressStyleModel",
          "state": {
            "_view_name": "StyleView",
            "_model_name": "ProgressStyleModel",
            "description_width": "initial",
            "_view_module": "@jupyter-widgets/base",
            "_model_module_version": "1.5.0",
            "_view_count": null,
            "_view_module_version": "1.2.0",
            "bar_color": null,
            "_model_module": "@jupyter-widgets/controls"
          }
        },
        "fb1f6821d40b4bbda903aef165665f6e": {
          "model_module": "@jupyter-widgets/base",
          "model_name": "LayoutModel",
          "state": {
            "_view_name": "LayoutView",
            "grid_template_rows": null,
            "right": null,
            "justify_content": null,
            "_view_module": "@jupyter-widgets/base",
            "overflow": null,
            "_model_module_version": "1.2.0",
            "_view_count": null,
            "flex_flow": null,
            "width": null,
            "min_width": null,
            "border": null,
            "align_items": null,
            "bottom": null,
            "_model_module": "@jupyter-widgets/base",
            "top": null,
            "grid_column": null,
            "overflow_y": null,
            "overflow_x": null,
            "grid_auto_flow": null,
            "grid_area": null,
            "grid_template_columns": null,
            "flex": null,
            "_model_name": "LayoutModel",
            "justify_items": null,
            "grid_row": null,
            "max_height": null,
            "align_content": null,
            "visibility": null,
            "align_self": null,
            "height": null,
            "min_height": null,
            "padding": null,
            "grid_auto_rows": null,
            "grid_gap": null,
            "max_width": null,
            "order": null,
            "_view_module_version": "1.2.0",
            "grid_template_areas": null,
            "object_position": null,
            "object_fit": null,
            "grid_auto_columns": null,
            "margin": null,
            "display": null,
            "left": null
          }
        },
        "36f137f8a13a4da3a577a8b594d43bfe": {
          "model_module": "@jupyter-widgets/controls",
          "model_name": "DescriptionStyleModel",
          "state": {
            "_view_name": "StyleView",
            "_model_name": "DescriptionStyleModel",
            "description_width": "",
            "_view_module": "@jupyter-widgets/base",
            "_model_module_version": "1.5.0",
            "_view_count": null,
            "_view_module_version": "1.2.0",
            "_model_module": "@jupyter-widgets/controls"
          }
        },
        "5b4896f3e9ad4bc08f70fe80a0c1c844": {
          "model_module": "@jupyter-widgets/base",
          "model_name": "LayoutModel",
          "state": {
            "_view_name": "LayoutView",
            "grid_template_rows": null,
            "right": null,
            "justify_content": null,
            "_view_module": "@jupyter-widgets/base",
            "overflow": null,
            "_model_module_version": "1.2.0",
            "_view_count": null,
            "flex_flow": null,
            "width": null,
            "min_width": null,
            "border": null,
            "align_items": null,
            "bottom": null,
            "_model_module": "@jupyter-widgets/base",
            "top": null,
            "grid_column": null,
            "overflow_y": null,
            "overflow_x": null,
            "grid_auto_flow": null,
            "grid_area": null,
            "grid_template_columns": null,
            "flex": null,
            "_model_name": "LayoutModel",
            "justify_items": null,
            "grid_row": null,
            "max_height": null,
            "align_content": null,
            "visibility": null,
            "align_self": null,
            "height": null,
            "min_height": null,
            "padding": null,
            "grid_auto_rows": null,
            "grid_gap": null,
            "max_width": null,
            "order": null,
            "_view_module_version": "1.2.0",
            "grid_template_areas": null,
            "object_position": null,
            "object_fit": null,
            "grid_auto_columns": null,
            "margin": null,
            "display": null,
            "left": null
          }
        }
      }
    },
    "accelerator": "TPU"
  },
  "cells": [
    {
      "cell_type": "code",
      "metadata": {
        "id": "FRnP5yt7UUE5"
      },
      "source": [
        "# We will use RIM-ONE and DRISHTI dataset"
      ],
      "execution_count": null,
      "outputs": []
    },
    {
      "cell_type": "code",
      "metadata": {
        "id": "1ma4BCv4UcXN"
      },
      "source": [
        "# I have obtained the dataset from the following github page, which is open source by the way\n",
        "# Git Hub URL: https://github.com/seva100/optic-nerve-cnn\n",
        "# Data URL: https://drive.google.com/drive/folders/13g62bhqN1JHJ2fky2Xy5avLbZ2YLMdwB"
      ],
      "execution_count": null,
      "outputs": []
    },
    {
      "cell_type": "code",
      "metadata": {
        "id": "807wnRglVAJu"
      },
      "source": [
        "# we will start coding by mounting the google drive and setting up configurations "
      ],
      "execution_count": null,
      "outputs": []
    },
    {
      "cell_type": "code",
      "metadata": {
        "id": "FsKfQRodfdzg",
        "colab": {
          "base_uri": "https://localhost:8080/"
        },
        "outputId": "88f673c9-e23a-4151-a5c1-5313cd242ab7"
      },
      "source": [
        "from google.colab import drive\n",
        "drive.mount('/content/gdrive')"
      ],
      "execution_count": null,
      "outputs": [
        {
          "output_type": "stream",
          "text": [
            "Mounted at /content/gdrive\n"
          ],
          "name": "stdout"
        }
      ]
    },
    {
      "cell_type": "code",
      "metadata": {
        "id": "1-bdE8d6h0cW"
      },
      "source": [
        "# Initial Setup\n",
        "\n",
        "train=True\n",
        "Epochs=30\n",
        "preload=False\n",
        "hough=False\n",
        "rams=False\n",
        "dynAug=False\n",
        "depth = 6\n",
        "chan = 64\n",
        "ir = 1.1\n",
        "rand_sv = 42\n",
        "ds = 'MIX'\n",
        "zone = 'CUP'\n",
        "cup = True\n",
        "mix = True\n",
        "dri = False\n",
        "rim = False"
      ],
      "execution_count": null,
      "outputs": []
    },
    {
      "cell_type": "code",
      "metadata": {
        "id": "WuaCss4d31b1",
        "colab": {
          "base_uri": "https://localhost:8080/"
        },
        "outputId": "f2e97405-ea46-4218-bc33-550df09d0b5f"
      },
      "source": [
        "print(depth,chan,ir,rand_sv,ds,zone)"
      ],
      "execution_count": null,
      "outputs": [
        {
          "output_type": "stream",
          "text": [
            "6 64 1.1 42 MIX CUP\n"
          ],
          "name": "stdout"
        }
      ]
    },
    {
      "cell_type": "code",
      "metadata": {
        "id": "_xV9Nn6JwIkR"
      },
      "source": [
        "# Import all the necessary libraries\n",
        "\n",
        "import tensorflow as tf\n",
        "import os\n",
        "import glob\n",
        "from datetime import datetime\n",
        "import warnings\n",
        "warnings.simplefilter('ignore')\n",
        "import scipy as sp\n",
        "import scipy.ndimage\n",
        "import numpy as np\n",
        "import pandas as pd\n",
        "import skimage\n",
        "import skimage.exposure\n",
        "import skimage.transform\n",
        "import skimage.measure\n",
        "from PIL import Image\n",
        "import matplotlib.pyplot as plt\n",
        "%matplotlib inline\n",
        "import cv2\n",
        "import h5py\n",
        "from tqdm import tqdm_notebook\n",
        "from IPython.display import display\n",
        "from tensorflow.keras.models import Sequential, Model\n",
        "from tensorflow.keras import layers as layers\n",
        "from tensorflow.keras.layers import Dense, Dropout, Activation, Flatten, BatchNormalization, Conv2D, MaxPooling2D, ZeroPadding2D, Input, Embedding, LSTM, Lambda, UpSampling2D, concatenate, Conv2DTranspose\n",
        "from tensorflow.keras.utils import plot_model\n",
        "from tensorflow.keras.optimizers import SGD, Adam, Adagrad\n",
        "from tensorflow.keras.callbacks import ModelCheckpoint, LearningRateScheduler, ReduceLROnPlateau, CSVLogger\n",
        "from tensorflow.keras.preprocessing.image import ImageDataGenerator\n",
        "from tensorflow.keras import backend as K\n",
        "from sklearn.model_selection import train_test_split\n",
        "import math\n",
        "from skimage.transform import hough_ellipse\n",
        "from skimage.draw import ellipse_perimeter, ellipse\n",
        "from skimage.measure import  ransac, EllipseModel"
      ],
      "execution_count": null,
      "outputs": []
    },
    {
      "cell_type": "code",
      "metadata": {
        "id": "MjSzDEK6IMHI",
        "colab": {
          "base_uri": "https://localhost:8080/"
        },
        "outputId": "eee63e9d-3db9-444a-c6e3-61161ce357df"
      },
      "source": [
        "# boiler plate code configuration for TPU or GPU selection\n",
        "\n",
        "print(\"Tensorflow version \" + tf.__version__)\n",
        "if 'COLAB_TPU_ADDR' in os.environ:\n",
        "  print(os.environ['COLAB_TPU_ADDR'])\n",
        "else:\n",
        "  print('No TPU')\n",
        "if(tf.test.is_gpu_available()):\n",
        "  gpu=True\n",
        "else:\n",
        "  gpu=False\n",
        "  print('No GPU')"
      ],
      "execution_count": null,
      "outputs": [
        {
          "output_type": "stream",
          "text": [
            "Tensorflow version 2.3.0\n",
            "10.81.14.98:8470\n",
            "WARNING:tensorflow:From <ipython-input-8-03f923cc4082>:8: is_gpu_available (from tensorflow.python.framework.test_util) is deprecated and will be removed in a future version.\n",
            "Instructions for updating:\n",
            "Use `tf.config.list_physical_devices('GPU')` instead.\n",
            "No GPU\n"
          ],
          "name": "stdout"
        }
      ]
    },
    {
      "cell_type": "code",
      "metadata": {
        "id": "3hb0xsjvWCt0"
      },
      "source": [
        "# Metrics and further helper functions below"
      ],
      "execution_count": null,
      "outputs": []
    },
    {
      "cell_type": "code",
      "metadata": {
        "id": "62AopuRZV5-M"
      },
      "source": [
        "# let's set tensorflow backend working type to be float\n",
        "\n",
        "K.set_floatx('float32')"
      ],
      "execution_count": null,
      "outputs": []
    },
    {
      "cell_type": "code",
      "metadata": {
        "scrolled": true,
        "id": "L3gKgtXdwsuO"
      },
      "source": [
        "# Metrics for evaluation\n",
        "\n",
        "def dice_coef(y_true, y_pred):\n",
        "    y_true_f = K.flatten(y_true)\n",
        "    y_pred_f = K.flatten(y_pred)\n",
        "    intersection = K.sum(y_true_f * y_pred_f)\n",
        "    return (2. * intersection + K.epsilon()) / (K.sum(y_true_f) + K.sum(y_pred_f) + K.epsilon())\n",
        "  \n",
        "def dice_loss(y_true,y_pred):\n",
        "    return -dice_coef(y_true,y_pred)\n",
        "  \n",
        "def log_dice_loss(y_true, y_pred):\n",
        "    return -K.log(dice_coef(y_true, y_pred))\n",
        "\n",
        "# Computes mean Intersection-over-Union (IOU) for two arrays of binary images.\n",
        "\n",
        "def iou_loss_core(y_true, y_pred, smooth=1):\n",
        "    intersection = K.sum(K.abs(y_true * y_pred), axis=-1)\n",
        "    union = K.sum(y_true,-1) + K.sum(y_pred,-1) - intersection\n",
        "    iou = (intersection + smooth) / (union + smooth)\n",
        "    return iou"
      ],
      "execution_count": null,
      "outputs": []
    },
    {
      "cell_type": "code",
      "metadata": {
        "id": "79Jic7wYc6mk"
      },
      "source": [
        "# helper function to increase the brightness\n",
        "# hue, saturation, value\n",
        "\n",
        "def modify_brightness_p(img, p=1.2):\n",
        "    hsv = cv2.cvtColor(img, cv2.COLOR_BGR2HSV)\n",
        "    h, s, v = cv2.split(hsv)\n",
        "\n",
        "    lim = 1.0/p\n",
        "    v[v > lim] = 1.0\n",
        "    v[v <= lim] *= p\n",
        "\n",
        "    final_hsv = cv2.merge((h, s, v))\n",
        "    img = cv2.cvtColor(final_hsv, cv2.COLOR_HSV2BGR).clip(min=0)\n",
        "    return img"
      ],
      "execution_count": null,
      "outputs": []
    },
    {
      "cell_type": "code",
      "metadata": {
        "id": "82FWBt7h9dGP"
      },
      "source": [
        "# helper code to shuffle\n",
        "\n",
        "def unison_shuffled_copies(a, b):\n",
        "    assert len(a) == len(b)\n",
        "    p = np.random.permutation(len(a))\n",
        "    return a[p], b[p]"
      ],
      "execution_count": null,
      "outputs": []
    },
    {
      "cell_type": "code",
      "metadata": {
        "id": "NFChKFpTU6I0"
      },
      "source": [
        "# helper code to 512 image size indices with original images\n",
        "\n",
        "def index512_resize(index,top):\n",
        "  index=index*top/512\n",
        "  return int(index)"
      ],
      "execution_count": null,
      "outputs": []
    },
    {
      "cell_type": "code",
      "metadata": {
        "scrolled": true,
        "id": "w7wU3WR3wsuZ"
      },
      "source": [
        "# Load the data\n",
        "h5f1 = h5py.File(os.path.join(os.path.dirname(os.getcwd()), '/content/gdrive/My Drive/Medical Image/cnn_term_paper', 'RIM_ONE_v3.hdf5'), 'r')\n",
        "h5f2 = h5py.File(os.path.join(os.path.dirname(os.getcwd()), '/content/gdrive/My Drive/Medical Image/cnn_term_paper', 'DRISHTI_GS.hdf5'), 'r')\n",
        "h5v1 = h5py.File(os.path.join(os.path.dirname(os.getcwd()), '/content/gdrive/My Drive/Medical Image/cnn_term_paper', 'DRIONS_DB.hdf5'), 'r')"
      ],
      "execution_count": null,
      "outputs": []
    },
    {
      "cell_type": "code",
      "metadata": {
        "id": "gYXcxzc-WNJd"
      },
      "source": [
        "# Let's define the U-Net Model"
      ],
      "execution_count": null,
      "outputs": []
    },
    {
      "cell_type": "code",
      "metadata": {
        "id": "AKUbHgIhWQ7s"
      },
      "source": [
        ""
      ],
      "execution_count": null,
      "outputs": []
    },
    {
      "cell_type": "code",
      "metadata": {
        "id": "82nCHO8WiREs"
      },
      "source": [
        "# U-Net: Convolutional Networks for Biomedical Image Segmentation\n",
        "# (https://arxiv.org/abs/1505.04597)\n",
        "\n",
        "def conv_block(m, dim, acti, bn, res, do=0):\n",
        "\tn = Conv2D(dim, 3, activation=acti, padding='same')(m)\n",
        "\tn = BatchNormalization()(n) if bn else n\n",
        "\tn = Dropout(do)(n) if do else n\n",
        "\tn = Conv2D(dim, 3, activation=acti, padding='same')(n)\n",
        "\tn = BatchNormalization()(n) if bn else n\n",
        "\treturn Concatenate()([m, n]) if res else n\n",
        "\n",
        "def level_block(m, dim, depth, inc, acti, do, bn, mp, up, res):\n",
        "\tif depth > 0:\n",
        "\t\tn = conv_block(m, dim, acti, bn, res)\n",
        "\t\tm = MaxPooling2D()(n) if mp else Conv2D(dim, 3, strides=2, padding='same')(n)\n",
        "\t\tm = level_block(m, int(inc*dim), depth-1, inc, acti, do, bn, mp, up, res)\n",
        "\t\tif up:\n",
        "\t\t\tm = UpSampling2D()(m)\n",
        "\t\t\tm = Conv2D(dim, 2, activation=acti, padding='same')(m)\n",
        "\t\telse:\n",
        "\t\t\tm = Conv2DTranspose(dim, 3, strides=2, activation=acti, padding='same')(m)\n",
        "\t\tn = concatenate([n, m],axis=-1)\n",
        "\t\tm = conv_block(n, dim, acti, bn, res)\n",
        "\telse:\n",
        "\t\tm = conv_block(m, dim, acti, bn, res, do)\n",
        "\treturn m\n",
        "\n",
        "def UNet(img_shape, out_ch=1, start_ch=64, depth=4, inc_rate=2., activation='relu', \n",
        "\t\t dropout=0.5, batchnorm=False, maxpool=True, upconv=True, residual=False):\n",
        "\ti = Input(shape=img_shape)\n",
        "\to = level_block(i, start_ch, depth, inc_rate, activation, dropout, batchnorm, maxpool, upconv, residual)\n",
        "\to = Conv2D(out_ch, 1, activation='sigmoid')(o)\n",
        "\treturn Model(inputs=i, outputs=o)"
      ],
      "execution_count": null,
      "outputs": []
    },
    {
      "cell_type": "code",
      "metadata": {
        "id": "0oNfHoZQWYyy"
      },
      "source": [
        "# We can find data preprocessing steps below\n",
        "# step1: prepare the data for our model injection\n",
        "# step2: Create train and test set by combining datasets\n",
        "# Step3: Preprocessing step for Cup Segmentation\n",
        "# step4: Shuffle the dataset\n",
        "# step5: Increase the size of dataset by Image Data Generator"
      ],
      "execution_count": null,
      "outputs": []
    },
    {
      "cell_type": "code",
      "metadata": {
        "id": "BVAiDcVW-7-K"
      },
      "source": [
        "img_shape=(128,128,3)"
      ],
      "execution_count": null,
      "outputs": []
    },
    {
      "cell_type": "code",
      "metadata": {
        "id": "R_4GQ6QZC4_E",
        "colab": {
          "base_uri": "https://localhost:8080/"
        },
        "outputId": "4b25b998-737e-4c75-97f8-50665af18854"
      },
      "source": [
        "# DRISHTI Dataset\n",
        "# step1: prepare the data for our model injection\n",
        "\n",
        "Xori= np.asarray(h5f2['DRISHTI-GS/orig/images'])\n",
        "disc_locations = np.asarray( h5f2['DRISHTI-GS/512 px/disc_locations'])\n",
        "FC = np.asarray(h5f2['DRISHTI-GS/512 px/file_codes'] ) \n",
        "indDRI = np.arange(0,Xori.shape[0])\n",
        "bsqside=np.maximum((disc_locations[:,3]-disc_locations[:,1]),(disc_locations[:,2]-disc_locations[:,0]))\n",
        "isize=Xori.shape[1]\n",
        "\n",
        "if (cup):\n",
        "  \n",
        "  Yf = np.asarray(h5f2['DRISHTI-GS/512 px/cup'])\n",
        " \n",
        "  Xc = [Xori[i][index512_resize(disc_locations[i][0],isize):index512_resize(disc_locations[i][0]+bsqside[i],isize), index512_resize(disc_locations[i][1],isize):index512_resize(disc_locations[i][1]+bsqside[i],isize)] \n",
        "                   for i in range(len(Xori))]\n",
        "\n",
        "  Yc=[Yf[i][disc_locations[i][0]:disc_locations[i][0]+bsqside[i], disc_locations[i][1]:disc_locations[i][1]+bsqside[i]] \n",
        "                   for i in range(len(Xori))]\n",
        "\n",
        "else:\n",
        "  Yf =np.asarray( h5f2['DRISHTI-GS/512 px/disc'])\n",
        "  \n",
        "  Xc = [Xori[i][index512_resize(50,isize):index512_resize(462,isize), index512_resize(50,isize):index512_resize(462,isize)] \n",
        "                   for i in range(len(Xori))]\n",
        "\n",
        "  Yc=[Yf[i][50:462,50:462] \n",
        "                   for i in range(len(Xori))]\n",
        "\n",
        "X=[cv2.resize(img, (128, 128),interpolation=cv2.INTER_NEAREST) for img in Xc]\n",
        "X=np.asarray(X) \n",
        "am=np.amax(X)\n",
        "X=X.astype(np.float32)/am \n",
        "print(np.amax(X),np.amin(X))\n",
        "\n",
        "Y=[cv2.resize(img, (128, 128),interpolation=cv2.INTER_NEAREST)[..., None] for img in Yc]\n",
        "Y=np.asarray(Y) \n",
        "ym=np.amax(Y) \n",
        "Yf=Y/ym\n",
        "#get binary mask\n",
        "Yb=(Y>0.5).astype(np.float32) \n",
        "\n",
        "print(np.amax(Yf),np.amin(Yf))\n",
        "print(X.shape)"
      ],
      "execution_count": null,
      "outputs": [
        {
          "output_type": "stream",
          "text": [
            "1.0 0.0\n",
            "1.0 0.0\n",
            "(50, 128, 128, 3)\n"
          ],
          "name": "stdout"
        }
      ]
    },
    {
      "cell_type": "code",
      "metadata": {
        "id": "2e0cSAtE7dpI",
        "colab": {
          "base_uri": "https://localhost:8080/"
        },
        "outputId": "6774ce2d-2680-46fc-be9e-73c4a3a22cdb"
      },
      "source": [
        "# RIM ONE V_3 Dataset\n",
        "# step1: prepare the data for our model injection\n",
        "\n",
        "Xvori= h5f1['RIM-ONE v3/orig/images']\n",
        "disc_locationsv = h5f1['RIM-ONE v3/512 px/disc_locations']\n",
        "Glauv=np.asarray(h5f1['RIM-ONE v3/512 px/is_ill'] )\n",
        "FCv=np.asarray(h5f1['RIM-ONE v3/512 px/file_codes'])\n",
        "indRIM=np.arange(0,Xvori.shape[0])\n",
        "bsqsidev=np.maximum((disc_locationsv[:,3]-disc_locationsv[:,1]),(disc_locationsv[:,2]-disc_locationsv[:,0]))\n",
        "low_cont_n=0;\n",
        "ivsize=Xvori.shape[1]\n",
        "\n",
        "if (cup):\n",
        "\n",
        "  Yvf = h5f1['RIM-ONE v3/512 px/cup']\n",
        "\n",
        "  Xvc = [Xvori[i][index512_resize(disc_locationsv[i][0],ivsize):index512_resize(disc_locationsv[i][0]+bsqsidev[i],ivsize), index512_resize(disc_locationsv[i][1],ivsize):index512_resize(disc_locationsv[i][1]+bsqsidev[i],ivsize)] \n",
        "                     for i in range(len(Xvori))]\n",
        "\n",
        "  Yvc=[Yvf[i][disc_locationsv[i][0]:disc_locationsv[i][0]+bsqsidev[i], disc_locationsv[i][1]:disc_locationsv[i][1]+bsqsidev[i]] \n",
        "                     for i in range(len(Xvori))]\n",
        "\n",
        "else:\n",
        "\n",
        "  Yvf = h5f1['RIM-ONE v3/512 px/disc']\n",
        "\n",
        "  Xvc = [Xvori[i][index512_resize(50,isize):index512_resize(462,ivsize), index512_resize(50,isize):index512_resize(462,ivsize)] \n",
        "                     for i in range(len(Xvori))]\n",
        "\n",
        "  Yvc=[Yvf[i][50:462,50:462] \n",
        "                     for i in range(len(Xvori))]\n",
        "\n",
        "\n",
        "Xvn=[cv2.resize(img, (128, 128),interpolation=cv2.INTER_NEAREST) for img in Xvc]\n",
        "Xv=np.asarray(Xvn) \n",
        "am=np.amax(Xv)\n",
        "Xv=Xv.astype(np.float32)/am \n",
        "print(np.amax(Xv),np.amin(Xv))\n",
        "\n",
        "Yv=[cv2.resize(img, (128, 128),interpolation=cv2.INTER_NEAREST)[..., None] for img in Yvc]\n",
        "Yv=np.asarray(Yv) \n",
        "ym=np.amax(Yv) \n",
        "Yvf=(Yv/ym).astype(np.float32) \n",
        "\n",
        "print(np.amax(Yvf),np.amin(Yvf))\n",
        "print(Xv.shape)"
      ],
      "execution_count": null,
      "outputs": [
        {
          "output_type": "stream",
          "text": [
            "1.0 0.0\n",
            "1.0 0.0\n",
            "(159, 128, 128, 3)\n"
          ],
          "name": "stdout"
        }
      ]
    },
    {
      "cell_type": "code",
      "metadata": {
        "id": "bOkf5DyYMIVl",
        "colab": {
          "base_uri": "https://localhost:8080/"
        },
        "outputId": "c5a4a85a-de26-469d-9200-7860f26a2c04"
      },
      "source": [
        "# step2: Create train and test set by combining datasets\n",
        "\n",
        "rng = np.random.RandomState(rand_sv)\n",
        "\n",
        "#DRISHTI\n",
        "X_train1t, X_test1t, Y_train1t, Y_test1t, F_train1t, F_test1t ,ind_train1, ind_test1= train_test_split( X, Yb, FC, indDRI,test_size=0.25,random_state=rng)\n",
        "\n",
        "#RIM ONE\n",
        "X_train2, X_test2, Y_train2, Y_test2, F_train2, F_test2, ind_train2, ind_test2= train_test_split( Xv, Yvf, FCv, indRIM, test_size=0.25,random_state=rng)\n",
        "\n",
        "X_test_dri=np.copy(X_test1t)\n",
        "Y_test_dri=np.copy(Y_test1t)\n",
        "F_test_dri=np.copy(F_test1t)\n",
        "\n",
        "X_test_rim=np.copy(X_test2)\n",
        "Y_test_rim=np.copy(Y_test2)\n",
        "F_test_rim=np.copy(F_test2)\n",
        "\n",
        "if(dri or mix):\n",
        "  X_train1=np.concatenate([X_train1t,X_train1t])\n",
        "  X_train1=np.concatenate([X_train1,X_train1t])\n",
        "  X_test1=np.concatenate([X_test1t,X_test1t])\n",
        "  X_test1=np.concatenate([X_test1,X_test1t])\n",
        "\n",
        "  Y_train1=np.concatenate([Y_train1t,Y_train1t])\n",
        "  Y_train1=np.concatenate([Y_train1,Y_train1t])\n",
        "  Y_test1=np.concatenate([Y_test1t,Y_test1t])\n",
        "  Y_test1=np.concatenate([Y_test1,Y_test1t])\n",
        "\n",
        "if(mix):\n",
        "  X_train1=np.concatenate([X_train1,X_train2])\n",
        "  Y_train1=np.concatenate([Y_train1,Y_train2])\n",
        "  X_test1=np.concatenate([X_test1,X_test2])\n",
        "  Y_test1=np.concatenate([Y_test1,Y_test2])\n",
        "\n",
        "  X_train1=np.concatenate([X_train1,X_train2])\n",
        "  Y_train1=np.concatenate([Y_train1,Y_train2])\n",
        "  X_test1=np.concatenate([X_test1,X_test2])\n",
        "  Y_test1=np.concatenate([Y_test1,Y_test2])\n",
        "\n",
        "if(rim):\n",
        "  X_train1=np.concatenate([X_train2,X_train2])\n",
        "  X_test1=np.concatenate([X_test2,X_test2])\n",
        "\n",
        "  Y_train1=np.concatenate([Y_train2,Y_train2])\n",
        "  Y_test1=np.concatenate([Y_test2,Y_test2])\n",
        "\n",
        "if(dri):\n",
        "  X_train1=np.concatenate([X_train1,X_train1])\n",
        "  Y_train1=np.concatenate([Y_train1,Y_train1])\n",
        "\n",
        "X_train1=np.asarray(X_train1)\n",
        "Y_train1=np.asarray(Y_train1)\n",
        "X_test=np.asarray(X_test1)\n",
        "Y_test=np.asarray(Y_test1)\n",
        "\n",
        "X_train=np.copy(X_train1)\n",
        "Y_train=np.copy(Y_train1)\n",
        "\n",
        "size=X_train1.shape[0]\n",
        "\n",
        "X_traine=np.empty((20*size, 128, 128, 3),dtype=np.float32)\n",
        "Y_traine=np.empty((20*size, 128, 128, 1),dtype=np.float32)\n",
        "\n",
        "print(X_train1.shape)\n",
        "print(Y_train1.shape)\n",
        "print(X_traine.shape)\n",
        "print(Y_traine.shape)"
      ],
      "execution_count": null,
      "outputs": [
        {
          "output_type": "stream",
          "text": [
            "(349, 128, 128, 3)\n",
            "(349, 128, 128, 1)\n",
            "(6980, 128, 128, 3)\n",
            "(6980, 128, 128, 1)\n"
          ],
          "name": "stdout"
        }
      ]
    },
    {
      "cell_type": "code",
      "metadata": {
        "colab": {
          "base_uri": "https://localhost:8080/",
          "height": 117,
          "referenced_widgets": [
            "1b7b99ad25c64e51bc7ab3247cb04eaf",
            "1b9fd39052594207bcb75f4bd77f5d8c",
            "af04baa7f12046c6a93a38c07ef9ade2",
            "82813a77e8374f08869687fc1088ad3c",
            "88871d25901b40e0b8034e670ffc96a9",
            "8ba00e77e2804c96b7c9d4b23ec5de15",
            "47b74da43bb44eb3bd77245ad741337d",
            "ccb7dc1399624d909429b811773c511d",
            "076b0c21adcf488b94fc2bd413e5fcde",
            "08f32d690f9c4a20a0ea3806382829fb",
            "2353921ebe204dc0891b983103415d29",
            "f5a3d6297ee9488796e1be3160667aa9",
            "fe777358072844cb9e31f149e54b7889",
            "c41cf5ec669d41f192b45e65b0340510",
            "462623180d154ccba577df2935d0c1b1",
            "e48c0bbe00f947d49fd13e5310cfe5f6"
          ]
        },
        "id": "9YdMKLwXMIqV",
        "outputId": "dacf2815-2114-4601-f4ec-66eec534c663"
      },
      "source": [
        "# Step3: Preprocessing step for Cup Segmentation\n",
        "# Perform CLAHE on each image\n",
        "\n",
        "for i in range(16):\n",
        "  X_traine[i*size:(i+1)*size]=X_train1\n",
        "  Y_traine[i*size:(i+1)*size]=Y_train1\n",
        "  \n",
        "base= 16*size\n",
        "\n",
        "for j in tqdm_notebook(range(X_train1.shape[0])):\n",
        "  X_traine[base]=skimage.exposure.equalize_adapthist(X_train1[j], clip_limit=0.04)\n",
        "  Y_traine[base]=Y_train1[j]\n",
        "  base+=1\n",
        "  X_traine[base]=skimage.exposure.equalize_adapthist(X_train1[j], clip_limit=0.02)\n",
        "  Y_traine[base]=Y_train1[j]\n",
        "  base+=1\n",
        "  X_traine[base]=modify_brightness_p(X_train1[j],0.9)\n",
        "  Y_traine[base]=Y_train1[j]\n",
        "  base+=1\n",
        "  X_traine[base]=modify_brightness_p(X_train1[j],1.1)\n",
        "  Y_traine[base]=Y_train1[j]\n",
        "  base+=1\n",
        "  \n",
        "X_testc=np.copy(X_test)\n",
        "Y_testc=np.copy(Y_test)\n",
        "\n",
        "sizev=X_testc.shape[0]\n",
        "\n",
        "X_teste=np.empty((20*sizev, 128, 128, 3),dtype=np.float32)\n",
        "Y_teste=np.empty((20*sizev, 128, 128, 1),dtype=np.float32)\n",
        "\n",
        "for i in range(8):\n",
        "  X_teste[i*sizev:(i+1)*sizev]=X_testc\n",
        "  Y_teste[i*sizev:(i+1)*sizev]=Y_testc\n",
        "  \n",
        "basev= 8*sizev\n",
        "\n",
        "for j in tqdm_notebook(range(X_testc.shape[0])):\n",
        "  X_teste[basev]=skimage.exposure.equalize_adapthist(X_testc[j], clip_limit=0.04)\n",
        "  Y_teste[basev]=Y_testc[j]\n",
        "  basev+=1\n",
        "  X_teste[basev]=skimage.exposure.equalize_adapthist(X_testc[j], clip_limit=0.02)\n",
        "  Y_teste[basev]=Y_testc[j]\n",
        "  basev+=1\n",
        "  X_teste[basev]=modify_brightness_p(X_testc[j],0.9)\n",
        "  Y_teste[basev]=Y_testc[j]\n",
        "  basev+=1\n",
        "  X_teste[basev]=modify_brightness_p(X_testc[j],1.1)\n",
        "  Y_teste[basev]=Y_testc[j]\n",
        "  basev+=1"
      ],
      "execution_count": null,
      "outputs": [
        {
          "output_type": "display_data",
          "data": {
            "application/vnd.jupyter.widget-view+json": {
              "model_id": "1b7b99ad25c64e51bc7ab3247cb04eaf",
              "version_minor": 0,
              "version_major": 2
            },
            "text/plain": [
              "HBox(children=(FloatProgress(value=0.0, max=349.0), HTML(value='')))"
            ]
          },
          "metadata": {
            "tags": []
          }
        },
        {
          "output_type": "stream",
          "text": [
            "\n"
          ],
          "name": "stdout"
        },
        {
          "output_type": "display_data",
          "data": {
            "application/vnd.jupyter.widget-view+json": {
              "model_id": "076b0c21adcf488b94fc2bd413e5fcde",
              "version_minor": 0,
              "version_major": 2
            },
            "text/plain": [
              "HBox(children=(FloatProgress(value=0.0, max=119.0), HTML(value='')))"
            ]
          },
          "metadata": {
            "tags": []
          }
        },
        {
          "output_type": "stream",
          "text": [
            "\n"
          ],
          "name": "stdout"
        }
      ]
    },
    {
      "cell_type": "code",
      "metadata": {
        "id": "k0LN9Tqi-BWg"
      },
      "source": [
        "# step4: Shuffle the dataset\n",
        "\n",
        "X_trains,Y_trains = unison_shuffled_copies(X_traine, Y_traine)\n",
        "X_tests,Y_tests = unison_shuffled_copies(X_teste, Y_teste)"
      ],
      "execution_count": null,
      "outputs": []
    },
    {
      "cell_type": "code",
      "metadata": {
        "id": "XAMuOnUGFI4o"
      },
      "source": [
        "# Provide the same seed and keyword arguments to the fit and flow methods\n",
        "\n",
        "seed = rand_sv\n",
        "batch_s = 120"
      ],
      "execution_count": null,
      "outputs": []
    },
    {
      "cell_type": "code",
      "metadata": {
        "id": "DgxWT8xrXMEF"
      },
      "source": [
        "# We can find model training and evaluation steps below"
      ],
      "execution_count": null,
      "outputs": []
    },
    {
      "cell_type": "code",
      "metadata": {
        "id": "cG3TALY1_ofB"
      },
      "source": [
        "# helper function for ipython notebook\n",
        "\n",
        "cp_callbacks = tf.keras.callbacks.ModelCheckpoint(filepath=os.path.join('/content/gdrive/My Drive/Medical Image/cnn_term_paper/last_check_point.hdf5'), verbose=1, save_best_only=True,save_weights_only=True)\n",
        "reduce_lr = ReduceLROnPlateau(monitor='val_loss', factor=0.8, patience=5, min_lr=2e-4)"
      ],
      "execution_count": null,
      "outputs": []
    },
    {
      "cell_type": "code",
      "metadata": {
        "id": "1e79XCvBAlpd",
        "colab": {
          "base_uri": "https://localhost:8080/"
        },
        "outputId": "42c67ac2-f3c2-483e-bfdc-1c1cac73bb96"
      },
      "source": [
        "img_shape"
      ],
      "execution_count": null,
      "outputs": [
        {
          "output_type": "execute_result",
          "data": {
            "text/plain": [
              "(128, 128, 3)"
            ]
          },
          "metadata": {
            "tags": []
          },
          "execution_count": 34
        }
      ]
    },
    {
      "cell_type": "code",
      "metadata": {
        "id": "Wp2MYmAvMj4p",
        "colab": {
          "base_uri": "https://localhost:8080/"
        },
        "outputId": "e292dc8e-b915-47e0-be22-13264f3b3475"
      },
      "source": [
        "# Boiler plate code to enable TPU or GPU in Google Colab\n",
        "# initialise GPU or TPU\n",
        "\n",
        "if 'COLAB_TPU_ADDR' not in  os.environ:\n",
        "  if (gpu):\n",
        "    strategy = tf.distribute.OneDeviceStrategy(device=\"/gpu:0\")\n",
        "  else:\n",
        "    strategy = tf.distribute.OneDeviceStrategy(device=\"/cpu:0\")\n",
        "else:\n",
        "  resolver = tf.distribute.cluster_resolver.TPUClusterResolver(tpu='grpc://' + os.environ['COLAB_TPU_ADDR'])\n",
        "  tf.config.experimental_connect_to_cluster(resolver)\n",
        "  tf.tpu.experimental.initialize_tpu_system(resolver)\n",
        "  strategy = tf.distribute.experimental.TPUStrategy(resolver)\n",
        "\n",
        "with strategy.scope():\n",
        "  model = UNet(img_shape,start_ch=chan,upconv=False,dropout=0.5, depth=depth,inc_rate=ir, batchnorm=True)\n",
        "  model.compile(\n",
        "      optimizer=tf.keras.optimizers.Adam(learning_rate=.001, ),\n",
        "      loss=log_dice_loss, metrics=[dice_coef]\n",
        "      )"
      ],
      "execution_count": null,
      "outputs": [
        {
          "output_type": "stream",
          "text": [
            "INFO:tensorflow:Initializing the TPU system: grpc://10.35.252.178:8470\n"
          ],
          "name": "stdout"
        },
        {
          "output_type": "stream",
          "text": [
            "INFO:tensorflow:Initializing the TPU system: grpc://10.35.252.178:8470\n"
          ],
          "name": "stderr"
        },
        {
          "output_type": "stream",
          "text": [
            "INFO:tensorflow:Clearing out eager caches\n"
          ],
          "name": "stdout"
        },
        {
          "output_type": "stream",
          "text": [
            "INFO:tensorflow:Clearing out eager caches\n"
          ],
          "name": "stderr"
        },
        {
          "output_type": "stream",
          "text": [
            "INFO:tensorflow:Finished initializing TPU system.\n"
          ],
          "name": "stdout"
        },
        {
          "output_type": "stream",
          "text": [
            "INFO:tensorflow:Finished initializing TPU system.\n",
            "WARNING:absl:`tf.distribute.experimental.TPUStrategy` is deprecated, please use  the non experimental symbol `tf.distribute.TPUStrategy` instead.\n"
          ],
          "name": "stderr"
        },
        {
          "output_type": "stream",
          "text": [
            "INFO:tensorflow:Found TPU system:\n"
          ],
          "name": "stdout"
        },
        {
          "output_type": "stream",
          "text": [
            "INFO:tensorflow:Found TPU system:\n"
          ],
          "name": "stderr"
        },
        {
          "output_type": "stream",
          "text": [
            "INFO:tensorflow:*** Num TPU Cores: 8\n"
          ],
          "name": "stdout"
        },
        {
          "output_type": "stream",
          "text": [
            "INFO:tensorflow:*** Num TPU Cores: 8\n"
          ],
          "name": "stderr"
        },
        {
          "output_type": "stream",
          "text": [
            "INFO:tensorflow:*** Num TPU Workers: 1\n"
          ],
          "name": "stdout"
        },
        {
          "output_type": "stream",
          "text": [
            "INFO:tensorflow:*** Num TPU Workers: 1\n"
          ],
          "name": "stderr"
        },
        {
          "output_type": "stream",
          "text": [
            "INFO:tensorflow:*** Num TPU Cores Per Worker: 8\n"
          ],
          "name": "stdout"
        },
        {
          "output_type": "stream",
          "text": [
            "INFO:tensorflow:*** Num TPU Cores Per Worker: 8\n"
          ],
          "name": "stderr"
        },
        {
          "output_type": "stream",
          "text": [
            "INFO:tensorflow:*** Available Device: _DeviceAttributes(/job:localhost/replica:0/task:0/device:CPU:0, CPU, 0, 0)\n"
          ],
          "name": "stdout"
        },
        {
          "output_type": "stream",
          "text": [
            "INFO:tensorflow:*** Available Device: _DeviceAttributes(/job:localhost/replica:0/task:0/device:CPU:0, CPU, 0, 0)\n"
          ],
          "name": "stderr"
        },
        {
          "output_type": "stream",
          "text": [
            "INFO:tensorflow:*** Available Device: _DeviceAttributes(/job:localhost/replica:0/task:0/device:XLA_CPU:0, XLA_CPU, 0, 0)\n"
          ],
          "name": "stdout"
        },
        {
          "output_type": "stream",
          "text": [
            "INFO:tensorflow:*** Available Device: _DeviceAttributes(/job:localhost/replica:0/task:0/device:XLA_CPU:0, XLA_CPU, 0, 0)\n"
          ],
          "name": "stderr"
        },
        {
          "output_type": "stream",
          "text": [
            "INFO:tensorflow:*** Available Device: _DeviceAttributes(/job:worker/replica:0/task:0/device:CPU:0, CPU, 0, 0)\n"
          ],
          "name": "stdout"
        },
        {
          "output_type": "stream",
          "text": [
            "INFO:tensorflow:*** Available Device: _DeviceAttributes(/job:worker/replica:0/task:0/device:CPU:0, CPU, 0, 0)\n"
          ],
          "name": "stderr"
        },
        {
          "output_type": "stream",
          "text": [
            "INFO:tensorflow:*** Available Device: _DeviceAttributes(/job:worker/replica:0/task:0/device:TPU:0, TPU, 0, 0)\n"
          ],
          "name": "stdout"
        },
        {
          "output_type": "stream",
          "text": [
            "INFO:tensorflow:*** Available Device: _DeviceAttributes(/job:worker/replica:0/task:0/device:TPU:0, TPU, 0, 0)\n"
          ],
          "name": "stderr"
        },
        {
          "output_type": "stream",
          "text": [
            "INFO:tensorflow:*** Available Device: _DeviceAttributes(/job:worker/replica:0/task:0/device:TPU:1, TPU, 0, 0)\n"
          ],
          "name": "stdout"
        },
        {
          "output_type": "stream",
          "text": [
            "INFO:tensorflow:*** Available Device: _DeviceAttributes(/job:worker/replica:0/task:0/device:TPU:1, TPU, 0, 0)\n"
          ],
          "name": "stderr"
        },
        {
          "output_type": "stream",
          "text": [
            "INFO:tensorflow:*** Available Device: _DeviceAttributes(/job:worker/replica:0/task:0/device:TPU:2, TPU, 0, 0)\n"
          ],
          "name": "stdout"
        },
        {
          "output_type": "stream",
          "text": [
            "INFO:tensorflow:*** Available Device: _DeviceAttributes(/job:worker/replica:0/task:0/device:TPU:2, TPU, 0, 0)\n"
          ],
          "name": "stderr"
        },
        {
          "output_type": "stream",
          "text": [
            "INFO:tensorflow:*** Available Device: _DeviceAttributes(/job:worker/replica:0/task:0/device:TPU:3, TPU, 0, 0)\n"
          ],
          "name": "stdout"
        },
        {
          "output_type": "stream",
          "text": [
            "INFO:tensorflow:*** Available Device: _DeviceAttributes(/job:worker/replica:0/task:0/device:TPU:3, TPU, 0, 0)\n"
          ],
          "name": "stderr"
        },
        {
          "output_type": "stream",
          "text": [
            "INFO:tensorflow:*** Available Device: _DeviceAttributes(/job:worker/replica:0/task:0/device:TPU:4, TPU, 0, 0)\n"
          ],
          "name": "stdout"
        },
        {
          "output_type": "stream",
          "text": [
            "INFO:tensorflow:*** Available Device: _DeviceAttributes(/job:worker/replica:0/task:0/device:TPU:4, TPU, 0, 0)\n"
          ],
          "name": "stderr"
        },
        {
          "output_type": "stream",
          "text": [
            "INFO:tensorflow:*** Available Device: _DeviceAttributes(/job:worker/replica:0/task:0/device:TPU:5, TPU, 0, 0)\n"
          ],
          "name": "stdout"
        },
        {
          "output_type": "stream",
          "text": [
            "INFO:tensorflow:*** Available Device: _DeviceAttributes(/job:worker/replica:0/task:0/device:TPU:5, TPU, 0, 0)\n"
          ],
          "name": "stderr"
        },
        {
          "output_type": "stream",
          "text": [
            "INFO:tensorflow:*** Available Device: _DeviceAttributes(/job:worker/replica:0/task:0/device:TPU:6, TPU, 0, 0)\n"
          ],
          "name": "stdout"
        },
        {
          "output_type": "stream",
          "text": [
            "INFO:tensorflow:*** Available Device: _DeviceAttributes(/job:worker/replica:0/task:0/device:TPU:6, TPU, 0, 0)\n"
          ],
          "name": "stderr"
        },
        {
          "output_type": "stream",
          "text": [
            "INFO:tensorflow:*** Available Device: _DeviceAttributes(/job:worker/replica:0/task:0/device:TPU:7, TPU, 0, 0)\n"
          ],
          "name": "stdout"
        },
        {
          "output_type": "stream",
          "text": [
            "INFO:tensorflow:*** Available Device: _DeviceAttributes(/job:worker/replica:0/task:0/device:TPU:7, TPU, 0, 0)\n"
          ],
          "name": "stderr"
        },
        {
          "output_type": "stream",
          "text": [
            "INFO:tensorflow:*** Available Device: _DeviceAttributes(/job:worker/replica:0/task:0/device:TPU_SYSTEM:0, TPU_SYSTEM, 0, 0)\n"
          ],
          "name": "stdout"
        },
        {
          "output_type": "stream",
          "text": [
            "INFO:tensorflow:*** Available Device: _DeviceAttributes(/job:worker/replica:0/task:0/device:TPU_SYSTEM:0, TPU_SYSTEM, 0, 0)\n"
          ],
          "name": "stderr"
        },
        {
          "output_type": "stream",
          "text": [
            "INFO:tensorflow:*** Available Device: _DeviceAttributes(/job:worker/replica:0/task:0/device:XLA_CPU:0, XLA_CPU, 0, 0)\n"
          ],
          "name": "stdout"
        },
        {
          "output_type": "stream",
          "text": [
            "INFO:tensorflow:*** Available Device: _DeviceAttributes(/job:worker/replica:0/task:0/device:XLA_CPU:0, XLA_CPU, 0, 0)\n"
          ],
          "name": "stderr"
        }
      ]
    },
    {
      "cell_type": "code",
      "metadata": {
        "colab": {
          "base_uri": "https://localhost:8080/"
        },
        "id": "wnpZvh9ljeSG",
        "outputId": "287bac03-828b-4969-e36d-6981c21cbb3a"
      },
      "source": [
        "# Understand the model\n",
        "model.summary()"
      ],
      "execution_count": null,
      "outputs": [
        {
          "output_type": "stream",
          "text": [
            "Model: \"functional_1\"\n",
            "__________________________________________________________________________________________________\n",
            "Layer (type)                    Output Shape         Param #     Connected to                     \n",
            "==================================================================================================\n",
            "input_1 (InputLayer)            [(None, 128, 128, 3) 0                                            \n",
            "__________________________________________________________________________________________________\n",
            "conv2d (Conv2D)                 (None, 128, 128, 64) 1792        input_1[0][0]                    \n",
            "__________________________________________________________________________________________________\n",
            "batch_normalization (BatchNorma (None, 128, 128, 64) 256         conv2d[0][0]                     \n",
            "__________________________________________________________________________________________________\n",
            "conv2d_1 (Conv2D)               (None, 128, 128, 64) 36928       batch_normalization[0][0]        \n",
            "__________________________________________________________________________________________________\n",
            "batch_normalization_1 (BatchNor (None, 128, 128, 64) 256         conv2d_1[0][0]                   \n",
            "__________________________________________________________________________________________________\n",
            "max_pooling2d (MaxPooling2D)    (None, 64, 64, 64)   0           batch_normalization_1[0][0]      \n",
            "__________________________________________________________________________________________________\n",
            "conv2d_2 (Conv2D)               (None, 64, 64, 70)   40390       max_pooling2d[0][0]              \n",
            "__________________________________________________________________________________________________\n",
            "batch_normalization_2 (BatchNor (None, 64, 64, 70)   280         conv2d_2[0][0]                   \n",
            "__________________________________________________________________________________________________\n",
            "conv2d_3 (Conv2D)               (None, 64, 64, 70)   44170       batch_normalization_2[0][0]      \n",
            "__________________________________________________________________________________________________\n",
            "batch_normalization_3 (BatchNor (None, 64, 64, 70)   280         conv2d_3[0][0]                   \n",
            "__________________________________________________________________________________________________\n",
            "max_pooling2d_1 (MaxPooling2D)  (None, 32, 32, 70)   0           batch_normalization_3[0][0]      \n",
            "__________________________________________________________________________________________________\n",
            "conv2d_4 (Conv2D)               (None, 32, 32, 77)   48587       max_pooling2d_1[0][0]            \n",
            "__________________________________________________________________________________________________\n",
            "batch_normalization_4 (BatchNor (None, 32, 32, 77)   308         conv2d_4[0][0]                   \n",
            "__________________________________________________________________________________________________\n",
            "conv2d_5 (Conv2D)               (None, 32, 32, 77)   53438       batch_normalization_4[0][0]      \n",
            "__________________________________________________________________________________________________\n",
            "batch_normalization_5 (BatchNor (None, 32, 32, 77)   308         conv2d_5[0][0]                   \n",
            "__________________________________________________________________________________________________\n",
            "max_pooling2d_2 (MaxPooling2D)  (None, 16, 16, 77)   0           batch_normalization_5[0][0]      \n",
            "__________________________________________________________________________________________________\n",
            "conv2d_6 (Conv2D)               (None, 16, 16, 84)   58296       max_pooling2d_2[0][0]            \n",
            "__________________________________________________________________________________________________\n",
            "batch_normalization_6 (BatchNor (None, 16, 16, 84)   336         conv2d_6[0][0]                   \n",
            "__________________________________________________________________________________________________\n",
            "conv2d_7 (Conv2D)               (None, 16, 16, 84)   63588       batch_normalization_6[0][0]      \n",
            "__________________________________________________________________________________________________\n",
            "batch_normalization_7 (BatchNor (None, 16, 16, 84)   336         conv2d_7[0][0]                   \n",
            "__________________________________________________________________________________________________\n",
            "max_pooling2d_3 (MaxPooling2D)  (None, 8, 8, 84)     0           batch_normalization_7[0][0]      \n",
            "__________________________________________________________________________________________________\n",
            "conv2d_8 (Conv2D)               (None, 8, 8, 92)     69644       max_pooling2d_3[0][0]            \n",
            "__________________________________________________________________________________________________\n",
            "batch_normalization_8 (BatchNor (None, 8, 8, 92)     368         conv2d_8[0][0]                   \n",
            "__________________________________________________________________________________________________\n",
            "conv2d_9 (Conv2D)               (None, 8, 8, 92)     76268       batch_normalization_8[0][0]      \n",
            "__________________________________________________________________________________________________\n",
            "batch_normalization_9 (BatchNor (None, 8, 8, 92)     368         conv2d_9[0][0]                   \n",
            "__________________________________________________________________________________________________\n",
            "max_pooling2d_4 (MaxPooling2D)  (None, 4, 4, 92)     0           batch_normalization_9[0][0]      \n",
            "__________________________________________________________________________________________________\n",
            "conv2d_10 (Conv2D)              (None, 4, 4, 101)    83729       max_pooling2d_4[0][0]            \n",
            "__________________________________________________________________________________________________\n",
            "batch_normalization_10 (BatchNo (None, 4, 4, 101)    404         conv2d_10[0][0]                  \n",
            "__________________________________________________________________________________________________\n",
            "conv2d_11 (Conv2D)              (None, 4, 4, 101)    91910       batch_normalization_10[0][0]     \n",
            "__________________________________________________________________________________________________\n",
            "batch_normalization_11 (BatchNo (None, 4, 4, 101)    404         conv2d_11[0][0]                  \n",
            "__________________________________________________________________________________________________\n",
            "max_pooling2d_5 (MaxPooling2D)  (None, 2, 2, 101)    0           batch_normalization_11[0][0]     \n",
            "__________________________________________________________________________________________________\n",
            "conv2d_12 (Conv2D)              (None, 2, 2, 111)    101010      max_pooling2d_5[0][0]            \n",
            "__________________________________________________________________________________________________\n",
            "batch_normalization_12 (BatchNo (None, 2, 2, 111)    444         conv2d_12[0][0]                  \n",
            "__________________________________________________________________________________________________\n",
            "dropout (Dropout)               (None, 2, 2, 111)    0           batch_normalization_12[0][0]     \n",
            "__________________________________________________________________________________________________\n",
            "conv2d_13 (Conv2D)              (None, 2, 2, 111)    111000      dropout[0][0]                    \n",
            "__________________________________________________________________________________________________\n",
            "batch_normalization_13 (BatchNo (None, 2, 2, 111)    444         conv2d_13[0][0]                  \n",
            "__________________________________________________________________________________________________\n",
            "conv2d_transpose (Conv2DTranspo (None, 4, 4, 101)    101000      batch_normalization_13[0][0]     \n",
            "__________________________________________________________________________________________________\n",
            "concatenate (Concatenate)       (None, 4, 4, 202)    0           batch_normalization_11[0][0]     \n",
            "                                                                 conv2d_transpose[0][0]           \n",
            "__________________________________________________________________________________________________\n",
            "conv2d_14 (Conv2D)              (None, 4, 4, 101)    183719      concatenate[0][0]                \n",
            "__________________________________________________________________________________________________\n",
            "batch_normalization_14 (BatchNo (None, 4, 4, 101)    404         conv2d_14[0][0]                  \n",
            "__________________________________________________________________________________________________\n",
            "conv2d_15 (Conv2D)              (None, 4, 4, 101)    91910       batch_normalization_14[0][0]     \n",
            "__________________________________________________________________________________________________\n",
            "batch_normalization_15 (BatchNo (None, 4, 4, 101)    404         conv2d_15[0][0]                  \n",
            "__________________________________________________________________________________________________\n",
            "conv2d_transpose_1 (Conv2DTrans (None, 8, 8, 92)     83720       batch_normalization_15[0][0]     \n",
            "__________________________________________________________________________________________________\n",
            "concatenate_1 (Concatenate)     (None, 8, 8, 184)    0           batch_normalization_9[0][0]      \n",
            "                                                                 conv2d_transpose_1[0][0]         \n",
            "__________________________________________________________________________________________________\n",
            "conv2d_16 (Conv2D)              (None, 8, 8, 92)     152444      concatenate_1[0][0]              \n",
            "__________________________________________________________________________________________________\n",
            "batch_normalization_16 (BatchNo (None, 8, 8, 92)     368         conv2d_16[0][0]                  \n",
            "__________________________________________________________________________________________________\n",
            "conv2d_17 (Conv2D)              (None, 8, 8, 92)     76268       batch_normalization_16[0][0]     \n",
            "__________________________________________________________________________________________________\n",
            "batch_normalization_17 (BatchNo (None, 8, 8, 92)     368         conv2d_17[0][0]                  \n",
            "__________________________________________________________________________________________________\n",
            "conv2d_transpose_2 (Conv2DTrans (None, 16, 16, 84)   69636       batch_normalization_17[0][0]     \n",
            "__________________________________________________________________________________________________\n",
            "concatenate_2 (Concatenate)     (None, 16, 16, 168)  0           batch_normalization_7[0][0]      \n",
            "                                                                 conv2d_transpose_2[0][0]         \n",
            "__________________________________________________________________________________________________\n",
            "conv2d_18 (Conv2D)              (None, 16, 16, 84)   127092      concatenate_2[0][0]              \n",
            "__________________________________________________________________________________________________\n",
            "batch_normalization_18 (BatchNo (None, 16, 16, 84)   336         conv2d_18[0][0]                  \n",
            "__________________________________________________________________________________________________\n",
            "conv2d_19 (Conv2D)              (None, 16, 16, 84)   63588       batch_normalization_18[0][0]     \n",
            "__________________________________________________________________________________________________\n",
            "batch_normalization_19 (BatchNo (None, 16, 16, 84)   336         conv2d_19[0][0]                  \n",
            "__________________________________________________________________________________________________\n",
            "conv2d_transpose_3 (Conv2DTrans (None, 32, 32, 77)   58289       batch_normalization_19[0][0]     \n",
            "__________________________________________________________________________________________________\n",
            "concatenate_3 (Concatenate)     (None, 32, 32, 154)  0           batch_normalization_5[0][0]      \n",
            "                                                                 conv2d_transpose_3[0][0]         \n",
            "__________________________________________________________________________________________________\n",
            "conv2d_20 (Conv2D)              (None, 32, 32, 77)   106799      concatenate_3[0][0]              \n",
            "__________________________________________________________________________________________________\n",
            "batch_normalization_20 (BatchNo (None, 32, 32, 77)   308         conv2d_20[0][0]                  \n",
            "__________________________________________________________________________________________________\n",
            "conv2d_21 (Conv2D)              (None, 32, 32, 77)   53438       batch_normalization_20[0][0]     \n",
            "__________________________________________________________________________________________________\n",
            "batch_normalization_21 (BatchNo (None, 32, 32, 77)   308         conv2d_21[0][0]                  \n",
            "__________________________________________________________________________________________________\n",
            "conv2d_transpose_4 (Conv2DTrans (None, 64, 64, 70)   48580       batch_normalization_21[0][0]     \n",
            "__________________________________________________________________________________________________\n",
            "concatenate_4 (Concatenate)     (None, 64, 64, 140)  0           batch_normalization_3[0][0]      \n",
            "                                                                 conv2d_transpose_4[0][0]         \n",
            "__________________________________________________________________________________________________\n",
            "conv2d_22 (Conv2D)              (None, 64, 64, 70)   88270       concatenate_4[0][0]              \n",
            "__________________________________________________________________________________________________\n",
            "batch_normalization_22 (BatchNo (None, 64, 64, 70)   280         conv2d_22[0][0]                  \n",
            "__________________________________________________________________________________________________\n",
            "conv2d_23 (Conv2D)              (None, 64, 64, 70)   44170       batch_normalization_22[0][0]     \n",
            "__________________________________________________________________________________________________\n",
            "batch_normalization_23 (BatchNo (None, 64, 64, 70)   280         conv2d_23[0][0]                  \n",
            "__________________________________________________________________________________________________\n",
            "conv2d_transpose_5 (Conv2DTrans (None, 128, 128, 64) 40384       batch_normalization_23[0][0]     \n",
            "__________________________________________________________________________________________________\n",
            "concatenate_5 (Concatenate)     (None, 128, 128, 128 0           batch_normalization_1[0][0]      \n",
            "                                                                 conv2d_transpose_5[0][0]         \n",
            "__________________________________________________________________________________________________\n",
            "conv2d_24 (Conv2D)              (None, 128, 128, 64) 73792       concatenate_5[0][0]              \n",
            "__________________________________________________________________________________________________\n",
            "batch_normalization_24 (BatchNo (None, 128, 128, 64) 256         conv2d_24[0][0]                  \n",
            "__________________________________________________________________________________________________\n",
            "conv2d_25 (Conv2D)              (None, 128, 128, 64) 36928       batch_normalization_24[0][0]     \n",
            "__________________________________________________________________________________________________\n",
            "batch_normalization_25 (BatchNo (None, 128, 128, 64) 256         conv2d_25[0][0]                  \n",
            "__________________________________________________________________________________________________\n",
            "conv2d_26 (Conv2D)              (None, 128, 128, 1)  65          batch_normalization_25[0][0]     \n",
            "==================================================================================================\n",
            "Total params: 2,389,538\n",
            "Trainable params: 2,385,190\n",
            "Non-trainable params: 4,348\n",
            "__________________________________________________________________________________________________\n"
          ],
          "name": "stdout"
        }
      ]
    },
    {
      "cell_type": "code",
      "metadata": {
        "id": "pghPxpH03FVN"
      },
      "source": [
        "# if(preload):\n",
        "#   model.load_weights(os.path.join('/content/gdrive/My Drive/Medical Image/cnn_term_paper/model1_cup_last_check_point.hdf5'))"
      ],
      "execution_count": null,
      "outputs": []
    },
    {
      "cell_type": "code",
      "metadata": {
        "id": "LsNQz_UP8SEM",
        "colab": {
          "base_uri": "https://localhost:8080/"
        },
        "outputId": "e0377a3c-d1cc-431e-a3e3-0cb30ca47a89"
      },
      "source": [
        "X_tests.shape"
      ],
      "execution_count": null,
      "outputs": [
        {
          "output_type": "execute_result",
          "data": {
            "text/plain": [
              "(2380, 128, 128, 3)"
            ]
          },
          "metadata": {
            "tags": []
          },
          "execution_count": 38
        }
      ]
    },
    {
      "cell_type": "code",
      "metadata": {
        "id": "lc99NWpsgmIr",
        "colab": {
          "base_uri": "https://localhost:8080/"
        },
        "outputId": "e74830d8-3e25-4f75-e986-885f8f6a2024"
      },
      "source": [
        "# Model Training Step \n",
        "\n",
        "if(train):\n",
        "  history = model.fit(\n",
        "    X_trains,Y_trains,\n",
        "    epochs=Epochs,\n",
        "    batch_size=128,\n",
        "    steps_per_epoch=35,\n",
        "    validation_data = (X_tests,Y_tests),\n",
        "    callbacks=[cp_callbacks,reduce_lr],\n",
        "    verbose=1\n",
        "  )\n",
        "\n",
        "# save the trained model weights\n",
        "model.save_weights(os.path.join('/content/gdrive/My Drive/Medical Image/cnn_term_paper/model1_cup_last_check_point.hdf5'), overwrite=True)"
      ],
      "execution_count": null,
      "outputs": [
        {
          "output_type": "stream",
          "text": [
            "Epoch 1/30\n",
            "WARNING:tensorflow:From /usr/local/lib/python3.6/dist-packages/tensorflow/python/data/ops/multi_device_iterator_ops.py:601: get_next_as_optional (from tensorflow.python.data.ops.iterator_ops) is deprecated and will be removed in a future version.\n",
            "Instructions for updating:\n",
            "Use `tf.data.Iterator.get_next_as_optional()` instead.\n"
          ],
          "name": "stdout"
        },
        {
          "output_type": "stream",
          "text": [
            "WARNING:tensorflow:From /usr/local/lib/python3.6/dist-packages/tensorflow/python/data/ops/multi_device_iterator_ops.py:601: get_next_as_optional (from tensorflow.python.data.ops.iterator_ops) is deprecated and will be removed in a future version.\n",
            "Instructions for updating:\n",
            "Use `tf.data.Iterator.get_next_as_optional()` instead.\n"
          ],
          "name": "stderr"
        },
        {
          "output_type": "stream",
          "text": [
            " 2/35 [>.............................] - ETA: 2s - loss: 1.1389 - dice_coef: 0.3409WARNING:tensorflow:Callbacks method `on_train_batch_end` is slow compared to the batch time (batch time: 0.0062s vs `on_train_batch_end` time: 0.1129s). Check your callbacks.\n"
          ],
          "name": "stdout"
        },
        {
          "output_type": "stream",
          "text": [
            "WARNING:tensorflow:Callbacks method `on_train_batch_end` is slow compared to the batch time (batch time: 0.0062s vs `on_train_batch_end` time: 0.1129s). Check your callbacks.\n"
          ],
          "name": "stderr"
        },
        {
          "output_type": "stream",
          "text": [
            "35/35 [==============================] - ETA: 0s - loss: 0.3620 - dice_coef: 0.7162WARNING:tensorflow:Callbacks method `on_test_batch_end` is slow compared to the batch time (batch time: 0.0033s vs `on_test_batch_end` time: 0.0356s). Check your callbacks.\n"
          ],
          "name": "stdout"
        },
        {
          "output_type": "stream",
          "text": [
            "WARNING:tensorflow:Callbacks method `on_test_batch_end` is slow compared to the batch time (batch time: 0.0033s vs `on_test_batch_end` time: 0.0356s). Check your callbacks.\n"
          ],
          "name": "stderr"
        },
        {
          "output_type": "stream",
          "text": [
            "\n",
            "Epoch 00001: val_loss improved from inf to 0.71306, saving model to /content/gdrive/My Drive/Medical Image/cnn_term_paper/last_check_point.hdf5\n",
            "35/35 [==============================] - 24s 695ms/step - loss: 0.3620 - dice_coef: 0.7162 - val_loss: 0.7131 - val_dice_coef: 0.4929\n",
            "Epoch 2/30\n",
            "35/35 [==============================] - ETA: 0s - loss: 0.1314 - dice_coef: 0.8778\n",
            "Epoch 00002: val_loss did not improve from 0.71306\n",
            "35/35 [==============================] - 23s 652ms/step - loss: 0.1314 - dice_coef: 0.8778 - val_loss: 1.0784 - val_dice_coef: 0.3427\n",
            "Epoch 3/30\n",
            "35/35 [==============================] - ETA: 0s - loss: 0.0824 - dice_coef: 0.9212\n",
            "Epoch 00003: val_loss did not improve from 0.71306\n",
            "35/35 [==============================] - 5s 151ms/step - loss: 0.0824 - dice_coef: 0.9212 - val_loss: 0.9341 - val_dice_coef: 0.3959\n",
            "Epoch 4/30\n",
            "35/35 [==============================] - ETA: 0s - loss: 0.0600 - dice_coef: 0.9417\n",
            "Epoch 00004: val_loss did not improve from 0.71306\n",
            "35/35 [==============================] - 5s 148ms/step - loss: 0.0600 - dice_coef: 0.9417 - val_loss: 1.2454 - val_dice_coef: 0.2918\n",
            "Epoch 5/30\n",
            "35/35 [==============================] - ETA: 0s - loss: 0.0440 - dice_coef: 0.9571\n",
            "Epoch 00005: val_loss did not improve from 0.71306\n",
            "35/35 [==============================] - 5s 148ms/step - loss: 0.0440 - dice_coef: 0.9571 - val_loss: 1.0697 - val_dice_coef: 0.3461\n",
            "Epoch 6/30\n",
            "35/35 [==============================] - ETA: 0s - loss: 0.0336 - dice_coef: 0.9671\n",
            "Epoch 00006: val_loss did not improve from 0.71306\n",
            "35/35 [==============================] - 5s 150ms/step - loss: 0.0336 - dice_coef: 0.9671 - val_loss: 0.7364 - val_dice_coef: 0.4826\n",
            "Epoch 7/30\n",
            "35/35 [==============================] - ETA: 0s - loss: 0.0253 - dice_coef: 0.9749\n",
            "Epoch 00007: val_loss improved from 0.71306 to 0.67326, saving model to /content/gdrive/My Drive/Medical Image/cnn_term_paper/last_check_point.hdf5\n",
            "35/35 [==============================] - 6s 179ms/step - loss: 0.0253 - dice_coef: 0.9749 - val_loss: 0.6733 - val_dice_coef: 0.5131\n",
            "Epoch 8/30\n",
            "35/35 [==============================] - ETA: 0s - loss: 0.0228 - dice_coef: 0.9774\n",
            "Epoch 00008: val_loss improved from 0.67326 to 0.56027, saving model to /content/gdrive/My Drive/Medical Image/cnn_term_paper/last_check_point.hdf5\n",
            "35/35 [==============================] - 6s 171ms/step - loss: 0.0228 - dice_coef: 0.9774 - val_loss: 0.5603 - val_dice_coef: 0.5732\n",
            "Epoch 9/30\n",
            "35/35 [==============================] - ETA: 0s - loss: 0.0194 - dice_coef: 0.9808\n",
            "Epoch 00009: val_loss improved from 0.56027 to 0.43748, saving model to /content/gdrive/My Drive/Medical Image/cnn_term_paper/last_check_point.hdf5\n",
            "35/35 [==============================] - 6s 172ms/step - loss: 0.0194 - dice_coef: 0.9808 - val_loss: 0.4375 - val_dice_coef: 0.6479\n",
            "Epoch 10/30\n",
            "35/35 [==============================] - ETA: 0s - loss: 0.0173 - dice_coef: 0.9828\n",
            "Epoch 00010: val_loss did not improve from 0.43748\n",
            "35/35 [==============================] - 5s 148ms/step - loss: 0.0173 - dice_coef: 0.9828 - val_loss: 0.4450 - val_dice_coef: 0.6439\n",
            "Epoch 11/30\n",
            "35/35 [==============================] - ETA: 0s - loss: 0.0159 - dice_coef: 0.9842\n",
            "Epoch 00011: val_loss improved from 0.43748 to 0.31059, saving model to /content/gdrive/My Drive/Medical Image/cnn_term_paper/last_check_point.hdf5\n",
            "35/35 [==============================] - 6s 176ms/step - loss: 0.0159 - dice_coef: 0.9842 - val_loss: 0.3106 - val_dice_coef: 0.7346\n",
            "Epoch 12/30\n",
            "35/35 [==============================] - ETA: 0s - loss: 0.0166 - dice_coef: 0.9835\n",
            "Epoch 00012: val_loss did not improve from 0.31059\n",
            "35/35 [==============================] - 5s 148ms/step - loss: 0.0166 - dice_coef: 0.9835 - val_loss: 0.3405 - val_dice_coef: 0.7148\n",
            "Epoch 13/30\n",
            "35/35 [==============================] - ETA: 0s - loss: 0.0167 - dice_coef: 0.9834\n",
            "Epoch 00013: val_loss improved from 0.31059 to 0.28180, saving model to /content/gdrive/My Drive/Medical Image/cnn_term_paper/last_check_point.hdf5\n",
            "35/35 [==============================] - 6s 179ms/step - loss: 0.0167 - dice_coef: 0.9834 - val_loss: 0.2818 - val_dice_coef: 0.7565\n",
            "Epoch 14/30\n",
            "35/35 [==============================] - ETA: 0s - loss: 0.0141 - dice_coef: 0.9860\n",
            "Epoch 00014: val_loss improved from 0.28180 to 0.26500, saving model to /content/gdrive/My Drive/Medical Image/cnn_term_paper/last_check_point.hdf5\n",
            "35/35 [==============================] - 6s 171ms/step - loss: 0.0141 - dice_coef: 0.9860 - val_loss: 0.2650 - val_dice_coef: 0.7691\n",
            "Epoch 15/30\n",
            "35/35 [==============================] - ETA: 0s - loss: 0.0131 - dice_coef: 0.9870\n",
            "Epoch 00015: val_loss improved from 0.26500 to 0.22329, saving model to /content/gdrive/My Drive/Medical Image/cnn_term_paper/last_check_point.hdf5\n",
            "35/35 [==============================] - 6s 174ms/step - loss: 0.0131 - dice_coef: 0.9870 - val_loss: 0.2233 - val_dice_coef: 0.8009\n",
            "Epoch 16/30\n",
            "35/35 [==============================] - ETA: 0s - loss: 0.0128 - dice_coef: 0.9873\n",
            "Epoch 00016: val_loss did not improve from 0.22329\n",
            "35/35 [==============================] - 5s 149ms/step - loss: 0.0128 - dice_coef: 0.9873 - val_loss: 0.2868 - val_dice_coef: 0.7535\n",
            "Epoch 17/30\n",
            "35/35 [==============================] - ETA: 0s - loss: 0.0142 - dice_coef: 0.9859\n",
            "Epoch 00017: val_loss did not improve from 0.22329\n",
            "35/35 [==============================] - 5s 149ms/step - loss: 0.0142 - dice_coef: 0.9859 - val_loss: 0.3316 - val_dice_coef: 0.7221\n",
            "Epoch 18/30\n",
            "35/35 [==============================] - ETA: 0s - loss: 0.0129 - dice_coef: 0.9872\n",
            "Epoch 00018: val_loss did not improve from 0.22329\n",
            "35/35 [==============================] - 5s 152ms/step - loss: 0.0129 - dice_coef: 0.9872 - val_loss: 0.3240 - val_dice_coef: 0.7273\n",
            "Epoch 19/30\n",
            "35/35 [==============================] - ETA: 0s - loss: 0.0114 - dice_coef: 0.9887\n",
            "Epoch 00019: val_loss did not improve from 0.22329\n",
            "35/35 [==============================] - 5s 150ms/step - loss: 0.0114 - dice_coef: 0.9887 - val_loss: 0.2977 - val_dice_coef: 0.7456\n",
            "Epoch 20/30\n",
            "35/35 [==============================] - ETA: 0s - loss: 0.0113 - dice_coef: 0.9888\n",
            "Epoch 00020: val_loss did not improve from 0.22329\n",
            "35/35 [==============================] - 5s 154ms/step - loss: 0.0113 - dice_coef: 0.9888 - val_loss: 0.2970 - val_dice_coef: 0.7463\n",
            "Epoch 21/30\n",
            "35/35 [==============================] - ETA: 0s - loss: 0.0104 - dice_coef: 0.9896\n",
            "Epoch 00021: val_loss did not improve from 0.22329\n",
            "35/35 [==============================] - 5s 148ms/step - loss: 0.0104 - dice_coef: 0.9896 - val_loss: 0.3587 - val_dice_coef: 0.7040\n",
            "Epoch 22/30\n",
            "35/35 [==============================] - ETA: 0s - loss: 0.0103 - dice_coef: 0.9896\n",
            "Epoch 00022: val_loss did not improve from 0.22329\n",
            "35/35 [==============================] - 5s 149ms/step - loss: 0.0103 - dice_coef: 0.9896 - val_loss: 0.3380 - val_dice_coef: 0.7177\n",
            "Epoch 23/30\n",
            "35/35 [==============================] - ETA: 0s - loss: 0.0106 - dice_coef: 0.9895\n",
            "Epoch 00023: val_loss did not improve from 0.22329\n",
            "35/35 [==============================] - 5s 155ms/step - loss: 0.0106 - dice_coef: 0.9895 - val_loss: 0.3304 - val_dice_coef: 0.7229\n",
            "Epoch 24/30\n",
            "35/35 [==============================] - ETA: 0s - loss: 0.0102 - dice_coef: 0.9898\n",
            "Epoch 00024: val_loss did not improve from 0.22329\n",
            "35/35 [==============================] - 5s 155ms/step - loss: 0.0102 - dice_coef: 0.9898 - val_loss: 0.3702 - val_dice_coef: 0.6962\n",
            "Epoch 25/30\n",
            "35/35 [==============================] - ETA: 0s - loss: 0.0097 - dice_coef: 0.9903\n",
            "Epoch 00025: val_loss did not improve from 0.22329\n",
            "35/35 [==============================] - 5s 150ms/step - loss: 0.0097 - dice_coef: 0.9903 - val_loss: 0.3524 - val_dice_coef: 0.7082\n",
            "Epoch 26/30\n",
            "35/35 [==============================] - ETA: 0s - loss: 0.0092 - dice_coef: 0.9908\n",
            "Epoch 00026: val_loss did not improve from 0.22329\n",
            "35/35 [==============================] - 5s 150ms/step - loss: 0.0092 - dice_coef: 0.9908 - val_loss: 0.3265 - val_dice_coef: 0.7258\n",
            "Epoch 27/30\n",
            "35/35 [==============================] - ETA: 0s - loss: 0.0094 - dice_coef: 0.9906\n",
            "Epoch 00027: val_loss did not improve from 0.22329\n",
            "35/35 [==============================] - 5s 151ms/step - loss: 0.0094 - dice_coef: 0.9906 - val_loss: 0.2817 - val_dice_coef: 0.7572\n",
            "Epoch 28/30\n",
            "35/35 [==============================] - ETA: 0s - loss: 0.0093 - dice_coef: 0.9907\n",
            "Epoch 00028: val_loss improved from 0.22329 to 0.21483, saving model to /content/gdrive/My Drive/Medical Image/cnn_term_paper/last_check_point.hdf5\n",
            "35/35 [==============================] - 6s 180ms/step - loss: 0.0093 - dice_coef: 0.9907 - val_loss: 0.2148 - val_dice_coef: 0.8078\n",
            "Epoch 29/30\n",
            "35/35 [==============================] - ETA: 0s - loss: 0.0090 - dice_coef: 0.9911\n",
            "Epoch 00029: val_loss did not improve from 0.21483\n",
            "35/35 [==============================] - 5s 149ms/step - loss: 0.0090 - dice_coef: 0.9911 - val_loss: 0.2632 - val_dice_coef: 0.7710\n",
            "Epoch 30/30\n",
            "35/35 [==============================] - ETA: 0s - loss: 0.0091 - dice_coef: 0.9909\n",
            "Epoch 00030: val_loss improved from 0.21483 to 0.21017, saving model to /content/gdrive/My Drive/Medical Image/cnn_term_paper/last_check_point.hdf5\n",
            "35/35 [==============================] - 6s 179ms/step - loss: 0.0091 - dice_coef: 0.9909 - val_loss: 0.2102 - val_dice_coef: 0.8113\n"
          ],
          "name": "stdout"
        }
      ]
    },
    {
      "cell_type": "code",
      "metadata": {
        "id": "Vj6D5YnGJ-nq"
      },
      "source": [
        "# Load the pre trained model's weights\n",
        "\n",
        "if(train):\n",
        "  model.load_weights(os.path.join('/content/gdrive/My Drive/Medical Image/cnn_term_paper/model1_cup_last_check_point.hdf5'))"
      ],
      "execution_count": null,
      "outputs": []
    },
    {
      "cell_type": "code",
      "metadata": {
        "id": "Z12tlBDr9E8O",
        "colab": {
          "base_uri": "https://localhost:8080/"
        },
        "outputId": "f31e492d-c1c7-4242-ae76-ea91109a6ff6"
      },
      "source": [
        "# evaluate the model with the test data\n",
        "\n",
        "result = model.evaluate(X_tests[0:700,:,:,:],Y_tests[0:700,:,:,:])\n",
        "print(\"log dice loss for test set = \", result[0], ' ||| ',\"dice coeffecient (accuracy) for test set = \", result[1])"
      ],
      "execution_count": null,
      "outputs": [
        {
          "output_type": "stream",
          "text": [
            "\r 1/22 [>.............................] - ETA: 1:12 - loss: 3.2481 - dice_coef: 0.6483WARNING:tensorflow:Callbacks method `on_test_batch_end` is slow compared to the batch time (batch time: 0.0038s vs `on_test_batch_end` time: 0.0225s). Check your callbacks.\n"
          ],
          "name": "stdout"
        },
        {
          "output_type": "stream",
          "text": [
            "WARNING:tensorflow:Callbacks method `on_test_batch_end` is slow compared to the batch time (batch time: 0.0038s vs `on_test_batch_end` time: 0.0225s). Check your callbacks.\n"
          ],
          "name": "stderr"
        },
        {
          "output_type": "stream",
          "text": [
            "22/22 [==============================] - 4s 183ms/step - loss: 0.7736 - dice_coef: 0.7790\n",
            "log dice loss for test set =  0.7735503911972046  |||  dice coeffecient (accuracy) for test set =  0.7789580821990967\n"
          ],
          "name": "stdout"
        }
      ]
    },
    {
      "cell_type": "code",
      "metadata": {
        "id": "XNxqqB4RXVNF"
      },
      "source": [
        "# Visualise the change in accuracies and losses during training "
      ],
      "execution_count": null,
      "outputs": []
    },
    {
      "cell_type": "code",
      "metadata": {
        "id": "ta8svhOnN0s2",
        "colab": {
          "base_uri": "https://localhost:8080/",
          "height": 513
        },
        "outputId": "31f7d714-bae8-4a10-caf3-8d091e5c5973"
      },
      "source": [
        "# plot train and test log dice loss\n",
        "\n",
        "if(train):\n",
        "  loss = history.history['loss']\n",
        "  val_loss=history.history['val_loss']\n",
        "  acc=history.history['dice_coef']\n",
        "  epochs = range(1, len(loss) + 1)\n",
        "  plt.figure(figsize=(8, 8))\n",
        "  plt.plot(epochs, loss, 'r', label='Training loss')\n",
        "  plt.plot(epochs, val_loss, 'b', label='Test loss')\n",
        "  plt.title('Training and test loss')\n",
        "  plt.xlabel('Epochs')\n",
        "  plt.ylabel('Loss')\n",
        "  plt.legend()\n",
        "  plt.savefig(os.path.join('/content/gdrive/My Drive/Medical Image/cnn_term_paper','loss'+'model1_cup'+'.png'),dpi=600)"
      ],
      "execution_count": null,
      "outputs": [
        {
          "output_type": "display_data",
          "data": {
            "image/png": "[encoded data removed]",
            "text/plain": [
              "<Figure size 576x576 with 1 Axes>"
            ]
          },
          "metadata": {
            "tags": [],
            "needs_background": "light"
          }
        }
      ]
    },
    {
      "cell_type": "code",
      "metadata": {
        "id": "e7Edl_4DOET0",
        "colab": {
          "base_uri": "https://localhost:8080/",
          "height": 513
        },
        "outputId": "abd716d1-845b-4d88-fba8-22756319230b"
      },
      "source": [
        "# plot train and test dice coeffecient (accuracy)\n",
        "if(train):\n",
        "  loss = history.history['loss']\n",
        "  acc=history.history['dice_coef']\n",
        "  val_acc=history.history['val_dice_coef']\n",
        "  epochs = range(1, len(acc) + 1)\n",
        "  plt.figure(figsize=(8, 8))\n",
        "  plt.plot(epochs, acc, 'r', label='Dice')\n",
        "  plt.plot(epochs, val_acc, 'b', label='Test dice')\n",
        "  plt.title('Training and test Dice')\n",
        "  plt.xlabel('Epochs')\n",
        "  plt.ylabel('Acc')\n",
        "  plt.legend()\n",
        "  plt.savefig(os.path.join('/content/gdrive/My Drive/Medical Image/cnn_term_paper','hist'+'model1_cup'+'.png'),dpi=600)"
      ],
      "execution_count": null,
      "outputs": [
        {
          "output_type": "display_data",
          "data": {
            "image/png": "[encoded data removed]",
            "text/plain": [
              "<Figure size 576x576 with 1 Axes>"
            ]
          },
          "metadata": {
            "tags": [],
            "needs_background": "light"
          }
        }
      ]
    },
    {
      "cell_type": "markdown",
      "metadata": {
        "id": "KqzTU_uoOICD"
      },
      "source": [
        "### We will Visualise how our algorithm performs on our Combined test set"
      ]
    },
    {
      "cell_type": "code",
      "metadata": {
        "id": "hglC8YtD0Qd3",
        "colab": {
          "base_uri": "https://localhost:8080/"
        },
        "outputId": "565fe48e-b3db-40d3-bbd0-be27524bab95"
      },
      "source": [
        "test_s=int(X_testc.shape[0])\n",
        "test_s=test_s-test_s%8\n",
        "test_s"
      ],
      "execution_count": null,
      "outputs": [
        {
          "output_type": "execute_result",
          "data": {
            "text/plain": [
              "112"
            ]
          },
          "metadata": {
            "tags": []
          },
          "execution_count": 45
        }
      ]
    },
    {
      "cell_type": "code",
      "metadata": {
        "id": "MTsLU6aHfH6r"
      },
      "source": [
        "# Defining metrics again\n",
        "\n",
        "smooth=1e-07\n",
        "def np_dice_coef(y_true, y_pred):\n",
        "    y_true_f = y_true.flatten()\n",
        "    y_pred_f = y_pred.flatten()\n",
        "    intersection = np.sum(y_true_f * y_pred_f)\n",
        "    return ( (2. * intersection + smooth) / \n",
        "             (np.sum(y_true_f) + np.sum(y_pred_f) + smooth) )\n",
        "    \n",
        "def np_iou(y_true, y_pred):\n",
        "    y_true_f = y_true.flatten()\n",
        "    y_pred_f = y_pred.flatten()\n",
        "    intersection = np.sum(y_true_f * y_pred_f)\n",
        "    return ( ( intersection + smooth) / \n",
        "             (np.sum(y_true_f) + np.sum(y_pred_f) - intersection + smooth) )   "
      ],
      "execution_count": null,
      "outputs": []
    },
    {
      "cell_type": "code",
      "metadata": {
        "id": "jITi6M5if30f"
      },
      "source": [
        "# importing helper libraries for visualisation part\n",
        "\n",
        "from skimage.morphology import dilation\n",
        "from skimage.feature import canny\n",
        "from skimage import color"
      ],
      "execution_count": null,
      "outputs": []
    },
    {
      "cell_type": "code",
      "metadata": {
        "id": "C-MAss7tr_-h",
        "colab": {
          "base_uri": "https://localhost:8080/",
          "height": 621,
          "referenced_widgets": [
            "8b8bd1556f214f8a91ff82cbe494afce",
            "35f18b2299af4abc9945219e8acef5e7",
            "476b3436b1c24e82903005898cd9e2ee",
            "040d9b2a35e2484fb5d8c0eba7ab95db",
            "820354a946fc42909af1396c3f7d12b6",
            "c81766a827fa459bb4e1daa85d5f2076",
            "382cdb65f5ab4613921b1b760724e734",
            "fec1bb894a8f4480aba3cd6358980d82"
          ]
        },
        "outputId": "728ca60c-bf52-4192-e800-50e43220b729"
      },
      "source": [
        "%%time\n",
        "pred_dice=np.empty((test_s), dtype=np.float32)\n",
        "pred_iou=np.empty((test_s), dtype=np.float32)\n",
        "\n",
        "batch_X = X_testc[0:test_s]\n",
        "batch_y = Y_testc[0:test_s]\n",
        "print (batch_X.shape)\n",
        "    \n",
        "predv = (model.predict(batch_X,batch_size=test_s)[...,0]>0.5).astype(np.float32)\n",
        "corrv= (batch_y)[ ..., 0].astype(np.float32)\n",
        "predv1=predv.copy()\n",
        "\n",
        "\n",
        "for i in tqdm_notebook(range(predv.shape[0])):\n",
        "    img = X_test[i]\n",
        "    pred = predv[i]\n",
        "    corr = corrv[i]\n",
        "    label_pc = skimage.measure.label(pred, connectivity=pred.ndim)\n",
        "    props_pc = skimage.measure.regionprops(label_pc)\n",
        "    sz=len(props_pc)\n",
        "    if(sz)!=0:\n",
        "      areap=[props_pc[i].area for i in range(sz)]\n",
        "      k=np.argmax(areap)\n",
        "      predv1[i]=np.equal(label_pc,k+1).astype(int).astype(np.float32)\n",
        "    pred1= predv1[i]\n",
        "    cur_dice = np_dice_coef(pred1, corr)\n",
        "    cur_iou = np_iou(pred1,corr)\n",
        "    pred_dice[i]=(cur_dice)\n",
        "    pred_iou[i]=cur_iou\n",
        "    \n",
        "    \n",
        "d_worst=np.amin(pred_dice)\n",
        "d_best=np.amax(pred_dice)\n",
        "d_mean=np.mean(pred_dice)\n",
        "d_std=np.std(pred_dice)\n",
        "print(\"Dice mean=\",d_mean, \" Std=\",d_std, \" best=\",d_best,\" worst=\",d_worst)\n",
        "\n",
        "i_worst=np.amin(pred_iou)\n",
        "i_best=np.amax(pred_iou)\n",
        "i_mean=np.mean(pred_iou)\n",
        "i_std=np.std(pred_iou)\n",
        "print(\"IOU mean=\",i_mean, \" Std=\",i_std, \" best=\",i_best,\" worst=\",i_worst)\n",
        "\n",
        "ix_best=np.argmax(pred_dice)\n",
        "ix_worst=np.argmin(pred_dice)\n",
        "\n",
        "j=0\n",
        "for i in [ix_best,ix_worst]:\n",
        "    print('image #{}'.format(i))\n",
        "    img = X_test[i]\n",
        "    pred1 = predv1[i]\n",
        "    corr = corrv[i]\n",
        "    print(pred_dice[i])\n",
        "    fig = plt.figure(figsize=(9, 4))\n",
        "    ax = fig.add_subplot(1, 3, 1)\n",
        "    edgesp = canny(pred1)\n",
        "    edgesp=1.0-dilation(edgesp)\n",
        "    edgesp = color.gray2rgb(1.0*edgesp)\n",
        "    ax.imshow(img*edgesp)\n",
        "    ax.set_title('Predicted')\n",
        "    ax = fig.add_subplot(1, 3, 2)\n",
        "    edgesc = canny(corr)\n",
        "    edgesc=1.0-dilation(edgesc)\n",
        "    edgesc = color.gray2rgb(1.0*edgesc)\n",
        "    ax.imshow(img*edgesc)\n",
        "    ax.set_title('Correct')\n",
        "    ax = fig.add_subplot(1, 3, 3)\n",
        "    ax.imshow(img)\n",
        "    ax.set_title('Image')\n",
        "    fig.savefig(os.path.join('/content/gdrive/My Drive/Medical Image/cnn_term_paper','img_test_set'+str(j)+'model1_cup'+'.png'),dpi=600)\n",
        "    j+=1"
      ],
      "execution_count": null,
      "outputs": [
        {
          "output_type": "stream",
          "text": [
            "(112, 128, 128, 3)\n"
          ],
          "name": "stdout"
        },
        {
          "output_type": "display_data",
          "data": {
            "application/vnd.jupyter.widget-view+json": {
              "model_id": "8b8bd1556f214f8a91ff82cbe494afce",
              "version_minor": 0,
              "version_major": 2
            },
            "text/plain": [
              "HBox(children=(FloatProgress(value=0.0, max=112.0), HTML(value='')))"
            ]
          },
          "metadata": {
            "tags": []
          }
        },
        {
          "output_type": "stream",
          "text": [
            "\n",
            "Dice mean= 0.84788764  Std= 0.09471012  best= 0.97775126  worst= 0.48906642\n",
            "IOU mean= 0.74676996  Std= 0.13264243  best= 0.95647097  worst= 0.32368493\n",
            "image #76\n",
            "0.97775126\n",
            "image #70\n",
            "0.48906642\n",
            "CPU times: user 6.51 s, sys: 96.3 ms, total: 6.6 s\n",
            "Wall time: 12.1 s\n"
          ],
          "name": "stdout"
        },
        {
          "output_type": "display_data",
          "data": {
            "image/png": "[encoded data removed]",
            "text/plain": [
              "<Figure size 648x288 with 3 Axes>"
            ]
          },
          "metadata": {
            "tags": [],
            "needs_background": "light"
          }
        },
        {
          "output_type": "display_data",
          "data": {
            "image/png": "[encoded data removed]",
            "text/plain": [
              "<Figure size 648x288 with 3 Axes>"
            ]
          },
          "metadata": {
            "tags": [],
            "needs_background": "light"
          }
        }
      ]
    },
    {
      "cell_type": "markdown",
      "metadata": {
        "id": "ntk_NOsz8ST5"
      },
      "source": [
        "\n",
        "\n",
        "### Visualise our segmentation algorithm performs on RIM ONE dataset"
      ]
    },
    {
      "cell_type": "code",
      "metadata": {
        "id": "9WJGAme4KlzH",
        "colab": {
          "base_uri": "https://localhost:8080/"
        },
        "outputId": "9ed52cf5-1733-4c45-dfe8-cfb1e81a9480"
      },
      "source": [
        "test_s=int(X_test_rim.shape[0])\n",
        "test_s"
      ],
      "execution_count": null,
      "outputs": [
        {
          "output_type": "execute_result",
          "data": {
            "text/plain": [
              "40"
            ]
          },
          "metadata": {
            "tags": []
          },
          "execution_count": 49
        }
      ]
    },
    {
      "cell_type": "code",
      "metadata": {
        "id": "CpCoo2imkL5O",
        "colab": {
          "base_uri": "https://localhost:8080/",
          "height": 585,
          "referenced_widgets": [
            "3f24c3ae52af42b9bfc73d398c3fab9e",
            "33c8d2206f4b43dda6aa7ac2df6bb1ef",
            "b64ba000c9134289b18465010fb07be6",
            "34337b52f8e644839c5d5fbe05604fd9",
            "bc9343e820cf431280952573407ed656",
            "b462108f716b445f8256baa9dd7fbb9a",
            "4d0de85bc171494abfaa8f57508a3d3c",
            "02882af38af740e38b91cfd72864eb96"
          ]
        },
        "outputId": "d487c7eb-1193-4724-c2af-0ce09fc5cce6"
      },
      "source": [
        "\n",
        "pred_dice=np.empty((test_s), dtype=np.float32)\n",
        "pred_iou=np.empty((test_s), dtype=np.float32)\n",
        "\n",
        "batch_X = X_test_rim[0:test_s]\n",
        "batch_y = Y_test_rim[0:test_s]\n",
        "print (batch_X.shape)\n",
        "    \n",
        "predv = (model.predict(batch_X,batch_size=test_s)[...,0]>0.5).astype(np.float32)\n",
        "corrv= (batch_y)[ ..., 0].astype(np.float32)\n",
        "predv1=predv.copy()\n",
        "\n",
        "for i in tqdm_notebook(range(predv.shape[0])):\n",
        "    img = X_test_rim[i]\n",
        "    pred = predv[i]\n",
        "    corr = corrv[i]\n",
        "    label_pc = skimage.measure.label(pred, connectivity=pred.ndim)\n",
        "    props_pc = skimage.measure.regionprops(label_pc)\n",
        "    sz=len(props_pc)\n",
        "    if(sz)!=0:\n",
        "      areap=[props_pc[i].area for i in range(sz)]\n",
        "      k=np.argmax(areap)\n",
        "      predv1[i]=np.equal(label_pc,k+1).astype(int).astype(np.float32)\n",
        "    pred1= predv1[i]\n",
        "    cur_dice = np_dice_coef(pred1, corr)\n",
        "    cur_iou = np_iou(pred1,corr)\n",
        "    pred_dice[i]=(cur_dice)\n",
        "    pred_iou[i]=cur_iou\n",
        "    \n",
        "    \n",
        "d_worst=np.amin(pred_dice)\n",
        "d_best=np.amax(pred_dice)\n",
        "d_mean=np.mean(pred_dice)\n",
        "d_std=np.std(pred_dice)\n",
        "print(\"Dice mean=\",d_mean, \" Std=\",d_std, \" best=\",d_best,\" worst=\",d_worst)\n",
        "\n",
        "i_worst=np.amin(pred_iou)\n",
        "i_best=np.amax(pred_iou)\n",
        "i_mean=np.mean(pred_iou)\n",
        "i_std=np.std(pred_iou)\n",
        "print(\"IOU mean=\",i_mean, \" Std=\",i_std, \" best=\",i_best,\" worst=\",i_worst)\n",
        "\n",
        "ix_best=np.argmax(pred_dice)\n",
        "ix_worst=np.argmin(pred_dice)\n",
        "\n",
        "j=0\n",
        "for i in [ix_best,ix_worst]:\n",
        "    print('image #{}'.format(i))\n",
        "    img = X_test_rim[i]\n",
        "    pred = predv1[i]\n",
        "    corr = corrv[i]\n",
        "    print(pred_dice[i])\n",
        "    fig = plt.figure(figsize=(9, 4))\n",
        "    ax = fig.add_subplot(1, 3, 1)\n",
        "    edgesp = canny(pred)\n",
        "    edgesp=1.0-dilation(edgesp)\n",
        "    edgesp = color.gray2rgb(1.0*edgesp)\n",
        "    ax.imshow(img*edgesp)\n",
        "    ax.set_title('Predicted')\n",
        "    ax = fig.add_subplot(1, 3, 2)\n",
        "    edgesc = canny(corr)\n",
        "    edgesc=1.0-dilation(edgesc)\n",
        "    edgesc = color.gray2rgb(1.0*edgesc)\n",
        "    ax.imshow(img*edgesc)\n",
        "    ax.set_title('Correct')\n",
        "    ax = fig.add_subplot(1, 3, 3)\n",
        "    ax.imshow(img)\n",
        "    ax.set_title('Image')\n",
        "    fig.savefig(os.path.join('/content/gdrive/My Drive/Medical Image/cnn_term_paper','img_rim_one'+str(j)+'model1_cup'+'.png'),dpi=600)\n",
        "    j+=1"
      ],
      "execution_count": null,
      "outputs": [
        {
          "output_type": "stream",
          "text": [
            "(40, 128, 128, 3)\n"
          ],
          "name": "stdout"
        },
        {
          "output_type": "display_data",
          "data": {
            "application/vnd.jupyter.widget-view+json": {
              "model_id": "3f24c3ae52af42b9bfc73d398c3fab9e",
              "version_minor": 0,
              "version_major": 2
            },
            "text/plain": [
              "HBox(children=(FloatProgress(value=0.0, max=40.0), HTML(value='')))"
            ]
          },
          "metadata": {
            "tags": []
          }
        },
        {
          "output_type": "stream",
          "text": [
            "\n",
            "Dice mean= 0.8241146  Std= 0.100919105  best= 0.977521  worst= 0.48906642\n",
            "IOU mean= 0.71260643  Std= 0.13796121  best= 0.9560304  worst= 0.32368493\n",
            "image #37\n",
            "0.977521\n",
            "image #31\n",
            "0.48906642\n"
          ],
          "name": "stdout"
        },
        {
          "output_type": "display_data",
          "data": {
            "image/png": "[encoded data removed]",
            "text/plain": [
              "<Figure size 648x288 with 3 Axes>"
            ]
          },
          "metadata": {
            "tags": [],
            "needs_background": "light"
          }
        },
        {
          "output_type": "display_data",
          "data": {
            "image/png": "[encoded data removed]",
            "text/plain": [
              "<Figure size 648x288 with 3 Axes>"
            ]
          },
          "metadata": {
            "tags": [],
            "needs_background": "light"
          }
        }
      ]
    },
    {
      "cell_type": "markdown",
      "metadata": {
        "id": "sM3CRUAQPu9V"
      },
      "source": [
        "### Visualise our segmentation algorithm performs on DRISHTI dataset"
      ]
    },
    {
      "cell_type": "code",
      "metadata": {
        "id": "UR6jHFF-QAsM",
        "colab": {
          "base_uri": "https://localhost:8080/"
        },
        "outputId": "7eafae0e-d4cb-4507-b834-a2b1ba8274f6"
      },
      "source": [
        "test_s=int(X_test_dri.shape[0])\n",
        "test_s"
      ],
      "execution_count": null,
      "outputs": [
        {
          "output_type": "execute_result",
          "data": {
            "text/plain": [
              "13"
            ]
          },
          "metadata": {
            "tags": []
          },
          "execution_count": 51
        }
      ]
    },
    {
      "cell_type": "code",
      "metadata": {
        "id": "ziRcdDQBkWzf",
        "colab": {
          "base_uri": "https://localhost:8080/",
          "height": 585,
          "referenced_widgets": [
            "11db5a89c9904f0eb4a1d65d204a1a93",
            "09446d9fe6864c778ae84f0b306f896f",
            "0deee4e46bf441f9868d5dd3deb80469",
            "6f15c82de98a417f878e876b1512683f",
            "1d5dba232bfb4174a90b4902f069e9be",
            "fb1f6821d40b4bbda903aef165665f6e",
            "36f137f8a13a4da3a577a8b594d43bfe",
            "5b4896f3e9ad4bc08f70fe80a0c1c844"
          ]
        },
        "outputId": "ad7133c5-6f9e-41df-c1e9-2a06463613af"
      },
      "source": [
        "#%%time\n",
        "pred_dice=np.empty((test_s), dtype=np.float32)\n",
        "pred_iou=np.empty((test_s), dtype=np.float32)\n",
        "\n",
        "batch_X = X_test_dri[0:test_s]\n",
        "batch_y = Y_test_dri[0:test_s]\n",
        "print (batch_X.shape)\n",
        "    \n",
        "predv = (model.predict(batch_X,batch_size=test_s)[...,0]>0.5).astype(np.float32)\n",
        "corrv= (batch_y)[ ..., 0].astype(np.float32)\n",
        "predv1=predv.copy()\n",
        "\n",
        "for i in tqdm_notebook(range(predv.shape[0])):\n",
        "    img = X_test_dri[i]\n",
        "    pred = predv[i]\n",
        "    corr = corrv[i]\n",
        "    label_pc = skimage.measure.label(pred, connectivity=pred.ndim)\n",
        "    props_pc = skimage.measure.regionprops(label_pc)\n",
        "    sz=len(props_pc)\n",
        "    if(sz)!=0:\n",
        "      areap=[props_pc[i].area for i in range(sz)]\n",
        "      k=np.argmax(areap)\n",
        "      predv1[i]=np.equal(label_pc,k+1).astype(int).astype(np.float32)\n",
        "    pred1= predv1[i]\n",
        "    cur_dice = np_dice_coef(pred1, corr)\n",
        "    cur_iou = np_iou(pred1,corr)\n",
        "    pred_dice[i]=(cur_dice)\n",
        "    pred_iou[i]=cur_iou\n",
        "    \n",
        "    \n",
        "d_worst=np.amin(pred_dice)\n",
        "d_best=np.amax(pred_dice)\n",
        "d_mean=np.mean(pred_dice)\n",
        "d_std=np.std(pred_dice)\n",
        "print(\"Dice mean=\",d_mean, \" Std=\",d_std, \" best=\",d_best,\" worst=\",d_worst)\n",
        "\n",
        "i_worst=np.amin(pred_iou)\n",
        "i_best=np.amax(pred_iou)\n",
        "i_mean=np.mean(pred_iou)\n",
        "i_std=np.std(pred_iou)\n",
        "print(\"IOU mean=\",i_mean, \" Std=\",i_std, \" best=\",i_best,\" worst=\",i_worst)\n",
        "\n",
        "ix_best=np.argmax(pred_dice)\n",
        "ix_worst=np.argmin(pred_dice)\n",
        "\n",
        "j=0\n",
        "for i in [ix_best,ix_worst]:\n",
        "    print('image #{}'.format(i))\n",
        "    img = X_test_dri[i]\n",
        "    pred = predv1[i]\n",
        "    corr = corrv[i]\n",
        "    print(pred_dice[i])\n",
        "    fig = plt.figure(figsize=(9, 4))\n",
        "    ax = fig.add_subplot(1, 3, 1)\n",
        "    edgesp = canny(pred)\n",
        "    edgesp=1.0-dilation(edgesp)\n",
        "    edgesp = color.gray2rgb(1.0*edgesp)\n",
        "    ax.imshow(img*edgesp)\n",
        "    ax.set_title('Predicted')\n",
        "    ax = fig.add_subplot(1, 3, 2)\n",
        "    edgesc = canny(corr)\n",
        "    edgesc=1.0-dilation(edgesc)\n",
        "    edgesc = color.gray2rgb(1.0*edgesc)\n",
        "    ax.imshow(img*edgesc)\n",
        "    ax.set_title('Correct')\n",
        "    ax = fig.add_subplot(1, 3, 3)\n",
        "    ax.imshow(img)\n",
        "    ax.set_title('Image')\n",
        "    fig.savefig(os.path.join('/content/gdrive/My Drive/Medical Image/cnn_term_paper','img_drishti'+str(j)+'model1_cup'+'.png'),dpi=600)\n",
        "    j+=1"
      ],
      "execution_count": null,
      "outputs": [
        {
          "output_type": "stream",
          "text": [
            "(13, 128, 128, 3)\n"
          ],
          "name": "stdout"
        },
        {
          "output_type": "display_data",
          "data": {
            "application/vnd.jupyter.widget-view+json": {
              "model_id": "11db5a89c9904f0eb4a1d65d204a1a93",
              "version_minor": 0,
              "version_major": 2
            },
            "text/plain": [
              "HBox(children=(FloatProgress(value=0.0, max=13.0), HTML(value='')))"
            ]
          },
          "metadata": {
            "tags": []
          }
        },
        {
          "output_type": "stream",
          "text": [
            "\n",
            "Dice mean= 0.89671296  Std= 0.056405924  best= 0.9680246  worst= 0.8019354\n",
            "IOU mean= 0.81743157  Std= 0.09135907  best= 0.9380307  worst= 0.669359\n",
            "image #11\n",
            "0.9680246\n",
            "image #7\n",
            "0.8019354\n"
          ],
          "name": "stdout"
        },
        {
          "output_type": "display_data",
          "data": {
            "image/png": "[encoded data removed]",
            "text/plain": [
              "<Figure size 648x288 with 3 Axes>"
            ]
          },
          "metadata": {
            "tags": [],
            "needs_background": "light"
          }
        },
        {
          "output_type": "display_data",
          "data": {
            "image/png": "[encoded data removed]",
            "text/plain": [
              "<Figure size 648x288 with 3 Axes>"
            ]
          },
          "metadata": {
            "tags": [],
            "needs_background": "light"
          }
        }
      ]
    }
  ]
}