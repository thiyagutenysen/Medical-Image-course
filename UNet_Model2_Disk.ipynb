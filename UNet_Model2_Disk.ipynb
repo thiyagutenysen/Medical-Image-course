{
  "nbformat": 4,
  "nbformat_minor": 0,
  "metadata": {
    "colab": {
      "name": "UNet_Model2_Disk.ipynb",
      "provenance": [],
      "collapsed_sections": [],
      "machine_shape": "hm"
    },
    "kernelspec": {
      "name": "python3",
      "display_name": "Python 3"
    },
    "accelerator": "TPU",
    "widgets": {
      "application/vnd.jupyter.widget-state+json": {
        "026742a748e14f0e9c7a922dff7533b7": {
          "model_module": "@jupyter-widgets/controls",
          "model_name": "HBoxModel",
          "state": {
            "_view_name": "HBoxView",
            "_dom_classes": [],
            "_model_name": "HBoxModel",
            "_view_module": "@jupyter-widgets/controls",
            "_model_module_version": "1.5.0",
            "_view_count": null,
            "_view_module_version": "1.5.0",
            "box_style": "",
            "layout": "IPY_MODEL_4f2f0bdb17b54ce8a8ce99ed11d29a4f",
            "_model_module": "@jupyter-widgets/controls",
            "children": [
              "IPY_MODEL_6105723877764e6594f0ebfc1d70b718",
              "IPY_MODEL_10e0d585627245a48979da6205c4d612"
            ]
          }
        },
        "4f2f0bdb17b54ce8a8ce99ed11d29a4f": {
          "model_module": "@jupyter-widgets/base",
          "model_name": "LayoutModel",
          "state": {
            "_view_name": "LayoutView",
            "grid_template_rows": null,
            "right": null,
            "justify_content": null,
            "_view_module": "@jupyter-widgets/base",
            "overflow": null,
            "_model_module_version": "1.2.0",
            "_view_count": null,
            "flex_flow": null,
            "width": null,
            "min_width": null,
            "border": null,
            "align_items": null,
            "bottom": null,
            "_model_module": "@jupyter-widgets/base",
            "top": null,
            "grid_column": null,
            "overflow_y": null,
            "overflow_x": null,
            "grid_auto_flow": null,
            "grid_area": null,
            "grid_template_columns": null,
            "flex": null,
            "_model_name": "LayoutModel",
            "justify_items": null,
            "grid_row": null,
            "max_height": null,
            "align_content": null,
            "visibility": null,
            "align_self": null,
            "height": null,
            "min_height": null,
            "padding": null,
            "grid_auto_rows": null,
            "grid_gap": null,
            "max_width": null,
            "order": null,
            "_view_module_version": "1.2.0",
            "grid_template_areas": null,
            "object_position": null,
            "object_fit": null,
            "grid_auto_columns": null,
            "margin": null,
            "display": null,
            "left": null
          }
        },
        "6105723877764e6594f0ebfc1d70b718": {
          "model_module": "@jupyter-widgets/controls",
          "model_name": "FloatProgressModel",
          "state": {
            "_view_name": "ProgressView",
            "style": "IPY_MODEL_773158418dc44b30a25abcd15225834c",
            "_dom_classes": [],
            "description": "100%",
            "_model_name": "FloatProgressModel",
            "bar_style": "success",
            "max": 349,
            "_view_module": "@jupyter-widgets/controls",
            "_model_module_version": "1.5.0",
            "value": 349,
            "_view_count": null,
            "_view_module_version": "1.5.0",
            "orientation": "horizontal",
            "min": 0,
            "description_tooltip": null,
            "_model_module": "@jupyter-widgets/controls",
            "layout": "IPY_MODEL_bf7f5350b359426a87baff8711ef1983"
          }
        },
        "10e0d585627245a48979da6205c4d612": {
          "model_module": "@jupyter-widgets/controls",
          "model_name": "HTMLModel",
          "state": {
            "_view_name": "HTMLView",
            "style": "IPY_MODEL_bb97837676bd4612b8b8e15c1c20a7f6",
            "_dom_classes": [],
            "description": "",
            "_model_name": "HTMLModel",
            "placeholder": "​",
            "_view_module": "@jupyter-widgets/controls",
            "_model_module_version": "1.5.0",
            "value": " 349/349 [00:12&lt;00:00, 27.69it/s]",
            "_view_count": null,
            "_view_module_version": "1.5.0",
            "description_tooltip": null,
            "_model_module": "@jupyter-widgets/controls",
            "layout": "IPY_MODEL_06f448c00d5d47ab9afce8f6f2e08b41"
          }
        },
        "773158418dc44b30a25abcd15225834c": {
          "model_module": "@jupyter-widgets/controls",
          "model_name": "ProgressStyleModel",
          "state": {
            "_view_name": "StyleView",
            "_model_name": "ProgressStyleModel",
            "description_width": "initial",
            "_view_module": "@jupyter-widgets/base",
            "_model_module_version": "1.5.0",
            "_view_count": null,
            "_view_module_version": "1.2.0",
            "bar_color": null,
            "_model_module": "@jupyter-widgets/controls"
          }
        },
        "bf7f5350b359426a87baff8711ef1983": {
          "model_module": "@jupyter-widgets/base",
          "model_name": "LayoutModel",
          "state": {
            "_view_name": "LayoutView",
            "grid_template_rows": null,
            "right": null,
            "justify_content": null,
            "_view_module": "@jupyter-widgets/base",
            "overflow": null,
            "_model_module_version": "1.2.0",
            "_view_count": null,
            "flex_flow": null,
            "width": null,
            "min_width": null,
            "border": null,
            "align_items": null,
            "bottom": null,
            "_model_module": "@jupyter-widgets/base",
            "top": null,
            "grid_column": null,
            "overflow_y": null,
            "overflow_x": null,
            "grid_auto_flow": null,
            "grid_area": null,
            "grid_template_columns": null,
            "flex": null,
            "_model_name": "LayoutModel",
            "justify_items": null,
            "grid_row": null,
            "max_height": null,
            "align_content": null,
            "visibility": null,
            "align_self": null,
            "height": null,
            "min_height": null,
            "padding": null,
            "grid_auto_rows": null,
            "grid_gap": null,
            "max_width": null,
            "order": null,
            "_view_module_version": "1.2.0",
            "grid_template_areas": null,
            "object_position": null,
            "object_fit": null,
            "grid_auto_columns": null,
            "margin": null,
            "display": null,
            "left": null
          }
        },
        "bb97837676bd4612b8b8e15c1c20a7f6": {
          "model_module": "@jupyter-widgets/controls",
          "model_name": "DescriptionStyleModel",
          "state": {
            "_view_name": "StyleView",
            "_model_name": "DescriptionStyleModel",
            "description_width": "",
            "_view_module": "@jupyter-widgets/base",
            "_model_module_version": "1.5.0",
            "_view_count": null,
            "_view_module_version": "1.2.0",
            "_model_module": "@jupyter-widgets/controls"
          }
        },
        "06f448c00d5d47ab9afce8f6f2e08b41": {
          "model_module": "@jupyter-widgets/base",
          "model_name": "LayoutModel",
          "state": {
            "_view_name": "LayoutView",
            "grid_template_rows": null,
            "right": null,
            "justify_content": null,
            "_view_module": "@jupyter-widgets/base",
            "overflow": null,
            "_model_module_version": "1.2.0",
            "_view_count": null,
            "flex_flow": null,
            "width": null,
            "min_width": null,
            "border": null,
            "align_items": null,
            "bottom": null,
            "_model_module": "@jupyter-widgets/base",
            "top": null,
            "grid_column": null,
            "overflow_y": null,
            "overflow_x": null,
            "grid_auto_flow": null,
            "grid_area": null,
            "grid_template_columns": null,
            "flex": null,
            "_model_name": "LayoutModel",
            "justify_items": null,
            "grid_row": null,
            "max_height": null,
            "align_content": null,
            "visibility": null,
            "align_self": null,
            "height": null,
            "min_height": null,
            "padding": null,
            "grid_auto_rows": null,
            "grid_gap": null,
            "max_width": null,
            "order": null,
            "_view_module_version": "1.2.0",
            "grid_template_areas": null,
            "object_position": null,
            "object_fit": null,
            "grid_auto_columns": null,
            "margin": null,
            "display": null,
            "left": null
          }
        },
        "4ea11eb2246c41edaabebcf3d6e63614": {
          "model_module": "@jupyter-widgets/controls",
          "model_name": "HBoxModel",
          "state": {
            "_view_name": "HBoxView",
            "_dom_classes": [],
            "_model_name": "HBoxModel",
            "_view_module": "@jupyter-widgets/controls",
            "_model_module_version": "1.5.0",
            "_view_count": null,
            "_view_module_version": "1.5.0",
            "box_style": "",
            "layout": "IPY_MODEL_bc062d1e55b74a7592b56e59933d4fa6",
            "_model_module": "@jupyter-widgets/controls",
            "children": [
              "IPY_MODEL_099da0c256a543cb9a0801b8c9d802bf",
              "IPY_MODEL_37f755cfd6484da5b67c48a5d09e7567"
            ]
          }
        },
        "bc062d1e55b74a7592b56e59933d4fa6": {
          "model_module": "@jupyter-widgets/base",
          "model_name": "LayoutModel",
          "state": {
            "_view_name": "LayoutView",
            "grid_template_rows": null,
            "right": null,
            "justify_content": null,
            "_view_module": "@jupyter-widgets/base",
            "overflow": null,
            "_model_module_version": "1.2.0",
            "_view_count": null,
            "flex_flow": null,
            "width": null,
            "min_width": null,
            "border": null,
            "align_items": null,
            "bottom": null,
            "_model_module": "@jupyter-widgets/base",
            "top": null,
            "grid_column": null,
            "overflow_y": null,
            "overflow_x": null,
            "grid_auto_flow": null,
            "grid_area": null,
            "grid_template_columns": null,
            "flex": null,
            "_model_name": "LayoutModel",
            "justify_items": null,
            "grid_row": null,
            "max_height": null,
            "align_content": null,
            "visibility": null,
            "align_self": null,
            "height": null,
            "min_height": null,
            "padding": null,
            "grid_auto_rows": null,
            "grid_gap": null,
            "max_width": null,
            "order": null,
            "_view_module_version": "1.2.0",
            "grid_template_areas": null,
            "object_position": null,
            "object_fit": null,
            "grid_auto_columns": null,
            "margin": null,
            "display": null,
            "left": null
          }
        },
        "099da0c256a543cb9a0801b8c9d802bf": {
          "model_module": "@jupyter-widgets/controls",
          "model_name": "FloatProgressModel",
          "state": {
            "_view_name": "ProgressView",
            "style": "IPY_MODEL_a8f4207b45574149a6920e9eaa162058",
            "_dom_classes": [],
            "description": "100%",
            "_model_name": "FloatProgressModel",
            "bar_style": "success",
            "max": 119,
            "_view_module": "@jupyter-widgets/controls",
            "_model_module_version": "1.5.0",
            "value": 119,
            "_view_count": null,
            "_view_module_version": "1.5.0",
            "orientation": "horizontal",
            "min": 0,
            "description_tooltip": null,
            "_model_module": "@jupyter-widgets/controls",
            "layout": "IPY_MODEL_918511a4a9fc4bcd9c234a8ff28cbacd"
          }
        },
        "37f755cfd6484da5b67c48a5d09e7567": {
          "model_module": "@jupyter-widgets/controls",
          "model_name": "HTMLModel",
          "state": {
            "_view_name": "HTMLView",
            "style": "IPY_MODEL_ecf3faaac5d8472fb6f1bd3015626ce5",
            "_dom_classes": [],
            "description": "",
            "_model_name": "HTMLModel",
            "placeholder": "​",
            "_view_module": "@jupyter-widgets/controls",
            "_model_module_version": "1.5.0",
            "value": " 119/119 [00:13&lt;00:00,  9.12it/s]",
            "_view_count": null,
            "_view_module_version": "1.5.0",
            "description_tooltip": null,
            "_model_module": "@jupyter-widgets/controls",
            "layout": "IPY_MODEL_c2c625c08a674888ba5f7a82b8f3c3af"
          }
        },
        "a8f4207b45574149a6920e9eaa162058": {
          "model_module": "@jupyter-widgets/controls",
          "model_name": "ProgressStyleModel",
          "state": {
            "_view_name": "StyleView",
            "_model_name": "ProgressStyleModel",
            "description_width": "initial",
            "_view_module": "@jupyter-widgets/base",
            "_model_module_version": "1.5.0",
            "_view_count": null,
            "_view_module_version": "1.2.0",
            "bar_color": null,
            "_model_module": "@jupyter-widgets/controls"
          }
        },
        "918511a4a9fc4bcd9c234a8ff28cbacd": {
          "model_module": "@jupyter-widgets/base",
          "model_name": "LayoutModel",
          "state": {
            "_view_name": "LayoutView",
            "grid_template_rows": null,
            "right": null,
            "justify_content": null,
            "_view_module": "@jupyter-widgets/base",
            "overflow": null,
            "_model_module_version": "1.2.0",
            "_view_count": null,
            "flex_flow": null,
            "width": null,
            "min_width": null,
            "border": null,
            "align_items": null,
            "bottom": null,
            "_model_module": "@jupyter-widgets/base",
            "top": null,
            "grid_column": null,
            "overflow_y": null,
            "overflow_x": null,
            "grid_auto_flow": null,
            "grid_area": null,
            "grid_template_columns": null,
            "flex": null,
            "_model_name": "LayoutModel",
            "justify_items": null,
            "grid_row": null,
            "max_height": null,
            "align_content": null,
            "visibility": null,
            "align_self": null,
            "height": null,
            "min_height": null,
            "padding": null,
            "grid_auto_rows": null,
            "grid_gap": null,
            "max_width": null,
            "order": null,
            "_view_module_version": "1.2.0",
            "grid_template_areas": null,
            "object_position": null,
            "object_fit": null,
            "grid_auto_columns": null,
            "margin": null,
            "display": null,
            "left": null
          }
        },
        "ecf3faaac5d8472fb6f1bd3015626ce5": {
          "model_module": "@jupyter-widgets/controls",
          "model_name": "DescriptionStyleModel",
          "state": {
            "_view_name": "StyleView",
            "_model_name": "DescriptionStyleModel",
            "description_width": "",
            "_view_module": "@jupyter-widgets/base",
            "_model_module_version": "1.5.0",
            "_view_count": null,
            "_view_module_version": "1.2.0",
            "_model_module": "@jupyter-widgets/controls"
          }
        },
        "c2c625c08a674888ba5f7a82b8f3c3af": {
          "model_module": "@jupyter-widgets/base",
          "model_name": "LayoutModel",
          "state": {
            "_view_name": "LayoutView",
            "grid_template_rows": null,
            "right": null,
            "justify_content": null,
            "_view_module": "@jupyter-widgets/base",
            "overflow": null,
            "_model_module_version": "1.2.0",
            "_view_count": null,
            "flex_flow": null,
            "width": null,
            "min_width": null,
            "border": null,
            "align_items": null,
            "bottom": null,
            "_model_module": "@jupyter-widgets/base",
            "top": null,
            "grid_column": null,
            "overflow_y": null,
            "overflow_x": null,
            "grid_auto_flow": null,
            "grid_area": null,
            "grid_template_columns": null,
            "flex": null,
            "_model_name": "LayoutModel",
            "justify_items": null,
            "grid_row": null,
            "max_height": null,
            "align_content": null,
            "visibility": null,
            "align_self": null,
            "height": null,
            "min_height": null,
            "padding": null,
            "grid_auto_rows": null,
            "grid_gap": null,
            "max_width": null,
            "order": null,
            "_view_module_version": "1.2.0",
            "grid_template_areas": null,
            "object_position": null,
            "object_fit": null,
            "grid_auto_columns": null,
            "margin": null,
            "display": null,
            "left": null
          }
        },
        "932fac5af39449b2a314a5297ade7a69": {
          "model_module": "@jupyter-widgets/controls",
          "model_name": "HBoxModel",
          "state": {
            "_view_name": "HBoxView",
            "_dom_classes": [],
            "_model_name": "HBoxModel",
            "_view_module": "@jupyter-widgets/controls",
            "_model_module_version": "1.5.0",
            "_view_count": null,
            "_view_module_version": "1.5.0",
            "box_style": "",
            "layout": "IPY_MODEL_4f50591928da486eb9c9f9f65b48e2d7",
            "_model_module": "@jupyter-widgets/controls",
            "children": [
              "IPY_MODEL_fec6dfbb541f408ca97bacc387d6e9b1",
              "IPY_MODEL_f948c61dbd264a1aa19f1de5509f88e9"
            ]
          }
        },
        "4f50591928da486eb9c9f9f65b48e2d7": {
          "model_module": "@jupyter-widgets/base",
          "model_name": "LayoutModel",
          "state": {
            "_view_name": "LayoutView",
            "grid_template_rows": null,
            "right": null,
            "justify_content": null,
            "_view_module": "@jupyter-widgets/base",
            "overflow": null,
            "_model_module_version": "1.2.0",
            "_view_count": null,
            "flex_flow": null,
            "width": null,
            "min_width": null,
            "border": null,
            "align_items": null,
            "bottom": null,
            "_model_module": "@jupyter-widgets/base",
            "top": null,
            "grid_column": null,
            "overflow_y": null,
            "overflow_x": null,
            "grid_auto_flow": null,
            "grid_area": null,
            "grid_template_columns": null,
            "flex": null,
            "_model_name": "LayoutModel",
            "justify_items": null,
            "grid_row": null,
            "max_height": null,
            "align_content": null,
            "visibility": null,
            "align_self": null,
            "height": null,
            "min_height": null,
            "padding": null,
            "grid_auto_rows": null,
            "grid_gap": null,
            "max_width": null,
            "order": null,
            "_view_module_version": "1.2.0",
            "grid_template_areas": null,
            "object_position": null,
            "object_fit": null,
            "grid_auto_columns": null,
            "margin": null,
            "display": null,
            "left": null
          }
        },
        "fec6dfbb541f408ca97bacc387d6e9b1": {
          "model_module": "@jupyter-widgets/controls",
          "model_name": "FloatProgressModel",
          "state": {
            "_view_name": "ProgressView",
            "style": "IPY_MODEL_074b2b8f479f4dbe82f1455cf9def399",
            "_dom_classes": [],
            "description": "100%",
            "_model_name": "FloatProgressModel",
            "bar_style": "success",
            "max": 112,
            "_view_module": "@jupyter-widgets/controls",
            "_model_module_version": "1.5.0",
            "value": 112,
            "_view_count": null,
            "_view_module_version": "1.5.0",
            "orientation": "horizontal",
            "min": 0,
            "description_tooltip": null,
            "_model_module": "@jupyter-widgets/controls",
            "layout": "IPY_MODEL_ba4f88f5a6b24e93a7a1f668da030438"
          }
        },
        "f948c61dbd264a1aa19f1de5509f88e9": {
          "model_module": "@jupyter-widgets/controls",
          "model_name": "HTMLModel",
          "state": {
            "_view_name": "HTMLView",
            "style": "IPY_MODEL_b519df9583d649a7b8d40e3dad8350d4",
            "_dom_classes": [],
            "description": "",
            "_model_name": "HTMLModel",
            "placeholder": "​",
            "_view_module": "@jupyter-widgets/controls",
            "_model_module_version": "1.5.0",
            "value": " 112/112 [00:00&lt;00:00, 1568.55it/s]",
            "_view_count": null,
            "_view_module_version": "1.5.0",
            "description_tooltip": null,
            "_model_module": "@jupyter-widgets/controls",
            "layout": "IPY_MODEL_18911dd21b354902a48866c8b4bcbe1b"
          }
        },
        "074b2b8f479f4dbe82f1455cf9def399": {
          "model_module": "@jupyter-widgets/controls",
          "model_name": "ProgressStyleModel",
          "state": {
            "_view_name": "StyleView",
            "_model_name": "ProgressStyleModel",
            "description_width": "initial",
            "_view_module": "@jupyter-widgets/base",
            "_model_module_version": "1.5.0",
            "_view_count": null,
            "_view_module_version": "1.2.0",
            "bar_color": null,
            "_model_module": "@jupyter-widgets/controls"
          }
        },
        "ba4f88f5a6b24e93a7a1f668da030438": {
          "model_module": "@jupyter-widgets/base",
          "model_name": "LayoutModel",
          "state": {
            "_view_name": "LayoutView",
            "grid_template_rows": null,
            "right": null,
            "justify_content": null,
            "_view_module": "@jupyter-widgets/base",
            "overflow": null,
            "_model_module_version": "1.2.0",
            "_view_count": null,
            "flex_flow": null,
            "width": null,
            "min_width": null,
            "border": null,
            "align_items": null,
            "bottom": null,
            "_model_module": "@jupyter-widgets/base",
            "top": null,
            "grid_column": null,
            "overflow_y": null,
            "overflow_x": null,
            "grid_auto_flow": null,
            "grid_area": null,
            "grid_template_columns": null,
            "flex": null,
            "_model_name": "LayoutModel",
            "justify_items": null,
            "grid_row": null,
            "max_height": null,
            "align_content": null,
            "visibility": null,
            "align_self": null,
            "height": null,
            "min_height": null,
            "padding": null,
            "grid_auto_rows": null,
            "grid_gap": null,
            "max_width": null,
            "order": null,
            "_view_module_version": "1.2.0",
            "grid_template_areas": null,
            "object_position": null,
            "object_fit": null,
            "grid_auto_columns": null,
            "margin": null,
            "display": null,
            "left": null
          }
        },
        "b519df9583d649a7b8d40e3dad8350d4": {
          "model_module": "@jupyter-widgets/controls",
          "model_name": "DescriptionStyleModel",
          "state": {
            "_view_name": "StyleView",
            "_model_name": "DescriptionStyleModel",
            "description_width": "",
            "_view_module": "@jupyter-widgets/base",
            "_model_module_version": "1.5.0",
            "_view_count": null,
            "_view_module_version": "1.2.0",
            "_model_module": "@jupyter-widgets/controls"
          }
        },
        "18911dd21b354902a48866c8b4bcbe1b": {
          "model_module": "@jupyter-widgets/base",
          "model_name": "LayoutModel",
          "state": {
            "_view_name": "LayoutView",
            "grid_template_rows": null,
            "right": null,
            "justify_content": null,
            "_view_module": "@jupyter-widgets/base",
            "overflow": null,
            "_model_module_version": "1.2.0",
            "_view_count": null,
            "flex_flow": null,
            "width": null,
            "min_width": null,
            "border": null,
            "align_items": null,
            "bottom": null,
            "_model_module": "@jupyter-widgets/base",
            "top": null,
            "grid_column": null,
            "overflow_y": null,
            "overflow_x": null,
            "grid_auto_flow": null,
            "grid_area": null,
            "grid_template_columns": null,
            "flex": null,
            "_model_name": "LayoutModel",
            "justify_items": null,
            "grid_row": null,
            "max_height": null,
            "align_content": null,
            "visibility": null,
            "align_self": null,
            "height": null,
            "min_height": null,
            "padding": null,
            "grid_auto_rows": null,
            "grid_gap": null,
            "max_width": null,
            "order": null,
            "_view_module_version": "1.2.0",
            "grid_template_areas": null,
            "object_position": null,
            "object_fit": null,
            "grid_auto_columns": null,
            "margin": null,
            "display": null,
            "left": null
          }
        },
        "0c79082fdb5a4d949a96d691f2deca11": {
          "model_module": "@jupyter-widgets/controls",
          "model_name": "HBoxModel",
          "state": {
            "_view_name": "HBoxView",
            "_dom_classes": [],
            "_model_name": "HBoxModel",
            "_view_module": "@jupyter-widgets/controls",
            "_model_module_version": "1.5.0",
            "_view_count": null,
            "_view_module_version": "1.5.0",
            "box_style": "",
            "layout": "IPY_MODEL_b03e4fab97b1463297a4419eb887792f",
            "_model_module": "@jupyter-widgets/controls",
            "children": [
              "IPY_MODEL_37fafbd407e943cf9d5ffea72877f62a",
              "IPY_MODEL_9addd27dc4d24637a3125ff069cf3120"
            ]
          }
        },
        "b03e4fab97b1463297a4419eb887792f": {
          "model_module": "@jupyter-widgets/base",
          "model_name": "LayoutModel",
          "state": {
            "_view_name": "LayoutView",
            "grid_template_rows": null,
            "right": null,
            "justify_content": null,
            "_view_module": "@jupyter-widgets/base",
            "overflow": null,
            "_model_module_version": "1.2.0",
            "_view_count": null,
            "flex_flow": null,
            "width": null,
            "min_width": null,
            "border": null,
            "align_items": null,
            "bottom": null,
            "_model_module": "@jupyter-widgets/base",
            "top": null,
            "grid_column": null,
            "overflow_y": null,
            "overflow_x": null,
            "grid_auto_flow": null,
            "grid_area": null,
            "grid_template_columns": null,
            "flex": null,
            "_model_name": "LayoutModel",
            "justify_items": null,
            "grid_row": null,
            "max_height": null,
            "align_content": null,
            "visibility": null,
            "align_self": null,
            "height": null,
            "min_height": null,
            "padding": null,
            "grid_auto_rows": null,
            "grid_gap": null,
            "max_width": null,
            "order": null,
            "_view_module_version": "1.2.0",
            "grid_template_areas": null,
            "object_position": null,
            "object_fit": null,
            "grid_auto_columns": null,
            "margin": null,
            "display": null,
            "left": null
          }
        },
        "37fafbd407e943cf9d5ffea72877f62a": {
          "model_module": "@jupyter-widgets/controls",
          "model_name": "FloatProgressModel",
          "state": {
            "_view_name": "ProgressView",
            "style": "IPY_MODEL_9c6ffafbe31a4507847d81fda2306eaa",
            "_dom_classes": [],
            "description": "100%",
            "_model_name": "FloatProgressModel",
            "bar_style": "success",
            "max": 40,
            "_view_module": "@jupyter-widgets/controls",
            "_model_module_version": "1.5.0",
            "value": 40,
            "_view_count": null,
            "_view_module_version": "1.5.0",
            "orientation": "horizontal",
            "min": 0,
            "description_tooltip": null,
            "_model_module": "@jupyter-widgets/controls",
            "layout": "IPY_MODEL_adc5d95703344088b473fe0e513b456a"
          }
        },
        "9addd27dc4d24637a3125ff069cf3120": {
          "model_module": "@jupyter-widgets/controls",
          "model_name": "HTMLModel",
          "state": {
            "_view_name": "HTMLView",
            "style": "IPY_MODEL_7e0b0e9c4cb74779ad40fbef6ddd1393",
            "_dom_classes": [],
            "description": "",
            "_model_name": "HTMLModel",
            "placeholder": "​",
            "_view_module": "@jupyter-widgets/controls",
            "_model_module_version": "1.5.0",
            "value": " 40/40 [00:00&lt;00:00, 1071.70it/s]",
            "_view_count": null,
            "_view_module_version": "1.5.0",
            "description_tooltip": null,
            "_model_module": "@jupyter-widgets/controls",
            "layout": "IPY_MODEL_22a056aca93f4c19898ad81f6598deba"
          }
        },
        "9c6ffafbe31a4507847d81fda2306eaa": {
          "model_module": "@jupyter-widgets/controls",
          "model_name": "ProgressStyleModel",
          "state": {
            "_view_name": "StyleView",
            "_model_name": "ProgressStyleModel",
            "description_width": "initial",
            "_view_module": "@jupyter-widgets/base",
            "_model_module_version": "1.5.0",
            "_view_count": null,
            "_view_module_version": "1.2.0",
            "bar_color": null,
            "_model_module": "@jupyter-widgets/controls"
          }
        },
        "adc5d95703344088b473fe0e513b456a": {
          "model_module": "@jupyter-widgets/base",
          "model_name": "LayoutModel",
          "state": {
            "_view_name": "LayoutView",
            "grid_template_rows": null,
            "right": null,
            "justify_content": null,
            "_view_module": "@jupyter-widgets/base",
            "overflow": null,
            "_model_module_version": "1.2.0",
            "_view_count": null,
            "flex_flow": null,
            "width": null,
            "min_width": null,
            "border": null,
            "align_items": null,
            "bottom": null,
            "_model_module": "@jupyter-widgets/base",
            "top": null,
            "grid_column": null,
            "overflow_y": null,
            "overflow_x": null,
            "grid_auto_flow": null,
            "grid_area": null,
            "grid_template_columns": null,
            "flex": null,
            "_model_name": "LayoutModel",
            "justify_items": null,
            "grid_row": null,
            "max_height": null,
            "align_content": null,
            "visibility": null,
            "align_self": null,
            "height": null,
            "min_height": null,
            "padding": null,
            "grid_auto_rows": null,
            "grid_gap": null,
            "max_width": null,
            "order": null,
            "_view_module_version": "1.2.0",
            "grid_template_areas": null,
            "object_position": null,
            "object_fit": null,
            "grid_auto_columns": null,
            "margin": null,
            "display": null,
            "left": null
          }
        },
        "7e0b0e9c4cb74779ad40fbef6ddd1393": {
          "model_module": "@jupyter-widgets/controls",
          "model_name": "DescriptionStyleModel",
          "state": {
            "_view_name": "StyleView",
            "_model_name": "DescriptionStyleModel",
            "description_width": "",
            "_view_module": "@jupyter-widgets/base",
            "_model_module_version": "1.5.0",
            "_view_count": null,
            "_view_module_version": "1.2.0",
            "_model_module": "@jupyter-widgets/controls"
          }
        },
        "22a056aca93f4c19898ad81f6598deba": {
          "model_module": "@jupyter-widgets/base",
          "model_name": "LayoutModel",
          "state": {
            "_view_name": "LayoutView",
            "grid_template_rows": null,
            "right": null,
            "justify_content": null,
            "_view_module": "@jupyter-widgets/base",
            "overflow": null,
            "_model_module_version": "1.2.0",
            "_view_count": null,
            "flex_flow": null,
            "width": null,
            "min_width": null,
            "border": null,
            "align_items": null,
            "bottom": null,
            "_model_module": "@jupyter-widgets/base",
            "top": null,
            "grid_column": null,
            "overflow_y": null,
            "overflow_x": null,
            "grid_auto_flow": null,
            "grid_area": null,
            "grid_template_columns": null,
            "flex": null,
            "_model_name": "LayoutModel",
            "justify_items": null,
            "grid_row": null,
            "max_height": null,
            "align_content": null,
            "visibility": null,
            "align_self": null,
            "height": null,
            "min_height": null,
            "padding": null,
            "grid_auto_rows": null,
            "grid_gap": null,
            "max_width": null,
            "order": null,
            "_view_module_version": "1.2.0",
            "grid_template_areas": null,
            "object_position": null,
            "object_fit": null,
            "grid_auto_columns": null,
            "margin": null,
            "display": null,
            "left": null
          }
        },
        "c00b6662dba3467d864ff7e14b6563fe": {
          "model_module": "@jupyter-widgets/controls",
          "model_name": "HBoxModel",
          "state": {
            "_view_name": "HBoxView",
            "_dom_classes": [],
            "_model_name": "HBoxModel",
            "_view_module": "@jupyter-widgets/controls",
            "_model_module_version": "1.5.0",
            "_view_count": null,
            "_view_module_version": "1.5.0",
            "box_style": "",
            "layout": "IPY_MODEL_116812ece2324cbf8ac99ace72b3b9eb",
            "_model_module": "@jupyter-widgets/controls",
            "children": [
              "IPY_MODEL_6cd76117d4e04b5493af64ea52fff19d",
              "IPY_MODEL_747ff11f0bd44e49a4829ed2ab4684a2"
            ]
          }
        },
        "116812ece2324cbf8ac99ace72b3b9eb": {
          "model_module": "@jupyter-widgets/base",
          "model_name": "LayoutModel",
          "state": {
            "_view_name": "LayoutView",
            "grid_template_rows": null,
            "right": null,
            "justify_content": null,
            "_view_module": "@jupyter-widgets/base",
            "overflow": null,
            "_model_module_version": "1.2.0",
            "_view_count": null,
            "flex_flow": null,
            "width": null,
            "min_width": null,
            "border": null,
            "align_items": null,
            "bottom": null,
            "_model_module": "@jupyter-widgets/base",
            "top": null,
            "grid_column": null,
            "overflow_y": null,
            "overflow_x": null,
            "grid_auto_flow": null,
            "grid_area": null,
            "grid_template_columns": null,
            "flex": null,
            "_model_name": "LayoutModel",
            "justify_items": null,
            "grid_row": null,
            "max_height": null,
            "align_content": null,
            "visibility": null,
            "align_self": null,
            "height": null,
            "min_height": null,
            "padding": null,
            "grid_auto_rows": null,
            "grid_gap": null,
            "max_width": null,
            "order": null,
            "_view_module_version": "1.2.0",
            "grid_template_areas": null,
            "object_position": null,
            "object_fit": null,
            "grid_auto_columns": null,
            "margin": null,
            "display": null,
            "left": null
          }
        },
        "6cd76117d4e04b5493af64ea52fff19d": {
          "model_module": "@jupyter-widgets/controls",
          "model_name": "FloatProgressModel",
          "state": {
            "_view_name": "ProgressView",
            "style": "IPY_MODEL_10ad89431b074f08a31c0cba8ed6f17a",
            "_dom_classes": [],
            "description": "100%",
            "_model_name": "FloatProgressModel",
            "bar_style": "success",
            "max": 13,
            "_view_module": "@jupyter-widgets/controls",
            "_model_module_version": "1.5.0",
            "value": 13,
            "_view_count": null,
            "_view_module_version": "1.5.0",
            "orientation": "horizontal",
            "min": 0,
            "description_tooltip": null,
            "_model_module": "@jupyter-widgets/controls",
            "layout": "IPY_MODEL_ab690789941d4f81b61532166fee8e9f"
          }
        },
        "747ff11f0bd44e49a4829ed2ab4684a2": {
          "model_module": "@jupyter-widgets/controls",
          "model_name": "HTMLModel",
          "state": {
            "_view_name": "HTMLView",
            "style": "IPY_MODEL_f1e3cf247f7d400d87a67da772897ba0",
            "_dom_classes": [],
            "description": "",
            "_model_name": "HTMLModel",
            "placeholder": "​",
            "_view_module": "@jupyter-widgets/controls",
            "_model_module_version": "1.5.0",
            "value": " 13/13 [00:00&lt;00:00, 397.35it/s]",
            "_view_count": null,
            "_view_module_version": "1.5.0",
            "description_tooltip": null,
            "_model_module": "@jupyter-widgets/controls",
            "layout": "IPY_MODEL_a42fbf606eb243a28ee7a518897fdc16"
          }
        },
        "10ad89431b074f08a31c0cba8ed6f17a": {
          "model_module": "@jupyter-widgets/controls",
          "model_name": "ProgressStyleModel",
          "state": {
            "_view_name": "StyleView",
            "_model_name": "ProgressStyleModel",
            "description_width": "initial",
            "_view_module": "@jupyter-widgets/base",
            "_model_module_version": "1.5.0",
            "_view_count": null,
            "_view_module_version": "1.2.0",
            "bar_color": null,
            "_model_module": "@jupyter-widgets/controls"
          }
        },
        "ab690789941d4f81b61532166fee8e9f": {
          "model_module": "@jupyter-widgets/base",
          "model_name": "LayoutModel",
          "state": {
            "_view_name": "LayoutView",
            "grid_template_rows": null,
            "right": null,
            "justify_content": null,
            "_view_module": "@jupyter-widgets/base",
            "overflow": null,
            "_model_module_version": "1.2.0",
            "_view_count": null,
            "flex_flow": null,
            "width": null,
            "min_width": null,
            "border": null,
            "align_items": null,
            "bottom": null,
            "_model_module": "@jupyter-widgets/base",
            "top": null,
            "grid_column": null,
            "overflow_y": null,
            "overflow_x": null,
            "grid_auto_flow": null,
            "grid_area": null,
            "grid_template_columns": null,
            "flex": null,
            "_model_name": "LayoutModel",
            "justify_items": null,
            "grid_row": null,
            "max_height": null,
            "align_content": null,
            "visibility": null,
            "align_self": null,
            "height": null,
            "min_height": null,
            "padding": null,
            "grid_auto_rows": null,
            "grid_gap": null,
            "max_width": null,
            "order": null,
            "_view_module_version": "1.2.0",
            "grid_template_areas": null,
            "object_position": null,
            "object_fit": null,
            "grid_auto_columns": null,
            "margin": null,
            "display": null,
            "left": null
          }
        },
        "f1e3cf247f7d400d87a67da772897ba0": {
          "model_module": "@jupyter-widgets/controls",
          "model_name": "DescriptionStyleModel",
          "state": {
            "_view_name": "StyleView",
            "_model_name": "DescriptionStyleModel",
            "description_width": "",
            "_view_module": "@jupyter-widgets/base",
            "_model_module_version": "1.5.0",
            "_view_count": null,
            "_view_module_version": "1.2.0",
            "_model_module": "@jupyter-widgets/controls"
          }
        },
        "a42fbf606eb243a28ee7a518897fdc16": {
          "model_module": "@jupyter-widgets/base",
          "model_name": "LayoutModel",
          "state": {
            "_view_name": "LayoutView",
            "grid_template_rows": null,
            "right": null,
            "justify_content": null,
            "_view_module": "@jupyter-widgets/base",
            "overflow": null,
            "_model_module_version": "1.2.0",
            "_view_count": null,
            "flex_flow": null,
            "width": null,
            "min_width": null,
            "border": null,
            "align_items": null,
            "bottom": null,
            "_model_module": "@jupyter-widgets/base",
            "top": null,
            "grid_column": null,
            "overflow_y": null,
            "overflow_x": null,
            "grid_auto_flow": null,
            "grid_area": null,
            "grid_template_columns": null,
            "flex": null,
            "_model_name": "LayoutModel",
            "justify_items": null,
            "grid_row": null,
            "max_height": null,
            "align_content": null,
            "visibility": null,
            "align_self": null,
            "height": null,
            "min_height": null,
            "padding": null,
            "grid_auto_rows": null,
            "grid_gap": null,
            "max_width": null,
            "order": null,
            "_view_module_version": "1.2.0",
            "grid_template_areas": null,
            "object_position": null,
            "object_fit": null,
            "grid_auto_columns": null,
            "margin": null,
            "display": null,
            "left": null
          }
        }
      }
    }
  },
  "cells": [
    {
      "cell_type": "code",
      "metadata": {
        "id": "FRnP5yt7UUE5"
      },
      "source": [
        "# We will use RIM-ONE and DRISHTI dataset"
      ],
      "execution_count": null,
      "outputs": []
    },
    {
      "cell_type": "code",
      "metadata": {
        "id": "1ma4BCv4UcXN"
      },
      "source": [
        "# I have obtained the dataset from the following github page, which is open source by the way\n",
        "# Git Hub URL: https://github.com/seva100/optic-nerve-cnn\n",
        "# Data URL: https://drive.google.com/drive/folders/13g62bhqN1JHJ2fky2Xy5avLbZ2YLMdwB"
      ],
      "execution_count": null,
      "outputs": []
    },
    {
      "cell_type": "code",
      "metadata": {
        "id": "807wnRglVAJu"
      },
      "source": [
        "# we will start coding by mounting the google drive and setting up configurations "
      ],
      "execution_count": null,
      "outputs": []
    },
    {
      "cell_type": "code",
      "metadata": {
        "id": "FsKfQRodfdzg",
        "colab": {
          "base_uri": "https://localhost:8080/"
        },
        "outputId": "e6edc09a-bdbb-4309-b446-400656953015"
      },
      "source": [
        "from google.colab import drive\n",
        "drive.mount('/content/gdrive')"
      ],
      "execution_count": null,
      "outputs": [
        {
          "output_type": "stream",
          "text": [
            "Mounted at /content/gdrive\n"
          ],
          "name": "stdout"
        }
      ]
    },
    {
      "cell_type": "code",
      "metadata": {
        "id": "1-bdE8d6h0cW"
      },
      "source": [
        "# Initial Setup\n",
        "\n",
        "train=True\n",
        "Epochs=35\n",
        "preload=False\n",
        "hough=False\n",
        "rams=False\n",
        "dynAug=False\n",
        "depth = 6\n",
        "chan = 64\n",
        "ir = 1.1\n",
        "rand_sv = 42\n",
        "ds = 'MIX'\n",
        "zone = 'DISK'\n",
        "cup = False\n",
        "mix = True\n",
        "dri = False\n",
        "rim = False"
      ],
      "execution_count": null,
      "outputs": []
    },
    {
      "cell_type": "code",
      "metadata": {
        "id": "WuaCss4d31b1",
        "colab": {
          "base_uri": "https://localhost:8080/"
        },
        "outputId": "9d021350-cb3e-4210-b3f7-21df40cc171f"
      },
      "source": [
        "print(depth,chan,ir,rand_sv,ds,zone)"
      ],
      "execution_count": null,
      "outputs": [
        {
          "output_type": "stream",
          "text": [
            "6 64 1.1 42 MIX DISK\n"
          ],
          "name": "stdout"
        }
      ]
    },
    {
      "cell_type": "code",
      "metadata": {
        "id": "_xV9Nn6JwIkR"
      },
      "source": [
        "# Import all the necessary libraries\n",
        "\n",
        "import tensorflow as tf\n",
        "import os\n",
        "import glob\n",
        "from datetime import datetime\n",
        "import warnings\n",
        "warnings.simplefilter('ignore')\n",
        "import scipy as sp\n",
        "import scipy.ndimage\n",
        "import numpy as np\n",
        "import pandas as pd\n",
        "import skimage\n",
        "import skimage.exposure\n",
        "import skimage.transform\n",
        "import skimage.measure\n",
        "from PIL import Image\n",
        "import matplotlib.pyplot as plt\n",
        "%matplotlib inline\n",
        "import cv2\n",
        "import h5py\n",
        "from tqdm import tqdm_notebook\n",
        "from IPython.display import display\n",
        "from tensorflow.keras.models import Sequential, Model\n",
        "from tensorflow.keras import layers as layers\n",
        "from tensorflow.keras.layers import Dense, Dropout, Activation, Flatten, BatchNormalization, Conv2D, MaxPooling2D, ZeroPadding2D, Input, Embedding, LSTM, Lambda, UpSampling2D, concatenate, Conv2DTranspose\n",
        "from tensorflow.keras.utils import plot_model\n",
        "from tensorflow.keras.optimizers import SGD, Adam, Adagrad\n",
        "from tensorflow.keras.callbacks import ModelCheckpoint, LearningRateScheduler, ReduceLROnPlateau, CSVLogger\n",
        "from tensorflow.keras.preprocessing.image import ImageDataGenerator\n",
        "from tensorflow.keras import backend as K\n",
        "from sklearn.model_selection import train_test_split\n",
        "import math\n",
        "from skimage.transform import hough_ellipse\n",
        "from skimage.draw import ellipse_perimeter, ellipse\n",
        "from skimage.measure import  ransac, EllipseModel"
      ],
      "execution_count": null,
      "outputs": []
    },
    {
      "cell_type": "code",
      "metadata": {
        "id": "MjSzDEK6IMHI",
        "colab": {
          "base_uri": "https://localhost:8080/"
        },
        "outputId": "bf4325c8-a32c-4bb1-dd80-60497fc2c746"
      },
      "source": [
        "# boiler plate code configuration for TPU or GPU selection\n",
        "\n",
        "print(\"Tensorflow version \" + tf.__version__)\n",
        "if 'COLAB_TPU_ADDR' in os.environ:\n",
        "  print(os.environ['COLAB_TPU_ADDR'])\n",
        "else:\n",
        "  print('No TPU')\n",
        "if(tf.test.is_gpu_available()):\n",
        "  gpu=True\n",
        "else:\n",
        "  gpu=False\n",
        "  print('No GPU')"
      ],
      "execution_count": null,
      "outputs": [
        {
          "output_type": "stream",
          "text": [
            "Tensorflow version 2.3.0\n",
            "10.1.26.154:8470\n",
            "WARNING:tensorflow:From <ipython-input-8-03f923cc4082>:8: is_gpu_available (from tensorflow.python.framework.test_util) is deprecated and will be removed in a future version.\n",
            "Instructions for updating:\n",
            "Use `tf.config.list_physical_devices('GPU')` instead.\n",
            "No GPU\n"
          ],
          "name": "stdout"
        }
      ]
    },
    {
      "cell_type": "code",
      "metadata": {
        "id": "3hb0xsjvWCt0"
      },
      "source": [
        "# Metrics and further helper functions below"
      ],
      "execution_count": null,
      "outputs": []
    },
    {
      "cell_type": "code",
      "metadata": {
        "id": "62AopuRZV5-M"
      },
      "source": [
        "# let's set tensorflow backend working type to be float\n",
        "\n",
        "K.set_floatx('float32')"
      ],
      "execution_count": null,
      "outputs": []
    },
    {
      "cell_type": "code",
      "metadata": {
        "scrolled": true,
        "id": "L3gKgtXdwsuO"
      },
      "source": [
        "# Metrics for evaluation\n",
        "\n",
        "def dice_coef(y_true, y_pred):\n",
        "    y_true_f = K.flatten(y_true)\n",
        "    y_pred_f = K.flatten(y_pred)\n",
        "    intersection = K.sum(y_true_f * y_pred_f)\n",
        "    return (2. * intersection + K.epsilon()) / (K.sum(y_true_f) + K.sum(y_pred_f) + K.epsilon())\n",
        "  \n",
        "def dice_loss(y_true,y_pred):\n",
        "    return -dice_coef(y_true,y_pred)\n",
        "  \n",
        "def log_dice_loss(y_true, y_pred):\n",
        "    return -K.log(dice_coef(y_true, y_pred))\n",
        "\n",
        "# Computes mean Intersection-over-Union (IOU) for two arrays of binary images.\n",
        "\n",
        "def iou_loss_core(y_true, y_pred, smooth=1):\n",
        "    intersection = K.sum(K.abs(y_true * y_pred), axis=-1)\n",
        "    union = K.sum(y_true,-1) + K.sum(y_pred,-1) - intersection\n",
        "    iou = (intersection + smooth) / (union + smooth)\n",
        "    return iou"
      ],
      "execution_count": null,
      "outputs": []
    },
    {
      "cell_type": "code",
      "metadata": {
        "id": "79Jic7wYc6mk"
      },
      "source": [
        "# helper function to increase the brightness\n",
        "# hue, saturation, value\n",
        "\n",
        "def modify_brightness_p(img, p=1.2):\n",
        "    hsv = cv2.cvtColor(img, cv2.COLOR_BGR2HSV)\n",
        "    h, s, v = cv2.split(hsv)\n",
        "\n",
        "    lim = 1.0/p\n",
        "    v[v > lim] = 1.0\n",
        "    v[v <= lim] *= p\n",
        "\n",
        "    final_hsv = cv2.merge((h, s, v))\n",
        "    img = cv2.cvtColor(final_hsv, cv2.COLOR_HSV2BGR).clip(min=0)\n",
        "    return img"
      ],
      "execution_count": null,
      "outputs": []
    },
    {
      "cell_type": "code",
      "metadata": {
        "id": "82FWBt7h9dGP"
      },
      "source": [
        "# helper code to shuffle\n",
        "\n",
        "def unison_shuffled_copies(a, b):\n",
        "    assert len(a) == len(b)\n",
        "    p = np.random.permutation(len(a))\n",
        "    return a[p], b[p]"
      ],
      "execution_count": null,
      "outputs": []
    },
    {
      "cell_type": "code",
      "metadata": {
        "id": "NFChKFpTU6I0"
      },
      "source": [
        "# helper code to 512 image size indices with original images\n",
        "\n",
        "def index512_resize(index,top):\n",
        "  index=index*top/512\n",
        "  return int(index)"
      ],
      "execution_count": null,
      "outputs": []
    },
    {
      "cell_type": "code",
      "metadata": {
        "scrolled": true,
        "id": "w7wU3WR3wsuZ"
      },
      "source": [
        "# Load the data\n",
        "h5f1 = h5py.File(os.path.join(os.path.dirname(os.getcwd()), '/content/gdrive/My Drive/Medical Image/cnn_term_paper', 'RIM_ONE_v3.hdf5'), 'r')\n",
        "h5f2 = h5py.File(os.path.join(os.path.dirname(os.getcwd()), '/content/gdrive/My Drive/Medical Image/cnn_term_paper', 'DRISHTI_GS.hdf5'), 'r')\n",
        "h5v1 = h5py.File(os.path.join(os.path.dirname(os.getcwd()), '/content/gdrive/My Drive/Medical Image/cnn_term_paper', 'DRIONS_DB.hdf5'), 'r')"
      ],
      "execution_count": null,
      "outputs": []
    },
    {
      "cell_type": "code",
      "metadata": {
        "id": "gYXcxzc-WNJd"
      },
      "source": [
        "# Let's define the U-Net Model"
      ],
      "execution_count": null,
      "outputs": []
    },
    {
      "cell_type": "code",
      "metadata": {
        "id": "AKUbHgIhWQ7s"
      },
      "source": [
        ""
      ],
      "execution_count": null,
      "outputs": []
    },
    {
      "cell_type": "code",
      "metadata": {
        "id": "WxScl3fO4UYb"
      },
      "source": [
        "def get_unet_light(img_rows=256, img_cols=256):\n",
        "    inputs = Input(( img_rows, img_cols,3))\n",
        "    conv1 = Conv2D(32, kernel_size=3, activation='relu', padding='same')(inputs)\n",
        "    conv1 = Dropout(0.3)(conv1)\n",
        "    conv1 = Conv2D(32, kernel_size=3, activation='relu', padding='same')(conv1)\n",
        "    pool1 = MaxPooling2D(pool_size=(2, 2))(conv1)\n",
        "\n",
        "    conv2 = Conv2D(64, kernel_size=3, activation='relu', padding='same')(pool1)\n",
        "    conv2 = Dropout(0.3)(conv2)\n",
        "    conv2 = Conv2D(64, kernel_size=3, activation='relu', padding='same')(conv2)\n",
        "    pool2 = MaxPooling2D(pool_size=(2, 2))(conv2)\n",
        "\n",
        "    conv3 = Conv2D(64, kernel_size=3, activation='relu', padding='same')(pool2)\n",
        "    conv3 = Dropout(0.3)(conv3)\n",
        "    conv3 = Conv2D(64, kernel_size=3, activation='relu', padding='same')(conv3)\n",
        "    pool3 = MaxPooling2D(pool_size=(2, 2))(conv3)\n",
        "\n",
        "    conv4 = Conv2D(64, kernel_size=3, activation='relu', padding='same')(pool3)\n",
        "    conv4 = Dropout(0.3)(conv4)\n",
        "    conv4 = Conv2D(64, kernel_size=3, activation='relu', padding='same')(conv4)\n",
        "    pool4 = MaxPooling2D(pool_size=(2, 2))(conv4)\n",
        "\n",
        "    conv5 = Conv2D(64, kernel_size=3, activation='relu', padding='same')(pool4)\n",
        "    conv5 = Dropout(0.3)(conv5)\n",
        "    conv5 = Conv2D(64, kernel_size=3, activation='relu', padding='same')(conv5)\n",
        "\n",
        "    up6 = concatenate([UpSampling2D(size=(2, 2))(conv5), conv4], axis = -1)\n",
        "    conv6 = Conv2D(64, kernel_size=3, activation='relu', padding='same')(up6)\n",
        "    conv6 = Dropout(0.3)(conv6)\n",
        "    conv6 = Conv2D(64, kernel_size=3, activation='relu', padding='same')(conv6)\n",
        "\n",
        "    up7 = concatenate([UpSampling2D(size=(2, 2))(conv6), conv3], axis=-1)\n",
        "    conv7 = Conv2D(64, kernel_size=3, activation='relu', padding='same')(up7)\n",
        "    conv7 = Dropout(0.3)(conv7)\n",
        "    conv7 = Conv2D(64, kernel_size=3, activation='relu', padding='same')(conv7)\n",
        "\n",
        "    up8 = concatenate([UpSampling2D(size=(2, 2))(conv7), conv2], axis = -1)\n",
        "    conv8 = Conv2D(64, kernel_size=3, activation='relu', padding='same')(up8)\n",
        "    conv8 = Dropout(0.3)(conv8)\n",
        "    conv8 = Conv2D(64, kernel_size=3, activation='relu', padding='same')(conv8)\n",
        "\n",
        "    up9 = concatenate([UpSampling2D(size=(2, 2))(conv8), conv1], axis = -1)\n",
        "    conv9 = Conv2D(32, kernel_size=3, activation='relu', padding='same')(up9)\n",
        "    conv9 = Dropout(0.3)(conv9)\n",
        "    conv9 = Conv2D(32, kernel_size=3, activation='relu', padding='same')(conv9)\n",
        "\n",
        "    conv10 = Conv2D(1, kernel_size=1, activation='sigmoid', padding='same')(conv9)\n",
        "    #conv10 = Flatten()(conv10)\n",
        "\n",
        "    model = Model(inputs=inputs, outputs=conv10)\n",
        "\n",
        "    return model"
      ],
      "execution_count": null,
      "outputs": []
    },
    {
      "cell_type": "code",
      "metadata": {
        "id": "0oNfHoZQWYyy"
      },
      "source": [
        "# We can find data preprocessing steps below\n",
        "# step1: prepare the data for our model injection\n",
        "# step2: Create train and test set by combining datasets\n",
        "# Step3: Preprocessing step for Cup Segmentation\n",
        "# step4: Shuffle the dataset\n",
        "# step5: Increase the size of dataset by Image Data Generator"
      ],
      "execution_count": null,
      "outputs": []
    },
    {
      "cell_type": "code",
      "metadata": {
        "id": "BVAiDcVW-7-K"
      },
      "source": [
        "img_shape=(128,128,3)"
      ],
      "execution_count": null,
      "outputs": []
    },
    {
      "cell_type": "code",
      "metadata": {
        "id": "R_4GQ6QZC4_E",
        "colab": {
          "base_uri": "https://localhost:8080/"
        },
        "outputId": "b60302b0-f383-4d8d-bd8a-1c7a65ca03d8"
      },
      "source": [
        "# DRISHTI Dataset\n",
        "# step1: prepare the data for our model injection\n",
        "\n",
        "Xori= np.asarray(h5f2['DRISHTI-GS/orig/images'])\n",
        "disc_locations = np.asarray( h5f2['DRISHTI-GS/512 px/disc_locations'])\n",
        "FC = np.asarray(h5f2['DRISHTI-GS/512 px/file_codes'] ) \n",
        "indDRI = np.arange(0,Xori.shape[0])\n",
        "bsqside=np.maximum((disc_locations[:,3]-disc_locations[:,1]),(disc_locations[:,2]-disc_locations[:,0]))\n",
        "isize=Xori.shape[1]\n",
        "\n",
        "if (cup):\n",
        "  \n",
        "  Yf = np.asarray(h5f2['DRISHTI-GS/512 px/cup'])\n",
        " \n",
        "  Xc = [Xori[i][index512_resize(disc_locations[i][0],isize):index512_resize(disc_locations[i][0]+bsqside[i],isize), index512_resize(disc_locations[i][1],isize):index512_resize(disc_locations[i][1]+bsqside[i],isize)] \n",
        "                   for i in range(len(Xori))]\n",
        "\n",
        "  Yc=[Yf[i][disc_locations[i][0]:disc_locations[i][0]+bsqside[i], disc_locations[i][1]:disc_locations[i][1]+bsqside[i]] \n",
        "                   for i in range(len(Xori))]\n",
        "\n",
        "else:\n",
        "  \n",
        "  Yf =np.asarray( h5f2['DRISHTI-GS/512 px/disc'])\n",
        "  \n",
        "  Xc = [Xori[i][index512_resize(50,isize):index512_resize(462,isize), index512_resize(50,isize):index512_resize(462,isize)] \n",
        "                   for i in range(len(Xori))]\n",
        "\n",
        "  Yc=[Yf[i][50:462,50:462] \n",
        "                   for i in range(len(Xori))]\n",
        "\n",
        "X=[cv2.resize(img, (128, 128),interpolation=cv2.INTER_NEAREST) for img in Xc]\n",
        "X=np.asarray(X) \n",
        "am=np.amax(X)\n",
        "X=X.astype(np.float32)/am \n",
        "print(np.amax(X),np.amin(X))\n",
        "\n",
        "Y=[cv2.resize(img, (128, 128),interpolation=cv2.INTER_NEAREST)[..., None] for img in Yc]\n",
        "Y=np.asarray(Y) \n",
        "ym=np.amax(Y) \n",
        "Yf=Y/ym\n",
        "#get binary mask\n",
        "Yb=(Y>0.5).astype(np.float32) \n",
        "\n",
        "print(np.amax(Yf),np.amin(Yf))\n",
        "print(X.shape)"
      ],
      "execution_count": null,
      "outputs": [
        {
          "output_type": "stream",
          "text": [
            "1.0 0.0\n",
            "1.0 0.0\n",
            "(50, 128, 128, 3)\n"
          ],
          "name": "stdout"
        }
      ]
    },
    {
      "cell_type": "code",
      "metadata": {
        "id": "2e0cSAtE7dpI",
        "colab": {
          "base_uri": "https://localhost:8080/"
        },
        "outputId": "2924cd04-0882-4f4c-857b-76e1b6cc92c1"
      },
      "source": [
        "# RIM ONE V_3 Dataset\n",
        "# step1: prepare the data for our model injection\n",
        "\n",
        "Xvori= h5f1['RIM-ONE v3/orig/images']\n",
        "disc_locationsv = h5f1['RIM-ONE v3/512 px/disc_locations']\n",
        "Glauv=np.asarray(h5f1['RIM-ONE v3/512 px/is_ill'] )\n",
        "FCv=np.asarray(h5f1['RIM-ONE v3/512 px/file_codes'])\n",
        "indRIM=np.arange(0,Xvori.shape[0])\n",
        "bsqsidev=np.maximum((disc_locationsv[:,3]-disc_locationsv[:,1]),(disc_locationsv[:,2]-disc_locationsv[:,0]))\n",
        "low_cont_n=0;\n",
        "ivsize=Xvori.shape[1]\n",
        "\n",
        "if (cup):\n",
        "\n",
        "  Yvf = h5f1['RIM-ONE v3/512 px/cup']\n",
        "\n",
        "  Xvc = [Xvori[i][index512_resize(disc_locationsv[i][0],ivsize):index512_resize(disc_locationsv[i][0]+bsqsidev[i],ivsize), index512_resize(disc_locationsv[i][1],ivsize):index512_resize(disc_locationsv[i][1]+bsqsidev[i],ivsize)] \n",
        "                     for i in range(len(Xvori))]\n",
        "\n",
        "  Yvc=[Yvf[i][disc_locationsv[i][0]:disc_locationsv[i][0]+bsqsidev[i], disc_locationsv[i][1]:disc_locationsv[i][1]+bsqsidev[i]] \n",
        "                     for i in range(len(Xvori))]\n",
        "\n",
        "else:\n",
        "\n",
        "  Yvf = h5f1['RIM-ONE v3/512 px/disc']\n",
        "\n",
        "  Xvc = [Xvori[i][index512_resize(50,isize):index512_resize(462,ivsize), index512_resize(50,isize):index512_resize(462,ivsize)] \n",
        "                     for i in range(len(Xvori))]\n",
        "\n",
        "  Yvc=[Yvf[i][50:462,50:462] \n",
        "                     for i in range(len(Xvori))]\n",
        "\n",
        "\n",
        "Xvn=[cv2.resize(img, (128, 128),interpolation=cv2.INTER_NEAREST) for img in Xvc]\n",
        "Xv=np.asarray(Xvn) \n",
        "am=np.amax(Xv)\n",
        "Xv=Xv.astype(np.float32)/am \n",
        "print(np.amax(Xv),np.amin(Xv))\n",
        "\n",
        "Yv=[cv2.resize(img, (128, 128),interpolation=cv2.INTER_NEAREST)[..., None] for img in Yvc]\n",
        "Yv=np.asarray(Yv) \n",
        "ym=np.amax(Yv) \n",
        "Yvf=(Yv/ym).astype(np.float32) \n",
        "\n",
        "print(np.amax(Yvf),np.amin(Yvf))\n",
        "print(Xv.shape)"
      ],
      "execution_count": null,
      "outputs": [
        {
          "output_type": "stream",
          "text": [
            "1.0 0.0\n",
            "1.0 0.0\n",
            "(159, 128, 128, 3)\n"
          ],
          "name": "stdout"
        }
      ]
    },
    {
      "cell_type": "code",
      "metadata": {
        "id": "bOkf5DyYMIVl"
      },
      "source": [
        "# step2: Create train and test set by combining datasets\n",
        "\n",
        "rng = np.random.RandomState(rand_sv)\n",
        "\n",
        "#DRISHTI\n",
        "X_train1t, X_test1t, Y_train1t, Y_test1t, F_train1t, F_test1t ,ind_train1, ind_test1= train_test_split( X, Yb, FC, indDRI,test_size=0.25,random_state=rng)\n",
        "\n",
        "#RIM ONE\n",
        "X_train2, X_test2, Y_train2, Y_test2, F_train2, F_test2, ind_train2, ind_test2= train_test_split( Xv, Yvf, FCv, indRIM, test_size=0.25,random_state=rng)\n",
        "\n",
        "X_test_dri=np.copy(X_test1t)\n",
        "Y_test_dri=np.copy(Y_test1t)\n",
        "F_test_dri=np.copy(F_test1t)\n",
        "\n",
        "X_test_rim=np.copy(X_test2)\n",
        "Y_test_rim=np.copy(Y_test2)\n",
        "F_test_rim=np.copy(F_test2)\n",
        "\n",
        "if(dri or mix):\n",
        "  X_train1=np.concatenate([X_train1t,X_train1t])\n",
        "  X_train1=np.concatenate([X_train1,X_train1t])\n",
        "  X_test1=np.concatenate([X_test1t,X_test1t])\n",
        "  X_test1=np.concatenate([X_test1,X_test1t])\n",
        "\n",
        "  Y_train1=np.concatenate([Y_train1t,Y_train1t])\n",
        "  Y_train1=np.concatenate([Y_train1,Y_train1t])\n",
        "  Y_test1=np.concatenate([Y_test1t,Y_test1t])\n",
        "  Y_test1=np.concatenate([Y_test1,Y_test1t])\n",
        "\n",
        "if(mix):\n",
        "  X_train1=np.concatenate([X_train1,X_train2])\n",
        "  Y_train1=np.concatenate([Y_train1,Y_train2])\n",
        "  X_test1=np.concatenate([X_test1,X_test2])\n",
        "  Y_test1=np.concatenate([Y_test1,Y_test2])\n",
        "\n",
        "  X_train1=np.concatenate([X_train1,X_train2])\n",
        "  Y_train1=np.concatenate([Y_train1,Y_train2])\n",
        "  X_test1=np.concatenate([X_test1,X_test2])\n",
        "  Y_test1=np.concatenate([Y_test1,Y_test2])\n",
        "\n",
        "if(rim):\n",
        "  X_train1=np.concatenate([X_train2,X_train2])\n",
        "  X_test1=np.concatenate([X_test2,X_test2])\n",
        "\n",
        "  Y_train1=np.concatenate([Y_train2,Y_train2])\n",
        "  Y_test1=np.concatenate([Y_test2,Y_test2])\n",
        "\n",
        "if(dri):\n",
        "  X_train1=np.concatenate([X_train1,X_train1])\n",
        "  Y_train1=np.concatenate([Y_train1,Y_train1])\n",
        "\n",
        "X_train1=np.asarray(X_train1)\n",
        "Y_train1=np.asarray(Y_train1)\n",
        "X_test=np.asarray(X_test1)\n",
        "Y_test=np.asarray(Y_test1)\n",
        "\n",
        "X_train=np.copy(X_train1)\n",
        "Y_train=np.copy(Y_train1)\n",
        "\n",
        "size=X_train1.shape[0]\n",
        "\n",
        "X_traine=np.empty((20*size, 128, 128, 3),dtype=np.float32)\n",
        "Y_traine=np.empty((20*size, 128, 128, 1),dtype=np.float32) "
      ],
      "execution_count": null,
      "outputs": []
    },
    {
      "cell_type": "code",
      "metadata": {
        "id": "9YdMKLwXMIqV",
        "colab": {
          "base_uri": "https://localhost:8080/",
          "height": 117,
          "referenced_widgets": [
            "026742a748e14f0e9c7a922dff7533b7",
            "4f2f0bdb17b54ce8a8ce99ed11d29a4f",
            "6105723877764e6594f0ebfc1d70b718",
            "10e0d585627245a48979da6205c4d612",
            "773158418dc44b30a25abcd15225834c",
            "bf7f5350b359426a87baff8711ef1983",
            "bb97837676bd4612b8b8e15c1c20a7f6",
            "06f448c00d5d47ab9afce8f6f2e08b41",
            "4ea11eb2246c41edaabebcf3d6e63614",
            "bc062d1e55b74a7592b56e59933d4fa6",
            "099da0c256a543cb9a0801b8c9d802bf",
            "37f755cfd6484da5b67c48a5d09e7567",
            "a8f4207b45574149a6920e9eaa162058",
            "918511a4a9fc4bcd9c234a8ff28cbacd",
            "ecf3faaac5d8472fb6f1bd3015626ce5",
            "c2c625c08a674888ba5f7a82b8f3c3af"
          ]
        },
        "outputId": "9b578e66-a12b-4178-855d-95a0c35d3df3"
      },
      "source": [
        "# Step3: Preprocessing step for Cup Segmentation\n",
        "# Perform CLAHE on each image\n",
        "\n",
        "for i in range(16):\n",
        "  X_traine[i*size:(i+1)*size]=X_train1\n",
        "  Y_traine[i*size:(i+1)*size]=Y_train1\n",
        "  \n",
        "base= 16*size\n",
        "\n",
        "for j in tqdm_notebook(range(X_train1.shape[0])):\n",
        "  X_traine[base]=skimage.exposure.equalize_adapthist(X_train1[j], clip_limit=0.04)\n",
        "  Y_traine[base]=Y_train1[j]\n",
        "  base+=1\n",
        "  X_traine[base]=skimage.exposure.equalize_adapthist(X_train1[j], clip_limit=0.02)\n",
        "  Y_traine[base]=Y_train1[j]\n",
        "  base+=1\n",
        "  X_traine[base]=modify_brightness_p(X_train1[j],0.9)\n",
        "  Y_traine[base]=Y_train1[j]\n",
        "  base+=1\n",
        "  X_traine[base]=modify_brightness_p(X_train1[j],1.1)\n",
        "  Y_traine[base]=Y_train1[j]\n",
        "  base+=1\n",
        "  \n",
        "X_testc=np.copy(X_test)\n",
        "Y_testc=np.copy(Y_test)\n",
        "\n",
        "sizev=X_testc.shape[0]\n",
        "\n",
        "X_teste=np.empty((20*sizev, 128, 128, 3),dtype=np.float32)\n",
        "Y_teste=np.empty((20*sizev, 128, 128, 1),dtype=np.float32)\n",
        "\n",
        "for i in range(8):\n",
        "  X_teste[i*sizev:(i+1)*sizev]=X_testc\n",
        "  Y_teste[i*sizev:(i+1)*sizev]=Y_testc\n",
        "  \n",
        "basev= 8*sizev\n",
        "\n",
        "for j in tqdm_notebook(range(X_testc.shape[0])):\n",
        "  X_teste[basev]=skimage.exposure.equalize_adapthist(X_testc[j], clip_limit=0.04)\n",
        "  Y_teste[basev]=Y_testc[j]\n",
        "  basev+=1\n",
        "  X_teste[basev]=skimage.exposure.equalize_adapthist(X_testc[j], clip_limit=0.02)\n",
        "  Y_teste[basev]=Y_testc[j]\n",
        "  basev+=1\n",
        "  X_teste[basev]=modify_brightness_p(X_testc[j],0.9)\n",
        "  Y_teste[basev]=Y_testc[j]\n",
        "  basev+=1\n",
        "  X_teste[basev]=modify_brightness_p(X_testc[j],1.1)\n",
        "  Y_teste[basev]=Y_testc[j]\n",
        "  basev+=1"
      ],
      "execution_count": null,
      "outputs": [
        {
          "output_type": "display_data",
          "data": {
            "application/vnd.jupyter.widget-view+json": {
              "model_id": "026742a748e14f0e9c7a922dff7533b7",
              "version_minor": 0,
              "version_major": 2
            },
            "text/plain": [
              "HBox(children=(FloatProgress(value=0.0, max=349.0), HTML(value='')))"
            ]
          },
          "metadata": {
            "tags": []
          }
        },
        {
          "output_type": "stream",
          "text": [
            "\n"
          ],
          "name": "stdout"
        },
        {
          "output_type": "display_data",
          "data": {
            "application/vnd.jupyter.widget-view+json": {
              "model_id": "4ea11eb2246c41edaabebcf3d6e63614",
              "version_minor": 0,
              "version_major": 2
            },
            "text/plain": [
              "HBox(children=(FloatProgress(value=0.0, max=119.0), HTML(value='')))"
            ]
          },
          "metadata": {
            "tags": []
          }
        },
        {
          "output_type": "stream",
          "text": [
            "\n"
          ],
          "name": "stdout"
        }
      ]
    },
    {
      "cell_type": "code",
      "metadata": {
        "id": "k0LN9Tqi-BWg"
      },
      "source": [
        "# step4: Shuffle the dataset\n",
        "\n",
        "X_trains,Y_trains = unison_shuffled_copies(X_traine, Y_traine)\n",
        "X_tests,Y_tests = unison_shuffled_copies(X_teste, Y_teste)"
      ],
      "execution_count": null,
      "outputs": []
    },
    {
      "cell_type": "code",
      "metadata": {
        "id": "XAMuOnUGFI4o"
      },
      "source": [
        "# Provide the same seed and keyword arguments to the fit and flow methods\n",
        "\n",
        "seed = rand_sv\n",
        "batch_s = 120"
      ],
      "execution_count": null,
      "outputs": []
    },
    {
      "cell_type": "code",
      "metadata": {
        "id": "DgxWT8xrXMEF"
      },
      "source": [
        "# We can find model training and evaluation steps below"
      ],
      "execution_count": null,
      "outputs": []
    },
    {
      "cell_type": "code",
      "metadata": {
        "id": "cG3TALY1_ofB"
      },
      "source": [
        "# helper function for ipython notebook\n",
        "\n",
        "cp_callbacks = tf.keras.callbacks.ModelCheckpoint(filepath=os.path.join('/content/gdrive/My Drive/Medical Image/cnn_term_paper/last_check_point.hdf5'), verbose=1, save_best_only=True,save_weights_only=True)\n",
        "reduce_lr = ReduceLROnPlateau(monitor='val_loss', factor=0.8, patience=5, min_lr=2e-4)"
      ],
      "execution_count": null,
      "outputs": []
    },
    {
      "cell_type": "code",
      "metadata": {
        "id": "1e79XCvBAlpd",
        "colab": {
          "base_uri": "https://localhost:8080/"
        },
        "outputId": "7330a0ee-77ad-4987-9c5b-9eb0cbe9967e"
      },
      "source": [
        "img_shape"
      ],
      "execution_count": null,
      "outputs": [
        {
          "output_type": "execute_result",
          "data": {
            "text/plain": [
              "(128, 128, 3)"
            ]
          },
          "metadata": {
            "tags": []
          },
          "execution_count": 31
        }
      ]
    },
    {
      "cell_type": "code",
      "metadata": {
        "id": "Wp2MYmAvMj4p",
        "colab": {
          "base_uri": "https://localhost:8080/"
        },
        "outputId": "eeb5e99a-4939-4ec5-aded-9b5a7a83ee3a"
      },
      "source": [
        "# Boiler plate code to enable TPU or GPU in Google Colab\n",
        "# initialise GPU or TPU\n",
        "\n",
        "if 'COLAB_TPU_ADDR' not in  os.environ:\n",
        "  if (gpu):\n",
        "    strategy = tf.distribute.OneDeviceStrategy(device=\"/gpu:0\")\n",
        "  else:\n",
        "    strategy = tf.distribute.OneDeviceStrategy(device=\"/cpu:0\")\n",
        "else:\n",
        "  resolver = tf.distribute.cluster_resolver.TPUClusterResolver(tpu='grpc://' + os.environ['COLAB_TPU_ADDR'])\n",
        "  tf.config.experimental_connect_to_cluster(resolver)\n",
        "  tf.tpu.experimental.initialize_tpu_system(resolver)\n",
        "  strategy = tf.distribute.experimental.TPUStrategy(resolver)\n",
        "\n",
        "model = get_unet_light(img_rows=128, img_cols=128)\n",
        "model.compile(\n",
        "    optimizer=tf.keras.optimizers.Adam(learning_rate=.001, ),\n",
        "    loss=log_dice_loss, metrics=[dice_coef]\n",
        "    )"
      ],
      "execution_count": null,
      "outputs": [
        {
          "output_type": "stream",
          "text": [
            "INFO:tensorflow:Initializing the TPU system: grpc://10.1.26.154:8470\n"
          ],
          "name": "stdout"
        },
        {
          "output_type": "stream",
          "text": [
            "INFO:tensorflow:Initializing the TPU system: grpc://10.1.26.154:8470\n"
          ],
          "name": "stderr"
        },
        {
          "output_type": "stream",
          "text": [
            "INFO:tensorflow:Clearing out eager caches\n"
          ],
          "name": "stdout"
        },
        {
          "output_type": "stream",
          "text": [
            "INFO:tensorflow:Clearing out eager caches\n"
          ],
          "name": "stderr"
        },
        {
          "output_type": "stream",
          "text": [
            "INFO:tensorflow:Finished initializing TPU system.\n"
          ],
          "name": "stdout"
        },
        {
          "output_type": "stream",
          "text": [
            "INFO:tensorflow:Finished initializing TPU system.\n",
            "WARNING:absl:`tf.distribute.experimental.TPUStrategy` is deprecated, please use  the non experimental symbol `tf.distribute.TPUStrategy` instead.\n"
          ],
          "name": "stderr"
        },
        {
          "output_type": "stream",
          "text": [
            "INFO:tensorflow:Found TPU system:\n"
          ],
          "name": "stdout"
        },
        {
          "output_type": "stream",
          "text": [
            "INFO:tensorflow:Found TPU system:\n"
          ],
          "name": "stderr"
        },
        {
          "output_type": "stream",
          "text": [
            "INFO:tensorflow:*** Num TPU Cores: 8\n"
          ],
          "name": "stdout"
        },
        {
          "output_type": "stream",
          "text": [
            "INFO:tensorflow:*** Num TPU Cores: 8\n"
          ],
          "name": "stderr"
        },
        {
          "output_type": "stream",
          "text": [
            "INFO:tensorflow:*** Num TPU Workers: 1\n"
          ],
          "name": "stdout"
        },
        {
          "output_type": "stream",
          "text": [
            "INFO:tensorflow:*** Num TPU Workers: 1\n"
          ],
          "name": "stderr"
        },
        {
          "output_type": "stream",
          "text": [
            "INFO:tensorflow:*** Num TPU Cores Per Worker: 8\n"
          ],
          "name": "stdout"
        },
        {
          "output_type": "stream",
          "text": [
            "INFO:tensorflow:*** Num TPU Cores Per Worker: 8\n"
          ],
          "name": "stderr"
        },
        {
          "output_type": "stream",
          "text": [
            "INFO:tensorflow:*** Available Device: _DeviceAttributes(/job:localhost/replica:0/task:0/device:CPU:0, CPU, 0, 0)\n"
          ],
          "name": "stdout"
        },
        {
          "output_type": "stream",
          "text": [
            "INFO:tensorflow:*** Available Device: _DeviceAttributes(/job:localhost/replica:0/task:0/device:CPU:0, CPU, 0, 0)\n"
          ],
          "name": "stderr"
        },
        {
          "output_type": "stream",
          "text": [
            "INFO:tensorflow:*** Available Device: _DeviceAttributes(/job:localhost/replica:0/task:0/device:XLA_CPU:0, XLA_CPU, 0, 0)\n"
          ],
          "name": "stdout"
        },
        {
          "output_type": "stream",
          "text": [
            "INFO:tensorflow:*** Available Device: _DeviceAttributes(/job:localhost/replica:0/task:0/device:XLA_CPU:0, XLA_CPU, 0, 0)\n"
          ],
          "name": "stderr"
        },
        {
          "output_type": "stream",
          "text": [
            "INFO:tensorflow:*** Available Device: _DeviceAttributes(/job:worker/replica:0/task:0/device:CPU:0, CPU, 0, 0)\n"
          ],
          "name": "stdout"
        },
        {
          "output_type": "stream",
          "text": [
            "INFO:tensorflow:*** Available Device: _DeviceAttributes(/job:worker/replica:0/task:0/device:CPU:0, CPU, 0, 0)\n"
          ],
          "name": "stderr"
        },
        {
          "output_type": "stream",
          "text": [
            "INFO:tensorflow:*** Available Device: _DeviceAttributes(/job:worker/replica:0/task:0/device:TPU:0, TPU, 0, 0)\n"
          ],
          "name": "stdout"
        },
        {
          "output_type": "stream",
          "text": [
            "INFO:tensorflow:*** Available Device: _DeviceAttributes(/job:worker/replica:0/task:0/device:TPU:0, TPU, 0, 0)\n"
          ],
          "name": "stderr"
        },
        {
          "output_type": "stream",
          "text": [
            "INFO:tensorflow:*** Available Device: _DeviceAttributes(/job:worker/replica:0/task:0/device:TPU:1, TPU, 0, 0)\n"
          ],
          "name": "stdout"
        },
        {
          "output_type": "stream",
          "text": [
            "INFO:tensorflow:*** Available Device: _DeviceAttributes(/job:worker/replica:0/task:0/device:TPU:1, TPU, 0, 0)\n"
          ],
          "name": "stderr"
        },
        {
          "output_type": "stream",
          "text": [
            "INFO:tensorflow:*** Available Device: _DeviceAttributes(/job:worker/replica:0/task:0/device:TPU:2, TPU, 0, 0)\n"
          ],
          "name": "stdout"
        },
        {
          "output_type": "stream",
          "text": [
            "INFO:tensorflow:*** Available Device: _DeviceAttributes(/job:worker/replica:0/task:0/device:TPU:2, TPU, 0, 0)\n"
          ],
          "name": "stderr"
        },
        {
          "output_type": "stream",
          "text": [
            "INFO:tensorflow:*** Available Device: _DeviceAttributes(/job:worker/replica:0/task:0/device:TPU:3, TPU, 0, 0)\n"
          ],
          "name": "stdout"
        },
        {
          "output_type": "stream",
          "text": [
            "INFO:tensorflow:*** Available Device: _DeviceAttributes(/job:worker/replica:0/task:0/device:TPU:3, TPU, 0, 0)\n"
          ],
          "name": "stderr"
        },
        {
          "output_type": "stream",
          "text": [
            "INFO:tensorflow:*** Available Device: _DeviceAttributes(/job:worker/replica:0/task:0/device:TPU:4, TPU, 0, 0)\n"
          ],
          "name": "stdout"
        },
        {
          "output_type": "stream",
          "text": [
            "INFO:tensorflow:*** Available Device: _DeviceAttributes(/job:worker/replica:0/task:0/device:TPU:4, TPU, 0, 0)\n"
          ],
          "name": "stderr"
        },
        {
          "output_type": "stream",
          "text": [
            "INFO:tensorflow:*** Available Device: _DeviceAttributes(/job:worker/replica:0/task:0/device:TPU:5, TPU, 0, 0)\n"
          ],
          "name": "stdout"
        },
        {
          "output_type": "stream",
          "text": [
            "INFO:tensorflow:*** Available Device: _DeviceAttributes(/job:worker/replica:0/task:0/device:TPU:5, TPU, 0, 0)\n"
          ],
          "name": "stderr"
        },
        {
          "output_type": "stream",
          "text": [
            "INFO:tensorflow:*** Available Device: _DeviceAttributes(/job:worker/replica:0/task:0/device:TPU:6, TPU, 0, 0)\n"
          ],
          "name": "stdout"
        },
        {
          "output_type": "stream",
          "text": [
            "INFO:tensorflow:*** Available Device: _DeviceAttributes(/job:worker/replica:0/task:0/device:TPU:6, TPU, 0, 0)\n"
          ],
          "name": "stderr"
        },
        {
          "output_type": "stream",
          "text": [
            "INFO:tensorflow:*** Available Device: _DeviceAttributes(/job:worker/replica:0/task:0/device:TPU:7, TPU, 0, 0)\n"
          ],
          "name": "stdout"
        },
        {
          "output_type": "stream",
          "text": [
            "INFO:tensorflow:*** Available Device: _DeviceAttributes(/job:worker/replica:0/task:0/device:TPU:7, TPU, 0, 0)\n"
          ],
          "name": "stderr"
        },
        {
          "output_type": "stream",
          "text": [
            "INFO:tensorflow:*** Available Device: _DeviceAttributes(/job:worker/replica:0/task:0/device:TPU_SYSTEM:0, TPU_SYSTEM, 0, 0)\n"
          ],
          "name": "stdout"
        },
        {
          "output_type": "stream",
          "text": [
            "INFO:tensorflow:*** Available Device: _DeviceAttributes(/job:worker/replica:0/task:0/device:TPU_SYSTEM:0, TPU_SYSTEM, 0, 0)\n"
          ],
          "name": "stderr"
        },
        {
          "output_type": "stream",
          "text": [
            "INFO:tensorflow:*** Available Device: _DeviceAttributes(/job:worker/replica:0/task:0/device:XLA_CPU:0, XLA_CPU, 0, 0)\n"
          ],
          "name": "stdout"
        },
        {
          "output_type": "stream",
          "text": [
            "INFO:tensorflow:*** Available Device: _DeviceAttributes(/job:worker/replica:0/task:0/device:XLA_CPU:0, XLA_CPU, 0, 0)\n"
          ],
          "name": "stderr"
        }
      ]
    },
    {
      "cell_type": "code",
      "metadata": {
        "id": "k5EwQ4L-kZyZ",
        "colab": {
          "base_uri": "https://localhost:8080/"
        },
        "outputId": "ecd80a66-0bc0-4142-f384-a3d712b3243d"
      },
      "source": [
        "# Understand the model\n",
        "model.summary()"
      ],
      "execution_count": null,
      "outputs": [
        {
          "output_type": "stream",
          "text": [
            "Model: \"functional_1\"\n",
            "__________________________________________________________________________________________________\n",
            "Layer (type)                    Output Shape         Param #     Connected to                     \n",
            "==================================================================================================\n",
            "input_1 (InputLayer)            [(None, 128, 128, 3) 0                                            \n",
            "__________________________________________________________________________________________________\n",
            "conv2d (Conv2D)                 (None, 128, 128, 32) 896         input_1[0][0]                    \n",
            "__________________________________________________________________________________________________\n",
            "dropout (Dropout)               (None, 128, 128, 32) 0           conv2d[0][0]                     \n",
            "__________________________________________________________________________________________________\n",
            "conv2d_1 (Conv2D)               (None, 128, 128, 32) 9248        dropout[0][0]                    \n",
            "__________________________________________________________________________________________________\n",
            "max_pooling2d (MaxPooling2D)    (None, 64, 64, 32)   0           conv2d_1[0][0]                   \n",
            "__________________________________________________________________________________________________\n",
            "conv2d_2 (Conv2D)               (None, 64, 64, 64)   18496       max_pooling2d[0][0]              \n",
            "__________________________________________________________________________________________________\n",
            "dropout_1 (Dropout)             (None, 64, 64, 64)   0           conv2d_2[0][0]                   \n",
            "__________________________________________________________________________________________________\n",
            "conv2d_3 (Conv2D)               (None, 64, 64, 64)   36928       dropout_1[0][0]                  \n",
            "__________________________________________________________________________________________________\n",
            "max_pooling2d_1 (MaxPooling2D)  (None, 32, 32, 64)   0           conv2d_3[0][0]                   \n",
            "__________________________________________________________________________________________________\n",
            "conv2d_4 (Conv2D)               (None, 32, 32, 64)   36928       max_pooling2d_1[0][0]            \n",
            "__________________________________________________________________________________________________\n",
            "dropout_2 (Dropout)             (None, 32, 32, 64)   0           conv2d_4[0][0]                   \n",
            "__________________________________________________________________________________________________\n",
            "conv2d_5 (Conv2D)               (None, 32, 32, 64)   36928       dropout_2[0][0]                  \n",
            "__________________________________________________________________________________________________\n",
            "max_pooling2d_2 (MaxPooling2D)  (None, 16, 16, 64)   0           conv2d_5[0][0]                   \n",
            "__________________________________________________________________________________________________\n",
            "conv2d_6 (Conv2D)               (None, 16, 16, 64)   36928       max_pooling2d_2[0][0]            \n",
            "__________________________________________________________________________________________________\n",
            "dropout_3 (Dropout)             (None, 16, 16, 64)   0           conv2d_6[0][0]                   \n",
            "__________________________________________________________________________________________________\n",
            "conv2d_7 (Conv2D)               (None, 16, 16, 64)   36928       dropout_3[0][0]                  \n",
            "__________________________________________________________________________________________________\n",
            "max_pooling2d_3 (MaxPooling2D)  (None, 8, 8, 64)     0           conv2d_7[0][0]                   \n",
            "__________________________________________________________________________________________________\n",
            "conv2d_8 (Conv2D)               (None, 8, 8, 64)     36928       max_pooling2d_3[0][0]            \n",
            "__________________________________________________________________________________________________\n",
            "dropout_4 (Dropout)             (None, 8, 8, 64)     0           conv2d_8[0][0]                   \n",
            "__________________________________________________________________________________________________\n",
            "conv2d_9 (Conv2D)               (None, 8, 8, 64)     36928       dropout_4[0][0]                  \n",
            "__________________________________________________________________________________________________\n",
            "up_sampling2d (UpSampling2D)    (None, 16, 16, 64)   0           conv2d_9[0][0]                   \n",
            "__________________________________________________________________________________________________\n",
            "concatenate (Concatenate)       (None, 16, 16, 128)  0           up_sampling2d[0][0]              \n",
            "                                                                 conv2d_7[0][0]                   \n",
            "__________________________________________________________________________________________________\n",
            "conv2d_10 (Conv2D)              (None, 16, 16, 64)   73792       concatenate[0][0]                \n",
            "__________________________________________________________________________________________________\n",
            "dropout_5 (Dropout)             (None, 16, 16, 64)   0           conv2d_10[0][0]                  \n",
            "__________________________________________________________________________________________________\n",
            "conv2d_11 (Conv2D)              (None, 16, 16, 64)   36928       dropout_5[0][0]                  \n",
            "__________________________________________________________________________________________________\n",
            "up_sampling2d_1 (UpSampling2D)  (None, 32, 32, 64)   0           conv2d_11[0][0]                  \n",
            "__________________________________________________________________________________________________\n",
            "concatenate_1 (Concatenate)     (None, 32, 32, 128)  0           up_sampling2d_1[0][0]            \n",
            "                                                                 conv2d_5[0][0]                   \n",
            "__________________________________________________________________________________________________\n",
            "conv2d_12 (Conv2D)              (None, 32, 32, 64)   73792       concatenate_1[0][0]              \n",
            "__________________________________________________________________________________________________\n",
            "dropout_6 (Dropout)             (None, 32, 32, 64)   0           conv2d_12[0][0]                  \n",
            "__________________________________________________________________________________________________\n",
            "conv2d_13 (Conv2D)              (None, 32, 32, 64)   36928       dropout_6[0][0]                  \n",
            "__________________________________________________________________________________________________\n",
            "up_sampling2d_2 (UpSampling2D)  (None, 64, 64, 64)   0           conv2d_13[0][0]                  \n",
            "__________________________________________________________________________________________________\n",
            "concatenate_2 (Concatenate)     (None, 64, 64, 128)  0           up_sampling2d_2[0][0]            \n",
            "                                                                 conv2d_3[0][0]                   \n",
            "__________________________________________________________________________________________________\n",
            "conv2d_14 (Conv2D)              (None, 64, 64, 64)   73792       concatenate_2[0][0]              \n",
            "__________________________________________________________________________________________________\n",
            "dropout_7 (Dropout)             (None, 64, 64, 64)   0           conv2d_14[0][0]                  \n",
            "__________________________________________________________________________________________________\n",
            "conv2d_15 (Conv2D)              (None, 64, 64, 64)   36928       dropout_7[0][0]                  \n",
            "__________________________________________________________________________________________________\n",
            "up_sampling2d_3 (UpSampling2D)  (None, 128, 128, 64) 0           conv2d_15[0][0]                  \n",
            "__________________________________________________________________________________________________\n",
            "concatenate_3 (Concatenate)     (None, 128, 128, 96) 0           up_sampling2d_3[0][0]            \n",
            "                                                                 conv2d_1[0][0]                   \n",
            "__________________________________________________________________________________________________\n",
            "conv2d_16 (Conv2D)              (None, 128, 128, 32) 27680       concatenate_3[0][0]              \n",
            "__________________________________________________________________________________________________\n",
            "dropout_8 (Dropout)             (None, 128, 128, 32) 0           conv2d_16[0][0]                  \n",
            "__________________________________________________________________________________________________\n",
            "conv2d_17 (Conv2D)              (None, 128, 128, 32) 9248        dropout_8[0][0]                  \n",
            "__________________________________________________________________________________________________\n",
            "conv2d_18 (Conv2D)              (None, 128, 128, 1)  33          conv2d_17[0][0]                  \n",
            "==================================================================================================\n",
            "Total params: 656,257\n",
            "Trainable params: 656,257\n",
            "Non-trainable params: 0\n",
            "__________________________________________________________________________________________________\n"
          ],
          "name": "stdout"
        }
      ]
    },
    {
      "cell_type": "code",
      "metadata": {
        "id": "pghPxpH03FVN"
      },
      "source": [
        "# if(preload):\n",
        "#   model.load_weights(os.path.join('/content/gdrive/My Drive/Medical Image/cnn_term_paper/model2_disk_last_check_point.hdf5'))"
      ],
      "execution_count": null,
      "outputs": []
    },
    {
      "cell_type": "code",
      "metadata": {
        "id": "LsNQz_UP8SEM",
        "colab": {
          "base_uri": "https://localhost:8080/"
        },
        "outputId": "2f570569-8c96-4bd4-d361-f31d4112f3e4"
      },
      "source": [
        "X_tests.shape"
      ],
      "execution_count": null,
      "outputs": [
        {
          "output_type": "execute_result",
          "data": {
            "text/plain": [
              "(2380, 128, 128, 3)"
            ]
          },
          "metadata": {
            "tags": []
          },
          "execution_count": 35
        }
      ]
    },
    {
      "cell_type": "code",
      "metadata": {
        "id": "lc99NWpsgmIr",
        "colab": {
          "base_uri": "https://localhost:8080/"
        },
        "outputId": "1bb3754f-ee04-45d2-898d-5368520bebb7"
      },
      "source": [
        "# Model Training Step \n",
        "\n",
        "if(train):\n",
        "  history = model.fit(\n",
        "    X_trains,Y_trains,\n",
        "    epochs=Epochs,\n",
        "    batch_size=128,\n",
        "    steps_per_epoch=35,\n",
        "    validation_data = (X_tests,Y_tests),\n",
        "    callbacks=[cp_callbacks,reduce_lr],\n",
        "    verbose=1\n",
        "  )\n",
        "\n",
        "# save the trained model weights\n",
        "model.save_weights(os.path.join('/content/gdrive/My Drive/Medical Image/cnn_term_paper/model2_disk_last_check_point.hdf5'), overwrite=True)"
      ],
      "execution_count": null,
      "outputs": [
        {
          "output_type": "stream",
          "text": [
            "Epoch 1/35\n",
            " 2/35 [>.............................] - ETA: 1:19 - loss: 2.4614 - dice_coef: 0.0854WARNING:tensorflow:Callbacks method `on_train_batch_end` is slow compared to the batch time (batch time: 0.0007s vs `on_train_batch_end` time: 4.8254s). Check your callbacks.\n"
          ],
          "name": "stdout"
        },
        {
          "output_type": "stream",
          "text": [
            "WARNING:tensorflow:Callbacks method `on_train_batch_end` is slow compared to the batch time (batch time: 0.0007s vs `on_train_batch_end` time: 4.8254s). Check your callbacks.\n"
          ],
          "name": "stderr"
        },
        {
          "output_type": "stream",
          "text": [
            "35/35 [==============================] - ETA: 0s - loss: 1.6272 - dice_coef: 0.2664WARNING:tensorflow:Callbacks method `on_test_batch_end` is slow compared to the batch time (batch time: 0.0007s vs `on_test_batch_end` time: 0.4934s). Check your callbacks.\n"
          ],
          "name": "stdout"
        },
        {
          "output_type": "stream",
          "text": [
            "WARNING:tensorflow:Callbacks method `on_test_batch_end` is slow compared to the batch time (batch time: 0.0007s vs `on_test_batch_end` time: 0.4934s). Check your callbacks.\n"
          ],
          "name": "stderr"
        },
        {
          "output_type": "stream",
          "text": [
            "\n",
            "Epoch 00001: val_loss improved from inf to 0.88759, saving model to /content/gdrive/My Drive/Medical Image/cnn_term_paper/last_check_point.hdf5\n",
            "\b\b\b\b\b\b\b\b\b\b\b\b\b\b\b\b\b\b\b\b\b\b\b\b\b\b\b\b\b\b\b\b\b\b\b\b\b\b\b\b\b\b\b\b\b\b\b\b\b\b\b\b\b\b\b\b\b\b\b\b\b\b\b\b\b\b\b\b\b\b\b\b\b\b\b\b\b\b\b\b\b\b\b\r35/35 [==============================] - 178s 5s/step - loss: 1.6272 - dice_coef: 0.2664 - val_loss: 0.8876 - val_dice_coef: 0.4121\n",
            "Epoch 2/35\n",
            "35/35 [==============================] - ETA: 0s - loss: 0.4721 - dice_coef: 0.6299\n",
            "Epoch 00002: val_loss improved from 0.88759 to 0.53734, saving model to /content/gdrive/My Drive/Medical Image/cnn_term_paper/last_check_point.hdf5\n",
            "35/35 [==============================] - 171s 5s/step - loss: 0.4721 - dice_coef: 0.6299 - val_loss: 0.5373 - val_dice_coef: 0.5856\n",
            "Epoch 3/35\n",
            "35/35 [==============================] - ETA: 0s - loss: 0.2238 - dice_coef: 0.7996\n",
            "Epoch 00003: val_loss did not improve from 0.53734\n",
            "35/35 [==============================] - 173s 5s/step - loss: 0.2238 - dice_coef: 0.7996 - val_loss: 0.8530 - val_dice_coef: 0.4318\n",
            "Epoch 4/35\n",
            "35/35 [==============================] - ETA: 0s - loss: 0.2017 - dice_coef: 0.8170\n",
            "Epoch 00004: val_loss improved from 0.53734 to 0.48403, saving model to /content/gdrive/My Drive/Medical Image/cnn_term_paper/last_check_point.hdf5\n",
            "35/35 [==============================] - 173s 5s/step - loss: 0.2017 - dice_coef: 0.8170 - val_loss: 0.4840 - val_dice_coef: 0.6177\n",
            "Epoch 5/35\n",
            "35/35 [==============================] - ETA: 0s - loss: 0.1906 - dice_coef: 0.8266\n",
            "Epoch 00005: val_loss improved from 0.48403 to 0.32485, saving model to /content/gdrive/My Drive/Medical Image/cnn_term_paper/last_check_point.hdf5\n",
            "35/35 [==============================] - 172s 5s/step - loss: 0.1906 - dice_coef: 0.8266 - val_loss: 0.3248 - val_dice_coef: 0.7225\n",
            "Epoch 6/35\n",
            "35/35 [==============================] - ETA: 0s - loss: 0.1758 - dice_coef: 0.8389\n",
            "Epoch 00006: val_loss improved from 0.32485 to 0.18704, saving model to /content/gdrive/My Drive/Medical Image/cnn_term_paper/last_check_point.hdf5\n",
            "35/35 [==============================] - 174s 5s/step - loss: 0.1758 - dice_coef: 0.8389 - val_loss: 0.1870 - val_dice_coef: 0.8294\n",
            "Epoch 7/35\n",
            "35/35 [==============================] - ETA: 0s - loss: 0.1688 - dice_coef: 0.8446\n",
            "Epoch 00007: val_loss did not improve from 0.18704\n",
            "35/35 [==============================] - 172s 5s/step - loss: 0.1688 - dice_coef: 0.8446 - val_loss: 0.2418 - val_dice_coef: 0.7850\n",
            "Epoch 8/35\n",
            "35/35 [==============================] - ETA: 0s - loss: 0.1618 - dice_coef: 0.8511\n",
            "Epoch 00008: val_loss did not improve from 0.18704\n",
            "35/35 [==============================] - 172s 5s/step - loss: 0.1618 - dice_coef: 0.8511 - val_loss: 0.1998 - val_dice_coef: 0.8191\n",
            "Epoch 9/35\n",
            "35/35 [==============================] - ETA: 0s - loss: 0.1551 - dice_coef: 0.8564\n",
            "Epoch 00009: val_loss did not improve from 0.18704\n",
            "35/35 [==============================] - 175s 5s/step - loss: 0.1551 - dice_coef: 0.8564 - val_loss: 0.2399 - val_dice_coef: 0.7870\n",
            "Epoch 10/35\n",
            "35/35 [==============================] - ETA: 0s - loss: 0.1370 - dice_coef: 0.8718\n",
            "Epoch 00010: val_loss improved from 0.18704 to 0.17235, saving model to /content/gdrive/My Drive/Medical Image/cnn_term_paper/last_check_point.hdf5\n",
            "35/35 [==============================] - 173s 5s/step - loss: 0.1370 - dice_coef: 0.8718 - val_loss: 0.1724 - val_dice_coef: 0.8421\n",
            "Epoch 11/35\n",
            "35/35 [==============================] - ETA: 0s - loss: 0.1266 - dice_coef: 0.8812\n",
            "Epoch 00011: val_loss improved from 0.17235 to 0.17015, saving model to /content/gdrive/My Drive/Medical Image/cnn_term_paper/last_check_point.hdf5\n",
            "35/35 [==============================] - 172s 5s/step - loss: 0.1266 - dice_coef: 0.8812 - val_loss: 0.1702 - val_dice_coef: 0.8438\n",
            "Epoch 12/35\n",
            "35/35 [==============================] - ETA: 0s - loss: 0.1141 - dice_coef: 0.8922\n",
            "Epoch 00012: val_loss did not improve from 0.17015\n",
            "35/35 [==============================] - 174s 5s/step - loss: 0.1141 - dice_coef: 0.8922 - val_loss: 0.1776 - val_dice_coef: 0.8377\n",
            "Epoch 13/35\n",
            "35/35 [==============================] - ETA: 0s - loss: 0.1110 - dice_coef: 0.8950\n",
            "Epoch 00013: val_loss improved from 0.17015 to 0.15695, saving model to /content/gdrive/My Drive/Medical Image/cnn_term_paper/last_check_point.hdf5\n",
            "35/35 [==============================] - 172s 5s/step - loss: 0.1110 - dice_coef: 0.8950 - val_loss: 0.1570 - val_dice_coef: 0.8550\n",
            "Epoch 14/35\n",
            "35/35 [==============================] - ETA: 0s - loss: 0.1021 - dice_coef: 0.9029\n",
            "Epoch 00014: val_loss improved from 0.15695 to 0.14340, saving model to /content/gdrive/My Drive/Medical Image/cnn_term_paper/last_check_point.hdf5\n",
            "35/35 [==============================] - 175s 5s/step - loss: 0.1021 - dice_coef: 0.9029 - val_loss: 0.1434 - val_dice_coef: 0.8665\n",
            "Epoch 15/35\n",
            "35/35 [==============================] - ETA: 0s - loss: 0.1093 - dice_coef: 0.8965\n",
            "Epoch 00015: val_loss did not improve from 0.14340\n",
            "35/35 [==============================] - 172s 5s/step - loss: 0.1093 - dice_coef: 0.8965 - val_loss: 0.1713 - val_dice_coef: 0.8428\n",
            "Epoch 16/35\n",
            "35/35 [==============================] - ETA: 0s - loss: 0.1038 - dice_coef: 0.9014\n",
            "Epoch 00016: val_loss did not improve from 0.14340\n",
            "35/35 [==============================] - 172s 5s/step - loss: 0.1038 - dice_coef: 0.9014 - val_loss: 0.1590 - val_dice_coef: 0.8530\n",
            "Epoch 17/35\n",
            "35/35 [==============================] - ETA: 0s - loss: 0.0996 - dice_coef: 0.9053\n",
            "Epoch 00017: val_loss did not improve from 0.14340\n",
            "35/35 [==============================] - 174s 5s/step - loss: 0.0996 - dice_coef: 0.9053 - val_loss: 0.1907 - val_dice_coef: 0.8268\n",
            "Epoch 18/35\n",
            "35/35 [==============================] - ETA: 0s - loss: 0.0934 - dice_coef: 0.9109\n",
            "Epoch 00018: val_loss improved from 0.14340 to 0.13739, saving model to /content/gdrive/My Drive/Medical Image/cnn_term_paper/last_check_point.hdf5\n",
            "35/35 [==============================] - 173s 5s/step - loss: 0.0934 - dice_coef: 0.9109 - val_loss: 0.1374 - val_dice_coef: 0.8718\n",
            "Epoch 19/35\n",
            "35/35 [==============================] - ETA: 0s - loss: 0.0881 - dice_coef: 0.9158\n",
            "Epoch 00019: val_loss did not improve from 0.13739\n",
            "35/35 [==============================] - 172s 5s/step - loss: 0.0881 - dice_coef: 0.9158 - val_loss: 0.1664 - val_dice_coef: 0.8469\n",
            "Epoch 20/35\n",
            "35/35 [==============================] - ETA: 0s - loss: 0.0852 - dice_coef: 0.9183\n",
            "Epoch 00020: val_loss did not improve from 0.13739\n",
            "35/35 [==============================] - 175s 5s/step - loss: 0.0852 - dice_coef: 0.9183 - val_loss: 0.1496 - val_dice_coef: 0.8612\n",
            "Epoch 21/35\n",
            "35/35 [==============================] - ETA: 0s - loss: 0.0823 - dice_coef: 0.9211\n",
            "Epoch 00021: val_loss did not improve from 0.13739\n",
            "35/35 [==============================] - 172s 5s/step - loss: 0.0823 - dice_coef: 0.9211 - val_loss: 0.1380 - val_dice_coef: 0.8712\n",
            "Epoch 22/35\n",
            "35/35 [==============================] - ETA: 0s - loss: 0.0782 - dice_coef: 0.9249\n",
            "Epoch 00022: val_loss did not improve from 0.13739\n",
            "35/35 [==============================] - 172s 5s/step - loss: 0.0782 - dice_coef: 0.9249 - val_loss: 0.1402 - val_dice_coef: 0.8693\n",
            "Epoch 23/35\n",
            "35/35 [==============================] - ETA: 0s - loss: 0.0784 - dice_coef: 0.9246\n",
            "Epoch 00023: val_loss improved from 0.13739 to 0.13405, saving model to /content/gdrive/My Drive/Medical Image/cnn_term_paper/last_check_point.hdf5\n",
            "35/35 [==============================] - 175s 5s/step - loss: 0.0784 - dice_coef: 0.9246 - val_loss: 0.1341 - val_dice_coef: 0.8745\n",
            "Epoch 24/35\n",
            "35/35 [==============================] - ETA: 0s - loss: 0.0733 - dice_coef: 0.9293\n",
            "Epoch 00024: val_loss did not improve from 0.13405\n",
            "35/35 [==============================] - 172s 5s/step - loss: 0.0733 - dice_coef: 0.9293 - val_loss: 0.1359 - val_dice_coef: 0.8730\n",
            "Epoch 25/35\n",
            "35/35 [==============================] - ETA: 0s - loss: 0.0729 - dice_coef: 0.9297\n",
            "Epoch 00025: val_loss did not improve from 0.13405\n",
            "35/35 [==============================] - 175s 5s/step - loss: 0.0729 - dice_coef: 0.9297 - val_loss: 0.1417 - val_dice_coef: 0.8681\n",
            "Epoch 26/35\n",
            "35/35 [==============================] - ETA: 0s - loss: 0.0697 - dice_coef: 0.9327\n",
            "Epoch 00026: val_loss did not improve from 0.13405\n",
            "35/35 [==============================] - 172s 5s/step - loss: 0.0697 - dice_coef: 0.9327 - val_loss: 0.1361 - val_dice_coef: 0.8729\n",
            "Epoch 27/35\n",
            "35/35 [==============================] - ETA: 0s - loss: 0.0658 - dice_coef: 0.9363\n",
            "Epoch 00027: val_loss improved from 0.13405 to 0.12212, saving model to /content/gdrive/My Drive/Medical Image/cnn_term_paper/last_check_point.hdf5\n",
            "35/35 [==============================] - 172s 5s/step - loss: 0.0658 - dice_coef: 0.9363 - val_loss: 0.1221 - val_dice_coef: 0.8851\n",
            "Epoch 28/35\n",
            "35/35 [==============================] - ETA: 0s - loss: 0.0645 - dice_coef: 0.9375\n",
            "Epoch 00028: val_loss improved from 0.12212 to 0.12182, saving model to /content/gdrive/My Drive/Medical Image/cnn_term_paper/last_check_point.hdf5\n",
            "35/35 [==============================] - 175s 5s/step - loss: 0.0645 - dice_coef: 0.9375 - val_loss: 0.1218 - val_dice_coef: 0.8853\n",
            "Epoch 29/35\n",
            "35/35 [==============================] - ETA: 0s - loss: 0.0607 - dice_coef: 0.9411\n",
            "Epoch 00029: val_loss did not improve from 0.12182\n",
            "35/35 [==============================] - 172s 5s/step - loss: 0.0607 - dice_coef: 0.9411 - val_loss: 0.1237 - val_dice_coef: 0.8838\n",
            "Epoch 30/35\n",
            "35/35 [==============================] - ETA: 0s - loss: 0.0612 - dice_coef: 0.9406\n",
            "Epoch 00030: val_loss did not improve from 0.12182\n",
            "35/35 [==============================] - 172s 5s/step - loss: 0.0612 - dice_coef: 0.9406 - val_loss: 0.1367 - val_dice_coef: 0.8724\n",
            "Epoch 31/35\n",
            "35/35 [==============================] - ETA: 0s - loss: 0.0585 - dice_coef: 0.9432\n",
            "Epoch 00031: val_loss improved from 0.12182 to 0.11793, saving model to /content/gdrive/My Drive/Medical Image/cnn_term_paper/last_check_point.hdf5\n",
            "35/35 [==============================] - 175s 5s/step - loss: 0.0585 - dice_coef: 0.9432 - val_loss: 0.1179 - val_dice_coef: 0.8887\n",
            "Epoch 32/35\n",
            "35/35 [==============================] - ETA: 0s - loss: 0.0599 - dice_coef: 0.9419\n",
            "Epoch 00032: val_loss did not improve from 0.11793\n",
            "35/35 [==============================] - 172s 5s/step - loss: 0.0599 - dice_coef: 0.9419 - val_loss: 0.1295 - val_dice_coef: 0.8786\n",
            "Epoch 33/35\n",
            "35/35 [==============================] - ETA: 0s - loss: 0.0556 - dice_coef: 0.9459\n",
            "Epoch 00033: val_loss did not improve from 0.11793\n",
            "35/35 [==============================] - 173s 5s/step - loss: 0.0556 - dice_coef: 0.9459 - val_loss: 0.1273 - val_dice_coef: 0.8804\n",
            "Epoch 34/35\n",
            "35/35 [==============================] - ETA: 0s - loss: 0.0534 - dice_coef: 0.9480\n",
            "Epoch 00034: val_loss did not improve from 0.11793\n",
            "35/35 [==============================] - 175s 5s/step - loss: 0.0534 - dice_coef: 0.9480 - val_loss: 0.1195 - val_dice_coef: 0.8874\n",
            "Epoch 35/35\n",
            "35/35 [==============================] - ETA: 0s - loss: 0.0532 - dice_coef: 0.9481\n",
            "Epoch 00035: val_loss did not improve from 0.11793\n",
            "35/35 [==============================] - 172s 5s/step - loss: 0.0532 - dice_coef: 0.9481 - val_loss: 0.1243 - val_dice_coef: 0.8832\n"
          ],
          "name": "stdout"
        }
      ]
    },
    {
      "cell_type": "code",
      "metadata": {
        "id": "Vj6D5YnGJ-nq"
      },
      "source": [
        "# Load the pre trained model's weights\n",
        "\n",
        "if(train):\n",
        "  model.load_weights(os.path.join('/content/gdrive/My Drive/Medical Image/cnn_term_paper/model2_disk_last_check_point.hdf5'))"
      ],
      "execution_count": null,
      "outputs": []
    },
    {
      "cell_type": "code",
      "metadata": {
        "id": "Z12tlBDr9E8O",
        "colab": {
          "base_uri": "https://localhost:8080/"
        },
        "outputId": "7f153001-b6e2-4574-c7fc-71bbba64e946"
      },
      "source": [
        "# evaluate the model with the test data\n",
        "\n",
        "result = model.evaluate(X_tests[0:700,:,:,:],Y_tests[0:700,:,:,:])\n",
        "print(\"log dice loss for test set = \", result[0], ' ||| ',\"dice coeffecient (accuracy) for test set = \", result[1])"
      ],
      "execution_count": null,
      "outputs": [
        {
          "output_type": "stream",
          "text": [
            " 2/22 [=>............................] - ETA: 3s - loss: 0.1384 - dice_coef: 0.8708WARNING:tensorflow:Callbacks method `on_test_batch_end` is slow compared to the batch time (batch time: 0.0007s vs `on_test_batch_end` time: 0.1621s). Check your callbacks.\n"
          ],
          "name": "stdout"
        },
        {
          "output_type": "stream",
          "text": [
            "WARNING:tensorflow:Callbacks method `on_test_batch_end` is slow compared to the batch time (batch time: 0.0007s vs `on_test_batch_end` time: 0.1621s). Check your callbacks.\n"
          ],
          "name": "stderr"
        },
        {
          "output_type": "stream",
          "text": [
            "22/22 [==============================] - 2s 111ms/step - loss: 0.1235 - dice_coef: 0.8839\n",
            "log dice loss for test set =  0.12351205945014954  |||  dice coeffecient (accuracy) for test set =  0.8838809728622437\n"
          ],
          "name": "stdout"
        }
      ]
    },
    {
      "cell_type": "code",
      "metadata": {
        "id": "XNxqqB4RXVNF"
      },
      "source": [
        "# Visualise the change in accuracies and losses during training "
      ],
      "execution_count": null,
      "outputs": []
    },
    {
      "cell_type": "code",
      "metadata": {
        "id": "ta8svhOnN0s2",
        "colab": {
          "base_uri": "https://localhost:8080/",
          "height": 513
        },
        "outputId": "8e5297eb-25e0-4d55-c9f5-c289b71e8cf9"
      },
      "source": [
        "# plot train and test log dice loss\n",
        "\n",
        "if(train):\n",
        "  loss = history.history['loss']\n",
        "  val_loss=history.history['val_loss']\n",
        "  acc=history.history['dice_coef']\n",
        "  epochs = range(1, len(loss) + 1)\n",
        "  plt.figure(figsize=(8, 8))\n",
        "  plt.plot(epochs, loss, 'r', label='Training loss')\n",
        "  plt.plot(epochs, val_loss, 'b', label='Test loss')\n",
        "  plt.title('Training and test loss')\n",
        "  plt.xlabel('Epochs')\n",
        "  plt.ylabel('Loss')\n",
        "  plt.legend()\n",
        "  plt.savefig(os.path.join('/content/gdrive/My Drive/Medical Image/cnn_term_paper','loss'+'model2_disk'+'.png'),dpi=600)"
      ],
      "execution_count": null,
      "outputs": [
        {
          "output_type": "display_data",
          "data": {
            "image/png": "[encoded data removed]",
            "text/plain": [
              "<Figure size 576x576 with 1 Axes>"
            ]
          },
          "metadata": {
            "tags": [],
            "needs_background": "light"
          }
        }
      ]
    },
    {
      "cell_type": "code",
      "metadata": {
        "id": "e7Edl_4DOET0",
        "colab": {
          "base_uri": "https://localhost:8080/",
          "height": 513
        },
        "outputId": "0dca0dd2-1b4e-4e4d-b725-70727b5c9f5d"
      },
      "source": [
        "# plot train and test dice coeffecient (accuracy)\n",
        "if(train):\n",
        "  loss = history.history['loss']\n",
        "  acc=history.history['dice_coef']\n",
        "  val_acc=history.history['val_dice_coef']\n",
        "  epochs = range(1, len(acc) + 1)\n",
        "  plt.figure(figsize=(8, 8))\n",
        "  plt.plot(epochs, acc, 'r', label='Dice')\n",
        "  plt.plot(epochs, val_acc, 'b', label='Test dice')\n",
        "  plt.title('Training and test Dice')\n",
        "  plt.xlabel('Epochs')\n",
        "  plt.ylabel('Acc')\n",
        "  plt.legend()\n",
        "  plt.savefig(os.path.join('/content/gdrive/My Drive/Medical Image/cnn_term_paper','hist'+'model2_disk'+'.png'),dpi=600)"
      ],
      "execution_count": null,
      "outputs": [
        {
          "output_type": "display_data",
          "data": {
            "image/png": "[encoded data removed]",
            "text/plain": [
              "<Figure size 576x576 with 1 Axes>"
            ]
          },
          "metadata": {
            "tags": [],
            "needs_background": "light"
          }
        }
      ]
    },
    {
      "cell_type": "markdown",
      "metadata": {
        "id": "KqzTU_uoOICD"
      },
      "source": [
        "### We will Visualise how our algorithm performs on our Combined test set"
      ]
    },
    {
      "cell_type": "code",
      "metadata": {
        "id": "hglC8YtD0Qd3",
        "colab": {
          "base_uri": "https://localhost:8080/"
        },
        "outputId": "357d4b0e-ca2d-49cc-aee7-4214b5b7880f"
      },
      "source": [
        "test_s=int(X_testc.shape[0])\n",
        "test_s=test_s-test_s%8\n",
        "test_s"
      ],
      "execution_count": null,
      "outputs": [
        {
          "output_type": "execute_result",
          "data": {
            "text/plain": [
              "112"
            ]
          },
          "metadata": {
            "tags": []
          },
          "execution_count": 42
        }
      ]
    },
    {
      "cell_type": "code",
      "metadata": {
        "id": "MTsLU6aHfH6r"
      },
      "source": [
        "# Defining metrics again\n",
        "\n",
        "smooth=1e-07\n",
        "def np_dice_coef(y_true, y_pred):\n",
        "    y_true_f = y_true.flatten()\n",
        "    y_pred_f = y_pred.flatten()\n",
        "    intersection = np.sum(y_true_f * y_pred_f)\n",
        "    return ( (2. * intersection + smooth) / \n",
        "             (np.sum(y_true_f) + np.sum(y_pred_f) + smooth) )\n",
        "    \n",
        "def np_iou(y_true, y_pred):\n",
        "    y_true_f = y_true.flatten()\n",
        "    y_pred_f = y_pred.flatten()\n",
        "    intersection = np.sum(y_true_f * y_pred_f)\n",
        "    return ( ( intersection + smooth) / \n",
        "             (np.sum(y_true_f) + np.sum(y_pred_f) - intersection + smooth) )   "
      ],
      "execution_count": null,
      "outputs": []
    },
    {
      "cell_type": "code",
      "metadata": {
        "id": "jITi6M5if30f"
      },
      "source": [
        "# importing helper libraries for visualisation part\n",
        "\n",
        "from skimage.morphology import dilation\n",
        "from skimage.feature import canny\n",
        "from skimage import color"
      ],
      "execution_count": null,
      "outputs": []
    },
    {
      "cell_type": "code",
      "metadata": {
        "id": "C-MAss7tr_-h",
        "colab": {
          "base_uri": "https://localhost:8080/",
          "height": 621,
          "referenced_widgets": [
            "932fac5af39449b2a314a5297ade7a69",
            "4f50591928da486eb9c9f9f65b48e2d7",
            "fec6dfbb541f408ca97bacc387d6e9b1",
            "f948c61dbd264a1aa19f1de5509f88e9",
            "074b2b8f479f4dbe82f1455cf9def399",
            "ba4f88f5a6b24e93a7a1f668da030438",
            "b519df9583d649a7b8d40e3dad8350d4",
            "18911dd21b354902a48866c8b4bcbe1b"
          ]
        },
        "outputId": "157a9748-0201-45ec-824a-a79313c83894"
      },
      "source": [
        "%%time\n",
        "pred_dice=np.empty((test_s), dtype=np.float32)\n",
        "pred_iou=np.empty((test_s), dtype=np.float32)\n",
        "\n",
        "batch_X = X_testc[0:test_s]\n",
        "batch_y = Y_testc[0:test_s]\n",
        "print (batch_X.shape)\n",
        "    \n",
        "predv = (model.predict(batch_X,batch_size=test_s)[...,0]>0.5).astype(np.float32)\n",
        "corrv= (batch_y)[ ..., 0].astype(np.float32)\n",
        "predv1=predv.copy()\n",
        "\n",
        "\n",
        "for i in tqdm_notebook(range(predv.shape[0])):\n",
        "    img = X_test[i]\n",
        "    pred = predv[i]\n",
        "    corr = corrv[i]\n",
        "    label_pc = skimage.measure.label(pred, connectivity=pred.ndim)\n",
        "    props_pc = skimage.measure.regionprops(label_pc)\n",
        "    sz=len(props_pc)\n",
        "    if(sz)!=0:\n",
        "      areap=[props_pc[i].area for i in range(sz)]\n",
        "      k=np.argmax(areap)\n",
        "      predv1[i]=np.equal(label_pc,k+1).astype(int).astype(np.float32)\n",
        "    pred1= predv1[i]\n",
        "    cur_dice = np_dice_coef(pred1, corr)\n",
        "    cur_iou = np_iou(pred1,corr)\n",
        "    pred_dice[i]=(cur_dice)\n",
        "    pred_iou[i]=cur_iou\n",
        "    \n",
        "    \n",
        "d_worst=np.amin(pred_dice)\n",
        "d_best=np.amax(pred_dice)\n",
        "d_mean=np.mean(pred_dice)\n",
        "d_std=np.std(pred_dice)\n",
        "print(\"Dice mean=\",d_mean, \" Std=\",d_std, \" best=\",d_best,\" worst=\",d_worst)\n",
        "\n",
        "i_worst=np.amin(pred_iou)\n",
        "i_best=np.amax(pred_iou)\n",
        "i_mean=np.mean(pred_iou)\n",
        "i_std=np.std(pred_iou)\n",
        "print(\"IOU mean=\",i_mean, \" Std=\",i_std, \" best=\",i_best,\" worst=\",i_worst)\n",
        "\n",
        "ix_best=np.argmax(pred_dice)\n",
        "ix_worst=np.argmin(pred_dice)\n",
        "\n",
        "j=0\n",
        "for i in [ix_best,ix_worst]:\n",
        "    print('image #{}'.format(i))\n",
        "    img = X_test[i]\n",
        "    pred1 = predv1[i]\n",
        "    corr = corrv[i]\n",
        "    print(pred_dice[i])\n",
        "    fig = plt.figure(figsize=(9, 4))\n",
        "    ax = fig.add_subplot(1, 3, 1)\n",
        "    edgesp = canny(pred1)\n",
        "    edgesp=1.0-dilation(edgesp)\n",
        "    edgesp = color.gray2rgb(1.0*edgesp)\n",
        "    ax.imshow(img*edgesp)\n",
        "    ax.set_title('Predicted')\n",
        "    ax = fig.add_subplot(1, 3, 2)\n",
        "    edgesc = canny(corr)\n",
        "    edgesc=1.0-dilation(edgesc)\n",
        "    edgesc = color.gray2rgb(1.0*edgesc)\n",
        "    ax.imshow(img*edgesc)\n",
        "    ax.set_title('Correct')\n",
        "    ax = fig.add_subplot(1, 3, 3)\n",
        "    ax.imshow(img)\n",
        "    ax.set_title('Image')\n",
        "    fig.savefig(os.path.join('/content/gdrive/My Drive/Medical Image/cnn_term_paper','img_test_set'+str(j)+'model2_disk'+'.png'),dpi=600)\n",
        "    j+=1"
      ],
      "execution_count": null,
      "outputs": [
        {
          "output_type": "stream",
          "text": [
            "(112, 128, 128, 3)\n"
          ],
          "name": "stdout"
        },
        {
          "output_type": "display_data",
          "data": {
            "application/vnd.jupyter.widget-view+json": {
              "model_id": "932fac5af39449b2a314a5297ade7a69",
              "version_minor": 0,
              "version_major": 2
            },
            "text/plain": [
              "HBox(children=(FloatProgress(value=0.0, max=112.0), HTML(value='')))"
            ]
          },
          "metadata": {
            "tags": []
          }
        },
        {
          "output_type": "stream",
          "text": [
            "\n",
            "Dice mean= 0.88666356  Std= 0.059498105  best= 0.96218354  worst= 0.6613868\n",
            "IOU mean= 0.80121136  Std= 0.09024726  best= 0.92712295  worst= 0.49408355\n",
            "image #50\n",
            "0.96218354\n",
            "image #67\n",
            "0.6613868\n",
            "CPU times: user 4.39 s, sys: 16.2 ms, total: 4.4 s\n",
            "Wall time: 5.53 s\n"
          ],
          "name": "stdout"
        },
        {
          "output_type": "display_data",
          "data": {
            "image/png": "[encoded data removed]",
            "text/plain": [
              "<Figure size 648x288 with 3 Axes>"
            ]
          },
          "metadata": {
            "tags": [],
            "needs_background": "light"
          }
        },
        {
          "output_type": "display_data",
          "data": {
            "image/png": "[encoded data removed]",
            "text/plain": [
              "<Figure size 648x288 with 3 Axes>"
            ]
          },
          "metadata": {
            "tags": [],
            "needs_background": "light"
          }
        }
      ]
    },
    {
      "cell_type": "markdown",
      "metadata": {
        "id": "ntk_NOsz8ST5"
      },
      "source": [
        "\n",
        "\n",
        "### Visualise our segmentation algorithm performs on RIM ONE dataset"
      ]
    },
    {
      "cell_type": "code",
      "metadata": {
        "id": "9WJGAme4KlzH",
        "colab": {
          "base_uri": "https://localhost:8080/"
        },
        "outputId": "aa5aa458-8b94-45f4-cc60-a29fc21d5e7f"
      },
      "source": [
        "test_s=int(X_test_rim.shape[0])\n",
        "test_s"
      ],
      "execution_count": null,
      "outputs": [
        {
          "output_type": "execute_result",
          "data": {
            "text/plain": [
              "40"
            ]
          },
          "metadata": {
            "tags": []
          },
          "execution_count": 46
        }
      ]
    },
    {
      "cell_type": "code",
      "metadata": {
        "id": "CpCoo2imkL5O",
        "colab": {
          "base_uri": "https://localhost:8080/",
          "height": 585,
          "referenced_widgets": [
            "0c79082fdb5a4d949a96d691f2deca11",
            "b03e4fab97b1463297a4419eb887792f",
            "37fafbd407e943cf9d5ffea72877f62a",
            "9addd27dc4d24637a3125ff069cf3120",
            "9c6ffafbe31a4507847d81fda2306eaa",
            "adc5d95703344088b473fe0e513b456a",
            "7e0b0e9c4cb74779ad40fbef6ddd1393",
            "22a056aca93f4c19898ad81f6598deba"
          ]
        },
        "outputId": "e9d9e8f9-1709-4588-891c-ab731355dce9"
      },
      "source": [
        "\n",
        "pred_dice=np.empty((test_s), dtype=np.float32)\n",
        "pred_iou=np.empty((test_s), dtype=np.float32)\n",
        "\n",
        "batch_X = X_test_rim[0:test_s]\n",
        "batch_y = Y_test_rim[0:test_s]\n",
        "print (batch_X.shape)\n",
        "    \n",
        "predv = (model.predict(batch_X,batch_size=test_s)[...,0]>0.5).astype(np.float32)\n",
        "corrv= (batch_y)[ ..., 0].astype(np.float32)\n",
        "predv1=predv.copy()\n",
        "\n",
        "for i in tqdm_notebook(range(predv.shape[0])):\n",
        "    img = X_test_rim[i]\n",
        "    pred = predv[i]\n",
        "    corr = corrv[i]\n",
        "    label_pc = skimage.measure.label(pred, connectivity=pred.ndim)\n",
        "    props_pc = skimage.measure.regionprops(label_pc)\n",
        "    sz=len(props_pc)\n",
        "    if(sz)!=0:\n",
        "      areap=[props_pc[i].area for i in range(sz)]\n",
        "      k=np.argmax(areap)\n",
        "      predv1[i]=np.equal(label_pc,k+1).astype(int).astype(np.float32)\n",
        "    pred1= predv1[i]\n",
        "    cur_dice = np_dice_coef(pred1, corr)\n",
        "    cur_iou = np_iou(pred1,corr)\n",
        "    pred_dice[i]=(cur_dice)\n",
        "    pred_iou[i]=cur_iou\n",
        "    \n",
        "    \n",
        "d_worst=np.amin(pred_dice)\n",
        "d_best=np.amax(pred_dice)\n",
        "d_mean=np.mean(pred_dice)\n",
        "d_std=np.std(pred_dice)\n",
        "print(\"Dice mean=\",d_mean, \" Std=\",d_std, \" best=\",d_best,\" worst=\",d_worst)\n",
        "\n",
        "i_worst=np.amin(pred_iou)\n",
        "i_best=np.amax(pred_iou)\n",
        "i_mean=np.mean(pred_iou)\n",
        "i_std=np.std(pred_iou)\n",
        "print(\"IOU mean=\",i_mean, \" Std=\",i_std, \" best=\",i_best,\" worst=\",i_worst)\n",
        "\n",
        "ix_best=np.argmax(pred_dice)\n",
        "ix_worst=np.argmin(pred_dice)\n",
        "\n",
        "j=0\n",
        "for i in [ix_best,ix_worst]:\n",
        "    print('image #{}'.format(i))\n",
        "    img = X_test_rim[i]\n",
        "    pred = predv1[i]\n",
        "    corr = corrv[i]\n",
        "    print(pred_dice[i])\n",
        "    fig = plt.figure(figsize=(9, 4))\n",
        "    ax = fig.add_subplot(1, 3, 1)\n",
        "    edgesp = canny(pred)\n",
        "    edgesp=1.0-dilation(edgesp)\n",
        "    edgesp = color.gray2rgb(1.0*edgesp)\n",
        "    ax.imshow(img*edgesp)\n",
        "    ax.set_title('Predicted')\n",
        "    ax = fig.add_subplot(1, 3, 2)\n",
        "    edgesc = canny(corr)\n",
        "    edgesc=1.0-dilation(edgesc)\n",
        "    edgesc = color.gray2rgb(1.0*edgesc)\n",
        "    ax.imshow(img*edgesc)\n",
        "    ax.set_title('Correct')\n",
        "    ax = fig.add_subplot(1, 3, 3)\n",
        "    ax.imshow(img)\n",
        "    ax.set_title('Image')\n",
        "    fig.savefig(os.path.join('/content/gdrive/My Drive/Medical Image/cnn_term_paper','img_rim_one'+str(j)+'model2_disk'+'.png'),dpi=600)\n",
        "    j+=1"
      ],
      "execution_count": null,
      "outputs": [
        {
          "output_type": "stream",
          "text": [
            "(40, 128, 128, 3)\n"
          ],
          "name": "stdout"
        },
        {
          "output_type": "display_data",
          "data": {
            "application/vnd.jupyter.widget-view+json": {
              "model_id": "0c79082fdb5a4d949a96d691f2deca11",
              "version_minor": 0,
              "version_major": 2
            },
            "text/plain": [
              "HBox(children=(FloatProgress(value=0.0, max=40.0), HTML(value='')))"
            ]
          },
          "metadata": {
            "tags": []
          }
        },
        {
          "output_type": "stream",
          "text": [
            "\n",
            "Dice mean= 0.8709752  Std= 0.06440953  best= 0.96218354  worst= 0.6613868\n",
            "IOU mean= 0.7769381  Std= 0.096645266  best= 0.92712295  worst= 0.49408355\n",
            "image #11\n",
            "0.96218354\n",
            "image #28\n",
            "0.6613868\n"
          ],
          "name": "stdout"
        },
        {
          "output_type": "display_data",
          "data": {
            "image/png": "[encoded data removed]",
            "text/plain": [
              "<Figure size 648x288 with 3 Axes>"
            ]
          },
          "metadata": {
            "tags": [],
            "needs_background": "light"
          }
        },
        {
          "output_type": "display_data",
          "data": {
            "image/png": "[encoded data removed]",
            "text/plain": [
              "<Figure size 648x288 with 3 Axes>"
            ]
          },
          "metadata": {
            "tags": [],
            "needs_background": "light"
          }
        }
      ]
    },
    {
      "cell_type": "markdown",
      "metadata": {
        "id": "sM3CRUAQPu9V"
      },
      "source": [
        "### Visualise our segmentation algorithm performs on DRISHTI dataset"
      ]
    },
    {
      "cell_type": "code",
      "metadata": {
        "id": "UR6jHFF-QAsM",
        "colab": {
          "base_uri": "https://localhost:8080/"
        },
        "outputId": "22cec21e-5675-4f9f-bf55-fa6bb2785997"
      },
      "source": [
        "test_s=int(X_test_dri.shape[0])\n",
        "test_s"
      ],
      "execution_count": null,
      "outputs": [
        {
          "output_type": "execute_result",
          "data": {
            "text/plain": [
              "13"
            ]
          },
          "metadata": {
            "tags": []
          },
          "execution_count": 48
        }
      ]
    },
    {
      "cell_type": "code",
      "metadata": {
        "id": "ziRcdDQBkWzf",
        "colab": {
          "base_uri": "https://localhost:8080/",
          "height": 585,
          "referenced_widgets": [
            "c00b6662dba3467d864ff7e14b6563fe",
            "116812ece2324cbf8ac99ace72b3b9eb",
            "6cd76117d4e04b5493af64ea52fff19d",
            "747ff11f0bd44e49a4829ed2ab4684a2",
            "10ad89431b074f08a31c0cba8ed6f17a",
            "ab690789941d4f81b61532166fee8e9f",
            "f1e3cf247f7d400d87a67da772897ba0",
            "a42fbf606eb243a28ee7a518897fdc16"
          ]
        },
        "outputId": "27d50e74-c177-45ac-dff3-f0624900b162"
      },
      "source": [
        "#%%time\n",
        "pred_dice=np.empty((test_s), dtype=np.float32)\n",
        "pred_iou=np.empty((test_s), dtype=np.float32)\n",
        "\n",
        "batch_X = X_test_dri[0:test_s]\n",
        "batch_y = Y_test_dri[0:test_s]\n",
        "print (batch_X.shape)\n",
        "    \n",
        "predv = (model.predict(batch_X,batch_size=test_s)[...,0]>0.5).astype(np.float32)\n",
        "corrv= (batch_y)[ ..., 0].astype(np.float32)\n",
        "predv1=predv.copy()\n",
        "\n",
        "for i in tqdm_notebook(range(predv.shape[0])):\n",
        "    img = X_test_dri[i]\n",
        "    pred = predv[i]\n",
        "    corr = corrv[i]\n",
        "    label_pc = skimage.measure.label(pred, connectivity=pred.ndim)\n",
        "    props_pc = skimage.measure.regionprops(label_pc)\n",
        "    sz=len(props_pc)\n",
        "    if(sz)!=0:\n",
        "      areap=[props_pc[i].area for i in range(sz)]\n",
        "      k=np.argmax(areap)\n",
        "      predv1[i]=np.equal(label_pc,k+1).astype(int).astype(np.float32)\n",
        "    pred1= predv1[i]\n",
        "    cur_dice = np_dice_coef(pred1, corr)\n",
        "    cur_iou = np_iou(pred1,corr)\n",
        "    pred_dice[i]=(cur_dice)\n",
        "    pred_iou[i]=cur_iou\n",
        "    \n",
        "    \n",
        "d_worst=np.amin(pred_dice)\n",
        "d_best=np.amax(pred_dice)\n",
        "d_mean=np.mean(pred_dice)\n",
        "d_std=np.std(pred_dice)\n",
        "print(\"Dice mean=\",d_mean, \" Std=\",d_std, \" best=\",d_best,\" worst=\",d_worst)\n",
        "\n",
        "i_worst=np.amin(pred_iou)\n",
        "i_best=np.amax(pred_iou)\n",
        "i_mean=np.mean(pred_iou)\n",
        "i_std=np.std(pred_iou)\n",
        "print(\"IOU mean=\",i_mean, \" Std=\",i_std, \" best=\",i_best,\" worst=\",i_worst)\n",
        "\n",
        "ix_best=np.argmax(pred_dice)\n",
        "ix_worst=np.argmin(pred_dice)\n",
        "\n",
        "j=0\n",
        "for i in [ix_best,ix_worst]:\n",
        "    print('image #{}'.format(i))\n",
        "    img = X_test_dri[i]\n",
        "    pred = predv1[i]\n",
        "    corr = corrv[i]\n",
        "    print(pred_dice[i])\n",
        "    fig = plt.figure(figsize=(9, 4))\n",
        "    ax = fig.add_subplot(1, 3, 1)\n",
        "    edgesp = canny(pred)\n",
        "    edgesp=1.0-dilation(edgesp)\n",
        "    edgesp = color.gray2rgb(1.0*edgesp)\n",
        "    ax.imshow(img*edgesp)\n",
        "    ax.set_title('Predicted')\n",
        "    ax = fig.add_subplot(1, 3, 2)\n",
        "    edgesc = canny(corr)\n",
        "    edgesc=1.0-dilation(edgesc)\n",
        "    edgesc = color.gray2rgb(1.0*edgesc)\n",
        "    ax.imshow(img*edgesc)\n",
        "    ax.set_title('Correct')\n",
        "    ax = fig.add_subplot(1, 3, 3)\n",
        "    ax.imshow(img)\n",
        "    ax.set_title('Image')\n",
        "    fig.savefig(os.path.join('/content/gdrive/My Drive/Medical Image/cnn_term_paper','img_drishti'+str(j)+'model2_disk'+'.png'),dpi=600)\n",
        "    j+=1"
      ],
      "execution_count": null,
      "outputs": [
        {
          "output_type": "stream",
          "text": [
            "(13, 128, 128, 3)\n"
          ],
          "name": "stdout"
        },
        {
          "output_type": "display_data",
          "data": {
            "application/vnd.jupyter.widget-view+json": {
              "model_id": "c00b6662dba3467d864ff7e14b6563fe",
              "version_minor": 0,
              "version_major": 2
            },
            "text/plain": [
              "HBox(children=(FloatProgress(value=0.0, max=13.0), HTML(value='')))"
            ]
          },
          "metadata": {
            "tags": []
          }
        },
        {
          "output_type": "stream",
          "text": [
            "\n",
            "Dice mean= 0.91630703  Std= 0.025937106  best= 0.95075375  worst= 0.8789954\n",
            "IOU mean= 0.84659714  Std= 0.0441317  best= 0.90613025  worst= 0.78411406\n",
            "image #12\n",
            "0.95075375\n",
            "image #5\n",
            "0.8789954\n"
          ],
          "name": "stdout"
        },
        {
          "output_type": "display_data",
          "data": {
            "image/png": "[encoded data removed]",
            "text/plain": [
              "<Figure size 648x288 with 3 Axes>"
            ]
          },
          "metadata": {
            "tags": [],
            "needs_background": "light"
          }
        },
        {
          "output_type": "display_data",
          "data": {
            "image/png": "[encoded data removed]",
            "text/plain": [
              "<Figure size 648x288 with 3 Axes>"
            ]
          },
          "metadata": {
            "tags": [],
            "needs_background": "light"
          }
        }
      ]
    },
    {
      "cell_type": "code",
      "metadata": {
        "id": "BUTsEoTBys5O"
      },
      "source": [
        ""
      ],
      "execution_count": null,
      "outputs": []
    }
  ]
}