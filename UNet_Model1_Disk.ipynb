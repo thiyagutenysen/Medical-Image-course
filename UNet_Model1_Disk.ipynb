{
  "nbformat": 4,
  "nbformat_minor": 0,
  "metadata": {
    "colab": {
      "name": "UNet_Model1_Disk.ipynb",
      "provenance": [],
      "collapsed_sections": [],
      "machine_shape": "hm"
    },
    "kernelspec": {
      "name": "python3",
      "display_name": "Python 3"
    },
    "widgets": {
      "application/vnd.jupyter.widget-state+json": {
        "b483141d6b1c4c5687158d3af706e256": {
          "model_module": "@jupyter-widgets/controls",
          "model_name": "HBoxModel",
          "state": {
            "_view_name": "HBoxView",
            "_dom_classes": [],
            "_model_name": "HBoxModel",
            "_view_module": "@jupyter-widgets/controls",
            "_model_module_version": "1.5.0",
            "_view_count": null,
            "_view_module_version": "1.5.0",
            "box_style": "",
            "layout": "IPY_MODEL_2ee4dfda39f345199cf4c2aca0f18164",
            "_model_module": "@jupyter-widgets/controls",
            "children": [
              "IPY_MODEL_520e1ed6e98c40ecb7f87e18983f9108",
              "IPY_MODEL_8f238baef7d1473ebb7ecae0e99fcf71"
            ]
          }
        },
        "2ee4dfda39f345199cf4c2aca0f18164": {
          "model_module": "@jupyter-widgets/base",
          "model_name": "LayoutModel",
          "state": {
            "_view_name": "LayoutView",
            "grid_template_rows": null,
            "right": null,
            "justify_content": null,
            "_view_module": "@jupyter-widgets/base",
            "overflow": null,
            "_model_module_version": "1.2.0",
            "_view_count": null,
            "flex_flow": null,
            "width": null,
            "min_width": null,
            "border": null,
            "align_items": null,
            "bottom": null,
            "_model_module": "@jupyter-widgets/base",
            "top": null,
            "grid_column": null,
            "overflow_y": null,
            "overflow_x": null,
            "grid_auto_flow": null,
            "grid_area": null,
            "grid_template_columns": null,
            "flex": null,
            "_model_name": "LayoutModel",
            "justify_items": null,
            "grid_row": null,
            "max_height": null,
            "align_content": null,
            "visibility": null,
            "align_self": null,
            "height": null,
            "min_height": null,
            "padding": null,
            "grid_auto_rows": null,
            "grid_gap": null,
            "max_width": null,
            "order": null,
            "_view_module_version": "1.2.0",
            "grid_template_areas": null,
            "object_position": null,
            "object_fit": null,
            "grid_auto_columns": null,
            "margin": null,
            "display": null,
            "left": null
          }
        },
        "520e1ed6e98c40ecb7f87e18983f9108": {
          "model_module": "@jupyter-widgets/controls",
          "model_name": "FloatProgressModel",
          "state": {
            "_view_name": "ProgressView",
            "style": "IPY_MODEL_4b868eece7d34a439ac75de88ba87508",
            "_dom_classes": [],
            "description": "100%",
            "_model_name": "FloatProgressModel",
            "bar_style": "success",
            "max": 349,
            "_view_module": "@jupyter-widgets/controls",
            "_model_module_version": "1.5.0",
            "value": 349,
            "_view_count": null,
            "_view_module_version": "1.5.0",
            "orientation": "horizontal",
            "min": 0,
            "description_tooltip": null,
            "_model_module": "@jupyter-widgets/controls",
            "layout": "IPY_MODEL_ddb14d64233b4ee3bcc90635ae60ffc0"
          }
        },
        "8f238baef7d1473ebb7ecae0e99fcf71": {
          "model_module": "@jupyter-widgets/controls",
          "model_name": "HTMLModel",
          "state": {
            "_view_name": "HTMLView",
            "style": "IPY_MODEL_8b76c9800b2d407bba34ef9e669df632",
            "_dom_classes": [],
            "description": "",
            "_model_name": "HTMLModel",
            "placeholder": "​",
            "_view_module": "@jupyter-widgets/controls",
            "_model_module_version": "1.5.0",
            "value": " 349/349 [00:13&lt;00:00, 25.17it/s]",
            "_view_count": null,
            "_view_module_version": "1.5.0",
            "description_tooltip": null,
            "_model_module": "@jupyter-widgets/controls",
            "layout": "IPY_MODEL_1a7ed0bb12de446480d158d7cef873b9"
          }
        },
        "4b868eece7d34a439ac75de88ba87508": {
          "model_module": "@jupyter-widgets/controls",
          "model_name": "ProgressStyleModel",
          "state": {
            "_view_name": "StyleView",
            "_model_name": "ProgressStyleModel",
            "description_width": "initial",
            "_view_module": "@jupyter-widgets/base",
            "_model_module_version": "1.5.0",
            "_view_count": null,
            "_view_module_version": "1.2.0",
            "bar_color": null,
            "_model_module": "@jupyter-widgets/controls"
          }
        },
        "ddb14d64233b4ee3bcc90635ae60ffc0": {
          "model_module": "@jupyter-widgets/base",
          "model_name": "LayoutModel",
          "state": {
            "_view_name": "LayoutView",
            "grid_template_rows": null,
            "right": null,
            "justify_content": null,
            "_view_module": "@jupyter-widgets/base",
            "overflow": null,
            "_model_module_version": "1.2.0",
            "_view_count": null,
            "flex_flow": null,
            "width": null,
            "min_width": null,
            "border": null,
            "align_items": null,
            "bottom": null,
            "_model_module": "@jupyter-widgets/base",
            "top": null,
            "grid_column": null,
            "overflow_y": null,
            "overflow_x": null,
            "grid_auto_flow": null,
            "grid_area": null,
            "grid_template_columns": null,
            "flex": null,
            "_model_name": "LayoutModel",
            "justify_items": null,
            "grid_row": null,
            "max_height": null,
            "align_content": null,
            "visibility": null,
            "align_self": null,
            "height": null,
            "min_height": null,
            "padding": null,
            "grid_auto_rows": null,
            "grid_gap": null,
            "max_width": null,
            "order": null,
            "_view_module_version": "1.2.0",
            "grid_template_areas": null,
            "object_position": null,
            "object_fit": null,
            "grid_auto_columns": null,
            "margin": null,
            "display": null,
            "left": null
          }
        },
        "8b76c9800b2d407bba34ef9e669df632": {
          "model_module": "@jupyter-widgets/controls",
          "model_name": "DescriptionStyleModel",
          "state": {
            "_view_name": "StyleView",
            "_model_name": "DescriptionStyleModel",
            "description_width": "",
            "_view_module": "@jupyter-widgets/base",
            "_model_module_version": "1.5.0",
            "_view_count": null,
            "_view_module_version": "1.2.0",
            "_model_module": "@jupyter-widgets/controls"
          }
        },
        "1a7ed0bb12de446480d158d7cef873b9": {
          "model_module": "@jupyter-widgets/base",
          "model_name": "LayoutModel",
          "state": {
            "_view_name": "LayoutView",
            "grid_template_rows": null,
            "right": null,
            "justify_content": null,
            "_view_module": "@jupyter-widgets/base",
            "overflow": null,
            "_model_module_version": "1.2.0",
            "_view_count": null,
            "flex_flow": null,
            "width": null,
            "min_width": null,
            "border": null,
            "align_items": null,
            "bottom": null,
            "_model_module": "@jupyter-widgets/base",
            "top": null,
            "grid_column": null,
            "overflow_y": null,
            "overflow_x": null,
            "grid_auto_flow": null,
            "grid_area": null,
            "grid_template_columns": null,
            "flex": null,
            "_model_name": "LayoutModel",
            "justify_items": null,
            "grid_row": null,
            "max_height": null,
            "align_content": null,
            "visibility": null,
            "align_self": null,
            "height": null,
            "min_height": null,
            "padding": null,
            "grid_auto_rows": null,
            "grid_gap": null,
            "max_width": null,
            "order": null,
            "_view_module_version": "1.2.0",
            "grid_template_areas": null,
            "object_position": null,
            "object_fit": null,
            "grid_auto_columns": null,
            "margin": null,
            "display": null,
            "left": null
          }
        },
        "5f438303eca24ee2ac5ccfdc9794c81b": {
          "model_module": "@jupyter-widgets/controls",
          "model_name": "HBoxModel",
          "state": {
            "_view_name": "HBoxView",
            "_dom_classes": [],
            "_model_name": "HBoxModel",
            "_view_module": "@jupyter-widgets/controls",
            "_model_module_version": "1.5.0",
            "_view_count": null,
            "_view_module_version": "1.5.0",
            "box_style": "",
            "layout": "IPY_MODEL_289f7866ffa84b828aa9d4dbb67e2ed0",
            "_model_module": "@jupyter-widgets/controls",
            "children": [
              "IPY_MODEL_81b82fb2723d4a738bb3f7ba6dbe82f8",
              "IPY_MODEL_dfe84329bbfe46a2adce79b4a2b6b800"
            ]
          }
        },
        "289f7866ffa84b828aa9d4dbb67e2ed0": {
          "model_module": "@jupyter-widgets/base",
          "model_name": "LayoutModel",
          "state": {
            "_view_name": "LayoutView",
            "grid_template_rows": null,
            "right": null,
            "justify_content": null,
            "_view_module": "@jupyter-widgets/base",
            "overflow": null,
            "_model_module_version": "1.2.0",
            "_view_count": null,
            "flex_flow": null,
            "width": null,
            "min_width": null,
            "border": null,
            "align_items": null,
            "bottom": null,
            "_model_module": "@jupyter-widgets/base",
            "top": null,
            "grid_column": null,
            "overflow_y": null,
            "overflow_x": null,
            "grid_auto_flow": null,
            "grid_area": null,
            "grid_template_columns": null,
            "flex": null,
            "_model_name": "LayoutModel",
            "justify_items": null,
            "grid_row": null,
            "max_height": null,
            "align_content": null,
            "visibility": null,
            "align_self": null,
            "height": null,
            "min_height": null,
            "padding": null,
            "grid_auto_rows": null,
            "grid_gap": null,
            "max_width": null,
            "order": null,
            "_view_module_version": "1.2.0",
            "grid_template_areas": null,
            "object_position": null,
            "object_fit": null,
            "grid_auto_columns": null,
            "margin": null,
            "display": null,
            "left": null
          }
        },
        "81b82fb2723d4a738bb3f7ba6dbe82f8": {
          "model_module": "@jupyter-widgets/controls",
          "model_name": "FloatProgressModel",
          "state": {
            "_view_name": "ProgressView",
            "style": "IPY_MODEL_f67079644955402a841c3d85398b2297",
            "_dom_classes": [],
            "description": "100%",
            "_model_name": "FloatProgressModel",
            "bar_style": "success",
            "max": 119,
            "_view_module": "@jupyter-widgets/controls",
            "_model_module_version": "1.5.0",
            "value": 119,
            "_view_count": null,
            "_view_module_version": "1.5.0",
            "orientation": "horizontal",
            "min": 0,
            "description_tooltip": null,
            "_model_module": "@jupyter-widgets/controls",
            "layout": "IPY_MODEL_3b913cf999da458787d3d5138185f534"
          }
        },
        "dfe84329bbfe46a2adce79b4a2b6b800": {
          "model_module": "@jupyter-widgets/controls",
          "model_name": "HTMLModel",
          "state": {
            "_view_name": "HTMLView",
            "style": "IPY_MODEL_7af9a900e2a64cff893ede27ff2a4307",
            "_dom_classes": [],
            "description": "",
            "_model_name": "HTMLModel",
            "placeholder": "​",
            "_view_module": "@jupyter-widgets/controls",
            "_model_module_version": "1.5.0",
            "value": " 119/119 [00:33&lt;00:00,  3.51it/s]",
            "_view_count": null,
            "_view_module_version": "1.5.0",
            "description_tooltip": null,
            "_model_module": "@jupyter-widgets/controls",
            "layout": "IPY_MODEL_89c3a1fdada549d29730e85846729e7b"
          }
        },
        "f67079644955402a841c3d85398b2297": {
          "model_module": "@jupyter-widgets/controls",
          "model_name": "ProgressStyleModel",
          "state": {
            "_view_name": "StyleView",
            "_model_name": "ProgressStyleModel",
            "description_width": "initial",
            "_view_module": "@jupyter-widgets/base",
            "_model_module_version": "1.5.0",
            "_view_count": null,
            "_view_module_version": "1.2.0",
            "bar_color": null,
            "_model_module": "@jupyter-widgets/controls"
          }
        },
        "3b913cf999da458787d3d5138185f534": {
          "model_module": "@jupyter-widgets/base",
          "model_name": "LayoutModel",
          "state": {
            "_view_name": "LayoutView",
            "grid_template_rows": null,
            "right": null,
            "justify_content": null,
            "_view_module": "@jupyter-widgets/base",
            "overflow": null,
            "_model_module_version": "1.2.0",
            "_view_count": null,
            "flex_flow": null,
            "width": null,
            "min_width": null,
            "border": null,
            "align_items": null,
            "bottom": null,
            "_model_module": "@jupyter-widgets/base",
            "top": null,
            "grid_column": null,
            "overflow_y": null,
            "overflow_x": null,
            "grid_auto_flow": null,
            "grid_area": null,
            "grid_template_columns": null,
            "flex": null,
            "_model_name": "LayoutModel",
            "justify_items": null,
            "grid_row": null,
            "max_height": null,
            "align_content": null,
            "visibility": null,
            "align_self": null,
            "height": null,
            "min_height": null,
            "padding": null,
            "grid_auto_rows": null,
            "grid_gap": null,
            "max_width": null,
            "order": null,
            "_view_module_version": "1.2.0",
            "grid_template_areas": null,
            "object_position": null,
            "object_fit": null,
            "grid_auto_columns": null,
            "margin": null,
            "display": null,
            "left": null
          }
        },
        "7af9a900e2a64cff893ede27ff2a4307": {
          "model_module": "@jupyter-widgets/controls",
          "model_name": "DescriptionStyleModel",
          "state": {
            "_view_name": "StyleView",
            "_model_name": "DescriptionStyleModel",
            "description_width": "",
            "_view_module": "@jupyter-widgets/base",
            "_model_module_version": "1.5.0",
            "_view_count": null,
            "_view_module_version": "1.2.0",
            "_model_module": "@jupyter-widgets/controls"
          }
        },
        "89c3a1fdada549d29730e85846729e7b": {
          "model_module": "@jupyter-widgets/base",
          "model_name": "LayoutModel",
          "state": {
            "_view_name": "LayoutView",
            "grid_template_rows": null,
            "right": null,
            "justify_content": null,
            "_view_module": "@jupyter-widgets/base",
            "overflow": null,
            "_model_module_version": "1.2.0",
            "_view_count": null,
            "flex_flow": null,
            "width": null,
            "min_width": null,
            "border": null,
            "align_items": null,
            "bottom": null,
            "_model_module": "@jupyter-widgets/base",
            "top": null,
            "grid_column": null,
            "overflow_y": null,
            "overflow_x": null,
            "grid_auto_flow": null,
            "grid_area": null,
            "grid_template_columns": null,
            "flex": null,
            "_model_name": "LayoutModel",
            "justify_items": null,
            "grid_row": null,
            "max_height": null,
            "align_content": null,
            "visibility": null,
            "align_self": null,
            "height": null,
            "min_height": null,
            "padding": null,
            "grid_auto_rows": null,
            "grid_gap": null,
            "max_width": null,
            "order": null,
            "_view_module_version": "1.2.0",
            "grid_template_areas": null,
            "object_position": null,
            "object_fit": null,
            "grid_auto_columns": null,
            "margin": null,
            "display": null,
            "left": null
          }
        },
        "754917d9e9dd45d6bd0d179690f3a849": {
          "model_module": "@jupyter-widgets/controls",
          "model_name": "HBoxModel",
          "state": {
            "_view_name": "HBoxView",
            "_dom_classes": [],
            "_model_name": "HBoxModel",
            "_view_module": "@jupyter-widgets/controls",
            "_model_module_version": "1.5.0",
            "_view_count": null,
            "_view_module_version": "1.5.0",
            "box_style": "",
            "layout": "IPY_MODEL_4e32fca0107847fcb6d41bf6f8671c68",
            "_model_module": "@jupyter-widgets/controls",
            "children": [
              "IPY_MODEL_4e2b4695d29e4fb59386942823dda2d1",
              "IPY_MODEL_b992d8adb9d54b229707b04bad0702ba"
            ]
          }
        },
        "4e32fca0107847fcb6d41bf6f8671c68": {
          "model_module": "@jupyter-widgets/base",
          "model_name": "LayoutModel",
          "state": {
            "_view_name": "LayoutView",
            "grid_template_rows": null,
            "right": null,
            "justify_content": null,
            "_view_module": "@jupyter-widgets/base",
            "overflow": null,
            "_model_module_version": "1.2.0",
            "_view_count": null,
            "flex_flow": null,
            "width": null,
            "min_width": null,
            "border": null,
            "align_items": null,
            "bottom": null,
            "_model_module": "@jupyter-widgets/base",
            "top": null,
            "grid_column": null,
            "overflow_y": null,
            "overflow_x": null,
            "grid_auto_flow": null,
            "grid_area": null,
            "grid_template_columns": null,
            "flex": null,
            "_model_name": "LayoutModel",
            "justify_items": null,
            "grid_row": null,
            "max_height": null,
            "align_content": null,
            "visibility": null,
            "align_self": null,
            "height": null,
            "min_height": null,
            "padding": null,
            "grid_auto_rows": null,
            "grid_gap": null,
            "max_width": null,
            "order": null,
            "_view_module_version": "1.2.0",
            "grid_template_areas": null,
            "object_position": null,
            "object_fit": null,
            "grid_auto_columns": null,
            "margin": null,
            "display": null,
            "left": null
          }
        },
        "4e2b4695d29e4fb59386942823dda2d1": {
          "model_module": "@jupyter-widgets/controls",
          "model_name": "FloatProgressModel",
          "state": {
            "_view_name": "ProgressView",
            "style": "IPY_MODEL_96939b90087940f9a27d04a6bbcbda98",
            "_dom_classes": [],
            "description": "100%",
            "_model_name": "FloatProgressModel",
            "bar_style": "success",
            "max": 112,
            "_view_module": "@jupyter-widgets/controls",
            "_model_module_version": "1.5.0",
            "value": 112,
            "_view_count": null,
            "_view_module_version": "1.5.0",
            "orientation": "horizontal",
            "min": 0,
            "description_tooltip": null,
            "_model_module": "@jupyter-widgets/controls",
            "layout": "IPY_MODEL_66e75e1288ab44939e2caa8ceec822eb"
          }
        },
        "b992d8adb9d54b229707b04bad0702ba": {
          "model_module": "@jupyter-widgets/controls",
          "model_name": "HTMLModel",
          "state": {
            "_view_name": "HTMLView",
            "style": "IPY_MODEL_6478214de597400fa20935267137b8e9",
            "_dom_classes": [],
            "description": "",
            "_model_name": "HTMLModel",
            "placeholder": "​",
            "_view_module": "@jupyter-widgets/controls",
            "_model_module_version": "1.5.0",
            "value": " 112/112 [00:00&lt;00:00, 1524.20it/s]",
            "_view_count": null,
            "_view_module_version": "1.5.0",
            "description_tooltip": null,
            "_model_module": "@jupyter-widgets/controls",
            "layout": "IPY_MODEL_d9c90080354a437e88aa9f824be7ed6f"
          }
        },
        "96939b90087940f9a27d04a6bbcbda98": {
          "model_module": "@jupyter-widgets/controls",
          "model_name": "ProgressStyleModel",
          "state": {
            "_view_name": "StyleView",
            "_model_name": "ProgressStyleModel",
            "description_width": "initial",
            "_view_module": "@jupyter-widgets/base",
            "_model_module_version": "1.5.0",
            "_view_count": null,
            "_view_module_version": "1.2.0",
            "bar_color": null,
            "_model_module": "@jupyter-widgets/controls"
          }
        },
        "66e75e1288ab44939e2caa8ceec822eb": {
          "model_module": "@jupyter-widgets/base",
          "model_name": "LayoutModel",
          "state": {
            "_view_name": "LayoutView",
            "grid_template_rows": null,
            "right": null,
            "justify_content": null,
            "_view_module": "@jupyter-widgets/base",
            "overflow": null,
            "_model_module_version": "1.2.0",
            "_view_count": null,
            "flex_flow": null,
            "width": null,
            "min_width": null,
            "border": null,
            "align_items": null,
            "bottom": null,
            "_model_module": "@jupyter-widgets/base",
            "top": null,
            "grid_column": null,
            "overflow_y": null,
            "overflow_x": null,
            "grid_auto_flow": null,
            "grid_area": null,
            "grid_template_columns": null,
            "flex": null,
            "_model_name": "LayoutModel",
            "justify_items": null,
            "grid_row": null,
            "max_height": null,
            "align_content": null,
            "visibility": null,
            "align_self": null,
            "height": null,
            "min_height": null,
            "padding": null,
            "grid_auto_rows": null,
            "grid_gap": null,
            "max_width": null,
            "order": null,
            "_view_module_version": "1.2.0",
            "grid_template_areas": null,
            "object_position": null,
            "object_fit": null,
            "grid_auto_columns": null,
            "margin": null,
            "display": null,
            "left": null
          }
        },
        "6478214de597400fa20935267137b8e9": {
          "model_module": "@jupyter-widgets/controls",
          "model_name": "DescriptionStyleModel",
          "state": {
            "_view_name": "StyleView",
            "_model_name": "DescriptionStyleModel",
            "description_width": "",
            "_view_module": "@jupyter-widgets/base",
            "_model_module_version": "1.5.0",
            "_view_count": null,
            "_view_module_version": "1.2.0",
            "_model_module": "@jupyter-widgets/controls"
          }
        },
        "d9c90080354a437e88aa9f824be7ed6f": {
          "model_module": "@jupyter-widgets/base",
          "model_name": "LayoutModel",
          "state": {
            "_view_name": "LayoutView",
            "grid_template_rows": null,
            "right": null,
            "justify_content": null,
            "_view_module": "@jupyter-widgets/base",
            "overflow": null,
            "_model_module_version": "1.2.0",
            "_view_count": null,
            "flex_flow": null,
            "width": null,
            "min_width": null,
            "border": null,
            "align_items": null,
            "bottom": null,
            "_model_module": "@jupyter-widgets/base",
            "top": null,
            "grid_column": null,
            "overflow_y": null,
            "overflow_x": null,
            "grid_auto_flow": null,
            "grid_area": null,
            "grid_template_columns": null,
            "flex": null,
            "_model_name": "LayoutModel",
            "justify_items": null,
            "grid_row": null,
            "max_height": null,
            "align_content": null,
            "visibility": null,
            "align_self": null,
            "height": null,
            "min_height": null,
            "padding": null,
            "grid_auto_rows": null,
            "grid_gap": null,
            "max_width": null,
            "order": null,
            "_view_module_version": "1.2.0",
            "grid_template_areas": null,
            "object_position": null,
            "object_fit": null,
            "grid_auto_columns": null,
            "margin": null,
            "display": null,
            "left": null
          }
        },
        "27cdbd51411949ba92b333f07bb4ddb1": {
          "model_module": "@jupyter-widgets/controls",
          "model_name": "HBoxModel",
          "state": {
            "_view_name": "HBoxView",
            "_dom_classes": [],
            "_model_name": "HBoxModel",
            "_view_module": "@jupyter-widgets/controls",
            "_model_module_version": "1.5.0",
            "_view_count": null,
            "_view_module_version": "1.5.0",
            "box_style": "",
            "layout": "IPY_MODEL_8699e43bc2b74596ab21eb7d4c8b6f08",
            "_model_module": "@jupyter-widgets/controls",
            "children": [
              "IPY_MODEL_35aaa3f759c74b32bbda459ec835a652",
              "IPY_MODEL_c8476061279548d89270d658bf3acd33"
            ]
          }
        },
        "8699e43bc2b74596ab21eb7d4c8b6f08": {
          "model_module": "@jupyter-widgets/base",
          "model_name": "LayoutModel",
          "state": {
            "_view_name": "LayoutView",
            "grid_template_rows": null,
            "right": null,
            "justify_content": null,
            "_view_module": "@jupyter-widgets/base",
            "overflow": null,
            "_model_module_version": "1.2.0",
            "_view_count": null,
            "flex_flow": null,
            "width": null,
            "min_width": null,
            "border": null,
            "align_items": null,
            "bottom": null,
            "_model_module": "@jupyter-widgets/base",
            "top": null,
            "grid_column": null,
            "overflow_y": null,
            "overflow_x": null,
            "grid_auto_flow": null,
            "grid_area": null,
            "grid_template_columns": null,
            "flex": null,
            "_model_name": "LayoutModel",
            "justify_items": null,
            "grid_row": null,
            "max_height": null,
            "align_content": null,
            "visibility": null,
            "align_self": null,
            "height": null,
            "min_height": null,
            "padding": null,
            "grid_auto_rows": null,
            "grid_gap": null,
            "max_width": null,
            "order": null,
            "_view_module_version": "1.2.0",
            "grid_template_areas": null,
            "object_position": null,
            "object_fit": null,
            "grid_auto_columns": null,
            "margin": null,
            "display": null,
            "left": null
          }
        },
        "35aaa3f759c74b32bbda459ec835a652": {
          "model_module": "@jupyter-widgets/controls",
          "model_name": "FloatProgressModel",
          "state": {
            "_view_name": "ProgressView",
            "style": "IPY_MODEL_121df43d15e44f9a9fb2a6e2c689e831",
            "_dom_classes": [],
            "description": "100%",
            "_model_name": "FloatProgressModel",
            "bar_style": "success",
            "max": 40,
            "_view_module": "@jupyter-widgets/controls",
            "_model_module_version": "1.5.0",
            "value": 40,
            "_view_count": null,
            "_view_module_version": "1.5.0",
            "orientation": "horizontal",
            "min": 0,
            "description_tooltip": null,
            "_model_module": "@jupyter-widgets/controls",
            "layout": "IPY_MODEL_8a0c7d1c134041129f4f7d3f459c41d5"
          }
        },
        "c8476061279548d89270d658bf3acd33": {
          "model_module": "@jupyter-widgets/controls",
          "model_name": "HTMLModel",
          "state": {
            "_view_name": "HTMLView",
            "style": "IPY_MODEL_8bb1ac2909b94978bfae0030f94120b3",
            "_dom_classes": [],
            "description": "",
            "_model_name": "HTMLModel",
            "placeholder": "​",
            "_view_module": "@jupyter-widgets/controls",
            "_model_module_version": "1.5.0",
            "value": " 40/40 [00:00&lt;00:00, 927.88it/s]",
            "_view_count": null,
            "_view_module_version": "1.5.0",
            "description_tooltip": null,
            "_model_module": "@jupyter-widgets/controls",
            "layout": "IPY_MODEL_2fef5293f4a44def9d39ef14ff2958a7"
          }
        },
        "121df43d15e44f9a9fb2a6e2c689e831": {
          "model_module": "@jupyter-widgets/controls",
          "model_name": "ProgressStyleModel",
          "state": {
            "_view_name": "StyleView",
            "_model_name": "ProgressStyleModel",
            "description_width": "initial",
            "_view_module": "@jupyter-widgets/base",
            "_model_module_version": "1.5.0",
            "_view_count": null,
            "_view_module_version": "1.2.0",
            "bar_color": null,
            "_model_module": "@jupyter-widgets/controls"
          }
        },
        "8a0c7d1c134041129f4f7d3f459c41d5": {
          "model_module": "@jupyter-widgets/base",
          "model_name": "LayoutModel",
          "state": {
            "_view_name": "LayoutView",
            "grid_template_rows": null,
            "right": null,
            "justify_content": null,
            "_view_module": "@jupyter-widgets/base",
            "overflow": null,
            "_model_module_version": "1.2.0",
            "_view_count": null,
            "flex_flow": null,
            "width": null,
            "min_width": null,
            "border": null,
            "align_items": null,
            "bottom": null,
            "_model_module": "@jupyter-widgets/base",
            "top": null,
            "grid_column": null,
            "overflow_y": null,
            "overflow_x": null,
            "grid_auto_flow": null,
            "grid_area": null,
            "grid_template_columns": null,
            "flex": null,
            "_model_name": "LayoutModel",
            "justify_items": null,
            "grid_row": null,
            "max_height": null,
            "align_content": null,
            "visibility": null,
            "align_self": null,
            "height": null,
            "min_height": null,
            "padding": null,
            "grid_auto_rows": null,
            "grid_gap": null,
            "max_width": null,
            "order": null,
            "_view_module_version": "1.2.0",
            "grid_template_areas": null,
            "object_position": null,
            "object_fit": null,
            "grid_auto_columns": null,
            "margin": null,
            "display": null,
            "left": null
          }
        },
        "8bb1ac2909b94978bfae0030f94120b3": {
          "model_module": "@jupyter-widgets/controls",
          "model_name": "DescriptionStyleModel",
          "state": {
            "_view_name": "StyleView",
            "_model_name": "DescriptionStyleModel",
            "description_width": "",
            "_view_module": "@jupyter-widgets/base",
            "_model_module_version": "1.5.0",
            "_view_count": null,
            "_view_module_version": "1.2.0",
            "_model_module": "@jupyter-widgets/controls"
          }
        },
        "2fef5293f4a44def9d39ef14ff2958a7": {
          "model_module": "@jupyter-widgets/base",
          "model_name": "LayoutModel",
          "state": {
            "_view_name": "LayoutView",
            "grid_template_rows": null,
            "right": null,
            "justify_content": null,
            "_view_module": "@jupyter-widgets/base",
            "overflow": null,
            "_model_module_version": "1.2.0",
            "_view_count": null,
            "flex_flow": null,
            "width": null,
            "min_width": null,
            "border": null,
            "align_items": null,
            "bottom": null,
            "_model_module": "@jupyter-widgets/base",
            "top": null,
            "grid_column": null,
            "overflow_y": null,
            "overflow_x": null,
            "grid_auto_flow": null,
            "grid_area": null,
            "grid_template_columns": null,
            "flex": null,
            "_model_name": "LayoutModel",
            "justify_items": null,
            "grid_row": null,
            "max_height": null,
            "align_content": null,
            "visibility": null,
            "align_self": null,
            "height": null,
            "min_height": null,
            "padding": null,
            "grid_auto_rows": null,
            "grid_gap": null,
            "max_width": null,
            "order": null,
            "_view_module_version": "1.2.0",
            "grid_template_areas": null,
            "object_position": null,
            "object_fit": null,
            "grid_auto_columns": null,
            "margin": null,
            "display": null,
            "left": null
          }
        },
        "908a8b08a0a34d05ab68dfe4ec1d6f6f": {
          "model_module": "@jupyter-widgets/controls",
          "model_name": "HBoxModel",
          "state": {
            "_view_name": "HBoxView",
            "_dom_classes": [],
            "_model_name": "HBoxModel",
            "_view_module": "@jupyter-widgets/controls",
            "_model_module_version": "1.5.0",
            "_view_count": null,
            "_view_module_version": "1.5.0",
            "box_style": "",
            "layout": "IPY_MODEL_7d1cb9cabab64bc387c560ad3c316ab5",
            "_model_module": "@jupyter-widgets/controls",
            "children": [
              "IPY_MODEL_fa13b2afd6524125b3cac57c8d0dfbdd",
              "IPY_MODEL_884ea77d731c45bebbf8f9990ec75271"
            ]
          }
        },
        "7d1cb9cabab64bc387c560ad3c316ab5": {
          "model_module": "@jupyter-widgets/base",
          "model_name": "LayoutModel",
          "state": {
            "_view_name": "LayoutView",
            "grid_template_rows": null,
            "right": null,
            "justify_content": null,
            "_view_module": "@jupyter-widgets/base",
            "overflow": null,
            "_model_module_version": "1.2.0",
            "_view_count": null,
            "flex_flow": null,
            "width": null,
            "min_width": null,
            "border": null,
            "align_items": null,
            "bottom": null,
            "_model_module": "@jupyter-widgets/base",
            "top": null,
            "grid_column": null,
            "overflow_y": null,
            "overflow_x": null,
            "grid_auto_flow": null,
            "grid_area": null,
            "grid_template_columns": null,
            "flex": null,
            "_model_name": "LayoutModel",
            "justify_items": null,
            "grid_row": null,
            "max_height": null,
            "align_content": null,
            "visibility": null,
            "align_self": null,
            "height": null,
            "min_height": null,
            "padding": null,
            "grid_auto_rows": null,
            "grid_gap": null,
            "max_width": null,
            "order": null,
            "_view_module_version": "1.2.0",
            "grid_template_areas": null,
            "object_position": null,
            "object_fit": null,
            "grid_auto_columns": null,
            "margin": null,
            "display": null,
            "left": null
          }
        },
        "fa13b2afd6524125b3cac57c8d0dfbdd": {
          "model_module": "@jupyter-widgets/controls",
          "model_name": "FloatProgressModel",
          "state": {
            "_view_name": "ProgressView",
            "style": "IPY_MODEL_3ab3625f2a9842e29972c51c33d93adb",
            "_dom_classes": [],
            "description": "100%",
            "_model_name": "FloatProgressModel",
            "bar_style": "success",
            "max": 13,
            "_view_module": "@jupyter-widgets/controls",
            "_model_module_version": "1.5.0",
            "value": 13,
            "_view_count": null,
            "_view_module_version": "1.5.0",
            "orientation": "horizontal",
            "min": 0,
            "description_tooltip": null,
            "_model_module": "@jupyter-widgets/controls",
            "layout": "IPY_MODEL_814dd28fdb374c65bf7b3c49287c45ef"
          }
        },
        "884ea77d731c45bebbf8f9990ec75271": {
          "model_module": "@jupyter-widgets/controls",
          "model_name": "HTMLModel",
          "state": {
            "_view_name": "HTMLView",
            "style": "IPY_MODEL_ef3200e4759845a18a1e0fba033e5008",
            "_dom_classes": [],
            "description": "",
            "_model_name": "HTMLModel",
            "placeholder": "​",
            "_view_module": "@jupyter-widgets/controls",
            "_model_module_version": "1.5.0",
            "value": " 13/13 [00:00&lt;00:00, 362.06it/s]",
            "_view_count": null,
            "_view_module_version": "1.5.0",
            "description_tooltip": null,
            "_model_module": "@jupyter-widgets/controls",
            "layout": "IPY_MODEL_445c14e2a5d0466e8b5a156d3bb06adb"
          }
        },
        "3ab3625f2a9842e29972c51c33d93adb": {
          "model_module": "@jupyter-widgets/controls",
          "model_name": "ProgressStyleModel",
          "state": {
            "_view_name": "StyleView",
            "_model_name": "ProgressStyleModel",
            "description_width": "initial",
            "_view_module": "@jupyter-widgets/base",
            "_model_module_version": "1.5.0",
            "_view_count": null,
            "_view_module_version": "1.2.0",
            "bar_color": null,
            "_model_module": "@jupyter-widgets/controls"
          }
        },
        "814dd28fdb374c65bf7b3c49287c45ef": {
          "model_module": "@jupyter-widgets/base",
          "model_name": "LayoutModel",
          "state": {
            "_view_name": "LayoutView",
            "grid_template_rows": null,
            "right": null,
            "justify_content": null,
            "_view_module": "@jupyter-widgets/base",
            "overflow": null,
            "_model_module_version": "1.2.0",
            "_view_count": null,
            "flex_flow": null,
            "width": null,
            "min_width": null,
            "border": null,
            "align_items": null,
            "bottom": null,
            "_model_module": "@jupyter-widgets/base",
            "top": null,
            "grid_column": null,
            "overflow_y": null,
            "overflow_x": null,
            "grid_auto_flow": null,
            "grid_area": null,
            "grid_template_columns": null,
            "flex": null,
            "_model_name": "LayoutModel",
            "justify_items": null,
            "grid_row": null,
            "max_height": null,
            "align_content": null,
            "visibility": null,
            "align_self": null,
            "height": null,
            "min_height": null,
            "padding": null,
            "grid_auto_rows": null,
            "grid_gap": null,
            "max_width": null,
            "order": null,
            "_view_module_version": "1.2.0",
            "grid_template_areas": null,
            "object_position": null,
            "object_fit": null,
            "grid_auto_columns": null,
            "margin": null,
            "display": null,
            "left": null
          }
        },
        "ef3200e4759845a18a1e0fba033e5008": {
          "model_module": "@jupyter-widgets/controls",
          "model_name": "DescriptionStyleModel",
          "state": {
            "_view_name": "StyleView",
            "_model_name": "DescriptionStyleModel",
            "description_width": "",
            "_view_module": "@jupyter-widgets/base",
            "_model_module_version": "1.5.0",
            "_view_count": null,
            "_view_module_version": "1.2.0",
            "_model_module": "@jupyter-widgets/controls"
          }
        },
        "445c14e2a5d0466e8b5a156d3bb06adb": {
          "model_module": "@jupyter-widgets/base",
          "model_name": "LayoutModel",
          "state": {
            "_view_name": "LayoutView",
            "grid_template_rows": null,
            "right": null,
            "justify_content": null,
            "_view_module": "@jupyter-widgets/base",
            "overflow": null,
            "_model_module_version": "1.2.0",
            "_view_count": null,
            "flex_flow": null,
            "width": null,
            "min_width": null,
            "border": null,
            "align_items": null,
            "bottom": null,
            "_model_module": "@jupyter-widgets/base",
            "top": null,
            "grid_column": null,
            "overflow_y": null,
            "overflow_x": null,
            "grid_auto_flow": null,
            "grid_area": null,
            "grid_template_columns": null,
            "flex": null,
            "_model_name": "LayoutModel",
            "justify_items": null,
            "grid_row": null,
            "max_height": null,
            "align_content": null,
            "visibility": null,
            "align_self": null,
            "height": null,
            "min_height": null,
            "padding": null,
            "grid_auto_rows": null,
            "grid_gap": null,
            "max_width": null,
            "order": null,
            "_view_module_version": "1.2.0",
            "grid_template_areas": null,
            "object_position": null,
            "object_fit": null,
            "grid_auto_columns": null,
            "margin": null,
            "display": null,
            "left": null
          }
        }
      }
    },
    "accelerator": "TPU"
  },
  "cells": [
    {
      "cell_type": "code",
      "metadata": {
        "id": "FRnP5yt7UUE5"
      },
      "source": [
        "# We will use RIM-ONE and DRISHTI dataset"
      ],
      "execution_count": null,
      "outputs": []
    },
    {
      "cell_type": "code",
      "metadata": {
        "id": "1ma4BCv4UcXN"
      },
      "source": [
        "# I have obtained the dataset from the following github page, which is open source by the way\n",
        "# Git Hub URL: https://github.com/seva100/optic-nerve-cnn\n",
        "# Data URL: https://drive.google.com/drive/folders/13g62bhqN1JHJ2fky2Xy5avLbZ2YLMdwB"
      ],
      "execution_count": null,
      "outputs": []
    },
    {
      "cell_type": "code",
      "metadata": {
        "id": "807wnRglVAJu"
      },
      "source": [
        "# we will start coding by mounting the google drive and setting up configurations "
      ],
      "execution_count": null,
      "outputs": []
    },
    {
      "cell_type": "code",
      "metadata": {
        "id": "FsKfQRodfdzg",
        "colab": {
          "base_uri": "https://localhost:8080/"
        },
        "outputId": "e817bd5a-5c25-41f2-c07b-0c84260ce4fb"
      },
      "source": [
        "from google.colab import drive\n",
        "drive.mount('/content/gdrive')"
      ],
      "execution_count": null,
      "outputs": [
        {
          "output_type": "stream",
          "text": [
            "Mounted at /content/gdrive\n"
          ],
          "name": "stdout"
        }
      ]
    },
    {
      "cell_type": "code",
      "metadata": {
        "id": "1-bdE8d6h0cW"
      },
      "source": [
        "# Initial Setup\n",
        "\n",
        "train=True\n",
        "Epochs=30\n",
        "preload=False\n",
        "hough=False\n",
        "rams=False\n",
        "dynAug=False\n",
        "depth = 6\n",
        "chan = 64\n",
        "ir = 1.1\n",
        "rand_sv = 42\n",
        "ds = 'MIX'\n",
        "zone = 'DISK'\n",
        "cup = False\n",
        "mix = True\n",
        "dri = False\n",
        "rim = False"
      ],
      "execution_count": null,
      "outputs": []
    },
    {
      "cell_type": "code",
      "metadata": {
        "id": "WuaCss4d31b1",
        "colab": {
          "base_uri": "https://localhost:8080/"
        },
        "outputId": "6778825a-a6d2-4cf0-e141-4c7ccd178346"
      },
      "source": [
        "print(depth,chan,ir,rand_sv,ds,zone)"
      ],
      "execution_count": null,
      "outputs": [
        {
          "output_type": "stream",
          "text": [
            "6 64 1.1 42 MIX DISK\n"
          ],
          "name": "stdout"
        }
      ]
    },
    {
      "cell_type": "code",
      "metadata": {
        "id": "_xV9Nn6JwIkR"
      },
      "source": [
        "# Import all the necessary libraries\n",
        "\n",
        "import tensorflow as tf\n",
        "import os\n",
        "import glob\n",
        "from datetime import datetime\n",
        "import warnings\n",
        "warnings.simplefilter('ignore')\n",
        "import scipy as sp\n",
        "import scipy.ndimage\n",
        "import numpy as np\n",
        "import pandas as pd\n",
        "import skimage\n",
        "import skimage.exposure\n",
        "import skimage.transform\n",
        "import skimage.measure\n",
        "from PIL import Image\n",
        "import matplotlib.pyplot as plt\n",
        "%matplotlib inline\n",
        "import cv2\n",
        "import h5py\n",
        "from tqdm import tqdm_notebook\n",
        "from IPython.display import display\n",
        "from tensorflow.keras.models import Sequential, Model\n",
        "from tensorflow.keras import layers as layers\n",
        "from tensorflow.keras.layers import Dense, Dropout, Activation, Flatten, BatchNormalization, Conv2D, MaxPooling2D, ZeroPadding2D, Input, Embedding, LSTM, Lambda, UpSampling2D, concatenate, Conv2DTranspose\n",
        "from tensorflow.keras.utils import plot_model\n",
        "from tensorflow.keras.optimizers import SGD, Adam, Adagrad\n",
        "from tensorflow.keras.callbacks import ModelCheckpoint, LearningRateScheduler, ReduceLROnPlateau, CSVLogger\n",
        "from tensorflow.keras.preprocessing.image import ImageDataGenerator\n",
        "from tensorflow.keras import backend as K\n",
        "from sklearn.model_selection import train_test_split\n",
        "import math\n",
        "from skimage.transform import hough_ellipse\n",
        "from skimage.draw import ellipse_perimeter, ellipse\n",
        "from skimage.measure import  ransac, EllipseModel"
      ],
      "execution_count": null,
      "outputs": []
    },
    {
      "cell_type": "code",
      "metadata": {
        "id": "MjSzDEK6IMHI",
        "colab": {
          "base_uri": "https://localhost:8080/"
        },
        "outputId": "0c3d7ec4-fd68-4600-b83b-86866af25290"
      },
      "source": [
        "# boiler plate code configuration for TPU or GPU selection\n",
        "\n",
        "print(\"Tensorflow version \" + tf.__version__)\n",
        "if 'COLAB_TPU_ADDR' in os.environ:\n",
        "  print(os.environ['COLAB_TPU_ADDR'])\n",
        "else:\n",
        "  print('No TPU')\n",
        "if(tf.test.is_gpu_available()):\n",
        "  gpu=True\n",
        "else:\n",
        "  gpu=False\n",
        "  print('No GPU')"
      ],
      "execution_count": null,
      "outputs": [
        {
          "output_type": "stream",
          "text": [
            "Tensorflow version 2.3.0\n",
            "10.5.152.250:8470\n",
            "WARNING:tensorflow:From <ipython-input-8-03f923cc4082>:8: is_gpu_available (from tensorflow.python.framework.test_util) is deprecated and will be removed in a future version.\n",
            "Instructions for updating:\n",
            "Use `tf.config.list_physical_devices('GPU')` instead.\n",
            "No GPU\n"
          ],
          "name": "stdout"
        }
      ]
    },
    {
      "cell_type": "code",
      "metadata": {
        "id": "3hb0xsjvWCt0"
      },
      "source": [
        "# Metrics and further helper functions below"
      ],
      "execution_count": null,
      "outputs": []
    },
    {
      "cell_type": "code",
      "metadata": {
        "id": "62AopuRZV5-M"
      },
      "source": [
        "# let's set tensorflow backend working type to be float\n",
        "\n",
        "K.set_floatx('float32')"
      ],
      "execution_count": null,
      "outputs": []
    },
    {
      "cell_type": "code",
      "metadata": {
        "scrolled": true,
        "id": "L3gKgtXdwsuO"
      },
      "source": [
        "# Metrics for evaluation\n",
        "\n",
        "def dice_coef(y_true, y_pred):\n",
        "    y_true_f = K.flatten(y_true)\n",
        "    y_pred_f = K.flatten(y_pred)\n",
        "    intersection = K.sum(y_true_f * y_pred_f)\n",
        "    return (2. * intersection + K.epsilon()) / (K.sum(y_true_f) + K.sum(y_pred_f) + K.epsilon())\n",
        "  \n",
        "def dice_loss(y_true,y_pred):\n",
        "    return -dice_coef(y_true,y_pred)\n",
        "  \n",
        "def log_dice_loss(y_true, y_pred):\n",
        "    return -K.log(dice_coef(y_true, y_pred))\n",
        "\n",
        "# Computes mean Intersection-over-Union (IOU) for two arrays of binary images.\n",
        "\n",
        "def iou_loss_core(y_true, y_pred, smooth=1):\n",
        "    intersection = K.sum(K.abs(y_true * y_pred), axis=-1)\n",
        "    union = K.sum(y_true,-1) + K.sum(y_pred,-1) - intersection\n",
        "    iou = (intersection + smooth) / (union + smooth)\n",
        "    return iou"
      ],
      "execution_count": null,
      "outputs": []
    },
    {
      "cell_type": "code",
      "metadata": {
        "id": "79Jic7wYc6mk"
      },
      "source": [
        "# helper function to increase the brightness\n",
        "# hue, saturation, value\n",
        "\n",
        "def modify_brightness_p(img, p=1.2):\n",
        "    hsv = cv2.cvtColor(img, cv2.COLOR_BGR2HSV)\n",
        "    h, s, v = cv2.split(hsv)\n",
        "\n",
        "    lim = 1.0/p\n",
        "    v[v > lim] = 1.0\n",
        "    v[v <= lim] *= p\n",
        "\n",
        "    final_hsv = cv2.merge((h, s, v))\n",
        "    img = cv2.cvtColor(final_hsv, cv2.COLOR_HSV2BGR).clip(min=0)\n",
        "    return img"
      ],
      "execution_count": null,
      "outputs": []
    },
    {
      "cell_type": "code",
      "metadata": {
        "id": "82FWBt7h9dGP"
      },
      "source": [
        "# helper code to shuffle\n",
        "\n",
        "def unison_shuffled_copies(a, b):\n",
        "    assert len(a) == len(b)\n",
        "    p = np.random.permutation(len(a))\n",
        "    return a[p], b[p]"
      ],
      "execution_count": null,
      "outputs": []
    },
    {
      "cell_type": "code",
      "metadata": {
        "id": "NFChKFpTU6I0"
      },
      "source": [
        "# helper code to 512 image size indices with original images\n",
        "\n",
        "def index512_resize(index,top):\n",
        "  index=index*top/512\n",
        "  return int(index)"
      ],
      "execution_count": null,
      "outputs": []
    },
    {
      "cell_type": "code",
      "metadata": {
        "scrolled": true,
        "id": "w7wU3WR3wsuZ"
      },
      "source": [
        "# Load the data\n",
        "h5f1 = h5py.File(os.path.join(os.path.dirname(os.getcwd()), '/content/gdrive/My Drive/Medical Image/cnn_term_paper', 'RIM_ONE_v3.hdf5'), 'r')\n",
        "h5f2 = h5py.File(os.path.join(os.path.dirname(os.getcwd()), '/content/gdrive/My Drive/Medical Image/cnn_term_paper', 'DRISHTI_GS.hdf5'), 'r')\n",
        "h5v1 = h5py.File(os.path.join(os.path.dirname(os.getcwd()), '/content/gdrive/My Drive/Medical Image/cnn_term_paper', 'DRIONS_DB.hdf5'), 'r')"
      ],
      "execution_count": null,
      "outputs": []
    },
    {
      "cell_type": "code",
      "metadata": {
        "id": "gYXcxzc-WNJd"
      },
      "source": [
        "# Let's define the U-Net Model"
      ],
      "execution_count": null,
      "outputs": []
    },
    {
      "cell_type": "code",
      "metadata": {
        "id": "AKUbHgIhWQ7s"
      },
      "source": [
        ""
      ],
      "execution_count": null,
      "outputs": []
    },
    {
      "cell_type": "code",
      "metadata": {
        "id": "82nCHO8WiREs"
      },
      "source": [
        "# U-Net: Convolutional Networks for Biomedical Image Segmentation\n",
        "# (https://arxiv.org/abs/1505.04597)\n",
        "\n",
        "def conv_block(m, dim, acti, bn, res, do=0):\n",
        "\tn = Conv2D(dim, 3, activation=acti, padding='same')(m)\n",
        "\tn = BatchNormalization()(n) if bn else n\n",
        "\tn = Dropout(do)(n) if do else n\n",
        "\tn = Conv2D(dim, 3, activation=acti, padding='same')(n)\n",
        "\tn = BatchNormalization()(n) if bn else n\n",
        "\treturn Concatenate()([m, n]) if res else n\n",
        "\n",
        "def level_block(m, dim, depth, inc, acti, do, bn, mp, up, res):\n",
        "\tif depth > 0:\n",
        "\t\tn = conv_block(m, dim, acti, bn, res)\n",
        "\t\tm = MaxPooling2D()(n) if mp else Conv2D(dim, 3, strides=2, padding='same')(n)\n",
        "\t\tm = level_block(m, int(inc*dim), depth-1, inc, acti, do, bn, mp, up, res)\n",
        "\t\tif up:\n",
        "\t\t\tm = UpSampling2D()(m)\n",
        "\t\t\tm = Conv2D(dim, 2, activation=acti, padding='same')(m)\n",
        "\t\telse:\n",
        "\t\t\tm = Conv2DTranspose(dim, 3, strides=2, activation=acti, padding='same')(m)\n",
        "\t\tn = concatenate([n, m],axis=-1)\n",
        "\t\tm = conv_block(n, dim, acti, bn, res)\n",
        "\telse:\n",
        "\t\tm = conv_block(m, dim, acti, bn, res, do)\n",
        "\treturn m\n",
        "\n",
        "def UNet(img_shape, out_ch=1, start_ch=64, depth=4, inc_rate=2., activation='relu', \n",
        "\t\t dropout=0.5, batchnorm=False, maxpool=True, upconv=True, residual=False):\n",
        "\ti = Input(shape=img_shape)\n",
        "\to = level_block(i, start_ch, depth, inc_rate, activation, dropout, batchnorm, maxpool, upconv, residual)\n",
        "\to = Conv2D(out_ch, 1, activation='sigmoid')(o)\n",
        "\treturn Model(inputs=i, outputs=o)"
      ],
      "execution_count": null,
      "outputs": []
    },
    {
      "cell_type": "code",
      "metadata": {
        "id": "0oNfHoZQWYyy"
      },
      "source": [
        "# We can find data preprocessing steps below\n",
        "# step1: prepare the data for our model injection\n",
        "# step2: Create train and test set by combining datasets\n",
        "# Step3: Preprocessing step for Cup Segmentation\n",
        "# step4: Shuffle the dataset\n",
        "# step5: Increase the size of dataset by Image Data Generator"
      ],
      "execution_count": null,
      "outputs": []
    },
    {
      "cell_type": "code",
      "metadata": {
        "id": "BVAiDcVW-7-K"
      },
      "source": [
        "img_shape=(128,128,3)"
      ],
      "execution_count": null,
      "outputs": []
    },
    {
      "cell_type": "code",
      "metadata": {
        "id": "R_4GQ6QZC4_E",
        "colab": {
          "base_uri": "https://localhost:8080/"
        },
        "outputId": "48f4b53d-c4da-49c7-ae67-c5ca76f95272"
      },
      "source": [
        "# DRISHTI Dataset\n",
        "# step1: prepare the data for our model injection\n",
        "\n",
        "Xori= np.asarray(h5f2['DRISHTI-GS/orig/images'])\n",
        "disc_locations = np.asarray( h5f2['DRISHTI-GS/512 px/disc_locations'])\n",
        "FC = np.asarray(h5f2['DRISHTI-GS/512 px/file_codes'] ) \n",
        "indDRI = np.arange(0,Xori.shape[0])\n",
        "bsqside=np.maximum((disc_locations[:,3]-disc_locations[:,1]),(disc_locations[:,2]-disc_locations[:,0]))\n",
        "isize=Xori.shape[1]\n",
        "\n",
        "if (cup):\n",
        "  \n",
        "  Yf = np.asarray(h5f2['DRISHTI-GS/512 px/cup'])\n",
        " \n",
        "  Xc = [Xori[i][index512_resize(disc_locations[i][0],isize):index512_resize(disc_locations[i][0]+bsqside[i],isize), index512_resize(disc_locations[i][1],isize):index512_resize(disc_locations[i][1]+bsqside[i],isize)] \n",
        "                   for i in range(len(Xori))]\n",
        "\n",
        "  Yc=[Yf[i][disc_locations[i][0]:disc_locations[i][0]+bsqside[i], disc_locations[i][1]:disc_locations[i][1]+bsqside[i]] \n",
        "                   for i in range(len(Xori))]\n",
        "\n",
        "else:\n",
        "  Yf =np.asarray( h5f2['DRISHTI-GS/512 px/disc'])\n",
        "  \n",
        "  Xc = [Xori[i][index512_resize(50,isize):index512_resize(462,isize), index512_resize(50,isize):index512_resize(462,isize)] \n",
        "                   for i in range(len(Xori))]\n",
        "\n",
        "  Yc=[Yf[i][50:462,50:462] \n",
        "                   for i in range(len(Xori))]\n",
        "\n",
        "X=[cv2.resize(img, (128, 128),interpolation=cv2.INTER_NEAREST) for img in Xc]\n",
        "X=np.asarray(X) \n",
        "am=np.amax(X)\n",
        "X=X.astype(np.float32)/am \n",
        "print(np.amax(X),np.amin(X))\n",
        "\n",
        "Y=[cv2.resize(img, (128, 128),interpolation=cv2.INTER_NEAREST)[..., None] for img in Yc]\n",
        "Y=np.asarray(Y) \n",
        "ym=np.amax(Y) \n",
        "Yf=Y/ym\n",
        "#get binary mask\n",
        "Yb=(Y>0.5).astype(np.float32) \n",
        "\n",
        "print(np.amax(Yf),np.amin(Yf))\n",
        "print(X.shape)"
      ],
      "execution_count": null,
      "outputs": [
        {
          "output_type": "stream",
          "text": [
            "1.0 0.0\n",
            "1.0 0.0\n",
            "(50, 128, 128, 3)\n"
          ],
          "name": "stdout"
        }
      ]
    },
    {
      "cell_type": "code",
      "metadata": {
        "id": "2e0cSAtE7dpI",
        "colab": {
          "base_uri": "https://localhost:8080/"
        },
        "outputId": "611425eb-9dfa-48cf-b035-753c283693e9"
      },
      "source": [
        "# RIM ONE V_3 Dataset\n",
        "# step1: prepare the data for our model injection\n",
        "\n",
        "Xvori= h5f1['RIM-ONE v3/orig/images']\n",
        "disc_locationsv = h5f1['RIM-ONE v3/512 px/disc_locations']\n",
        "Glauv=np.asarray(h5f1['RIM-ONE v3/512 px/is_ill'] )\n",
        "FCv=np.asarray(h5f1['RIM-ONE v3/512 px/file_codes'])\n",
        "indRIM=np.arange(0,Xvori.shape[0])\n",
        "bsqsidev=np.maximum((disc_locationsv[:,3]-disc_locationsv[:,1]),(disc_locationsv[:,2]-disc_locationsv[:,0]))\n",
        "low_cont_n=0;\n",
        "ivsize=Xvori.shape[1]\n",
        "\n",
        "if (cup):\n",
        "\n",
        "  Yvf = h5f1['RIM-ONE v3/512 px/cup']\n",
        "\n",
        "  Xvc = [Xvori[i][index512_resize(disc_locationsv[i][0],ivsize):index512_resize(disc_locationsv[i][0]+bsqsidev[i],ivsize), index512_resize(disc_locationsv[i][1],ivsize):index512_resize(disc_locationsv[i][1]+bsqsidev[i],ivsize)] \n",
        "                     for i in range(len(Xvori))]\n",
        "\n",
        "  Yvc=[Yvf[i][disc_locationsv[i][0]:disc_locationsv[i][0]+bsqsidev[i], disc_locationsv[i][1]:disc_locationsv[i][1]+bsqsidev[i]] \n",
        "                     for i in range(len(Xvori))]\n",
        "\n",
        "else:\n",
        "\n",
        "  Yvf = h5f1['RIM-ONE v3/512 px/disc']\n",
        "\n",
        "  Xvc = [Xvori[i][index512_resize(50,isize):index512_resize(462,ivsize), index512_resize(50,isize):index512_resize(462,ivsize)] \n",
        "                     for i in range(len(Xvori))]\n",
        "\n",
        "  Yvc=[Yvf[i][50:462,50:462] \n",
        "                     for i in range(len(Xvori))]\n",
        "\n",
        "\n",
        "Xvn=[cv2.resize(img, (128, 128),interpolation=cv2.INTER_NEAREST) for img in Xvc]\n",
        "Xv=np.asarray(Xvn) \n",
        "am=np.amax(Xv)\n",
        "Xv=Xv.astype(np.float32)/am \n",
        "print(np.amax(Xv),np.amin(Xv))\n",
        "\n",
        "Yv=[cv2.resize(img, (128, 128),interpolation=cv2.INTER_NEAREST)[..., None] for img in Yvc]\n",
        "Yv=np.asarray(Yv) \n",
        "ym=np.amax(Yv) \n",
        "Yvf=(Yv/ym).astype(np.float32) \n",
        "\n",
        "print(np.amax(Yvf),np.amin(Yvf))\n",
        "print(Xv.shape)"
      ],
      "execution_count": null,
      "outputs": [
        {
          "output_type": "stream",
          "text": [
            "1.0 0.0\n",
            "1.0 0.0\n",
            "(159, 128, 128, 3)\n"
          ],
          "name": "stdout"
        }
      ]
    },
    {
      "cell_type": "code",
      "metadata": {
        "id": "bOkf5DyYMIVl"
      },
      "source": [
        "# step2: Create train and test set by combining datasets\n",
        "\n",
        "rng = np.random.RandomState(rand_sv)\n",
        "\n",
        "#DRISHTI\n",
        "X_train1t, X_test1t, Y_train1t, Y_test1t, F_train1t, F_test1t ,ind_train1, ind_test1= train_test_split( X, Yb, FC, indDRI,test_size=0.25,random_state=rng)\n",
        "\n",
        "#RIM ONE\n",
        "X_train2, X_test2, Y_train2, Y_test2, F_train2, F_test2, ind_train2, ind_test2= train_test_split( Xv, Yvf, FCv, indRIM, test_size=0.25,random_state=rng)\n",
        "\n",
        "X_test_dri=np.copy(X_test1t)\n",
        "Y_test_dri=np.copy(Y_test1t)\n",
        "F_test_dri=np.copy(F_test1t)\n",
        "\n",
        "X_test_rim=np.copy(X_test2)\n",
        "Y_test_rim=np.copy(Y_test2)\n",
        "F_test_rim=np.copy(F_test2)\n",
        "\n",
        "if(dri or mix):\n",
        "  X_train1=np.concatenate([X_train1t,X_train1t])\n",
        "  X_train1=np.concatenate([X_train1,X_train1t])\n",
        "  X_test1=np.concatenate([X_test1t,X_test1t])\n",
        "  X_test1=np.concatenate([X_test1,X_test1t])\n",
        "\n",
        "  Y_train1=np.concatenate([Y_train1t,Y_train1t])\n",
        "  Y_train1=np.concatenate([Y_train1,Y_train1t])\n",
        "  Y_test1=np.concatenate([Y_test1t,Y_test1t])\n",
        "  Y_test1=np.concatenate([Y_test1,Y_test1t])\n",
        "\n",
        "if(mix):\n",
        "  X_train1=np.concatenate([X_train1,X_train2])\n",
        "  Y_train1=np.concatenate([Y_train1,Y_train2])\n",
        "  X_test1=np.concatenate([X_test1,X_test2])\n",
        "  Y_test1=np.concatenate([Y_test1,Y_test2])\n",
        "\n",
        "  X_train1=np.concatenate([X_train1,X_train2])\n",
        "  Y_train1=np.concatenate([Y_train1,Y_train2])\n",
        "  X_test1=np.concatenate([X_test1,X_test2])\n",
        "  Y_test1=np.concatenate([Y_test1,Y_test2])\n",
        "\n",
        "if(rim):\n",
        "  X_train1=np.concatenate([X_train2,X_train2])\n",
        "  X_test1=np.concatenate([X_test2,X_test2])\n",
        "\n",
        "  Y_train1=np.concatenate([Y_train2,Y_train2])\n",
        "  Y_test1=np.concatenate([Y_test2,Y_test2])\n",
        "\n",
        "if(dri):\n",
        "  X_train1=np.concatenate([X_train1,X_train1])\n",
        "  Y_train1=np.concatenate([Y_train1,Y_train1])\n",
        "\n",
        "X_train1=np.asarray(X_train1)\n",
        "Y_train1=np.asarray(Y_train1)\n",
        "X_test=np.asarray(X_test1)\n",
        "Y_test=np.asarray(Y_test1)\n",
        "\n",
        "X_train=np.copy(X_train1)\n",
        "Y_train=np.copy(Y_train1)\n",
        "\n",
        "size=X_train1.shape[0]\n",
        "\n",
        "X_traine=np.empty((20*size, 128, 128, 3),dtype=np.float32)\n",
        "Y_traine=np.empty((20*size, 128, 128, 1),dtype=np.float32) "
      ],
      "execution_count": null,
      "outputs": []
    },
    {
      "cell_type": "code",
      "metadata": {
        "colab": {
          "base_uri": "https://localhost:8080/",
          "height": 117,
          "referenced_widgets": [
            "b483141d6b1c4c5687158d3af706e256",
            "2ee4dfda39f345199cf4c2aca0f18164",
            "520e1ed6e98c40ecb7f87e18983f9108",
            "8f238baef7d1473ebb7ecae0e99fcf71",
            "4b868eece7d34a439ac75de88ba87508",
            "ddb14d64233b4ee3bcc90635ae60ffc0",
            "8b76c9800b2d407bba34ef9e669df632",
            "1a7ed0bb12de446480d158d7cef873b9",
            "5f438303eca24ee2ac5ccfdc9794c81b",
            "289f7866ffa84b828aa9d4dbb67e2ed0",
            "81b82fb2723d4a738bb3f7ba6dbe82f8",
            "dfe84329bbfe46a2adce79b4a2b6b800",
            "f67079644955402a841c3d85398b2297",
            "3b913cf999da458787d3d5138185f534",
            "7af9a900e2a64cff893ede27ff2a4307",
            "89c3a1fdada549d29730e85846729e7b"
          ]
        },
        "id": "9YdMKLwXMIqV",
        "outputId": "6f070e8c-fed4-4c18-bac9-e0d583b049d7"
      },
      "source": [
        "# Step3: Preprocessing step for Cup Segmentation\n",
        "# Perform CLAHE on each image\n",
        "\n",
        "for i in range(16):\n",
        "  X_traine[i*size:(i+1)*size]=X_train1\n",
        "  Y_traine[i*size:(i+1)*size]=Y_train1\n",
        "  \n",
        "base= 16*size\n",
        "\n",
        "for j in tqdm_notebook(range(X_train1.shape[0])):\n",
        "  X_traine[base]=skimage.exposure.equalize_adapthist(X_train1[j], clip_limit=0.04)\n",
        "  Y_traine[base]=Y_train1[j]\n",
        "  base+=1\n",
        "  X_traine[base]=skimage.exposure.equalize_adapthist(X_train1[j], clip_limit=0.02)\n",
        "  Y_traine[base]=Y_train1[j]\n",
        "  base+=1\n",
        "  X_traine[base]=modify_brightness_p(X_train1[j],0.9)\n",
        "  Y_traine[base]=Y_train1[j]\n",
        "  base+=1\n",
        "  X_traine[base]=modify_brightness_p(X_train1[j],1.1)\n",
        "  Y_traine[base]=Y_train1[j]\n",
        "  base+=1\n",
        "  \n",
        "X_testc=np.copy(X_test)\n",
        "Y_testc=np.copy(Y_test)\n",
        "\n",
        "sizev=X_testc.shape[0]\n",
        "\n",
        "X_teste=np.empty((20*sizev, 128, 128, 3),dtype=np.float32)\n",
        "Y_teste=np.empty((20*sizev, 128, 128, 1),dtype=np.float32)\n",
        "\n",
        "for i in range(8):\n",
        "  X_teste[i*sizev:(i+1)*sizev]=X_testc\n",
        "  Y_teste[i*sizev:(i+1)*sizev]=Y_testc\n",
        "  \n",
        "basev= 8*sizev\n",
        "\n",
        "for j in tqdm_notebook(range(X_testc.shape[0])):\n",
        "  X_teste[basev]=skimage.exposure.equalize_adapthist(X_testc[j], clip_limit=0.04)\n",
        "  Y_teste[basev]=Y_testc[j]\n",
        "  basev+=1\n",
        "  X_teste[basev]=skimage.exposure.equalize_adapthist(X_testc[j], clip_limit=0.02)\n",
        "  Y_teste[basev]=Y_testc[j]\n",
        "  basev+=1\n",
        "  X_teste[basev]=modify_brightness_p(X_testc[j],0.9)\n",
        "  Y_teste[basev]=Y_testc[j]\n",
        "  basev+=1\n",
        "  X_teste[basev]=modify_brightness_p(X_testc[j],1.1)\n",
        "  Y_teste[basev]=Y_testc[j]\n",
        "  basev+=1"
      ],
      "execution_count": null,
      "outputs": [
        {
          "output_type": "display_data",
          "data": {
            "application/vnd.jupyter.widget-view+json": {
              "model_id": "b483141d6b1c4c5687158d3af706e256",
              "version_minor": 0,
              "version_major": 2
            },
            "text/plain": [
              "HBox(children=(FloatProgress(value=0.0, max=349.0), HTML(value='')))"
            ]
          },
          "metadata": {
            "tags": []
          }
        },
        {
          "output_type": "stream",
          "text": [
            "\n"
          ],
          "name": "stdout"
        },
        {
          "output_type": "display_data",
          "data": {
            "application/vnd.jupyter.widget-view+json": {
              "model_id": "5f438303eca24ee2ac5ccfdc9794c81b",
              "version_minor": 0,
              "version_major": 2
            },
            "text/plain": [
              "HBox(children=(FloatProgress(value=0.0, max=119.0), HTML(value='')))"
            ]
          },
          "metadata": {
            "tags": []
          }
        },
        {
          "output_type": "stream",
          "text": [
            "\n"
          ],
          "name": "stdout"
        }
      ]
    },
    {
      "cell_type": "code",
      "metadata": {
        "id": "k0LN9Tqi-BWg"
      },
      "source": [
        "# step4: Shuffle the dataset\n",
        "\n",
        "X_trains,Y_trains = unison_shuffled_copies(X_traine, Y_traine)\n",
        "X_tests,Y_tests = unison_shuffled_copies(X_teste, Y_teste)"
      ],
      "execution_count": null,
      "outputs": []
    },
    {
      "cell_type": "code",
      "metadata": {
        "id": "XAMuOnUGFI4o"
      },
      "source": [
        "# Provide the same seed and keyword arguments to the fit and flow methods\n",
        "\n",
        "seed = rand_sv\n",
        "batch_s = 120"
      ],
      "execution_count": null,
      "outputs": []
    },
    {
      "cell_type": "code",
      "metadata": {
        "id": "cG3TALY1_ofB"
      },
      "source": [
        "# helper function for ipython notebook\n",
        "\n",
        "cp_callbacks = tf.keras.callbacks.ModelCheckpoint(filepath=os.path.join('/content/gdrive/My Drive/Medical Image/cnn_term_paper/last_check_point.hdf5'), verbose=1, save_best_only=True,save_weights_only=True)\n",
        "reduce_lr = ReduceLROnPlateau(monitor='val_loss', factor=0.8, patience=5, min_lr=2e-4)"
      ],
      "execution_count": null,
      "outputs": []
    },
    {
      "cell_type": "code",
      "metadata": {
        "id": "1e79XCvBAlpd",
        "colab": {
          "base_uri": "https://localhost:8080/"
        },
        "outputId": "cd231bf2-59bd-45b3-ca03-22949677fccd"
      },
      "source": [
        "img_shape"
      ],
      "execution_count": null,
      "outputs": [
        {
          "output_type": "execute_result",
          "data": {
            "text/plain": [
              "(128, 128, 3)"
            ]
          },
          "metadata": {
            "tags": []
          },
          "execution_count": 34
        }
      ]
    },
    {
      "cell_type": "code",
      "metadata": {
        "id": "Wp2MYmAvMj4p",
        "colab": {
          "base_uri": "https://localhost:8080/"
        },
        "outputId": "3d066a10-c0b3-419f-e8e3-20792d4143d5"
      },
      "source": [
        "# Boiler plate code to enable TPU or GPU in Google Colab\n",
        "# initialise GPU or TPU\n",
        "\n",
        "if 'COLAB_TPU_ADDR' not in  os.environ:\n",
        "  if (gpu):\n",
        "    strategy = tf.distribute.OneDeviceStrategy(device=\"/gpu:0\")\n",
        "  else:\n",
        "    strategy = tf.distribute.OneDeviceStrategy(device=\"/cpu:0\")\n",
        "else:\n",
        "  resolver = tf.distribute.cluster_resolver.TPUClusterResolver(tpu='grpc://' + os.environ['COLAB_TPU_ADDR'])\n",
        "  tf.config.experimental_connect_to_cluster(resolver)\n",
        "  tf.tpu.experimental.initialize_tpu_system(resolver)\n",
        "  strategy = tf.distribute.experimental.TPUStrategy(resolver)\n",
        "\n",
        "with strategy.scope():\n",
        "  model = UNet(img_shape,start_ch=chan,upconv=False,dropout=0.5, depth=depth,inc_rate=ir, batchnorm=True)\n",
        "  model.compile(\n",
        "      optimizer=tf.keras.optimizers.Adam(learning_rate=.001, ),\n",
        "      loss=log_dice_loss, metrics=[dice_coef]\n",
        "      )"
      ],
      "execution_count": null,
      "outputs": [
        {
          "output_type": "stream",
          "text": [
            "INFO:tensorflow:Initializing the TPU system: grpc://10.5.152.250:8470\n"
          ],
          "name": "stdout"
        },
        {
          "output_type": "stream",
          "text": [
            "INFO:tensorflow:Initializing the TPU system: grpc://10.5.152.250:8470\n"
          ],
          "name": "stderr"
        },
        {
          "output_type": "stream",
          "text": [
            "INFO:tensorflow:Clearing out eager caches\n"
          ],
          "name": "stdout"
        },
        {
          "output_type": "stream",
          "text": [
            "INFO:tensorflow:Clearing out eager caches\n"
          ],
          "name": "stderr"
        },
        {
          "output_type": "stream",
          "text": [
            "INFO:tensorflow:Finished initializing TPU system.\n"
          ],
          "name": "stdout"
        },
        {
          "output_type": "stream",
          "text": [
            "INFO:tensorflow:Finished initializing TPU system.\n",
            "WARNING:absl:`tf.distribute.experimental.TPUStrategy` is deprecated, please use  the non experimental symbol `tf.distribute.TPUStrategy` instead.\n"
          ],
          "name": "stderr"
        },
        {
          "output_type": "stream",
          "text": [
            "INFO:tensorflow:Found TPU system:\n"
          ],
          "name": "stdout"
        },
        {
          "output_type": "stream",
          "text": [
            "INFO:tensorflow:Found TPU system:\n"
          ],
          "name": "stderr"
        },
        {
          "output_type": "stream",
          "text": [
            "INFO:tensorflow:*** Num TPU Cores: 8\n"
          ],
          "name": "stdout"
        },
        {
          "output_type": "stream",
          "text": [
            "INFO:tensorflow:*** Num TPU Cores: 8\n"
          ],
          "name": "stderr"
        },
        {
          "output_type": "stream",
          "text": [
            "INFO:tensorflow:*** Num TPU Workers: 1\n"
          ],
          "name": "stdout"
        },
        {
          "output_type": "stream",
          "text": [
            "INFO:tensorflow:*** Num TPU Workers: 1\n"
          ],
          "name": "stderr"
        },
        {
          "output_type": "stream",
          "text": [
            "INFO:tensorflow:*** Num TPU Cores Per Worker: 8\n"
          ],
          "name": "stdout"
        },
        {
          "output_type": "stream",
          "text": [
            "INFO:tensorflow:*** Num TPU Cores Per Worker: 8\n"
          ],
          "name": "stderr"
        },
        {
          "output_type": "stream",
          "text": [
            "INFO:tensorflow:*** Available Device: _DeviceAttributes(/job:localhost/replica:0/task:0/device:CPU:0, CPU, 0, 0)\n"
          ],
          "name": "stdout"
        },
        {
          "output_type": "stream",
          "text": [
            "INFO:tensorflow:*** Available Device: _DeviceAttributes(/job:localhost/replica:0/task:0/device:CPU:0, CPU, 0, 0)\n"
          ],
          "name": "stderr"
        },
        {
          "output_type": "stream",
          "text": [
            "INFO:tensorflow:*** Available Device: _DeviceAttributes(/job:localhost/replica:0/task:0/device:XLA_CPU:0, XLA_CPU, 0, 0)\n"
          ],
          "name": "stdout"
        },
        {
          "output_type": "stream",
          "text": [
            "INFO:tensorflow:*** Available Device: _DeviceAttributes(/job:localhost/replica:0/task:0/device:XLA_CPU:0, XLA_CPU, 0, 0)\n"
          ],
          "name": "stderr"
        },
        {
          "output_type": "stream",
          "text": [
            "INFO:tensorflow:*** Available Device: _DeviceAttributes(/job:worker/replica:0/task:0/device:CPU:0, CPU, 0, 0)\n"
          ],
          "name": "stdout"
        },
        {
          "output_type": "stream",
          "text": [
            "INFO:tensorflow:*** Available Device: _DeviceAttributes(/job:worker/replica:0/task:0/device:CPU:0, CPU, 0, 0)\n"
          ],
          "name": "stderr"
        },
        {
          "output_type": "stream",
          "text": [
            "INFO:tensorflow:*** Available Device: _DeviceAttributes(/job:worker/replica:0/task:0/device:TPU:0, TPU, 0, 0)\n"
          ],
          "name": "stdout"
        },
        {
          "output_type": "stream",
          "text": [
            "INFO:tensorflow:*** Available Device: _DeviceAttributes(/job:worker/replica:0/task:0/device:TPU:0, TPU, 0, 0)\n"
          ],
          "name": "stderr"
        },
        {
          "output_type": "stream",
          "text": [
            "INFO:tensorflow:*** Available Device: _DeviceAttributes(/job:worker/replica:0/task:0/device:TPU:1, TPU, 0, 0)\n"
          ],
          "name": "stdout"
        },
        {
          "output_type": "stream",
          "text": [
            "INFO:tensorflow:*** Available Device: _DeviceAttributes(/job:worker/replica:0/task:0/device:TPU:1, TPU, 0, 0)\n"
          ],
          "name": "stderr"
        },
        {
          "output_type": "stream",
          "text": [
            "INFO:tensorflow:*** Available Device: _DeviceAttributes(/job:worker/replica:0/task:0/device:TPU:2, TPU, 0, 0)\n"
          ],
          "name": "stdout"
        },
        {
          "output_type": "stream",
          "text": [
            "INFO:tensorflow:*** Available Device: _DeviceAttributes(/job:worker/replica:0/task:0/device:TPU:2, TPU, 0, 0)\n"
          ],
          "name": "stderr"
        },
        {
          "output_type": "stream",
          "text": [
            "INFO:tensorflow:*** Available Device: _DeviceAttributes(/job:worker/replica:0/task:0/device:TPU:3, TPU, 0, 0)\n"
          ],
          "name": "stdout"
        },
        {
          "output_type": "stream",
          "text": [
            "INFO:tensorflow:*** Available Device: _DeviceAttributes(/job:worker/replica:0/task:0/device:TPU:3, TPU, 0, 0)\n"
          ],
          "name": "stderr"
        },
        {
          "output_type": "stream",
          "text": [
            "INFO:tensorflow:*** Available Device: _DeviceAttributes(/job:worker/replica:0/task:0/device:TPU:4, TPU, 0, 0)\n"
          ],
          "name": "stdout"
        },
        {
          "output_type": "stream",
          "text": [
            "INFO:tensorflow:*** Available Device: _DeviceAttributes(/job:worker/replica:0/task:0/device:TPU:4, TPU, 0, 0)\n"
          ],
          "name": "stderr"
        },
        {
          "output_type": "stream",
          "text": [
            "INFO:tensorflow:*** Available Device: _DeviceAttributes(/job:worker/replica:0/task:0/device:TPU:5, TPU, 0, 0)\n"
          ],
          "name": "stdout"
        },
        {
          "output_type": "stream",
          "text": [
            "INFO:tensorflow:*** Available Device: _DeviceAttributes(/job:worker/replica:0/task:0/device:TPU:5, TPU, 0, 0)\n"
          ],
          "name": "stderr"
        },
        {
          "output_type": "stream",
          "text": [
            "INFO:tensorflow:*** Available Device: _DeviceAttributes(/job:worker/replica:0/task:0/device:TPU:6, TPU, 0, 0)\n"
          ],
          "name": "stdout"
        },
        {
          "output_type": "stream",
          "text": [
            "INFO:tensorflow:*** Available Device: _DeviceAttributes(/job:worker/replica:0/task:0/device:TPU:6, TPU, 0, 0)\n"
          ],
          "name": "stderr"
        },
        {
          "output_type": "stream",
          "text": [
            "INFO:tensorflow:*** Available Device: _DeviceAttributes(/job:worker/replica:0/task:0/device:TPU:7, TPU, 0, 0)\n"
          ],
          "name": "stdout"
        },
        {
          "output_type": "stream",
          "text": [
            "INFO:tensorflow:*** Available Device: _DeviceAttributes(/job:worker/replica:0/task:0/device:TPU:7, TPU, 0, 0)\n"
          ],
          "name": "stderr"
        },
        {
          "output_type": "stream",
          "text": [
            "INFO:tensorflow:*** Available Device: _DeviceAttributes(/job:worker/replica:0/task:0/device:TPU_SYSTEM:0, TPU_SYSTEM, 0, 0)\n"
          ],
          "name": "stdout"
        },
        {
          "output_type": "stream",
          "text": [
            "INFO:tensorflow:*** Available Device: _DeviceAttributes(/job:worker/replica:0/task:0/device:TPU_SYSTEM:0, TPU_SYSTEM, 0, 0)\n"
          ],
          "name": "stderr"
        },
        {
          "output_type": "stream",
          "text": [
            "INFO:tensorflow:*** Available Device: _DeviceAttributes(/job:worker/replica:0/task:0/device:XLA_CPU:0, XLA_CPU, 0, 0)\n"
          ],
          "name": "stdout"
        },
        {
          "output_type": "stream",
          "text": [
            "INFO:tensorflow:*** Available Device: _DeviceAttributes(/job:worker/replica:0/task:0/device:XLA_CPU:0, XLA_CPU, 0, 0)\n"
          ],
          "name": "stderr"
        }
      ]
    },
    {
      "cell_type": "code",
      "metadata": {
        "colab": {
          "base_uri": "https://localhost:8080/"
        },
        "id": "wnpZvh9ljeSG",
        "outputId": "dd776e2b-dd93-4adc-ab51-1c8f616a213c"
      },
      "source": [
        "# Understand the model\n",
        "model.summary()"
      ],
      "execution_count": null,
      "outputs": [
        {
          "output_type": "stream",
          "text": [
            "Model: \"functional_1\"\n",
            "__________________________________________________________________________________________________\n",
            "Layer (type)                    Output Shape         Param #     Connected to                     \n",
            "==================================================================================================\n",
            "input_1 (InputLayer)            [(None, 128, 128, 3) 0                                            \n",
            "__________________________________________________________________________________________________\n",
            "conv2d (Conv2D)                 (None, 128, 128, 64) 1792        input_1[0][0]                    \n",
            "__________________________________________________________________________________________________\n",
            "batch_normalization (BatchNorma (None, 128, 128, 64) 256         conv2d[0][0]                     \n",
            "__________________________________________________________________________________________________\n",
            "conv2d_1 (Conv2D)               (None, 128, 128, 64) 36928       batch_normalization[0][0]        \n",
            "__________________________________________________________________________________________________\n",
            "batch_normalization_1 (BatchNor (None, 128, 128, 64) 256         conv2d_1[0][0]                   \n",
            "__________________________________________________________________________________________________\n",
            "max_pooling2d (MaxPooling2D)    (None, 64, 64, 64)   0           batch_normalization_1[0][0]      \n",
            "__________________________________________________________________________________________________\n",
            "conv2d_2 (Conv2D)               (None, 64, 64, 70)   40390       max_pooling2d[0][0]              \n",
            "__________________________________________________________________________________________________\n",
            "batch_normalization_2 (BatchNor (None, 64, 64, 70)   280         conv2d_2[0][0]                   \n",
            "__________________________________________________________________________________________________\n",
            "conv2d_3 (Conv2D)               (None, 64, 64, 70)   44170       batch_normalization_2[0][0]      \n",
            "__________________________________________________________________________________________________\n",
            "batch_normalization_3 (BatchNor (None, 64, 64, 70)   280         conv2d_3[0][0]                   \n",
            "__________________________________________________________________________________________________\n",
            "max_pooling2d_1 (MaxPooling2D)  (None, 32, 32, 70)   0           batch_normalization_3[0][0]      \n",
            "__________________________________________________________________________________________________\n",
            "conv2d_4 (Conv2D)               (None, 32, 32, 77)   48587       max_pooling2d_1[0][0]            \n",
            "__________________________________________________________________________________________________\n",
            "batch_normalization_4 (BatchNor (None, 32, 32, 77)   308         conv2d_4[0][0]                   \n",
            "__________________________________________________________________________________________________\n",
            "conv2d_5 (Conv2D)               (None, 32, 32, 77)   53438       batch_normalization_4[0][0]      \n",
            "__________________________________________________________________________________________________\n",
            "batch_normalization_5 (BatchNor (None, 32, 32, 77)   308         conv2d_5[0][0]                   \n",
            "__________________________________________________________________________________________________\n",
            "max_pooling2d_2 (MaxPooling2D)  (None, 16, 16, 77)   0           batch_normalization_5[0][0]      \n",
            "__________________________________________________________________________________________________\n",
            "conv2d_6 (Conv2D)               (None, 16, 16, 84)   58296       max_pooling2d_2[0][0]            \n",
            "__________________________________________________________________________________________________\n",
            "batch_normalization_6 (BatchNor (None, 16, 16, 84)   336         conv2d_6[0][0]                   \n",
            "__________________________________________________________________________________________________\n",
            "conv2d_7 (Conv2D)               (None, 16, 16, 84)   63588       batch_normalization_6[0][0]      \n",
            "__________________________________________________________________________________________________\n",
            "batch_normalization_7 (BatchNor (None, 16, 16, 84)   336         conv2d_7[0][0]                   \n",
            "__________________________________________________________________________________________________\n",
            "max_pooling2d_3 (MaxPooling2D)  (None, 8, 8, 84)     0           batch_normalization_7[0][0]      \n",
            "__________________________________________________________________________________________________\n",
            "conv2d_8 (Conv2D)               (None, 8, 8, 92)     69644       max_pooling2d_3[0][0]            \n",
            "__________________________________________________________________________________________________\n",
            "batch_normalization_8 (BatchNor (None, 8, 8, 92)     368         conv2d_8[0][0]                   \n",
            "__________________________________________________________________________________________________\n",
            "conv2d_9 (Conv2D)               (None, 8, 8, 92)     76268       batch_normalization_8[0][0]      \n",
            "__________________________________________________________________________________________________\n",
            "batch_normalization_9 (BatchNor (None, 8, 8, 92)     368         conv2d_9[0][0]                   \n",
            "__________________________________________________________________________________________________\n",
            "max_pooling2d_4 (MaxPooling2D)  (None, 4, 4, 92)     0           batch_normalization_9[0][0]      \n",
            "__________________________________________________________________________________________________\n",
            "conv2d_10 (Conv2D)              (None, 4, 4, 101)    83729       max_pooling2d_4[0][0]            \n",
            "__________________________________________________________________________________________________\n",
            "batch_normalization_10 (BatchNo (None, 4, 4, 101)    404         conv2d_10[0][0]                  \n",
            "__________________________________________________________________________________________________\n",
            "conv2d_11 (Conv2D)              (None, 4, 4, 101)    91910       batch_normalization_10[0][0]     \n",
            "__________________________________________________________________________________________________\n",
            "batch_normalization_11 (BatchNo (None, 4, 4, 101)    404         conv2d_11[0][0]                  \n",
            "__________________________________________________________________________________________________\n",
            "max_pooling2d_5 (MaxPooling2D)  (None, 2, 2, 101)    0           batch_normalization_11[0][0]     \n",
            "__________________________________________________________________________________________________\n",
            "conv2d_12 (Conv2D)              (None, 2, 2, 111)    101010      max_pooling2d_5[0][0]            \n",
            "__________________________________________________________________________________________________\n",
            "batch_normalization_12 (BatchNo (None, 2, 2, 111)    444         conv2d_12[0][0]                  \n",
            "__________________________________________________________________________________________________\n",
            "dropout (Dropout)               (None, 2, 2, 111)    0           batch_normalization_12[0][0]     \n",
            "__________________________________________________________________________________________________\n",
            "conv2d_13 (Conv2D)              (None, 2, 2, 111)    111000      dropout[0][0]                    \n",
            "__________________________________________________________________________________________________\n",
            "batch_normalization_13 (BatchNo (None, 2, 2, 111)    444         conv2d_13[0][0]                  \n",
            "__________________________________________________________________________________________________\n",
            "conv2d_transpose (Conv2DTranspo (None, 4, 4, 101)    101000      batch_normalization_13[0][0]     \n",
            "__________________________________________________________________________________________________\n",
            "concatenate (Concatenate)       (None, 4, 4, 202)    0           batch_normalization_11[0][0]     \n",
            "                                                                 conv2d_transpose[0][0]           \n",
            "__________________________________________________________________________________________________\n",
            "conv2d_14 (Conv2D)              (None, 4, 4, 101)    183719      concatenate[0][0]                \n",
            "__________________________________________________________________________________________________\n",
            "batch_normalization_14 (BatchNo (None, 4, 4, 101)    404         conv2d_14[0][0]                  \n",
            "__________________________________________________________________________________________________\n",
            "conv2d_15 (Conv2D)              (None, 4, 4, 101)    91910       batch_normalization_14[0][0]     \n",
            "__________________________________________________________________________________________________\n",
            "batch_normalization_15 (BatchNo (None, 4, 4, 101)    404         conv2d_15[0][0]                  \n",
            "__________________________________________________________________________________________________\n",
            "conv2d_transpose_1 (Conv2DTrans (None, 8, 8, 92)     83720       batch_normalization_15[0][0]     \n",
            "__________________________________________________________________________________________________\n",
            "concatenate_1 (Concatenate)     (None, 8, 8, 184)    0           batch_normalization_9[0][0]      \n",
            "                                                                 conv2d_transpose_1[0][0]         \n",
            "__________________________________________________________________________________________________\n",
            "conv2d_16 (Conv2D)              (None, 8, 8, 92)     152444      concatenate_1[0][0]              \n",
            "__________________________________________________________________________________________________\n",
            "batch_normalization_16 (BatchNo (None, 8, 8, 92)     368         conv2d_16[0][0]                  \n",
            "__________________________________________________________________________________________________\n",
            "conv2d_17 (Conv2D)              (None, 8, 8, 92)     76268       batch_normalization_16[0][0]     \n",
            "__________________________________________________________________________________________________\n",
            "batch_normalization_17 (BatchNo (None, 8, 8, 92)     368         conv2d_17[0][0]                  \n",
            "__________________________________________________________________________________________________\n",
            "conv2d_transpose_2 (Conv2DTrans (None, 16, 16, 84)   69636       batch_normalization_17[0][0]     \n",
            "__________________________________________________________________________________________________\n",
            "concatenate_2 (Concatenate)     (None, 16, 16, 168)  0           batch_normalization_7[0][0]      \n",
            "                                                                 conv2d_transpose_2[0][0]         \n",
            "__________________________________________________________________________________________________\n",
            "conv2d_18 (Conv2D)              (None, 16, 16, 84)   127092      concatenate_2[0][0]              \n",
            "__________________________________________________________________________________________________\n",
            "batch_normalization_18 (BatchNo (None, 16, 16, 84)   336         conv2d_18[0][0]                  \n",
            "__________________________________________________________________________________________________\n",
            "conv2d_19 (Conv2D)              (None, 16, 16, 84)   63588       batch_normalization_18[0][0]     \n",
            "__________________________________________________________________________________________________\n",
            "batch_normalization_19 (BatchNo (None, 16, 16, 84)   336         conv2d_19[0][0]                  \n",
            "__________________________________________________________________________________________________\n",
            "conv2d_transpose_3 (Conv2DTrans (None, 32, 32, 77)   58289       batch_normalization_19[0][0]     \n",
            "__________________________________________________________________________________________________\n",
            "concatenate_3 (Concatenate)     (None, 32, 32, 154)  0           batch_normalization_5[0][0]      \n",
            "                                                                 conv2d_transpose_3[0][0]         \n",
            "__________________________________________________________________________________________________\n",
            "conv2d_20 (Conv2D)              (None, 32, 32, 77)   106799      concatenate_3[0][0]              \n",
            "__________________________________________________________________________________________________\n",
            "batch_normalization_20 (BatchNo (None, 32, 32, 77)   308         conv2d_20[0][0]                  \n",
            "__________________________________________________________________________________________________\n",
            "conv2d_21 (Conv2D)              (None, 32, 32, 77)   53438       batch_normalization_20[0][0]     \n",
            "__________________________________________________________________________________________________\n",
            "batch_normalization_21 (BatchNo (None, 32, 32, 77)   308         conv2d_21[0][0]                  \n",
            "__________________________________________________________________________________________________\n",
            "conv2d_transpose_4 (Conv2DTrans (None, 64, 64, 70)   48580       batch_normalization_21[0][0]     \n",
            "__________________________________________________________________________________________________\n",
            "concatenate_4 (Concatenate)     (None, 64, 64, 140)  0           batch_normalization_3[0][0]      \n",
            "                                                                 conv2d_transpose_4[0][0]         \n",
            "__________________________________________________________________________________________________\n",
            "conv2d_22 (Conv2D)              (None, 64, 64, 70)   88270       concatenate_4[0][0]              \n",
            "__________________________________________________________________________________________________\n",
            "batch_normalization_22 (BatchNo (None, 64, 64, 70)   280         conv2d_22[0][0]                  \n",
            "__________________________________________________________________________________________________\n",
            "conv2d_23 (Conv2D)              (None, 64, 64, 70)   44170       batch_normalization_22[0][0]     \n",
            "__________________________________________________________________________________________________\n",
            "batch_normalization_23 (BatchNo (None, 64, 64, 70)   280         conv2d_23[0][0]                  \n",
            "__________________________________________________________________________________________________\n",
            "conv2d_transpose_5 (Conv2DTrans (None, 128, 128, 64) 40384       batch_normalization_23[0][0]     \n",
            "__________________________________________________________________________________________________\n",
            "concatenate_5 (Concatenate)     (None, 128, 128, 128 0           batch_normalization_1[0][0]      \n",
            "                                                                 conv2d_transpose_5[0][0]         \n",
            "__________________________________________________________________________________________________\n",
            "conv2d_24 (Conv2D)              (None, 128, 128, 64) 73792       concatenate_5[0][0]              \n",
            "__________________________________________________________________________________________________\n",
            "batch_normalization_24 (BatchNo (None, 128, 128, 64) 256         conv2d_24[0][0]                  \n",
            "__________________________________________________________________________________________________\n",
            "conv2d_25 (Conv2D)              (None, 128, 128, 64) 36928       batch_normalization_24[0][0]     \n",
            "__________________________________________________________________________________________________\n",
            "batch_normalization_25 (BatchNo (None, 128, 128, 64) 256         conv2d_25[0][0]                  \n",
            "__________________________________________________________________________________________________\n",
            "conv2d_26 (Conv2D)              (None, 128, 128, 1)  65          batch_normalization_25[0][0]     \n",
            "==================================================================================================\n",
            "Total params: 2,389,538\n",
            "Trainable params: 2,385,190\n",
            "Non-trainable params: 4,348\n",
            "__________________________________________________________________________________________________\n"
          ],
          "name": "stdout"
        }
      ]
    },
    {
      "cell_type": "code",
      "metadata": {
        "id": "pghPxpH03FVN"
      },
      "source": [
        "# if(preload):\n",
        "#   model.load_weights(os.path.join('/content/gdrive/My Drive/Medical Image/cnn_term_paper/model1_disk_last_check_point.hdf5'))"
      ],
      "execution_count": null,
      "outputs": []
    },
    {
      "cell_type": "code",
      "metadata": {
        "id": "LsNQz_UP8SEM",
        "colab": {
          "base_uri": "https://localhost:8080/"
        },
        "outputId": "1dea3927-c9a8-46c4-c5bb-80afa5bee78e"
      },
      "source": [
        "X_tests.shape"
      ],
      "execution_count": null,
      "outputs": [
        {
          "output_type": "execute_result",
          "data": {
            "text/plain": [
              "(2380, 128, 128, 3)"
            ]
          },
          "metadata": {
            "tags": []
          },
          "execution_count": 38
        }
      ]
    },
    {
      "cell_type": "code",
      "metadata": {
        "id": "lc99NWpsgmIr",
        "colab": {
          "base_uri": "https://localhost:8080/"
        },
        "outputId": "b6d2c260-60fc-48d2-b86c-c3bef32d72ec"
      },
      "source": [
        "# Model Training Step \n",
        "\n",
        "if(train):\n",
        "  history = model.fit(\n",
        "    X_trains,Y_trains,\n",
        "    epochs=Epochs,\n",
        "    batch_size=128,\n",
        "    steps_per_epoch=35,\n",
        "    validation_data = (X_tests,Y_tests),\n",
        "    callbacks=[cp_callbacks,reduce_lr],\n",
        "    verbose=1\n",
        "  )\n",
        "\n",
        "# save the trained model weights\n",
        "model.save_weights(os.path.join('/content/gdrive/My Drive/Medical Image/cnn_term_paper/model1_disk_last_check_point.hdf5'), overwrite=True)"
      ],
      "execution_count": null,
      "outputs": [
        {
          "output_type": "stream",
          "text": [
            "Epoch 1/30\n",
            "WARNING:tensorflow:From /usr/local/lib/python3.6/dist-packages/tensorflow/python/data/ops/multi_device_iterator_ops.py:601: get_next_as_optional (from tensorflow.python.data.ops.iterator_ops) is deprecated and will be removed in a future version.\n",
            "Instructions for updating:\n",
            "Use `tf.data.Iterator.get_next_as_optional()` instead.\n"
          ],
          "name": "stdout"
        },
        {
          "output_type": "stream",
          "text": [
            "WARNING:tensorflow:From /usr/local/lib/python3.6/dist-packages/tensorflow/python/data/ops/multi_device_iterator_ops.py:601: get_next_as_optional (from tensorflow.python.data.ops.iterator_ops) is deprecated and will be removed in a future version.\n",
            "Instructions for updating:\n",
            "Use `tf.data.Iterator.get_next_as_optional()` instead.\n"
          ],
          "name": "stderr"
        },
        {
          "output_type": "stream",
          "text": [
            " 2/35 [>.............................] - ETA: 1s - loss: 2.2834 - dice_coef: 0.1206WARNING:tensorflow:Callbacks method `on_train_batch_end` is slow compared to the batch time (batch time: 0.0063s vs `on_train_batch_end` time: 0.1126s). Check your callbacks.\n"
          ],
          "name": "stdout"
        },
        {
          "output_type": "stream",
          "text": [
            "WARNING:tensorflow:Callbacks method `on_train_batch_end` is slow compared to the batch time (batch time: 0.0063s vs `on_train_batch_end` time: 0.1126s). Check your callbacks.\n"
          ],
          "name": "stderr"
        },
        {
          "output_type": "stream",
          "text": [
            "35/35 [==============================] - ETA: 0s - loss: 1.0184 - dice_coef: 0.3839WARNING:tensorflow:Callbacks method `on_test_batch_end` is slow compared to the batch time (batch time: 0.0029s vs `on_test_batch_end` time: 0.0362s). Check your callbacks.\n"
          ],
          "name": "stdout"
        },
        {
          "output_type": "stream",
          "text": [
            "WARNING:tensorflow:Callbacks method `on_test_batch_end` is slow compared to the batch time (batch time: 0.0029s vs `on_test_batch_end` time: 0.0362s). Check your callbacks.\n"
          ],
          "name": "stderr"
        },
        {
          "output_type": "stream",
          "text": [
            "\n",
            "Epoch 00001: val_loss improved from inf to 3.13326, saving model to /content/gdrive/My Drive/Medical Image/cnn_term_paper/last_check_point.hdf5\n",
            "35/35 [==============================] - 24s 694ms/step - loss: 1.0184 - dice_coef: 0.3839 - val_loss: 3.1333 - val_dice_coef: 0.0450\n",
            "Epoch 2/30\n",
            "35/35 [==============================] - ETA: 0s - loss: 0.5047 - dice_coef: 0.6072\n",
            "Epoch 00002: val_loss improved from 3.13326 to 1.29579, saving model to /content/gdrive/My Drive/Medical Image/cnn_term_paper/last_check_point.hdf5\n",
            "35/35 [==============================] - 24s 679ms/step - loss: 0.5047 - dice_coef: 0.6072 - val_loss: 1.2958 - val_dice_coef: 0.2914\n",
            "Epoch 3/30\n",
            "35/35 [==============================] - ETA: 0s - loss: 0.2558 - dice_coef: 0.7755\n",
            "Epoch 00003: val_loss did not improve from 1.29579\n",
            "35/35 [==============================] - 5s 147ms/step - loss: 0.2558 - dice_coef: 0.7755 - val_loss: 3.2975 - val_dice_coef: 0.0589\n",
            "Epoch 4/30\n",
            "35/35 [==============================] - ETA: 0s - loss: 0.1315 - dice_coef: 0.8766\n",
            "Epoch 00004: val_loss improved from 1.29579 to 0.58494, saving model to /content/gdrive/My Drive/Medical Image/cnn_term_paper/last_check_point.hdf5\n",
            "35/35 [==============================] - 6s 178ms/step - loss: 0.1315 - dice_coef: 0.8766 - val_loss: 0.5849 - val_dice_coef: 0.5621\n",
            "Epoch 5/30\n",
            "35/35 [==============================] - ETA: 0s - loss: 0.0840 - dice_coef: 0.9196\n",
            "Epoch 00005: val_loss did not improve from 0.58494\n",
            "35/35 [==============================] - 5s 148ms/step - loss: 0.0840 - dice_coef: 0.9196 - val_loss: 0.6946 - val_dice_coef: 0.5084\n",
            "Epoch 6/30\n",
            "35/35 [==============================] - ETA: 0s - loss: 0.0579 - dice_coef: 0.9438\n",
            "Epoch 00006: val_loss improved from 0.58494 to 0.50549, saving model to /content/gdrive/My Drive/Medical Image/cnn_term_paper/last_check_point.hdf5\n",
            "35/35 [==============================] - 6s 178ms/step - loss: 0.0579 - dice_coef: 0.9438 - val_loss: 0.5055 - val_dice_coef: 0.6095\n",
            "Epoch 7/30\n",
            "35/35 [==============================] - ETA: 0s - loss: 0.0476 - dice_coef: 0.9536\n",
            "Epoch 00007: val_loss did not improve from 0.50549\n",
            "35/35 [==============================] - 5s 149ms/step - loss: 0.0476 - dice_coef: 0.9536 - val_loss: 0.6257 - val_dice_coef: 0.5438\n",
            "Epoch 8/30\n",
            "35/35 [==============================] - ETA: 0s - loss: 0.0379 - dice_coef: 0.9628\n",
            "Epoch 00008: val_loss improved from 0.50549 to 0.34822, saving model to /content/gdrive/My Drive/Medical Image/cnn_term_paper/last_check_point.hdf5\n",
            "35/35 [==============================] - 6s 178ms/step - loss: 0.0379 - dice_coef: 0.9628 - val_loss: 0.3482 - val_dice_coef: 0.7096\n",
            "Epoch 9/30\n",
            "35/35 [==============================] - ETA: 0s - loss: 0.0342 - dice_coef: 0.9664\n",
            "Epoch 00009: val_loss improved from 0.34822 to 0.24810, saving model to /content/gdrive/My Drive/Medical Image/cnn_term_paper/last_check_point.hdf5\n",
            "35/35 [==============================] - 6s 170ms/step - loss: 0.0342 - dice_coef: 0.9664 - val_loss: 0.2481 - val_dice_coef: 0.7823\n",
            "Epoch 10/30\n",
            "35/35 [==============================] - ETA: 0s - loss: 0.0284 - dice_coef: 0.9720\n",
            "Epoch 00010: val_loss improved from 0.24810 to 0.21620, saving model to /content/gdrive/My Drive/Medical Image/cnn_term_paper/last_check_point.hdf5\n",
            "35/35 [==============================] - 6s 171ms/step - loss: 0.0284 - dice_coef: 0.9720 - val_loss: 0.2162 - val_dice_coef: 0.8073\n",
            "Epoch 11/30\n",
            "35/35 [==============================] - ETA: 0s - loss: 0.0245 - dice_coef: 0.9758\n",
            "Epoch 00011: val_loss improved from 0.21620 to 0.18146, saving model to /content/gdrive/My Drive/Medical Image/cnn_term_paper/last_check_point.hdf5\n",
            "35/35 [==============================] - 6s 172ms/step - loss: 0.0245 - dice_coef: 0.9758 - val_loss: 0.1815 - val_dice_coef: 0.8359\n",
            "Epoch 12/30\n",
            "35/35 [==============================] - ETA: 0s - loss: 0.0220 - dice_coef: 0.9782\n",
            "Epoch 00012: val_loss improved from 0.18146 to 0.17850, saving model to /content/gdrive/My Drive/Medical Image/cnn_term_paper/last_check_point.hdf5\n",
            "35/35 [==============================] - 6s 173ms/step - loss: 0.0220 - dice_coef: 0.9782 - val_loss: 0.1785 - val_dice_coef: 0.8385\n",
            "Epoch 13/30\n",
            "35/35 [==============================] - ETA: 0s - loss: 0.0199 - dice_coef: 0.9802\n",
            "Epoch 00013: val_loss improved from 0.17850 to 0.16560, saving model to /content/gdrive/My Drive/Medical Image/cnn_term_paper/last_check_point.hdf5\n",
            "35/35 [==============================] - 6s 175ms/step - loss: 0.0199 - dice_coef: 0.9802 - val_loss: 0.1656 - val_dice_coef: 0.8494\n",
            "Epoch 14/30\n",
            "35/35 [==============================] - ETA: 0s - loss: 0.0186 - dice_coef: 0.9816\n",
            "Epoch 00014: val_loss improved from 0.16560 to 0.15554, saving model to /content/gdrive/My Drive/Medical Image/cnn_term_paper/last_check_point.hdf5\n",
            "35/35 [==============================] - 6s 171ms/step - loss: 0.0186 - dice_coef: 0.9816 - val_loss: 0.1555 - val_dice_coef: 0.8582\n",
            "Epoch 15/30\n",
            "35/35 [==============================] - ETA: 0s - loss: 0.0169 - dice_coef: 0.9833\n",
            "Epoch 00015: val_loss improved from 0.15554 to 0.14164, saving model to /content/gdrive/My Drive/Medical Image/cnn_term_paper/last_check_point.hdf5\n",
            "35/35 [==============================] - 6s 170ms/step - loss: 0.0169 - dice_coef: 0.9833 - val_loss: 0.1416 - val_dice_coef: 0.8702\n",
            "Epoch 16/30\n",
            "35/35 [==============================] - ETA: 0s - loss: 0.0163 - dice_coef: 0.9838\n",
            "Epoch 00016: val_loss improved from 0.14164 to 0.13084, saving model to /content/gdrive/My Drive/Medical Image/cnn_term_paper/last_check_point.hdf5\n",
            "35/35 [==============================] - 6s 172ms/step - loss: 0.0163 - dice_coef: 0.9838 - val_loss: 0.1308 - val_dice_coef: 0.8795\n",
            "Epoch 17/30\n",
            "35/35 [==============================] - ETA: 0s - loss: 0.0150 - dice_coef: 0.9851\n",
            "Epoch 00017: val_loss improved from 0.13084 to 0.13021, saving model to /content/gdrive/My Drive/Medical Image/cnn_term_paper/last_check_point.hdf5\n",
            "35/35 [==============================] - 6s 173ms/step - loss: 0.0150 - dice_coef: 0.9851 - val_loss: 0.1302 - val_dice_coef: 0.8801\n",
            "Epoch 18/30\n",
            "35/35 [==============================] - ETA: 0s - loss: 0.0138 - dice_coef: 0.9862\n",
            "Epoch 00018: val_loss improved from 0.13021 to 0.12309, saving model to /content/gdrive/My Drive/Medical Image/cnn_term_paper/last_check_point.hdf5\n",
            "35/35 [==============================] - 6s 174ms/step - loss: 0.0138 - dice_coef: 0.9862 - val_loss: 0.1231 - val_dice_coef: 0.8862\n",
            "Epoch 19/30\n",
            "35/35 [==============================] - ETA: 0s - loss: 0.0144 - dice_coef: 0.9856\n",
            "Epoch 00019: val_loss improved from 0.12309 to 0.11499, saving model to /content/gdrive/My Drive/Medical Image/cnn_term_paper/last_check_point.hdf5\n",
            "35/35 [==============================] - 6s 176ms/step - loss: 0.0144 - dice_coef: 0.9856 - val_loss: 0.1150 - val_dice_coef: 0.8930\n",
            "Epoch 20/30\n",
            "35/35 [==============================] - ETA: 0s - loss: 0.0121 - dice_coef: 0.9879\n",
            "Epoch 00020: val_loss did not improve from 0.11499\n",
            "35/35 [==============================] - 5s 149ms/step - loss: 0.0121 - dice_coef: 0.9879 - val_loss: 0.1162 - val_dice_coef: 0.8921\n",
            "Epoch 21/30\n",
            "35/35 [==============================] - ETA: 0s - loss: 0.0123 - dice_coef: 0.9877\n",
            "Epoch 00021: val_loss improved from 0.11499 to 0.10901, saving model to /content/gdrive/My Drive/Medical Image/cnn_term_paper/last_check_point.hdf5\n",
            "35/35 [==============================] - 6s 179ms/step - loss: 0.0123 - dice_coef: 0.9877 - val_loss: 0.1090 - val_dice_coef: 0.8981\n",
            "Epoch 22/30\n",
            "35/35 [==============================] - ETA: 0s - loss: 0.0117 - dice_coef: 0.9883\n",
            "Epoch 00022: val_loss did not improve from 0.10901\n",
            "35/35 [==============================] - 5s 148ms/step - loss: 0.0117 - dice_coef: 0.9883 - val_loss: 0.1099 - val_dice_coef: 0.8976\n",
            "Epoch 23/30\n",
            "35/35 [==============================] - ETA: 0s - loss: 0.0107 - dice_coef: 0.9894\n",
            "Epoch 00023: val_loss improved from 0.10901 to 0.10772, saving model to /content/gdrive/My Drive/Medical Image/cnn_term_paper/last_check_point.hdf5\n",
            "35/35 [==============================] - 6s 178ms/step - loss: 0.0107 - dice_coef: 0.9894 - val_loss: 0.1077 - val_dice_coef: 0.8996\n",
            "Epoch 24/30\n",
            "35/35 [==============================] - ETA: 0s - loss: 0.0100 - dice_coef: 0.9900\n",
            "Epoch 00024: val_loss improved from 0.10772 to 0.10750, saving model to /content/gdrive/My Drive/Medical Image/cnn_term_paper/last_check_point.hdf5\n",
            "35/35 [==============================] - 6s 170ms/step - loss: 0.0100 - dice_coef: 0.9900 - val_loss: 0.1075 - val_dice_coef: 0.8994\n",
            "Epoch 25/30\n",
            "35/35 [==============================] - ETA: 0s - loss: 0.0096 - dice_coef: 0.9905\n",
            "Epoch 00025: val_loss did not improve from 0.10750\n",
            "35/35 [==============================] - 5s 147ms/step - loss: 0.0096 - dice_coef: 0.9905 - val_loss: 0.1078 - val_dice_coef: 0.8994\n",
            "Epoch 26/30\n",
            "35/35 [==============================] - ETA: 0s - loss: 0.0099 - dice_coef: 0.9902\n",
            "Epoch 00026: val_loss did not improve from 0.10750\n",
            "35/35 [==============================] - 5s 146ms/step - loss: 0.0099 - dice_coef: 0.9902 - val_loss: 0.1087 - val_dice_coef: 0.8986\n",
            "Epoch 27/30\n",
            "35/35 [==============================] - ETA: 0s - loss: 0.0105 - dice_coef: 0.9895\n",
            "Epoch 00027: val_loss improved from 0.10750 to 0.10717, saving model to /content/gdrive/My Drive/Medical Image/cnn_term_paper/last_check_point.hdf5\n",
            "35/35 [==============================] - 6s 173ms/step - loss: 0.0105 - dice_coef: 0.9895 - val_loss: 0.1072 - val_dice_coef: 0.9000\n",
            "Epoch 28/30\n",
            "35/35 [==============================] - ETA: 0s - loss: 0.0095 - dice_coef: 0.9906\n",
            "Epoch 00028: val_loss improved from 0.10717 to 0.09919, saving model to /content/gdrive/My Drive/Medical Image/cnn_term_paper/last_check_point.hdf5\n",
            "35/35 [==============================] - 6s 170ms/step - loss: 0.0095 - dice_coef: 0.9906 - val_loss: 0.0992 - val_dice_coef: 0.9066\n",
            "Epoch 29/30\n",
            "35/35 [==============================] - ETA: 0s - loss: 0.0099 - dice_coef: 0.9901\n",
            "Epoch 00029: val_loss did not improve from 0.09919\n",
            "35/35 [==============================] - 5s 148ms/step - loss: 0.0099 - dice_coef: 0.9901 - val_loss: 0.1107 - val_dice_coef: 0.8966\n",
            "Epoch 30/30\n",
            "35/35 [==============================] - ETA: 0s - loss: 0.0095 - dice_coef: 0.9905\n",
            "Epoch 00030: val_loss did not improve from 0.09919\n",
            "35/35 [==============================] - 5s 148ms/step - loss: 0.0095 - dice_coef: 0.9905 - val_loss: 0.1178 - val_dice_coef: 0.8905\n"
          ],
          "name": "stdout"
        }
      ]
    },
    {
      "cell_type": "code",
      "metadata": {
        "id": "Vj6D5YnGJ-nq"
      },
      "source": [
        "# Load the pre trained model's weights\n",
        "\n",
        "if(train):\n",
        "  model.load_weights(os.path.join('/content/gdrive/My Drive/Medical Image/cnn_term_paper/model1_disk_last_check_point.hdf5'))"
      ],
      "execution_count": null,
      "outputs": []
    },
    {
      "cell_type": "code",
      "metadata": {
        "id": "Z12tlBDr9E8O",
        "colab": {
          "base_uri": "https://localhost:8080/"
        },
        "outputId": "aa12dbe7-e2cf-443e-83a3-88998dee0adb"
      },
      "source": [
        "# evaluate the model with the test data\n",
        "\n",
        "result = model.evaluate(X_tests[0:700,:,:,:],Y_tests[0:700,:,:,:])\n",
        "print(\"log dice loss for test set = \", result[0], ' ||| ',\"dice coeffecient (accuracy) for test set = \", result[1])"
      ],
      "execution_count": null,
      "outputs": [
        {
          "output_type": "stream",
          "text": [
            "\r 1/22 [>.............................] - ETA: 1:11 - loss: 2.3460 - dice_coef: 0.8085WARNING:tensorflow:Callbacks method `on_test_batch_end` is slow compared to the batch time (batch time: 0.0033s vs `on_test_batch_end` time: 0.0234s). Check your callbacks.\n"
          ],
          "name": "stdout"
        },
        {
          "output_type": "stream",
          "text": [
            "WARNING:tensorflow:Callbacks method `on_test_batch_end` is slow compared to the batch time (batch time: 0.0033s vs `on_test_batch_end` time: 0.0234s). Check your callbacks.\n"
          ],
          "name": "stderr"
        },
        {
          "output_type": "stream",
          "text": [
            "22/22 [==============================] - 4s 181ms/step - loss: 1.0526 - dice_coef: 0.8464\n",
            "log dice loss for test set =  1.0525809526443481  |||  dice coeffecient (accuracy) for test set =  0.8464087843894958\n"
          ],
          "name": "stdout"
        }
      ]
    },
    {
      "cell_type": "code",
      "metadata": {
        "id": "XNxqqB4RXVNF"
      },
      "source": [
        "# Visualise the change in accuracies and losses during training "
      ],
      "execution_count": null,
      "outputs": []
    },
    {
      "cell_type": "code",
      "metadata": {
        "id": "ta8svhOnN0s2",
        "colab": {
          "base_uri": "https://localhost:8080/",
          "height": 513
        },
        "outputId": "25eec174-885f-41db-b0c3-19d9e3f30e74"
      },
      "source": [
        "# plot train and test log dice loss\n",
        "\n",
        "if(train):\n",
        "  loss = history.history['loss']\n",
        "  val_loss=history.history['val_loss']\n",
        "  acc=history.history['dice_coef']\n",
        "  epochs = range(1, len(loss) + 1)\n",
        "  plt.figure(figsize=(8, 8))\n",
        "  plt.plot(epochs, loss, 'r', label='Training loss')\n",
        "  plt.plot(epochs, val_loss, 'b', label='Test loss')\n",
        "  plt.title('Training and test loss')\n",
        "  plt.xlabel('Epochs')\n",
        "  plt.ylabel('Loss')\n",
        "  plt.legend()\n",
        "  plt.savefig(os.path.join('/content/gdrive/My Drive/Medical Image/cnn_term_paper','loss'+'model1_disk'+'.png'),dpi=600)"
      ],
      "execution_count": null,
      "outputs": [
        {
          "output_type": "display_data",
          "data": {
            "image/png": "[encoded data removed]",
            "text/plain": [
              "<Figure size 576x576 with 1 Axes>"
            ]
          },
          "metadata": {
            "tags": [],
            "needs_background": "light"
          }
        }
      ]
    },
    {
      "cell_type": "code",
      "metadata": {
        "id": "e7Edl_4DOET0",
        "colab": {
          "base_uri": "https://localhost:8080/",
          "height": 513
        },
        "outputId": "a8c7cdb3-a8ae-4e67-c80c-9b07e63e4676"
      },
      "source": [
        "# plot train and test dice coeffecient (accuracy)\n",
        "if(train):\n",
        "  loss = history.history['loss']\n",
        "  acc=history.history['dice_coef']\n",
        "  val_acc=history.history['val_dice_coef']\n",
        "  epochs = range(1, len(acc) + 1)\n",
        "  plt.figure(figsize=(8, 8))\n",
        "  plt.plot(epochs, acc, 'r', label='Dice')\n",
        "  plt.plot(epochs, val_acc, 'b', label='Test dice')\n",
        "  plt.title('Training and test Dice')\n",
        "  plt.xlabel('Epochs')\n",
        "  plt.ylabel('Acc')\n",
        "  plt.legend()\n",
        "  plt.savefig(os.path.join('/content/gdrive/My Drive/Medical Image/cnn_term_paper','hist'+'model1_disk'+'.png'),dpi=600)"
      ],
      "execution_count": null,
      "outputs": [
        {
          "output_type": "display_data",
          "data": {
            "image/png": "[encoded data removed]",
            "text/plain": [
              "<Figure size 576x576 with 1 Axes>"
            ]
          },
          "metadata": {
            "tags": [],
            "needs_background": "light"
          }
        }
      ]
    },
    {
      "cell_type": "markdown",
      "metadata": {
        "id": "KqzTU_uoOICD"
      },
      "source": [
        "### We will Visualise how our algorithm performs on our Combined test set"
      ]
    },
    {
      "cell_type": "code",
      "metadata": {
        "id": "hglC8YtD0Qd3",
        "colab": {
          "base_uri": "https://localhost:8080/"
        },
        "outputId": "d21fe6e9-5994-491b-b7ce-690c277b497a"
      },
      "source": [
        "test_s=int(X_testc.shape[0])\n",
        "test_s=test_s-test_s%8\n",
        "test_s"
      ],
      "execution_count": null,
      "outputs": [
        {
          "output_type": "execute_result",
          "data": {
            "text/plain": [
              "112"
            ]
          },
          "metadata": {
            "tags": []
          },
          "execution_count": 45
        }
      ]
    },
    {
      "cell_type": "code",
      "metadata": {
        "id": "MTsLU6aHfH6r"
      },
      "source": [
        "# Defining metrics again\n",
        "\n",
        "smooth=1e-07\n",
        "def np_dice_coef(y_true, y_pred):\n",
        "    y_true_f = y_true.flatten()\n",
        "    y_pred_f = y_pred.flatten()\n",
        "    intersection = np.sum(y_true_f * y_pred_f)\n",
        "    return ( (2. * intersection + smooth) / \n",
        "             (np.sum(y_true_f) + np.sum(y_pred_f) + smooth) )\n",
        "    \n",
        "def np_iou(y_true, y_pred):\n",
        "    y_true_f = y_true.flatten()\n",
        "    y_pred_f = y_pred.flatten()\n",
        "    intersection = np.sum(y_true_f * y_pred_f)\n",
        "    return ( ( intersection + smooth) / \n",
        "             (np.sum(y_true_f) + np.sum(y_pred_f) - intersection + smooth) )   "
      ],
      "execution_count": null,
      "outputs": []
    },
    {
      "cell_type": "code",
      "metadata": {
        "id": "jITi6M5if30f"
      },
      "source": [
        "# importing helper libraries for visualisation part\n",
        "\n",
        "from skimage.morphology import dilation\n",
        "from skimage.feature import canny\n",
        "from skimage import color"
      ],
      "execution_count": null,
      "outputs": []
    },
    {
      "cell_type": "code",
      "metadata": {
        "id": "C-MAss7tr_-h",
        "colab": {
          "base_uri": "https://localhost:8080/",
          "height": 621,
          "referenced_widgets": [
            "754917d9e9dd45d6bd0d179690f3a849",
            "4e32fca0107847fcb6d41bf6f8671c68",
            "4e2b4695d29e4fb59386942823dda2d1",
            "b992d8adb9d54b229707b04bad0702ba",
            "96939b90087940f9a27d04a6bbcbda98",
            "66e75e1288ab44939e2caa8ceec822eb",
            "6478214de597400fa20935267137b8e9",
            "d9c90080354a437e88aa9f824be7ed6f"
          ]
        },
        "outputId": "fa2fe0fc-06e0-4a6b-a109-f17e46941417"
      },
      "source": [
        "%%time\n",
        "pred_dice=np.empty((test_s), dtype=np.float32)\n",
        "pred_iou=np.empty((test_s), dtype=np.float32)\n",
        "\n",
        "batch_X = X_testc[0:test_s]\n",
        "batch_y = Y_testc[0:test_s]\n",
        "print (batch_X.shape)\n",
        "    \n",
        "predv = (model.predict(batch_X,batch_size=test_s)[...,0]>0.5).astype(np.float32)\n",
        "corrv= (batch_y)[ ..., 0].astype(np.float32)\n",
        "predv1=predv.copy()\n",
        "\n",
        "\n",
        "for i in tqdm_notebook(range(predv.shape[0])):\n",
        "    img = X_test[i]\n",
        "    pred = predv[i]\n",
        "    corr = corrv[i]\n",
        "    label_pc = skimage.measure.label(pred, connectivity=pred.ndim)\n",
        "    props_pc = skimage.measure.regionprops(label_pc)\n",
        "    sz=len(props_pc)\n",
        "    if(sz)!=0:\n",
        "      areap=[props_pc[i].area for i in range(sz)]\n",
        "      k=np.argmax(areap)\n",
        "      predv1[i]=np.equal(label_pc,k+1).astype(int).astype(np.float32)\n",
        "    pred1= predv1[i]\n",
        "    cur_dice = np_dice_coef(pred1, corr)\n",
        "    cur_iou = np_iou(pred1,corr)\n",
        "    pred_dice[i]=(cur_dice)\n",
        "    pred_iou[i]=cur_iou\n",
        "    \n",
        "    \n",
        "d_worst=np.amin(pred_dice)\n",
        "d_best=np.amax(pred_dice)\n",
        "d_mean=np.mean(pred_dice)\n",
        "d_std=np.std(pred_dice)\n",
        "print(\"Dice mean=\",d_mean, \" Std=\",d_std, \" best=\",d_best,\" worst=\",d_worst)\n",
        "\n",
        "i_worst=np.amin(pred_iou)\n",
        "i_best=np.amax(pred_iou)\n",
        "i_mean=np.mean(pred_iou)\n",
        "i_std=np.std(pred_iou)\n",
        "print(\"IOU mean=\",i_mean, \" Std=\",i_std, \" best=\",i_best,\" worst=\",i_worst)\n",
        "\n",
        "ix_best=np.argmax(pred_dice)\n",
        "ix_worst=np.argmin(pred_dice)\n",
        "\n",
        "j=0\n",
        "for i in [ix_best,ix_worst]:\n",
        "    print('image #{}'.format(i))\n",
        "    img = X_test[i]\n",
        "    pred1 = predv1[i]\n",
        "    corr = corrv[i]\n",
        "    print(pred_dice[i])\n",
        "    fig = plt.figure(figsize=(9, 4))\n",
        "    ax = fig.add_subplot(1, 3, 1)\n",
        "    edgesp = canny(pred1)\n",
        "    edgesp=1.0-dilation(edgesp)\n",
        "    edgesp = color.gray2rgb(1.0*edgesp)\n",
        "    ax.imshow(img*edgesp)\n",
        "    ax.set_title('Predicted')\n",
        "    ax = fig.add_subplot(1, 3, 2)\n",
        "    edgesc = canny(corr)\n",
        "    edgesc=1.0-dilation(edgesc)\n",
        "    edgesc = color.gray2rgb(1.0*edgesc)\n",
        "    ax.imshow(img*edgesc)\n",
        "    ax.set_title('Correct')\n",
        "    ax = fig.add_subplot(1, 3, 3)\n",
        "    ax.imshow(img)\n",
        "    ax.set_title('Image')\n",
        "    fig.savefig(os.path.join('/content/gdrive/My Drive/Medical Image/cnn_term_paper','img_test_set'+str(j)+'model1_disk'+'.png'),dpi=600)\n",
        "    j+=1"
      ],
      "execution_count": null,
      "outputs": [
        {
          "output_type": "stream",
          "text": [
            "(112, 128, 128, 3)\n"
          ],
          "name": "stdout"
        },
        {
          "output_type": "display_data",
          "data": {
            "application/vnd.jupyter.widget-view+json": {
              "model_id": "754917d9e9dd45d6bd0d179690f3a849",
              "version_minor": 0,
              "version_major": 2
            },
            "text/plain": [
              "HBox(children=(FloatProgress(value=0.0, max=112.0), HTML(value='')))"
            ]
          },
          "metadata": {
            "tags": []
          }
        },
        {
          "output_type": "stream",
          "text": [
            "\n",
            "Dice mean= 0.8892508  Std= 0.15500014  best= 0.9739339  worst= 0.0006788197\n",
            "IOU mean= 0.8227825  Std= 0.16168012  best= 0.94919217  worst= 0.00033952514\n",
            "image #48\n",
            "0.9739339\n",
            "image #70\n",
            "0.0006788197\n",
            "CPU times: user 6.31 s, sys: 89.6 ms, total: 6.4 s\n",
            "Wall time: 11.8 s\n"
          ],
          "name": "stdout"
        },
        {
          "output_type": "display_data",
          "data": {
            "image/png": "[encoded data removed]",
            "text/plain": [
              "<Figure size 648x288 with 3 Axes>"
            ]
          },
          "metadata": {
            "tags": [],
            "needs_background": "light"
          }
        },
        {
          "output_type": "display_data",
          "data": {
            "image/png": "[encoded data removed]",
            "text/plain": [
              "<Figure size 648x288 with 3 Axes>"
            ]
          },
          "metadata": {
            "tags": [],
            "needs_background": "light"
          }
        }
      ]
    },
    {
      "cell_type": "markdown",
      "metadata": {
        "id": "ntk_NOsz8ST5"
      },
      "source": [
        "\n",
        "\n",
        "### Visualise our segmentation algorithm performs on RIM ONE dataset"
      ]
    },
    {
      "cell_type": "code",
      "metadata": {
        "id": "9WJGAme4KlzH",
        "colab": {
          "base_uri": "https://localhost:8080/"
        },
        "outputId": "475c4af2-ae4b-404d-90e8-ce7c2cbc4bdc"
      },
      "source": [
        "test_s=int(X_test_rim.shape[0])\n",
        "test_s"
      ],
      "execution_count": null,
      "outputs": [
        {
          "output_type": "execute_result",
          "data": {
            "text/plain": [
              "40"
            ]
          },
          "metadata": {
            "tags": []
          },
          "execution_count": 49
        }
      ]
    },
    {
      "cell_type": "code",
      "metadata": {
        "id": "CpCoo2imkL5O",
        "colab": {
          "base_uri": "https://localhost:8080/",
          "height": 585,
          "referenced_widgets": [
            "27cdbd51411949ba92b333f07bb4ddb1",
            "8699e43bc2b74596ab21eb7d4c8b6f08",
            "35aaa3f759c74b32bbda459ec835a652",
            "c8476061279548d89270d658bf3acd33",
            "121df43d15e44f9a9fb2a6e2c689e831",
            "8a0c7d1c134041129f4f7d3f459c41d5",
            "8bb1ac2909b94978bfae0030f94120b3",
            "2fef5293f4a44def9d39ef14ff2958a7"
          ]
        },
        "outputId": "2f86968a-abe5-4a5a-ade5-e4a2b0c97c81"
      },
      "source": [
        "\n",
        "pred_dice=np.empty((test_s), dtype=np.float32)\n",
        "pred_iou=np.empty((test_s), dtype=np.float32)\n",
        "\n",
        "batch_X = X_test_rim[0:test_s]\n",
        "batch_y = Y_test_rim[0:test_s]\n",
        "print (batch_X.shape)\n",
        "    \n",
        "predv = (model.predict(batch_X,batch_size=test_s)[...,0]>0.5).astype(np.float32)\n",
        "corrv= (batch_y)[ ..., 0].astype(np.float32)\n",
        "predv1=predv.copy()\n",
        "\n",
        "for i in tqdm_notebook(range(predv.shape[0])):\n",
        "    img = X_test_rim[i]\n",
        "    pred = predv[i]\n",
        "    corr = corrv[i]\n",
        "    label_pc = skimage.measure.label(pred, connectivity=pred.ndim)\n",
        "    props_pc = skimage.measure.regionprops(label_pc)\n",
        "    sz=len(props_pc)\n",
        "    if(sz)!=0:\n",
        "      areap=[props_pc[i].area for i in range(sz)]\n",
        "      k=np.argmax(areap)\n",
        "      predv1[i]=np.equal(label_pc,k+1).astype(int).astype(np.float32)\n",
        "    pred1= predv1[i]\n",
        "    cur_dice = np_dice_coef(pred1, corr)\n",
        "    cur_iou = np_iou(pred1,corr)\n",
        "    pred_dice[i]=(cur_dice)\n",
        "    pred_iou[i]=cur_iou\n",
        "    \n",
        "    \n",
        "d_worst=np.amin(pred_dice)\n",
        "d_best=np.amax(pred_dice)\n",
        "d_mean=np.mean(pred_dice)\n",
        "d_std=np.std(pred_dice)\n",
        "print(\"Dice mean=\",d_mean, \" Std=\",d_std, \" best=\",d_best,\" worst=\",d_worst)\n",
        "\n",
        "i_worst=np.amin(pred_iou)\n",
        "i_best=np.amax(pred_iou)\n",
        "i_mean=np.mean(pred_iou)\n",
        "i_std=np.std(pred_iou)\n",
        "print(\"IOU mean=\",i_mean, \" Std=\",i_std, \" best=\",i_best,\" worst=\",i_worst)\n",
        "\n",
        "ix_best=np.argmax(pred_dice)\n",
        "ix_worst=np.argmin(pred_dice)\n",
        "\n",
        "j=0\n",
        "for i in [ix_best,ix_worst]:\n",
        "    print('image #{}'.format(i))\n",
        "    img = X_test_rim[i]\n",
        "    pred = predv1[i]\n",
        "    corr = corrv[i]\n",
        "    print(pred_dice[i])\n",
        "    fig = plt.figure(figsize=(9, 4))\n",
        "    ax = fig.add_subplot(1, 3, 1)\n",
        "    edgesp = canny(pred)\n",
        "    edgesp=1.0-dilation(edgesp)\n",
        "    edgesp = color.gray2rgb(1.0*edgesp)\n",
        "    ax.imshow(img*edgesp)\n",
        "    ax.set_title('Predicted')\n",
        "    ax = fig.add_subplot(1, 3, 2)\n",
        "    edgesc = canny(corr)\n",
        "    edgesc=1.0-dilation(edgesc)\n",
        "    edgesc = color.gray2rgb(1.0*edgesc)\n",
        "    ax.imshow(img*edgesc)\n",
        "    ax.set_title('Correct')\n",
        "    ax = fig.add_subplot(1, 3, 3)\n",
        "    ax.imshow(img)\n",
        "    ax.set_title('Image')\n",
        "    fig.savefig(os.path.join('/content/gdrive/My Drive/Medical Image/cnn_term_paper','img_rim_one'+str(j)+'model1_disk'+'.png'),dpi=600)\n",
        "    j+=1"
      ],
      "execution_count": null,
      "outputs": [
        {
          "output_type": "stream",
          "text": [
            "(40, 128, 128, 3)\n"
          ],
          "name": "stdout"
        },
        {
          "output_type": "display_data",
          "data": {
            "application/vnd.jupyter.widget-view+json": {
              "model_id": "27cdbd51411949ba92b333f07bb4ddb1",
              "version_minor": 0,
              "version_major": 2
            },
            "text/plain": [
              "HBox(children=(FloatProgress(value=0.0, max=40.0), HTML(value='')))"
            ]
          },
          "metadata": {
            "tags": []
          }
        },
        {
          "output_type": "stream",
          "text": [
            "\n",
            "Dice mean= 0.8891012  Std= 0.18006852  best= 0.9739339  worst= 0.00067923666\n",
            "IOU mean= 0.829739  Std= 0.18314674  best= 0.94919217  worst= 0.00033973376\n",
            "image #9\n",
            "0.9739339\n",
            "image #31\n",
            "0.00067923666\n"
          ],
          "name": "stdout"
        },
        {
          "output_type": "display_data",
          "data": {
            "image/png": "[encoded data removed]",
            "text/plain": [
              "<Figure size 648x288 with 3 Axes>"
            ]
          },
          "metadata": {
            "tags": [],
            "needs_background": "light"
          }
        },
        {
          "output_type": "display_data",
          "data": {
            "image/png": "[encoded data removed]",
            "text/plain": [
              "<Figure size 648x288 with 3 Axes>"
            ]
          },
          "metadata": {
            "tags": [],
            "needs_background": "light"
          }
        }
      ]
    },
    {
      "cell_type": "markdown",
      "metadata": {
        "id": "sM3CRUAQPu9V"
      },
      "source": [
        "### Visualise our segmentation algorithm performs on DRISHTI dataset"
      ]
    },
    {
      "cell_type": "code",
      "metadata": {
        "id": "UR6jHFF-QAsM",
        "colab": {
          "base_uri": "https://localhost:8080/"
        },
        "outputId": "c7165ba0-1268-4dbf-acc9-395d79033504"
      },
      "source": [
        "test_s=int(X_test_dri.shape[0])\n",
        "test_s"
      ],
      "execution_count": null,
      "outputs": [
        {
          "output_type": "execute_result",
          "data": {
            "text/plain": [
              "13"
            ]
          },
          "metadata": {
            "tags": []
          },
          "execution_count": 51
        }
      ]
    },
    {
      "cell_type": "code",
      "metadata": {
        "id": "ziRcdDQBkWzf",
        "colab": {
          "base_uri": "https://localhost:8080/",
          "height": 585,
          "referenced_widgets": [
            "908a8b08a0a34d05ab68dfe4ec1d6f6f",
            "7d1cb9cabab64bc387c560ad3c316ab5",
            "fa13b2afd6524125b3cac57c8d0dfbdd",
            "884ea77d731c45bebbf8f9990ec75271",
            "3ab3625f2a9842e29972c51c33d93adb",
            "814dd28fdb374c65bf7b3c49287c45ef",
            "ef3200e4759845a18a1e0fba033e5008",
            "445c14e2a5d0466e8b5a156d3bb06adb"
          ]
        },
        "outputId": "79457f52-a4a9-4758-a4c3-3ddbea4c4e92"
      },
      "source": [
        "#%%time\n",
        "pred_dice=np.empty((test_s), dtype=np.float32)\n",
        "pred_iou=np.empty((test_s), dtype=np.float32)\n",
        "\n",
        "batch_X = X_test_dri[0:test_s]\n",
        "batch_y = Y_test_dri[0:test_s]\n",
        "print (batch_X.shape)\n",
        "    \n",
        "predv = (model.predict(batch_X,batch_size=test_s)[...,0]>0.5).astype(np.float32)\n",
        "corrv= (batch_y)[ ..., 0].astype(np.float32)\n",
        "predv1=predv.copy()\n",
        "\n",
        "for i in tqdm_notebook(range(predv.shape[0])):\n",
        "    img = X_test_dri[i]\n",
        "    pred = predv[i]\n",
        "    corr = corrv[i]\n",
        "    label_pc = skimage.measure.label(pred, connectivity=pred.ndim)\n",
        "    props_pc = skimage.measure.regionprops(label_pc)\n",
        "    sz=len(props_pc)\n",
        "    if(sz)!=0:\n",
        "      areap=[props_pc[i].area for i in range(sz)]\n",
        "      k=np.argmax(areap)\n",
        "      predv1[i]=np.equal(label_pc,k+1).astype(int).astype(np.float32)\n",
        "    pred1= predv1[i]\n",
        "    cur_dice = np_dice_coef(pred1, corr)\n",
        "    cur_iou = np_iou(pred1,corr)\n",
        "    pred_dice[i]=(cur_dice)\n",
        "    pred_iou[i]=cur_iou\n",
        "    \n",
        "    \n",
        "d_worst=np.amin(pred_dice)\n",
        "d_best=np.amax(pred_dice)\n",
        "d_mean=np.mean(pred_dice)\n",
        "d_std=np.std(pred_dice)\n",
        "print(\"Dice mean=\",d_mean, \" Std=\",d_std, \" best=\",d_best,\" worst=\",d_worst)\n",
        "\n",
        "i_worst=np.amin(pred_iou)\n",
        "i_best=np.amax(pred_iou)\n",
        "i_mean=np.mean(pred_iou)\n",
        "i_std=np.std(pred_iou)\n",
        "print(\"IOU mean=\",i_mean, \" Std=\",i_std, \" best=\",i_best,\" worst=\",i_worst)\n",
        "\n",
        "ix_best=np.argmax(pred_dice)\n",
        "ix_worst=np.argmin(pred_dice)\n",
        "\n",
        "j=0\n",
        "for i in [ix_best,ix_worst]:\n",
        "    print('image #{}'.format(i))\n",
        "    img = X_test_dri[i]\n",
        "    pred = predv1[i]\n",
        "    corr = corrv[i]\n",
        "    print(pred_dice[i])\n",
        "    fig = plt.figure(figsize=(9, 4))\n",
        "    ax = fig.add_subplot(1, 3, 1)\n",
        "    edgesp = canny(pred)\n",
        "    edgesp=1.0-dilation(edgesp)\n",
        "    edgesp = color.gray2rgb(1.0*edgesp)\n",
        "    ax.imshow(img*edgesp)\n",
        "    ax.set_title('Predicted')\n",
        "    ax = fig.add_subplot(1, 3, 2)\n",
        "    edgesc = canny(corr)\n",
        "    edgesc=1.0-dilation(edgesc)\n",
        "    edgesc = color.gray2rgb(1.0*edgesc)\n",
        "    ax.imshow(img*edgesc)\n",
        "    ax.set_title('Correct')\n",
        "    ax = fig.add_subplot(1, 3, 3)\n",
        "    ax.imshow(img)\n",
        "    ax.set_title('Image')\n",
        "    fig.savefig(os.path.join('/content/gdrive/My Drive/Medical Image/cnn_term_paper','img_drishti'+str(j)+'model1_disk'+'.png'),dpi=600)\n",
        "    j+=1"
      ],
      "execution_count": null,
      "outputs": [
        {
          "output_type": "stream",
          "text": [
            "(13, 128, 128, 3)\n"
          ],
          "name": "stdout"
        },
        {
          "output_type": "display_data",
          "data": {
            "application/vnd.jupyter.widget-view+json": {
              "model_id": "908a8b08a0a34d05ab68dfe4ec1d6f6f",
              "version_minor": 0,
              "version_major": 2
            },
            "text/plain": [
              "HBox(children=(FloatProgress(value=0.0, max=13.0), HTML(value='')))"
            ]
          },
          "metadata": {
            "tags": []
          }
        },
        {
          "output_type": "stream",
          "text": [
            "\n",
            "Dice mean= 0.8997263  Std= 0.054576475  best= 0.96586347  worst= 0.75320756\n",
            "IOU mean= 0.8219516  Std= 0.08528548  best= 0.9339806  worst= 0.6041162\n",
            "image #10\n",
            "0.96586347\n",
            "image #8\n",
            "0.75320756\n"
          ],
          "name": "stdout"
        },
        {
          "output_type": "display_data",
          "data": {
            "image/png": "[encoded data removed]",
            "text/plain": [
              "<Figure size 648x288 with 3 Axes>"
            ]
          },
          "metadata": {
            "tags": [],
            "needs_background": "light"
          }
        },
        {
          "output_type": "display_data",
          "data": {
            "image/png": "[encoded data removed]",
            "text/plain": [
              "<Figure size 648x288 with 3 Axes>"
            ]
          },
          "metadata": {
            "tags": [],
            "needs_background": "light"
          }
        }
      ]
    }
  ]
}